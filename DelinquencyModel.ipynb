{
  "nbformat": 4,
  "nbformat_minor": 0,
  "metadata": {
    "colab": {
      "name": "Untitled11.ipynb",
      "provenance": [],
      "collapsed_sections": [],
      "authorship_tag": "ABX9TyN7FtfgZnsU+n/KZglhyTMJ",
      "include_colab_link": true
    },
    "kernelspec": {
      "name": "python3",
      "display_name": "Python 3"
    }
  },
  "cells": [
    {
      "cell_type": "markdown",
      "metadata": {
        "id": "view-in-github",
        "colab_type": "text"
      },
      "source": [
        "<a href=\"https://colab.research.google.com/github/yesdeepakmittal/delinquencymodel/blob/main/DelinquencyModel.ipynb\" target=\"_parent\"><img src=\"https://colab.research.google.com/assets/colab-badge.svg\" alt=\"Open In Colab\"/></a>"
      ]
    },
    {
      "cell_type": "markdown",
      "metadata": {
        "id": "mq8BjCzn9B3l"
      },
      "source": [
        "**Disclaimer** - *Machine learning models used in this notebook are tuned using a limited combination of hyper-parameters due to limited computing power and ease of doing the analysis faster. However, different combination with or without using other hyper-parameters can further improve the performance of these models.*"
      ]
    },
    {
      "cell_type": "code",
      "metadata": {
        "id": "25ZrtYrLdV7B"
      },
      "source": [
        "import numpy as np\n",
        "import pandas as pd\n",
        "\n",
        "import seaborn as sns\n",
        "import matplotlib.pyplot as plt\n",
        "import plotly.express as px\n",
        "import plotly.graph_objs as go\n",
        "from plotly.subplots import make_subplots\n",
        "\n",
        "import warnings\n",
        "warnings.filterwarnings('ignore')"
      ],
      "execution_count": 2,
      "outputs": []
    },
    {
      "cell_type": "code",
      "metadata": {
        "id": "8AyfC8aCLX27"
      },
      "source": [
        "#Displaying static image https://plotly.com/python/orca-management/\n",
        "!pip install plotly>=4.7.1\n",
        "!wget https://github.com/plotly/orca/releases/download/v1.2.1/orca-1.2.1-x86_64.AppImage -O /usr/local/bin/orca\n",
        "!chmod +x /usr/local/bin/orca\n",
        "!apt-get install xvfb libgtk2.0-0 libgconf-2-4"
      ],
      "execution_count": null,
      "outputs": []
    },
    {
      "cell_type": "code",
      "metadata": {
        "id": "A9ZHCyK7f-y5",
        "outputId": "f1a6afb5-a4e8-4e34-8e57-836924588f4b",
        "colab": {
          "resources": {
            "http://localhost:8080/nbextensions/google.colab/files.js": {
              "data": "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",
              "ok": true,
              "headers": [
                [
                  "content-type",
                  "application/javascript"
                ]
              ],
              "status": 200,
              "status_text": ""
            }
          },
          "base_uri": "https://localhost:8080/",
          "height": 73
        }
      },
      "source": [
        "from google.colab import files\n",
        "files.upload()"
      ],
      "execution_count": 4,
      "outputs": [
        {
          "output_type": "display_data",
          "data": {
            "text/html": [
              "\n",
              "     <input type=\"file\" id=\"files-8ba751e4-e971-4129-8014-de191464740c\" name=\"files[]\" multiple disabled\n",
              "        style=\"border:none\" />\n",
              "     <output id=\"result-8ba751e4-e971-4129-8014-de191464740c\">\n",
              "      Upload widget is only available when the cell has been executed in the\n",
              "      current browser session. Please rerun this cell to enable.\n",
              "      </output>\n",
              "      <script src=\"/nbextensions/google.colab/files.js\"></script> "
            ],
            "text/plain": [
              "<IPython.core.display.HTML object>"
            ]
          },
          "metadata": {
            "tags": []
          }
        },
        {
          "output_type": "stream",
          "text": [
            "Saving sample_data_intw.csv to sample_data_intw.csv\n"
          ],
          "name": "stdout"
        }
      ]
    },
    {
      "cell_type": "code",
      "metadata": {
        "id": "yjunebjDEhvb",
        "outputId": "a9befa20-ab81-4f58-a04a-93e733003e54",
        "colab": {
          "base_uri": "https://localhost:8080/",
          "height": 322
        }
      },
      "source": [
        "df = pd.read_csv('sample_data_intw.csv')\n",
        "df1 = df.copy()\n",
        "df.head()"
      ],
      "execution_count": 5,
      "outputs": [
        {
          "output_type": "execute_result",
          "data": {
            "text/html": [
              "<div>\n",
              "<style scoped>\n",
              "    .dataframe tbody tr th:only-of-type {\n",
              "        vertical-align: middle;\n",
              "    }\n",
              "\n",
              "    .dataframe tbody tr th {\n",
              "        vertical-align: top;\n",
              "    }\n",
              "\n",
              "    .dataframe thead th {\n",
              "        text-align: right;\n",
              "    }\n",
              "</style>\n",
              "<table border=\"1\" class=\"dataframe\">\n",
              "  <thead>\n",
              "    <tr style=\"text-align: right;\">\n",
              "      <th></th>\n",
              "      <th>Unnamed: 0</th>\n",
              "      <th>label</th>\n",
              "      <th>msisdn</th>\n",
              "      <th>aon</th>\n",
              "      <th>daily_decr30</th>\n",
              "      <th>daily_decr90</th>\n",
              "      <th>rental30</th>\n",
              "      <th>rental90</th>\n",
              "      <th>last_rech_date_ma</th>\n",
              "      <th>last_rech_date_da</th>\n",
              "      <th>last_rech_amt_ma</th>\n",
              "      <th>cnt_ma_rech30</th>\n",
              "      <th>fr_ma_rech30</th>\n",
              "      <th>sumamnt_ma_rech30</th>\n",
              "      <th>medianamnt_ma_rech30</th>\n",
              "      <th>medianmarechprebal30</th>\n",
              "      <th>cnt_ma_rech90</th>\n",
              "      <th>fr_ma_rech90</th>\n",
              "      <th>sumamnt_ma_rech90</th>\n",
              "      <th>medianamnt_ma_rech90</th>\n",
              "      <th>medianmarechprebal90</th>\n",
              "      <th>cnt_da_rech30</th>\n",
              "      <th>fr_da_rech30</th>\n",
              "      <th>cnt_da_rech90</th>\n",
              "      <th>fr_da_rech90</th>\n",
              "      <th>cnt_loans30</th>\n",
              "      <th>amnt_loans30</th>\n",
              "      <th>maxamnt_loans30</th>\n",
              "      <th>medianamnt_loans30</th>\n",
              "      <th>cnt_loans90</th>\n",
              "      <th>amnt_loans90</th>\n",
              "      <th>maxamnt_loans90</th>\n",
              "      <th>medianamnt_loans90</th>\n",
              "      <th>payback30</th>\n",
              "      <th>payback90</th>\n",
              "      <th>pcircle</th>\n",
              "      <th>pdate</th>\n",
              "    </tr>\n",
              "  </thead>\n",
              "  <tbody>\n",
              "    <tr>\n",
              "      <th>0</th>\n",
              "      <td>1</td>\n",
              "      <td>0</td>\n",
              "      <td>21408I70789</td>\n",
              "      <td>272.0</td>\n",
              "      <td>3055.050000</td>\n",
              "      <td>3065.150000</td>\n",
              "      <td>220.13</td>\n",
              "      <td>260.13</td>\n",
              "      <td>2.0</td>\n",
              "      <td>0.0</td>\n",
              "      <td>1539</td>\n",
              "      <td>2</td>\n",
              "      <td>21.0</td>\n",
              "      <td>3078.0</td>\n",
              "      <td>1539.0</td>\n",
              "      <td>7.50</td>\n",
              "      <td>2</td>\n",
              "      <td>21</td>\n",
              "      <td>3078</td>\n",
              "      <td>1539.0</td>\n",
              "      <td>7.50</td>\n",
              "      <td>0.0</td>\n",
              "      <td>0.0</td>\n",
              "      <td>0</td>\n",
              "      <td>0</td>\n",
              "      <td>2</td>\n",
              "      <td>12</td>\n",
              "      <td>6.0</td>\n",
              "      <td>0.0</td>\n",
              "      <td>2.0</td>\n",
              "      <td>12</td>\n",
              "      <td>6</td>\n",
              "      <td>0.0</td>\n",
              "      <td>29.000000</td>\n",
              "      <td>29.000000</td>\n",
              "      <td>UPW</td>\n",
              "      <td>2016-07-20</td>\n",
              "    </tr>\n",
              "    <tr>\n",
              "      <th>1</th>\n",
              "      <td>2</td>\n",
              "      <td>1</td>\n",
              "      <td>76462I70374</td>\n",
              "      <td>712.0</td>\n",
              "      <td>12122.000000</td>\n",
              "      <td>12124.750000</td>\n",
              "      <td>3691.26</td>\n",
              "      <td>3691.26</td>\n",
              "      <td>20.0</td>\n",
              "      <td>0.0</td>\n",
              "      <td>5787</td>\n",
              "      <td>1</td>\n",
              "      <td>0.0</td>\n",
              "      <td>5787.0</td>\n",
              "      <td>5787.0</td>\n",
              "      <td>61.04</td>\n",
              "      <td>1</td>\n",
              "      <td>0</td>\n",
              "      <td>5787</td>\n",
              "      <td>5787.0</td>\n",
              "      <td>61.04</td>\n",
              "      <td>0.0</td>\n",
              "      <td>0.0</td>\n",
              "      <td>0</td>\n",
              "      <td>0</td>\n",
              "      <td>1</td>\n",
              "      <td>12</td>\n",
              "      <td>12.0</td>\n",
              "      <td>0.0</td>\n",
              "      <td>1.0</td>\n",
              "      <td>12</td>\n",
              "      <td>12</td>\n",
              "      <td>0.0</td>\n",
              "      <td>0.000000</td>\n",
              "      <td>0.000000</td>\n",
              "      <td>UPW</td>\n",
              "      <td>2016-08-10</td>\n",
              "    </tr>\n",
              "    <tr>\n",
              "      <th>2</th>\n",
              "      <td>3</td>\n",
              "      <td>1</td>\n",
              "      <td>17943I70372</td>\n",
              "      <td>535.0</td>\n",
              "      <td>1398.000000</td>\n",
              "      <td>1398.000000</td>\n",
              "      <td>900.13</td>\n",
              "      <td>900.13</td>\n",
              "      <td>3.0</td>\n",
              "      <td>0.0</td>\n",
              "      <td>1539</td>\n",
              "      <td>1</td>\n",
              "      <td>0.0</td>\n",
              "      <td>1539.0</td>\n",
              "      <td>1539.0</td>\n",
              "      <td>66.32</td>\n",
              "      <td>1</td>\n",
              "      <td>0</td>\n",
              "      <td>1539</td>\n",
              "      <td>1539.0</td>\n",
              "      <td>66.32</td>\n",
              "      <td>0.0</td>\n",
              "      <td>0.0</td>\n",
              "      <td>0</td>\n",
              "      <td>0</td>\n",
              "      <td>1</td>\n",
              "      <td>6</td>\n",
              "      <td>6.0</td>\n",
              "      <td>0.0</td>\n",
              "      <td>1.0</td>\n",
              "      <td>6</td>\n",
              "      <td>6</td>\n",
              "      <td>0.0</td>\n",
              "      <td>0.000000</td>\n",
              "      <td>0.000000</td>\n",
              "      <td>UPW</td>\n",
              "      <td>2016-08-19</td>\n",
              "    </tr>\n",
              "    <tr>\n",
              "      <th>3</th>\n",
              "      <td>4</td>\n",
              "      <td>1</td>\n",
              "      <td>55773I70781</td>\n",
              "      <td>241.0</td>\n",
              "      <td>21.228000</td>\n",
              "      <td>21.228000</td>\n",
              "      <td>159.42</td>\n",
              "      <td>159.42</td>\n",
              "      <td>41.0</td>\n",
              "      <td>0.0</td>\n",
              "      <td>947</td>\n",
              "      <td>0</td>\n",
              "      <td>0.0</td>\n",
              "      <td>0.0</td>\n",
              "      <td>0.0</td>\n",
              "      <td>0.00</td>\n",
              "      <td>1</td>\n",
              "      <td>0</td>\n",
              "      <td>947</td>\n",
              "      <td>947.0</td>\n",
              "      <td>2.50</td>\n",
              "      <td>0.0</td>\n",
              "      <td>0.0</td>\n",
              "      <td>0</td>\n",
              "      <td>0</td>\n",
              "      <td>2</td>\n",
              "      <td>12</td>\n",
              "      <td>6.0</td>\n",
              "      <td>0.0</td>\n",
              "      <td>2.0</td>\n",
              "      <td>12</td>\n",
              "      <td>6</td>\n",
              "      <td>0.0</td>\n",
              "      <td>0.000000</td>\n",
              "      <td>0.000000</td>\n",
              "      <td>UPW</td>\n",
              "      <td>2016-06-06</td>\n",
              "    </tr>\n",
              "    <tr>\n",
              "      <th>4</th>\n",
              "      <td>5</td>\n",
              "      <td>1</td>\n",
              "      <td>03813I82730</td>\n",
              "      <td>947.0</td>\n",
              "      <td>150.619333</td>\n",
              "      <td>150.619333</td>\n",
              "      <td>1098.90</td>\n",
              "      <td>1098.90</td>\n",
              "      <td>4.0</td>\n",
              "      <td>0.0</td>\n",
              "      <td>2309</td>\n",
              "      <td>7</td>\n",
              "      <td>2.0</td>\n",
              "      <td>20029.0</td>\n",
              "      <td>2309.0</td>\n",
              "      <td>29.00</td>\n",
              "      <td>8</td>\n",
              "      <td>2</td>\n",
              "      <td>23496</td>\n",
              "      <td>2888.0</td>\n",
              "      <td>35.00</td>\n",
              "      <td>0.0</td>\n",
              "      <td>0.0</td>\n",
              "      <td>0</td>\n",
              "      <td>0</td>\n",
              "      <td>7</td>\n",
              "      <td>42</td>\n",
              "      <td>6.0</td>\n",
              "      <td>0.0</td>\n",
              "      <td>7.0</td>\n",
              "      <td>42</td>\n",
              "      <td>6</td>\n",
              "      <td>0.0</td>\n",
              "      <td>2.333333</td>\n",
              "      <td>2.333333</td>\n",
              "      <td>UPW</td>\n",
              "      <td>2016-06-22</td>\n",
              "    </tr>\n",
              "  </tbody>\n",
              "</table>\n",
              "</div>"
            ],
            "text/plain": [
              "   Unnamed: 0  label       msisdn  ...  payback90  pcircle       pdate\n",
              "0           1      0  21408I70789  ...  29.000000      UPW  2016-07-20\n",
              "1           2      1  76462I70374  ...   0.000000      UPW  2016-08-10\n",
              "2           3      1  17943I70372  ...   0.000000      UPW  2016-08-19\n",
              "3           4      1  55773I70781  ...   0.000000      UPW  2016-06-06\n",
              "4           5      1  03813I82730  ...   2.333333      UPW  2016-06-22\n",
              "\n",
              "[5 rows x 37 columns]"
            ]
          },
          "metadata": {
            "tags": []
          },
          "execution_count": 5
        }
      ]
    },
    {
      "cell_type": "markdown",
      "metadata": {
        "id": "gMRsP4pYRZni"
      },
      "source": [
        "<h1>EDA</h1>"
      ]
    },
    {
      "cell_type": "code",
      "metadata": {
        "id": "irB8qVYqPXDW",
        "outputId": "a1fd619a-9618-4b86-c0f7-f75d85bb2fea",
        "colab": {
          "base_uri": "https://localhost:8080/"
        }
      },
      "source": [
        "df.info()"
      ],
      "execution_count": 6,
      "outputs": [
        {
          "output_type": "stream",
          "text": [
            "<class 'pandas.core.frame.DataFrame'>\n",
            "RangeIndex: 209593 entries, 0 to 209592\n",
            "Data columns (total 37 columns):\n",
            " #   Column                Non-Null Count   Dtype  \n",
            "---  ------                --------------   -----  \n",
            " 0   Unnamed: 0            209593 non-null  int64  \n",
            " 1   label                 209593 non-null  int64  \n",
            " 2   msisdn                209593 non-null  object \n",
            " 3   aon                   209593 non-null  float64\n",
            " 4   daily_decr30          209593 non-null  float64\n",
            " 5   daily_decr90          209593 non-null  float64\n",
            " 6   rental30              209593 non-null  float64\n",
            " 7   rental90              209593 non-null  float64\n",
            " 8   last_rech_date_ma     209593 non-null  float64\n",
            " 9   last_rech_date_da     209593 non-null  float64\n",
            " 10  last_rech_amt_ma      209593 non-null  int64  \n",
            " 11  cnt_ma_rech30         209593 non-null  int64  \n",
            " 12  fr_ma_rech30          209593 non-null  float64\n",
            " 13  sumamnt_ma_rech30     209593 non-null  float64\n",
            " 14  medianamnt_ma_rech30  209593 non-null  float64\n",
            " 15  medianmarechprebal30  209593 non-null  float64\n",
            " 16  cnt_ma_rech90         209593 non-null  int64  \n",
            " 17  fr_ma_rech90          209593 non-null  int64  \n",
            " 18  sumamnt_ma_rech90     209593 non-null  int64  \n",
            " 19  medianamnt_ma_rech90  209593 non-null  float64\n",
            " 20  medianmarechprebal90  209593 non-null  float64\n",
            " 21  cnt_da_rech30         209593 non-null  float64\n",
            " 22  fr_da_rech30          209593 non-null  float64\n",
            " 23  cnt_da_rech90         209593 non-null  int64  \n",
            " 24  fr_da_rech90          209593 non-null  int64  \n",
            " 25  cnt_loans30           209593 non-null  int64  \n",
            " 26  amnt_loans30          209593 non-null  int64  \n",
            " 27  maxamnt_loans30       209593 non-null  float64\n",
            " 28  medianamnt_loans30    209593 non-null  float64\n",
            " 29  cnt_loans90           209593 non-null  float64\n",
            " 30  amnt_loans90          209593 non-null  int64  \n",
            " 31  maxamnt_loans90       209593 non-null  int64  \n",
            " 32  medianamnt_loans90    209593 non-null  float64\n",
            " 33  payback30             209593 non-null  float64\n",
            " 34  payback90             209593 non-null  float64\n",
            " 35  pcircle               209593 non-null  object \n",
            " 36  pdate                 209593 non-null  object \n",
            "dtypes: float64(21), int64(13), object(3)\n",
            "memory usage: 59.2+ MB\n"
          ],
          "name": "stdout"
        }
      ]
    },
    {
      "cell_type": "code",
      "metadata": {
        "id": "j3heIKCSPXLP",
        "outputId": "76974c98-163e-4dea-dc1f-1beca8532103",
        "colab": {
          "base_uri": "https://localhost:8080/",
          "height": 322
        }
      },
      "source": [
        "df['pdate'] = pd.to_datetime(df['pdate'])\n",
        "df.head()"
      ],
      "execution_count": 7,
      "outputs": [
        {
          "output_type": "execute_result",
          "data": {
            "text/html": [
              "<div>\n",
              "<style scoped>\n",
              "    .dataframe tbody tr th:only-of-type {\n",
              "        vertical-align: middle;\n",
              "    }\n",
              "\n",
              "    .dataframe tbody tr th {\n",
              "        vertical-align: top;\n",
              "    }\n",
              "\n",
              "    .dataframe thead th {\n",
              "        text-align: right;\n",
              "    }\n",
              "</style>\n",
              "<table border=\"1\" class=\"dataframe\">\n",
              "  <thead>\n",
              "    <tr style=\"text-align: right;\">\n",
              "      <th></th>\n",
              "      <th>Unnamed: 0</th>\n",
              "      <th>label</th>\n",
              "      <th>msisdn</th>\n",
              "      <th>aon</th>\n",
              "      <th>daily_decr30</th>\n",
              "      <th>daily_decr90</th>\n",
              "      <th>rental30</th>\n",
              "      <th>rental90</th>\n",
              "      <th>last_rech_date_ma</th>\n",
              "      <th>last_rech_date_da</th>\n",
              "      <th>last_rech_amt_ma</th>\n",
              "      <th>cnt_ma_rech30</th>\n",
              "      <th>fr_ma_rech30</th>\n",
              "      <th>sumamnt_ma_rech30</th>\n",
              "      <th>medianamnt_ma_rech30</th>\n",
              "      <th>medianmarechprebal30</th>\n",
              "      <th>cnt_ma_rech90</th>\n",
              "      <th>fr_ma_rech90</th>\n",
              "      <th>sumamnt_ma_rech90</th>\n",
              "      <th>medianamnt_ma_rech90</th>\n",
              "      <th>medianmarechprebal90</th>\n",
              "      <th>cnt_da_rech30</th>\n",
              "      <th>fr_da_rech30</th>\n",
              "      <th>cnt_da_rech90</th>\n",
              "      <th>fr_da_rech90</th>\n",
              "      <th>cnt_loans30</th>\n",
              "      <th>amnt_loans30</th>\n",
              "      <th>maxamnt_loans30</th>\n",
              "      <th>medianamnt_loans30</th>\n",
              "      <th>cnt_loans90</th>\n",
              "      <th>amnt_loans90</th>\n",
              "      <th>maxamnt_loans90</th>\n",
              "      <th>medianamnt_loans90</th>\n",
              "      <th>payback30</th>\n",
              "      <th>payback90</th>\n",
              "      <th>pcircle</th>\n",
              "      <th>pdate</th>\n",
              "    </tr>\n",
              "  </thead>\n",
              "  <tbody>\n",
              "    <tr>\n",
              "      <th>0</th>\n",
              "      <td>1</td>\n",
              "      <td>0</td>\n",
              "      <td>21408I70789</td>\n",
              "      <td>272.0</td>\n",
              "      <td>3055.050000</td>\n",
              "      <td>3065.150000</td>\n",
              "      <td>220.13</td>\n",
              "      <td>260.13</td>\n",
              "      <td>2.0</td>\n",
              "      <td>0.0</td>\n",
              "      <td>1539</td>\n",
              "      <td>2</td>\n",
              "      <td>21.0</td>\n",
              "      <td>3078.0</td>\n",
              "      <td>1539.0</td>\n",
              "      <td>7.50</td>\n",
              "      <td>2</td>\n",
              "      <td>21</td>\n",
              "      <td>3078</td>\n",
              "      <td>1539.0</td>\n",
              "      <td>7.50</td>\n",
              "      <td>0.0</td>\n",
              "      <td>0.0</td>\n",
              "      <td>0</td>\n",
              "      <td>0</td>\n",
              "      <td>2</td>\n",
              "      <td>12</td>\n",
              "      <td>6.0</td>\n",
              "      <td>0.0</td>\n",
              "      <td>2.0</td>\n",
              "      <td>12</td>\n",
              "      <td>6</td>\n",
              "      <td>0.0</td>\n",
              "      <td>29.000000</td>\n",
              "      <td>29.000000</td>\n",
              "      <td>UPW</td>\n",
              "      <td>2016-07-20</td>\n",
              "    </tr>\n",
              "    <tr>\n",
              "      <th>1</th>\n",
              "      <td>2</td>\n",
              "      <td>1</td>\n",
              "      <td>76462I70374</td>\n",
              "      <td>712.0</td>\n",
              "      <td>12122.000000</td>\n",
              "      <td>12124.750000</td>\n",
              "      <td>3691.26</td>\n",
              "      <td>3691.26</td>\n",
              "      <td>20.0</td>\n",
              "      <td>0.0</td>\n",
              "      <td>5787</td>\n",
              "      <td>1</td>\n",
              "      <td>0.0</td>\n",
              "      <td>5787.0</td>\n",
              "      <td>5787.0</td>\n",
              "      <td>61.04</td>\n",
              "      <td>1</td>\n",
              "      <td>0</td>\n",
              "      <td>5787</td>\n",
              "      <td>5787.0</td>\n",
              "      <td>61.04</td>\n",
              "      <td>0.0</td>\n",
              "      <td>0.0</td>\n",
              "      <td>0</td>\n",
              "      <td>0</td>\n",
              "      <td>1</td>\n",
              "      <td>12</td>\n",
              "      <td>12.0</td>\n",
              "      <td>0.0</td>\n",
              "      <td>1.0</td>\n",
              "      <td>12</td>\n",
              "      <td>12</td>\n",
              "      <td>0.0</td>\n",
              "      <td>0.000000</td>\n",
              "      <td>0.000000</td>\n",
              "      <td>UPW</td>\n",
              "      <td>2016-08-10</td>\n",
              "    </tr>\n",
              "    <tr>\n",
              "      <th>2</th>\n",
              "      <td>3</td>\n",
              "      <td>1</td>\n",
              "      <td>17943I70372</td>\n",
              "      <td>535.0</td>\n",
              "      <td>1398.000000</td>\n",
              "      <td>1398.000000</td>\n",
              "      <td>900.13</td>\n",
              "      <td>900.13</td>\n",
              "      <td>3.0</td>\n",
              "      <td>0.0</td>\n",
              "      <td>1539</td>\n",
              "      <td>1</td>\n",
              "      <td>0.0</td>\n",
              "      <td>1539.0</td>\n",
              "      <td>1539.0</td>\n",
              "      <td>66.32</td>\n",
              "      <td>1</td>\n",
              "      <td>0</td>\n",
              "      <td>1539</td>\n",
              "      <td>1539.0</td>\n",
              "      <td>66.32</td>\n",
              "      <td>0.0</td>\n",
              "      <td>0.0</td>\n",
              "      <td>0</td>\n",
              "      <td>0</td>\n",
              "      <td>1</td>\n",
              "      <td>6</td>\n",
              "      <td>6.0</td>\n",
              "      <td>0.0</td>\n",
              "      <td>1.0</td>\n",
              "      <td>6</td>\n",
              "      <td>6</td>\n",
              "      <td>0.0</td>\n",
              "      <td>0.000000</td>\n",
              "      <td>0.000000</td>\n",
              "      <td>UPW</td>\n",
              "      <td>2016-08-19</td>\n",
              "    </tr>\n",
              "    <tr>\n",
              "      <th>3</th>\n",
              "      <td>4</td>\n",
              "      <td>1</td>\n",
              "      <td>55773I70781</td>\n",
              "      <td>241.0</td>\n",
              "      <td>21.228000</td>\n",
              "      <td>21.228000</td>\n",
              "      <td>159.42</td>\n",
              "      <td>159.42</td>\n",
              "      <td>41.0</td>\n",
              "      <td>0.0</td>\n",
              "      <td>947</td>\n",
              "      <td>0</td>\n",
              "      <td>0.0</td>\n",
              "      <td>0.0</td>\n",
              "      <td>0.0</td>\n",
              "      <td>0.00</td>\n",
              "      <td>1</td>\n",
              "      <td>0</td>\n",
              "      <td>947</td>\n",
              "      <td>947.0</td>\n",
              "      <td>2.50</td>\n",
              "      <td>0.0</td>\n",
              "      <td>0.0</td>\n",
              "      <td>0</td>\n",
              "      <td>0</td>\n",
              "      <td>2</td>\n",
              "      <td>12</td>\n",
              "      <td>6.0</td>\n",
              "      <td>0.0</td>\n",
              "      <td>2.0</td>\n",
              "      <td>12</td>\n",
              "      <td>6</td>\n",
              "      <td>0.0</td>\n",
              "      <td>0.000000</td>\n",
              "      <td>0.000000</td>\n",
              "      <td>UPW</td>\n",
              "      <td>2016-06-06</td>\n",
              "    </tr>\n",
              "    <tr>\n",
              "      <th>4</th>\n",
              "      <td>5</td>\n",
              "      <td>1</td>\n",
              "      <td>03813I82730</td>\n",
              "      <td>947.0</td>\n",
              "      <td>150.619333</td>\n",
              "      <td>150.619333</td>\n",
              "      <td>1098.90</td>\n",
              "      <td>1098.90</td>\n",
              "      <td>4.0</td>\n",
              "      <td>0.0</td>\n",
              "      <td>2309</td>\n",
              "      <td>7</td>\n",
              "      <td>2.0</td>\n",
              "      <td>20029.0</td>\n",
              "      <td>2309.0</td>\n",
              "      <td>29.00</td>\n",
              "      <td>8</td>\n",
              "      <td>2</td>\n",
              "      <td>23496</td>\n",
              "      <td>2888.0</td>\n",
              "      <td>35.00</td>\n",
              "      <td>0.0</td>\n",
              "      <td>0.0</td>\n",
              "      <td>0</td>\n",
              "      <td>0</td>\n",
              "      <td>7</td>\n",
              "      <td>42</td>\n",
              "      <td>6.0</td>\n",
              "      <td>0.0</td>\n",
              "      <td>7.0</td>\n",
              "      <td>42</td>\n",
              "      <td>6</td>\n",
              "      <td>0.0</td>\n",
              "      <td>2.333333</td>\n",
              "      <td>2.333333</td>\n",
              "      <td>UPW</td>\n",
              "      <td>2016-06-22</td>\n",
              "    </tr>\n",
              "  </tbody>\n",
              "</table>\n",
              "</div>"
            ],
            "text/plain": [
              "   Unnamed: 0  label       msisdn  ...  payback90  pcircle      pdate\n",
              "0           1      0  21408I70789  ...  29.000000      UPW 2016-07-20\n",
              "1           2      1  76462I70374  ...   0.000000      UPW 2016-08-10\n",
              "2           3      1  17943I70372  ...   0.000000      UPW 2016-08-19\n",
              "3           4      1  55773I70781  ...   0.000000      UPW 2016-06-06\n",
              "4           5      1  03813I82730  ...   2.333333      UPW 2016-06-22\n",
              "\n",
              "[5 rows x 37 columns]"
            ]
          },
          "metadata": {
            "tags": []
          },
          "execution_count": 7
        }
      ]
    },
    {
      "cell_type": "code",
      "metadata": {
        "id": "WwqzkiTfPW32",
        "outputId": "6ba200fd-c7e8-4ab4-c525-4ebf9dd25b1b",
        "colab": {
          "base_uri": "https://localhost:8080/"
        }
      },
      "source": [
        "print('The dataset has {} rows and {} columns'.format(df.shape[0],df.shape[1]))"
      ],
      "execution_count": 8,
      "outputs": [
        {
          "output_type": "stream",
          "text": [
            "The dataset has 209593 rows and 37 columns\n"
          ],
          "name": "stdout"
        }
      ]
    },
    {
      "cell_type": "code",
      "metadata": {
        "id": "O_qn5qyGQpbT",
        "outputId": "73ad097a-3991-419e-ee2d-a51459ec99a2",
        "colab": {
          "base_uri": "https://localhost:8080/",
          "height": 305
        }
      },
      "source": [
        "df.drop('Unnamed: 0',axis = 1,inplace=True)\n",
        "df.head()"
      ],
      "execution_count": 9,
      "outputs": [
        {
          "output_type": "execute_result",
          "data": {
            "text/html": [
              "<div>\n",
              "<style scoped>\n",
              "    .dataframe tbody tr th:only-of-type {\n",
              "        vertical-align: middle;\n",
              "    }\n",
              "\n",
              "    .dataframe tbody tr th {\n",
              "        vertical-align: top;\n",
              "    }\n",
              "\n",
              "    .dataframe thead th {\n",
              "        text-align: right;\n",
              "    }\n",
              "</style>\n",
              "<table border=\"1\" class=\"dataframe\">\n",
              "  <thead>\n",
              "    <tr style=\"text-align: right;\">\n",
              "      <th></th>\n",
              "      <th>label</th>\n",
              "      <th>msisdn</th>\n",
              "      <th>aon</th>\n",
              "      <th>daily_decr30</th>\n",
              "      <th>daily_decr90</th>\n",
              "      <th>rental30</th>\n",
              "      <th>rental90</th>\n",
              "      <th>last_rech_date_ma</th>\n",
              "      <th>last_rech_date_da</th>\n",
              "      <th>last_rech_amt_ma</th>\n",
              "      <th>cnt_ma_rech30</th>\n",
              "      <th>fr_ma_rech30</th>\n",
              "      <th>sumamnt_ma_rech30</th>\n",
              "      <th>medianamnt_ma_rech30</th>\n",
              "      <th>medianmarechprebal30</th>\n",
              "      <th>cnt_ma_rech90</th>\n",
              "      <th>fr_ma_rech90</th>\n",
              "      <th>sumamnt_ma_rech90</th>\n",
              "      <th>medianamnt_ma_rech90</th>\n",
              "      <th>medianmarechprebal90</th>\n",
              "      <th>cnt_da_rech30</th>\n",
              "      <th>fr_da_rech30</th>\n",
              "      <th>cnt_da_rech90</th>\n",
              "      <th>fr_da_rech90</th>\n",
              "      <th>cnt_loans30</th>\n",
              "      <th>amnt_loans30</th>\n",
              "      <th>maxamnt_loans30</th>\n",
              "      <th>medianamnt_loans30</th>\n",
              "      <th>cnt_loans90</th>\n",
              "      <th>amnt_loans90</th>\n",
              "      <th>maxamnt_loans90</th>\n",
              "      <th>medianamnt_loans90</th>\n",
              "      <th>payback30</th>\n",
              "      <th>payback90</th>\n",
              "      <th>pcircle</th>\n",
              "      <th>pdate</th>\n",
              "    </tr>\n",
              "  </thead>\n",
              "  <tbody>\n",
              "    <tr>\n",
              "      <th>0</th>\n",
              "      <td>0</td>\n",
              "      <td>21408I70789</td>\n",
              "      <td>272.0</td>\n",
              "      <td>3055.050000</td>\n",
              "      <td>3065.150000</td>\n",
              "      <td>220.13</td>\n",
              "      <td>260.13</td>\n",
              "      <td>2.0</td>\n",
              "      <td>0.0</td>\n",
              "      <td>1539</td>\n",
              "      <td>2</td>\n",
              "      <td>21.0</td>\n",
              "      <td>3078.0</td>\n",
              "      <td>1539.0</td>\n",
              "      <td>7.50</td>\n",
              "      <td>2</td>\n",
              "      <td>21</td>\n",
              "      <td>3078</td>\n",
              "      <td>1539.0</td>\n",
              "      <td>7.50</td>\n",
              "      <td>0.0</td>\n",
              "      <td>0.0</td>\n",
              "      <td>0</td>\n",
              "      <td>0</td>\n",
              "      <td>2</td>\n",
              "      <td>12</td>\n",
              "      <td>6.0</td>\n",
              "      <td>0.0</td>\n",
              "      <td>2.0</td>\n",
              "      <td>12</td>\n",
              "      <td>6</td>\n",
              "      <td>0.0</td>\n",
              "      <td>29.000000</td>\n",
              "      <td>29.000000</td>\n",
              "      <td>UPW</td>\n",
              "      <td>2016-07-20</td>\n",
              "    </tr>\n",
              "    <tr>\n",
              "      <th>1</th>\n",
              "      <td>1</td>\n",
              "      <td>76462I70374</td>\n",
              "      <td>712.0</td>\n",
              "      <td>12122.000000</td>\n",
              "      <td>12124.750000</td>\n",
              "      <td>3691.26</td>\n",
              "      <td>3691.26</td>\n",
              "      <td>20.0</td>\n",
              "      <td>0.0</td>\n",
              "      <td>5787</td>\n",
              "      <td>1</td>\n",
              "      <td>0.0</td>\n",
              "      <td>5787.0</td>\n",
              "      <td>5787.0</td>\n",
              "      <td>61.04</td>\n",
              "      <td>1</td>\n",
              "      <td>0</td>\n",
              "      <td>5787</td>\n",
              "      <td>5787.0</td>\n",
              "      <td>61.04</td>\n",
              "      <td>0.0</td>\n",
              "      <td>0.0</td>\n",
              "      <td>0</td>\n",
              "      <td>0</td>\n",
              "      <td>1</td>\n",
              "      <td>12</td>\n",
              "      <td>12.0</td>\n",
              "      <td>0.0</td>\n",
              "      <td>1.0</td>\n",
              "      <td>12</td>\n",
              "      <td>12</td>\n",
              "      <td>0.0</td>\n",
              "      <td>0.000000</td>\n",
              "      <td>0.000000</td>\n",
              "      <td>UPW</td>\n",
              "      <td>2016-08-10</td>\n",
              "    </tr>\n",
              "    <tr>\n",
              "      <th>2</th>\n",
              "      <td>1</td>\n",
              "      <td>17943I70372</td>\n",
              "      <td>535.0</td>\n",
              "      <td>1398.000000</td>\n",
              "      <td>1398.000000</td>\n",
              "      <td>900.13</td>\n",
              "      <td>900.13</td>\n",
              "      <td>3.0</td>\n",
              "      <td>0.0</td>\n",
              "      <td>1539</td>\n",
              "      <td>1</td>\n",
              "      <td>0.0</td>\n",
              "      <td>1539.0</td>\n",
              "      <td>1539.0</td>\n",
              "      <td>66.32</td>\n",
              "      <td>1</td>\n",
              "      <td>0</td>\n",
              "      <td>1539</td>\n",
              "      <td>1539.0</td>\n",
              "      <td>66.32</td>\n",
              "      <td>0.0</td>\n",
              "      <td>0.0</td>\n",
              "      <td>0</td>\n",
              "      <td>0</td>\n",
              "      <td>1</td>\n",
              "      <td>6</td>\n",
              "      <td>6.0</td>\n",
              "      <td>0.0</td>\n",
              "      <td>1.0</td>\n",
              "      <td>6</td>\n",
              "      <td>6</td>\n",
              "      <td>0.0</td>\n",
              "      <td>0.000000</td>\n",
              "      <td>0.000000</td>\n",
              "      <td>UPW</td>\n",
              "      <td>2016-08-19</td>\n",
              "    </tr>\n",
              "    <tr>\n",
              "      <th>3</th>\n",
              "      <td>1</td>\n",
              "      <td>55773I70781</td>\n",
              "      <td>241.0</td>\n",
              "      <td>21.228000</td>\n",
              "      <td>21.228000</td>\n",
              "      <td>159.42</td>\n",
              "      <td>159.42</td>\n",
              "      <td>41.0</td>\n",
              "      <td>0.0</td>\n",
              "      <td>947</td>\n",
              "      <td>0</td>\n",
              "      <td>0.0</td>\n",
              "      <td>0.0</td>\n",
              "      <td>0.0</td>\n",
              "      <td>0.00</td>\n",
              "      <td>1</td>\n",
              "      <td>0</td>\n",
              "      <td>947</td>\n",
              "      <td>947.0</td>\n",
              "      <td>2.50</td>\n",
              "      <td>0.0</td>\n",
              "      <td>0.0</td>\n",
              "      <td>0</td>\n",
              "      <td>0</td>\n",
              "      <td>2</td>\n",
              "      <td>12</td>\n",
              "      <td>6.0</td>\n",
              "      <td>0.0</td>\n",
              "      <td>2.0</td>\n",
              "      <td>12</td>\n",
              "      <td>6</td>\n",
              "      <td>0.0</td>\n",
              "      <td>0.000000</td>\n",
              "      <td>0.000000</td>\n",
              "      <td>UPW</td>\n",
              "      <td>2016-06-06</td>\n",
              "    </tr>\n",
              "    <tr>\n",
              "      <th>4</th>\n",
              "      <td>1</td>\n",
              "      <td>03813I82730</td>\n",
              "      <td>947.0</td>\n",
              "      <td>150.619333</td>\n",
              "      <td>150.619333</td>\n",
              "      <td>1098.90</td>\n",
              "      <td>1098.90</td>\n",
              "      <td>4.0</td>\n",
              "      <td>0.0</td>\n",
              "      <td>2309</td>\n",
              "      <td>7</td>\n",
              "      <td>2.0</td>\n",
              "      <td>20029.0</td>\n",
              "      <td>2309.0</td>\n",
              "      <td>29.00</td>\n",
              "      <td>8</td>\n",
              "      <td>2</td>\n",
              "      <td>23496</td>\n",
              "      <td>2888.0</td>\n",
              "      <td>35.00</td>\n",
              "      <td>0.0</td>\n",
              "      <td>0.0</td>\n",
              "      <td>0</td>\n",
              "      <td>0</td>\n",
              "      <td>7</td>\n",
              "      <td>42</td>\n",
              "      <td>6.0</td>\n",
              "      <td>0.0</td>\n",
              "      <td>7.0</td>\n",
              "      <td>42</td>\n",
              "      <td>6</td>\n",
              "      <td>0.0</td>\n",
              "      <td>2.333333</td>\n",
              "      <td>2.333333</td>\n",
              "      <td>UPW</td>\n",
              "      <td>2016-06-22</td>\n",
              "    </tr>\n",
              "  </tbody>\n",
              "</table>\n",
              "</div>"
            ],
            "text/plain": [
              "   label       msisdn    aon  ...  payback90  pcircle      pdate\n",
              "0      0  21408I70789  272.0  ...  29.000000      UPW 2016-07-20\n",
              "1      1  76462I70374  712.0  ...   0.000000      UPW 2016-08-10\n",
              "2      1  17943I70372  535.0  ...   0.000000      UPW 2016-08-19\n",
              "3      1  55773I70781  241.0  ...   0.000000      UPW 2016-06-06\n",
              "4      1  03813I82730  947.0  ...   2.333333      UPW 2016-06-22\n",
              "\n",
              "[5 rows x 36 columns]"
            ]
          },
          "metadata": {
            "tags": []
          },
          "execution_count": 9
        }
      ]
    },
    {
      "cell_type": "code",
      "metadata": {
        "id": "D_2ni13nQqev",
        "outputId": "a8626ba0-fa82-4e85-e173-84ee5f3fa76f",
        "colab": {
          "base_uri": "https://localhost:8080/"
        }
      },
      "source": [
        "df.isnull().sum()"
      ],
      "execution_count": 10,
      "outputs": [
        {
          "output_type": "execute_result",
          "data": {
            "text/plain": [
              "label                   0\n",
              "msisdn                  0\n",
              "aon                     0\n",
              "daily_decr30            0\n",
              "daily_decr90            0\n",
              "rental30                0\n",
              "rental90                0\n",
              "last_rech_date_ma       0\n",
              "last_rech_date_da       0\n",
              "last_rech_amt_ma        0\n",
              "cnt_ma_rech30           0\n",
              "fr_ma_rech30            0\n",
              "sumamnt_ma_rech30       0\n",
              "medianamnt_ma_rech30    0\n",
              "medianmarechprebal30    0\n",
              "cnt_ma_rech90           0\n",
              "fr_ma_rech90            0\n",
              "sumamnt_ma_rech90       0\n",
              "medianamnt_ma_rech90    0\n",
              "medianmarechprebal90    0\n",
              "cnt_da_rech30           0\n",
              "fr_da_rech30            0\n",
              "cnt_da_rech90           0\n",
              "fr_da_rech90            0\n",
              "cnt_loans30             0\n",
              "amnt_loans30            0\n",
              "maxamnt_loans30         0\n",
              "medianamnt_loans30      0\n",
              "cnt_loans90             0\n",
              "amnt_loans90            0\n",
              "maxamnt_loans90         0\n",
              "medianamnt_loans90      0\n",
              "payback30               0\n",
              "payback90               0\n",
              "pcircle                 0\n",
              "pdate                   0\n",
              "dtype: int64"
            ]
          },
          "metadata": {
            "tags": []
          },
          "execution_count": 10
        }
      ]
    },
    {
      "cell_type": "code",
      "metadata": {
        "id": "vo2aME57Qp1s",
        "outputId": "22675c11-30dd-4ace-c3d7-c85002569183",
        "colab": {
          "base_uri": "https://localhost:8080/",
          "height": 311
        }
      },
      "source": [
        "df.describe()"
      ],
      "execution_count": 11,
      "outputs": [
        {
          "output_type": "execute_result",
          "data": {
            "text/html": [
              "<div>\n",
              "<style scoped>\n",
              "    .dataframe tbody tr th:only-of-type {\n",
              "        vertical-align: middle;\n",
              "    }\n",
              "\n",
              "    .dataframe tbody tr th {\n",
              "        vertical-align: top;\n",
              "    }\n",
              "\n",
              "    .dataframe thead th {\n",
              "        text-align: right;\n",
              "    }\n",
              "</style>\n",
              "<table border=\"1\" class=\"dataframe\">\n",
              "  <thead>\n",
              "    <tr style=\"text-align: right;\">\n",
              "      <th></th>\n",
              "      <th>label</th>\n",
              "      <th>aon</th>\n",
              "      <th>daily_decr30</th>\n",
              "      <th>daily_decr90</th>\n",
              "      <th>rental30</th>\n",
              "      <th>rental90</th>\n",
              "      <th>last_rech_date_ma</th>\n",
              "      <th>last_rech_date_da</th>\n",
              "      <th>last_rech_amt_ma</th>\n",
              "      <th>cnt_ma_rech30</th>\n",
              "      <th>fr_ma_rech30</th>\n",
              "      <th>sumamnt_ma_rech30</th>\n",
              "      <th>medianamnt_ma_rech30</th>\n",
              "      <th>medianmarechprebal30</th>\n",
              "      <th>cnt_ma_rech90</th>\n",
              "      <th>fr_ma_rech90</th>\n",
              "      <th>sumamnt_ma_rech90</th>\n",
              "      <th>medianamnt_ma_rech90</th>\n",
              "      <th>medianmarechprebal90</th>\n",
              "      <th>cnt_da_rech30</th>\n",
              "      <th>fr_da_rech30</th>\n",
              "      <th>cnt_da_rech90</th>\n",
              "      <th>fr_da_rech90</th>\n",
              "      <th>cnt_loans30</th>\n",
              "      <th>amnt_loans30</th>\n",
              "      <th>maxamnt_loans30</th>\n",
              "      <th>medianamnt_loans30</th>\n",
              "      <th>cnt_loans90</th>\n",
              "      <th>amnt_loans90</th>\n",
              "      <th>maxamnt_loans90</th>\n",
              "      <th>medianamnt_loans90</th>\n",
              "      <th>payback30</th>\n",
              "      <th>payback90</th>\n",
              "    </tr>\n",
              "  </thead>\n",
              "  <tbody>\n",
              "    <tr>\n",
              "      <th>count</th>\n",
              "      <td>209593.000000</td>\n",
              "      <td>209593.000000</td>\n",
              "      <td>209593.000000</td>\n",
              "      <td>209593.000000</td>\n",
              "      <td>209593.000000</td>\n",
              "      <td>209593.000000</td>\n",
              "      <td>209593.000000</td>\n",
              "      <td>209593.000000</td>\n",
              "      <td>209593.000000</td>\n",
              "      <td>209593.000000</td>\n",
              "      <td>209593.000000</td>\n",
              "      <td>209593.000000</td>\n",
              "      <td>209593.000000</td>\n",
              "      <td>209593.000000</td>\n",
              "      <td>209593.00000</td>\n",
              "      <td>209593.000000</td>\n",
              "      <td>209593.000000</td>\n",
              "      <td>209593.000000</td>\n",
              "      <td>209593.000000</td>\n",
              "      <td>209593.000000</td>\n",
              "      <td>209593.000000</td>\n",
              "      <td>209593.000000</td>\n",
              "      <td>209593.000000</td>\n",
              "      <td>209593.000000</td>\n",
              "      <td>209593.000000</td>\n",
              "      <td>209593.000000</td>\n",
              "      <td>209593.000000</td>\n",
              "      <td>209593.000000</td>\n",
              "      <td>209593.000000</td>\n",
              "      <td>209593.000000</td>\n",
              "      <td>209593.000000</td>\n",
              "      <td>209593.000000</td>\n",
              "      <td>209593.000000</td>\n",
              "    </tr>\n",
              "    <tr>\n",
              "      <th>mean</th>\n",
              "      <td>0.875177</td>\n",
              "      <td>8112.343445</td>\n",
              "      <td>5381.402289</td>\n",
              "      <td>6082.515068</td>\n",
              "      <td>2692.581910</td>\n",
              "      <td>3483.406534</td>\n",
              "      <td>3755.847800</td>\n",
              "      <td>3712.202921</td>\n",
              "      <td>2064.452797</td>\n",
              "      <td>3.978057</td>\n",
              "      <td>3737.355121</td>\n",
              "      <td>7704.501157</td>\n",
              "      <td>1812.817952</td>\n",
              "      <td>3851.927942</td>\n",
              "      <td>6.31543</td>\n",
              "      <td>7.716780</td>\n",
              "      <td>12396.218352</td>\n",
              "      <td>1864.595821</td>\n",
              "      <td>92.025541</td>\n",
              "      <td>262.578110</td>\n",
              "      <td>3749.494447</td>\n",
              "      <td>0.041495</td>\n",
              "      <td>0.045712</td>\n",
              "      <td>2.758981</td>\n",
              "      <td>17.952021</td>\n",
              "      <td>274.658747</td>\n",
              "      <td>0.054029</td>\n",
              "      <td>18.520919</td>\n",
              "      <td>23.645398</td>\n",
              "      <td>6.703134</td>\n",
              "      <td>0.046077</td>\n",
              "      <td>3.398826</td>\n",
              "      <td>4.321485</td>\n",
              "    </tr>\n",
              "    <tr>\n",
              "      <th>std</th>\n",
              "      <td>0.330519</td>\n",
              "      <td>75696.082531</td>\n",
              "      <td>9220.623400</td>\n",
              "      <td>10918.812767</td>\n",
              "      <td>4308.586781</td>\n",
              "      <td>5770.461279</td>\n",
              "      <td>53905.892230</td>\n",
              "      <td>53374.833430</td>\n",
              "      <td>2370.786034</td>\n",
              "      <td>4.256090</td>\n",
              "      <td>53643.625172</td>\n",
              "      <td>10139.621714</td>\n",
              "      <td>2070.864620</td>\n",
              "      <td>54006.374433</td>\n",
              "      <td>7.19347</td>\n",
              "      <td>12.590251</td>\n",
              "      <td>16857.793882</td>\n",
              "      <td>2081.680664</td>\n",
              "      <td>369.215658</td>\n",
              "      <td>4183.897978</td>\n",
              "      <td>53885.414979</td>\n",
              "      <td>0.397556</td>\n",
              "      <td>0.951386</td>\n",
              "      <td>2.554502</td>\n",
              "      <td>17.379741</td>\n",
              "      <td>4245.264648</td>\n",
              "      <td>0.218039</td>\n",
              "      <td>224.797423</td>\n",
              "      <td>26.469861</td>\n",
              "      <td>2.103864</td>\n",
              "      <td>0.200692</td>\n",
              "      <td>8.813729</td>\n",
              "      <td>10.308108</td>\n",
              "    </tr>\n",
              "    <tr>\n",
              "      <th>min</th>\n",
              "      <td>0.000000</td>\n",
              "      <td>-48.000000</td>\n",
              "      <td>-93.012667</td>\n",
              "      <td>-93.012667</td>\n",
              "      <td>-23737.140000</td>\n",
              "      <td>-24720.580000</td>\n",
              "      <td>-29.000000</td>\n",
              "      <td>-29.000000</td>\n",
              "      <td>0.000000</td>\n",
              "      <td>0.000000</td>\n",
              "      <td>0.000000</td>\n",
              "      <td>0.000000</td>\n",
              "      <td>0.000000</td>\n",
              "      <td>-200.000000</td>\n",
              "      <td>0.00000</td>\n",
              "      <td>0.000000</td>\n",
              "      <td>0.000000</td>\n",
              "      <td>0.000000</td>\n",
              "      <td>-200.000000</td>\n",
              "      <td>0.000000</td>\n",
              "      <td>0.000000</td>\n",
              "      <td>0.000000</td>\n",
              "      <td>0.000000</td>\n",
              "      <td>0.000000</td>\n",
              "      <td>0.000000</td>\n",
              "      <td>0.000000</td>\n",
              "      <td>0.000000</td>\n",
              "      <td>0.000000</td>\n",
              "      <td>0.000000</td>\n",
              "      <td>0.000000</td>\n",
              "      <td>0.000000</td>\n",
              "      <td>0.000000</td>\n",
              "      <td>0.000000</td>\n",
              "    </tr>\n",
              "    <tr>\n",
              "      <th>25%</th>\n",
              "      <td>1.000000</td>\n",
              "      <td>246.000000</td>\n",
              "      <td>42.440000</td>\n",
              "      <td>42.692000</td>\n",
              "      <td>280.420000</td>\n",
              "      <td>300.260000</td>\n",
              "      <td>1.000000</td>\n",
              "      <td>0.000000</td>\n",
              "      <td>770.000000</td>\n",
              "      <td>1.000000</td>\n",
              "      <td>0.000000</td>\n",
              "      <td>1540.000000</td>\n",
              "      <td>770.000000</td>\n",
              "      <td>11.000000</td>\n",
              "      <td>2.00000</td>\n",
              "      <td>0.000000</td>\n",
              "      <td>2317.000000</td>\n",
              "      <td>773.000000</td>\n",
              "      <td>14.600000</td>\n",
              "      <td>0.000000</td>\n",
              "      <td>0.000000</td>\n",
              "      <td>0.000000</td>\n",
              "      <td>0.000000</td>\n",
              "      <td>1.000000</td>\n",
              "      <td>6.000000</td>\n",
              "      <td>6.000000</td>\n",
              "      <td>0.000000</td>\n",
              "      <td>1.000000</td>\n",
              "      <td>6.000000</td>\n",
              "      <td>6.000000</td>\n",
              "      <td>0.000000</td>\n",
              "      <td>0.000000</td>\n",
              "      <td>0.000000</td>\n",
              "    </tr>\n",
              "    <tr>\n",
              "      <th>50%</th>\n",
              "      <td>1.000000</td>\n",
              "      <td>527.000000</td>\n",
              "      <td>1469.175667</td>\n",
              "      <td>1500.000000</td>\n",
              "      <td>1083.570000</td>\n",
              "      <td>1334.000000</td>\n",
              "      <td>3.000000</td>\n",
              "      <td>0.000000</td>\n",
              "      <td>1539.000000</td>\n",
              "      <td>3.000000</td>\n",
              "      <td>2.000000</td>\n",
              "      <td>4628.000000</td>\n",
              "      <td>1539.000000</td>\n",
              "      <td>33.900000</td>\n",
              "      <td>4.00000</td>\n",
              "      <td>2.000000</td>\n",
              "      <td>7226.000000</td>\n",
              "      <td>1539.000000</td>\n",
              "      <td>36.000000</td>\n",
              "      <td>0.000000</td>\n",
              "      <td>0.000000</td>\n",
              "      <td>0.000000</td>\n",
              "      <td>0.000000</td>\n",
              "      <td>2.000000</td>\n",
              "      <td>12.000000</td>\n",
              "      <td>6.000000</td>\n",
              "      <td>0.000000</td>\n",
              "      <td>2.000000</td>\n",
              "      <td>12.000000</td>\n",
              "      <td>6.000000</td>\n",
              "      <td>0.000000</td>\n",
              "      <td>0.000000</td>\n",
              "      <td>1.666667</td>\n",
              "    </tr>\n",
              "    <tr>\n",
              "      <th>75%</th>\n",
              "      <td>1.000000</td>\n",
              "      <td>982.000000</td>\n",
              "      <td>7244.000000</td>\n",
              "      <td>7802.790000</td>\n",
              "      <td>3356.940000</td>\n",
              "      <td>4201.790000</td>\n",
              "      <td>7.000000</td>\n",
              "      <td>0.000000</td>\n",
              "      <td>2309.000000</td>\n",
              "      <td>5.000000</td>\n",
              "      <td>6.000000</td>\n",
              "      <td>10010.000000</td>\n",
              "      <td>1924.000000</td>\n",
              "      <td>83.000000</td>\n",
              "      <td>8.00000</td>\n",
              "      <td>8.000000</td>\n",
              "      <td>16000.000000</td>\n",
              "      <td>1924.000000</td>\n",
              "      <td>79.310000</td>\n",
              "      <td>0.000000</td>\n",
              "      <td>0.000000</td>\n",
              "      <td>0.000000</td>\n",
              "      <td>0.000000</td>\n",
              "      <td>4.000000</td>\n",
              "      <td>24.000000</td>\n",
              "      <td>6.000000</td>\n",
              "      <td>0.000000</td>\n",
              "      <td>5.000000</td>\n",
              "      <td>30.000000</td>\n",
              "      <td>6.000000</td>\n",
              "      <td>0.000000</td>\n",
              "      <td>3.750000</td>\n",
              "      <td>4.500000</td>\n",
              "    </tr>\n",
              "    <tr>\n",
              "      <th>max</th>\n",
              "      <td>1.000000</td>\n",
              "      <td>999860.755168</td>\n",
              "      <td>265926.000000</td>\n",
              "      <td>320630.000000</td>\n",
              "      <td>198926.110000</td>\n",
              "      <td>200148.110000</td>\n",
              "      <td>998650.377733</td>\n",
              "      <td>999171.809410</td>\n",
              "      <td>55000.000000</td>\n",
              "      <td>203.000000</td>\n",
              "      <td>999606.368132</td>\n",
              "      <td>810096.000000</td>\n",
              "      <td>55000.000000</td>\n",
              "      <td>999479.419319</td>\n",
              "      <td>336.00000</td>\n",
              "      <td>88.000000</td>\n",
              "      <td>953036.000000</td>\n",
              "      <td>55000.000000</td>\n",
              "      <td>41456.500000</td>\n",
              "      <td>99914.441420</td>\n",
              "      <td>999809.240107</td>\n",
              "      <td>38.000000</td>\n",
              "      <td>64.000000</td>\n",
              "      <td>50.000000</td>\n",
              "      <td>306.000000</td>\n",
              "      <td>99864.560864</td>\n",
              "      <td>3.000000</td>\n",
              "      <td>4997.517944</td>\n",
              "      <td>438.000000</td>\n",
              "      <td>12.000000</td>\n",
              "      <td>3.000000</td>\n",
              "      <td>171.500000</td>\n",
              "      <td>171.500000</td>\n",
              "    </tr>\n",
              "  </tbody>\n",
              "</table>\n",
              "</div>"
            ],
            "text/plain": [
              "               label            aon  ...      payback30      payback90\n",
              "count  209593.000000  209593.000000  ...  209593.000000  209593.000000\n",
              "mean        0.875177    8112.343445  ...       3.398826       4.321485\n",
              "std         0.330519   75696.082531  ...       8.813729      10.308108\n",
              "min         0.000000     -48.000000  ...       0.000000       0.000000\n",
              "25%         1.000000     246.000000  ...       0.000000       0.000000\n",
              "50%         1.000000     527.000000  ...       0.000000       1.666667\n",
              "75%         1.000000     982.000000  ...       3.750000       4.500000\n",
              "max         1.000000  999860.755168  ...     171.500000     171.500000\n",
              "\n",
              "[8 rows x 33 columns]"
            ]
          },
          "metadata": {
            "tags": []
          },
          "execution_count": 11
        }
      ]
    },
    {
      "cell_type": "code",
      "metadata": {
        "id": "qCZGCIE8Qpkr",
        "outputId": "e7d0bdf3-5291-45f5-f83e-0407d003a00d",
        "colab": {
          "base_uri": "https://localhost:8080/"
        }
      },
      "source": [
        "df.label.unique()"
      ],
      "execution_count": 12,
      "outputs": [
        {
          "output_type": "execute_result",
          "data": {
            "text/plain": [
              "array([0, 1])"
            ]
          },
          "metadata": {
            "tags": []
          },
          "execution_count": 12
        }
      ]
    },
    {
      "cell_type": "code",
      "metadata": {
        "id": "ukQGlJnjSgkU",
        "outputId": "a855ca39-c8c3-4e72-8d43-118a8bf8b1af",
        "colab": {
          "base_uri": "https://localhost:8080/"
        }
      },
      "source": [
        "df.label.value_counts()"
      ],
      "execution_count": 13,
      "outputs": [
        {
          "output_type": "execute_result",
          "data": {
            "text/plain": [
              "1    183431\n",
              "0     26162\n",
              "Name: label, dtype: int64"
            ]
          },
          "metadata": {
            "tags": []
          },
          "execution_count": 13
        }
      ]
    },
    {
      "cell_type": "markdown",
      "metadata": {
        "id": "s-ARhJT34VFa"
      },
      "source": [
        "<h3>Heat Map</h2>"
      ]
    },
    {
      "cell_type": "code",
      "metadata": {
        "id": "rABXPleb4UV9",
        "outputId": "b8c68097-5194-4818-a9c8-18601ee06913",
        "colab": {
          "base_uri": "https://localhost:8080/",
          "height": 655
        }
      },
      "source": [
        "corr = df.corr()\n",
        "mask = np.array(corr)\n",
        "mask[np.tril_indices_from(mask)] = False\n",
        "fig=plt.gcf()\n",
        "fig.set_size_inches(18,9)\n",
        "_ = sns.heatmap(data = corr,square=True,annot=False,cbar=True,cmap=\"YlGnBu\",\n",
        "                vmax=0.3,mask=mask,linewidths=.5) #annot indicates digit on the tile"
      ],
      "execution_count": 14,
      "outputs": [
        {
          "output_type": "display_data",
          "data": {
            "image/png": "[encoded data removed]",
            "text/plain": [
              "<Figure size 1296x648 with 2 Axes>"
            ]
          },
          "metadata": {
            "tags": [],
            "needs_background": "light"
          }
        }
      ]
    },
    {
      "cell_type": "markdown",
      "metadata": {
        "id": "54Tb3mvsfu__"
      },
      "source": [
        "<h1>Data Analysis</h1>"
      ]
    },
    {
      "cell_type": "code",
      "metadata": {
        "id": "lmLaECcqGaFm",
        "outputId": "4b5a2834-746e-4bd7-f58b-a949ed4bca93",
        "colab": {
          "base_uri": "https://localhost:8080/",
          "height": 297
        }
      },
      "source": [
        "sns.boxplot(x='label',y='cnt_ma_rech30',data=df)"
      ],
      "execution_count": 73,
      "outputs": [
        {
          "output_type": "execute_result",
          "data": {
            "text/plain": [
              "<matplotlib.axes._subplots.AxesSubplot at 0x7f5d225ef940>"
            ]
          },
          "metadata": {
            "tags": []
          },
          "execution_count": 73
        },
        {
          "output_type": "display_data",
          "data": {
            "image/png": "[encoded data removed]",
            "text/plain": [
              "<Figure size 432x288 with 1 Axes>"
            ]
          },
          "metadata": {
            "tags": [],
            "needs_background": "light"
          }
        }
      ]
    },
    {
      "cell_type": "code",
      "metadata": {
        "id": "qomllT3JWwfV",
        "outputId": "1026c7c2-7532-46d8-9411-75666f2ee820",
        "colab": {
          "base_uri": "https://localhost:8080/",
          "height": 401
        }
      },
      "source": [
        "sns.catplot(x='label',y='daily_decr30',data=df)\n",
        "# plt.grid(True)"
      ],
      "execution_count": 75,
      "outputs": [
        {
          "output_type": "execute_result",
          "data": {
            "text/plain": [
              "<seaborn.axisgrid.FacetGrid at 0x7f5d21dafeb8>"
            ]
          },
          "metadata": {
            "tags": []
          },
          "execution_count": 75
        },
        {
          "output_type": "display_data",
          "data": {
            "image/png": "[encoded data removed]",
            "text/plain": [
              "<Figure size 360x360 with 1 Axes>"
            ]
          },
          "metadata": {
            "tags": [],
            "needs_background": "light"
          }
        }
      ]
    },
    {
      "cell_type": "markdown",
      "metadata": {
        "id": "5jQcvf6FXYqL"
      },
      "source": [
        "**Note:-** It is less risker to loan someone whose 30-day average of daily amount spent from main account is greater than 40000. "
      ]
    },
    {
      "cell_type": "code",
      "metadata": {
        "id": "JdhzOIIXZD8j",
        "outputId": "019b445b-61ea-43b1-d27d-e6b3095ff9d8",
        "colab": {
          "base_uri": "https://localhost:8080/",
          "height": 401
        }
      },
      "source": [
        "sns.catplot(x='label',y='rental30',data=df)"
      ],
      "execution_count": 76,
      "outputs": [
        {
          "output_type": "execute_result",
          "data": {
            "text/plain": [
              "<seaborn.axisgrid.FacetGrid at 0x7f5d21d8c7b8>"
            ]
          },
          "metadata": {
            "tags": []
          },
          "execution_count": 76
        },
        {
          "output_type": "display_data",
          "data": {
            "image/png": "[encoded data removed]",
            "text/plain": [
              "<Figure size 360x360 with 1 Axes>"
            ]
          },
          "metadata": {
            "tags": [],
            "needs_background": "light"
          }
        }
      ]
    },
    {
      "cell_type": "markdown",
      "metadata": {
        "id": "ihiu1oVtZD8q"
      },
      "source": [
        "**Note:-** It is less risker to loan someone whose average main account balance over last 30 days is greater than 50000. "
      ]
    },
    {
      "cell_type": "code",
      "metadata": {
        "id": "-5Z2y_puZ5Nf",
        "outputId": "53475ff3-34ce-40c1-fed3-f9bbb02fef22",
        "colab": {
          "base_uri": "https://localhost:8080/",
          "height": 401
        }
      },
      "source": [
        "sns.catplot(x='label',y='cnt_ma_rech30',data=df)"
      ],
      "execution_count": 77,
      "outputs": [
        {
          "output_type": "execute_result",
          "data": {
            "text/plain": [
              "<seaborn.axisgrid.FacetGrid at 0x7f5d225d3320>"
            ]
          },
          "metadata": {
            "tags": []
          },
          "execution_count": 77
        },
        {
          "output_type": "display_data",
          "data": {
            "image/png": "[encoded data removed]",
            "text/plain": [
              "<Figure size 360x360 with 1 Axes>"
            ]
          },
          "metadata": {
            "tags": [],
            "needs_background": "light"
          }
        }
      ]
    },
    {
      "cell_type": "markdown",
      "metadata": {
        "id": "mKgsn0o4Z5Ny"
      },
      "source": [
        "**Note:-** It is less risker to loan someone who got recharged main account for more than 25 times in the last 30 days."
      ]
    },
    {
      "cell_type": "code",
      "metadata": {
        "id": "rzQKbJLCbTJy",
        "outputId": "7008368d-ef6c-4383-98ea-3305a7d696e2",
        "colab": {
          "base_uri": "https://localhost:8080/",
          "height": 383
        }
      },
      "source": [
        "temp = df[df['sumamnt_ma_rech30'] < 500000]\n",
        "ax = sns.catplot(x='label',y='sumamnt_ma_rech30',data=temp)"
      ],
      "execution_count": 78,
      "outputs": [
        {
          "output_type": "display_data",
          "data": {
            "image/png": "[encoded data removed]",
            "text/plain": [
              "<Figure size 360x360 with 1 Axes>"
            ]
          },
          "metadata": {
            "tags": [],
            "needs_background": "light"
          }
        }
      ]
    },
    {
      "cell_type": "markdown",
      "metadata": {
        "id": "VqBj_x62bTKE"
      },
      "source": [
        "**Note:-** It is less risker to loan someone whose total amount of recharge in the main account over last 30 days is greater than 60000. "
      ]
    },
    {
      "cell_type": "code",
      "metadata": {
        "id": "vLiBChAkQo10",
        "outputId": "3dc545c6-7e39-4ea3-f02d-30208c420bd6",
        "colab": {
          "base_uri": "https://localhost:8080/",
          "height": 401
        }
      },
      "source": [
        "sns.catplot(x='label',y='cnt_ma_rech90',data=df)"
      ],
      "execution_count": 84,
      "outputs": [
        {
          "output_type": "execute_result",
          "data": {
            "text/plain": [
              "<seaborn.axisgrid.FacetGrid at 0x7f5d22230828>"
            ]
          },
          "metadata": {
            "tags": []
          },
          "execution_count": 84
        },
        {
          "output_type": "display_data",
          "data": {
            "image/png": "[encoded data removed]",
            "text/plain": [
              "<Figure size 360x360 with 1 Axes>"
            ]
          },
          "metadata": {
            "tags": [],
            "needs_background": "light"
          }
        }
      ]
    },
    {
      "cell_type": "markdown",
      "metadata": {
        "id": "dpkNJgUoSADy"
      },
      "source": [
        "**Note:-** It is less risker to loan someone whose main account got recharged for more than 50 times in the last 90 days."
      ]
    },
    {
      "cell_type": "code",
      "metadata": {
        "id": "_jBE-zIvQpBx",
        "outputId": "b18007c6-0214-4b6f-9984-a330618b17c0",
        "colab": {
          "base_uri": "https://localhost:8080/",
          "height": 401
        }
      },
      "source": [
        "sns.catplot(x='label',y='sumamnt_ma_rech90',data=df)"
      ],
      "execution_count": 85,
      "outputs": [
        {
          "output_type": "execute_result",
          "data": {
            "text/plain": [
              "<seaborn.axisgrid.FacetGrid at 0x7f5d2c9f6f28>"
            ]
          },
          "metadata": {
            "tags": []
          },
          "execution_count": 85
        },
        {
          "output_type": "display_data",
          "data": {
            "image/png": "[encoded data removed]",
            "text/plain": [
              "<Figure size 360x360 with 1 Axes>"
            ]
          },
          "metadata": {
            "tags": [],
            "needs_background": "light"
          }
        }
      ]
    },
    {
      "cell_type": "markdown",
      "metadata": {
        "id": "0gVR7ztlSnWU"
      },
      "source": [
        "**Note:-** It is less risker to loan someone whose total amount of recharge in the main account over last 90 days is greater than 100000."
      ]
    },
    {
      "cell_type": "code",
      "metadata": {
        "id": "tn6Oh9tFQop6",
        "outputId": "18e45d0a-029b-4fbd-8507-171213a65dd5",
        "colab": {
          "base_uri": "https://localhost:8080/",
          "height": 401
        }
      },
      "source": [
        "sns.catplot(x='label',y='cnt_loans30',data=df)"
      ],
      "execution_count": 87,
      "outputs": [
        {
          "output_type": "execute_result",
          "data": {
            "text/plain": [
              "<seaborn.axisgrid.FacetGrid at 0x7f5d2223df28>"
            ]
          },
          "metadata": {
            "tags": []
          },
          "execution_count": 87
        },
        {
          "output_type": "display_data",
          "data": {
            "image/png": "[encoded data removed]",
            "text/plain": [
              "<Figure size 360x360 with 1 Axes>"
            ]
          },
          "metadata": {
            "tags": [],
            "needs_background": "light"
          }
        }
      ]
    },
    {
      "cell_type": "markdown",
      "metadata": {
        "id": "ZPSqMKu-UBWg"
      },
      "source": [
        "**Note:-** It is less risker to loan someone who had taken loan for more than 20 times in the last 30 days. "
      ]
    },
    {
      "cell_type": "code",
      "metadata": {
        "id": "4tx4erTCH85g",
        "outputId": "109dd2ba-e917-48ef-db05-d606855fbf17",
        "colab": {
          "base_uri": "https://localhost:8080/",
          "height": 401
        }
      },
      "source": [
        "sns.catplot(x='label',y='amnt_loans30',data=df)\n",
        "# sns.catplot(y='label',x='amnt_loans30',data=df,kind='violin',orient='h')"
      ],
      "execution_count": null,
      "outputs": [
        {
          "output_type": "execute_result",
          "data": {
            "text/plain": [
              "<seaborn.axisgrid.FacetGrid at 0x7f03c2374cf8>"
            ]
          },
          "metadata": {
            "tags": []
          },
          "execution_count": 63
        },
        {
          "output_type": "display_data",
          "data": {
            "image/png": "[encoded data removed]",
            "text/plain": [
              "<Figure size 360x360 with 1 Axes>"
            ]
          },
          "metadata": {
            "tags": [],
            "needs_background": "light"
          }
        }
      ]
    },
    {
      "cell_type": "markdown",
      "metadata": {
        "id": "VKmda79QP6Ae"
      },
      "source": [
        "**Note:-** It is less risky to loan someone whose total amount of loan in the last 30 days is greater than 100."
      ]
    },
    {
      "cell_type": "code",
      "metadata": {
        "id": "oZTkOHtP_5cb",
        "outputId": "1e3f0d49-14c0-4998-d1de-e64515bbb07d",
        "colab": {
          "base_uri": "https://localhost:8080/",
          "height": 401
        }
      },
      "source": [
        "sns.catplot('amnt_loans30',col='label',kind='boxen',data=df)"
      ],
      "execution_count": null,
      "outputs": [
        {
          "output_type": "execute_result",
          "data": {
            "text/plain": [
              "<seaborn.axisgrid.FacetGrid at 0x7f03c168d278>"
            ]
          },
          "metadata": {
            "tags": []
          },
          "execution_count": 62
        },
        {
          "output_type": "display_data",
          "data": {
            "image/png": "[encoded data removed]",
            "text/plain": [
              "<Figure size 720x360 with 2 Axes>"
            ]
          },
          "metadata": {
            "tags": [],
            "needs_background": "light"
          }
        }
      ]
    },
    {
      "cell_type": "code",
      "metadata": {
        "id": "4syoPTxnZFNF"
      },
      "source": [
        ""
      ],
      "execution_count": null,
      "outputs": []
    },
    {
      "cell_type": "code",
      "metadata": {
        "id": "FB0A5tMqSkDD"
      },
      "source": [
        "x = df.drop(['msisdn','pcircle','pdate','label'],axis=1)\n",
        "y = df['label']"
      ],
      "execution_count": null,
      "outputs": []
    },
    {
      "cell_type": "markdown",
      "metadata": {
        "id": "nFGRHYIYX5bE"
      },
      "source": [
        "<h1>Feature Engineering</h1>\n",
        "<i>To train the models using normalized data, run the code cell below else leave it.</i>"
      ]
    },
    {
      "cell_type": "code",
      "metadata": {
        "id": "9abt8NjfSkuH",
        "outputId": "be97e332-b42d-4d87-ed46-a6754b0727fc",
        "colab": {
          "base_uri": "https://localhost:8080/",
          "height": 220
        }
      },
      "source": [
        "from sklearn.preprocessing import Normalizer\n",
        "scaler=Normalizer()\n",
        "\n",
        "x = pd.DataFrame(scaler.fit_transform(x),columns = x.columns)\n",
        "x.head()"
      ],
      "execution_count": null,
      "outputs": [
        {
          "output_type": "execute_result",
          "data": {
            "text/html": [
              "<div>\n",
              "<style scoped>\n",
              "    .dataframe tbody tr th:only-of-type {\n",
              "        vertical-align: middle;\n",
              "    }\n",
              "\n",
              "    .dataframe tbody tr th {\n",
              "        vertical-align: top;\n",
              "    }\n",
              "\n",
              "    .dataframe thead th {\n",
              "        text-align: right;\n",
              "    }\n",
              "</style>\n",
              "<table border=\"1\" class=\"dataframe\">\n",
              "  <thead>\n",
              "    <tr style=\"text-align: right;\">\n",
              "      <th></th>\n",
              "      <th>aon</th>\n",
              "      <th>daily_decr30</th>\n",
              "      <th>daily_decr90</th>\n",
              "      <th>rental30</th>\n",
              "      <th>rental90</th>\n",
              "      <th>last_rech_date_ma</th>\n",
              "      <th>last_rech_date_da</th>\n",
              "      <th>last_rech_amt_ma</th>\n",
              "      <th>cnt_ma_rech30</th>\n",
              "      <th>fr_ma_rech30</th>\n",
              "      <th>sumamnt_ma_rech30</th>\n",
              "      <th>medianamnt_ma_rech30</th>\n",
              "      <th>medianmarechprebal30</th>\n",
              "      <th>cnt_ma_rech90</th>\n",
              "      <th>fr_ma_rech90</th>\n",
              "      <th>sumamnt_ma_rech90</th>\n",
              "      <th>medianamnt_ma_rech90</th>\n",
              "      <th>medianmarechprebal90</th>\n",
              "      <th>cnt_da_rech30</th>\n",
              "      <th>fr_da_rech30</th>\n",
              "      <th>cnt_da_rech90</th>\n",
              "      <th>fr_da_rech90</th>\n",
              "      <th>cnt_loans30</th>\n",
              "      <th>amnt_loans30</th>\n",
              "      <th>maxamnt_loans30</th>\n",
              "      <th>medianamnt_loans30</th>\n",
              "      <th>cnt_loans90</th>\n",
              "      <th>amnt_loans90</th>\n",
              "      <th>maxamnt_loans90</th>\n",
              "      <th>medianamnt_loans90</th>\n",
              "      <th>payback30</th>\n",
              "      <th>payback90</th>\n",
              "    </tr>\n",
              "  </thead>\n",
              "  <tbody>\n",
              "    <tr>\n",
              "      <th>0</th>\n",
              "      <td>0.040558</td>\n",
              "      <td>0.455545</td>\n",
              "      <td>0.457051</td>\n",
              "      <td>0.032824</td>\n",
              "      <td>0.038789</td>\n",
              "      <td>0.000298</td>\n",
              "      <td>0.0</td>\n",
              "      <td>0.229483</td>\n",
              "      <td>0.000298</td>\n",
              "      <td>0.003131</td>\n",
              "      <td>0.458967</td>\n",
              "      <td>0.229483</td>\n",
              "      <td>0.001118</td>\n",
              "      <td>0.000298</td>\n",
              "      <td>0.003131</td>\n",
              "      <td>0.458967</td>\n",
              "      <td>0.229483</td>\n",
              "      <td>0.001118</td>\n",
              "      <td>0.0</td>\n",
              "      <td>0.0</td>\n",
              "      <td>0.0</td>\n",
              "      <td>0.0</td>\n",
              "      <td>0.000298</td>\n",
              "      <td>0.001789</td>\n",
              "      <td>0.000895</td>\n",
              "      <td>0.0</td>\n",
              "      <td>0.000298</td>\n",
              "      <td>0.001789</td>\n",
              "      <td>0.000895</td>\n",
              "      <td>0.0</td>\n",
              "      <td>0.004324</td>\n",
              "      <td>0.004324</td>\n",
              "    </tr>\n",
              "    <tr>\n",
              "      <th>1</th>\n",
              "      <td>0.032192</td>\n",
              "      <td>0.548083</td>\n",
              "      <td>0.548207</td>\n",
              "      <td>0.166896</td>\n",
              "      <td>0.166896</td>\n",
              "      <td>0.000904</td>\n",
              "      <td>0.0</td>\n",
              "      <td>0.261653</td>\n",
              "      <td>0.000045</td>\n",
              "      <td>0.000000</td>\n",
              "      <td>0.261653</td>\n",
              "      <td>0.261653</td>\n",
              "      <td>0.002760</td>\n",
              "      <td>0.000045</td>\n",
              "      <td>0.000000</td>\n",
              "      <td>0.261653</td>\n",
              "      <td>0.261653</td>\n",
              "      <td>0.002760</td>\n",
              "      <td>0.0</td>\n",
              "      <td>0.0</td>\n",
              "      <td>0.0</td>\n",
              "      <td>0.0</td>\n",
              "      <td>0.000045</td>\n",
              "      <td>0.000543</td>\n",
              "      <td>0.000543</td>\n",
              "      <td>0.0</td>\n",
              "      <td>0.000045</td>\n",
              "      <td>0.000543</td>\n",
              "      <td>0.000543</td>\n",
              "      <td>0.0</td>\n",
              "      <td>0.000000</td>\n",
              "      <td>0.000000</td>\n",
              "    </tr>\n",
              "    <tr>\n",
              "      <th>2</th>\n",
              "      <td>0.127283</td>\n",
              "      <td>0.332602</td>\n",
              "      <td>0.332602</td>\n",
              "      <td>0.214152</td>\n",
              "      <td>0.214152</td>\n",
              "      <td>0.000714</td>\n",
              "      <td>0.0</td>\n",
              "      <td>0.366148</td>\n",
              "      <td>0.000238</td>\n",
              "      <td>0.000000</td>\n",
              "      <td>0.366148</td>\n",
              "      <td>0.366148</td>\n",
              "      <td>0.015778</td>\n",
              "      <td>0.000238</td>\n",
              "      <td>0.000000</td>\n",
              "      <td>0.366148</td>\n",
              "      <td>0.366148</td>\n",
              "      <td>0.015778</td>\n",
              "      <td>0.0</td>\n",
              "      <td>0.0</td>\n",
              "      <td>0.0</td>\n",
              "      <td>0.0</td>\n",
              "      <td>0.000238</td>\n",
              "      <td>0.001427</td>\n",
              "      <td>0.001427</td>\n",
              "      <td>0.0</td>\n",
              "      <td>0.000238</td>\n",
              "      <td>0.001427</td>\n",
              "      <td>0.001427</td>\n",
              "      <td>0.0</td>\n",
              "      <td>0.000000</td>\n",
              "      <td>0.000000</td>\n",
              "    </tr>\n",
              "    <tr>\n",
              "      <th>3</th>\n",
              "      <td>0.143966</td>\n",
              "      <td>0.012681</td>\n",
              "      <td>0.012681</td>\n",
              "      <td>0.095233</td>\n",
              "      <td>0.095233</td>\n",
              "      <td>0.024492</td>\n",
              "      <td>0.0</td>\n",
              "      <td>0.565709</td>\n",
              "      <td>0.000000</td>\n",
              "      <td>0.000000</td>\n",
              "      <td>0.000000</td>\n",
              "      <td>0.000000</td>\n",
              "      <td>0.000000</td>\n",
              "      <td>0.000597</td>\n",
              "      <td>0.000000</td>\n",
              "      <td>0.565709</td>\n",
              "      <td>0.565709</td>\n",
              "      <td>0.001493</td>\n",
              "      <td>0.0</td>\n",
              "      <td>0.0</td>\n",
              "      <td>0.0</td>\n",
              "      <td>0.0</td>\n",
              "      <td>0.001195</td>\n",
              "      <td>0.007168</td>\n",
              "      <td>0.003584</td>\n",
              "      <td>0.0</td>\n",
              "      <td>0.001195</td>\n",
              "      <td>0.007168</td>\n",
              "      <td>0.003584</td>\n",
              "      <td>0.0</td>\n",
              "      <td>0.000000</td>\n",
              "      <td>0.000000</td>\n",
              "    </tr>\n",
              "    <tr>\n",
              "      <th>4</th>\n",
              "      <td>0.030319</td>\n",
              "      <td>0.004822</td>\n",
              "      <td>0.004822</td>\n",
              "      <td>0.035182</td>\n",
              "      <td>0.035182</td>\n",
              "      <td>0.000128</td>\n",
              "      <td>0.0</td>\n",
              "      <td>0.073925</td>\n",
              "      <td>0.000224</td>\n",
              "      <td>0.000064</td>\n",
              "      <td>0.641247</td>\n",
              "      <td>0.073925</td>\n",
              "      <td>0.000928</td>\n",
              "      <td>0.000256</td>\n",
              "      <td>0.000064</td>\n",
              "      <td>0.752247</td>\n",
              "      <td>0.092462</td>\n",
              "      <td>0.001121</td>\n",
              "      <td>0.0</td>\n",
              "      <td>0.0</td>\n",
              "      <td>0.0</td>\n",
              "      <td>0.0</td>\n",
              "      <td>0.000224</td>\n",
              "      <td>0.001345</td>\n",
              "      <td>0.000192</td>\n",
              "      <td>0.0</td>\n",
              "      <td>0.000224</td>\n",
              "      <td>0.001345</td>\n",
              "      <td>0.000192</td>\n",
              "      <td>0.0</td>\n",
              "      <td>0.000075</td>\n",
              "      <td>0.000075</td>\n",
              "    </tr>\n",
              "  </tbody>\n",
              "</table>\n",
              "</div>"
            ],
            "text/plain": [
              "        aon  daily_decr30  ...  payback30  payback90\n",
              "0  0.040558      0.455545  ...   0.004324   0.004324\n",
              "1  0.032192      0.548083  ...   0.000000   0.000000\n",
              "2  0.127283      0.332602  ...   0.000000   0.000000\n",
              "3  0.143966      0.012681  ...   0.000000   0.000000\n",
              "4  0.030319      0.004822  ...   0.000075   0.000075\n",
              "\n",
              "[5 rows x 32 columns]"
            ]
          },
          "metadata": {
            "tags": []
          },
          "execution_count": 14
        }
      ]
    },
    {
      "cell_type": "markdown",
      "metadata": {
        "id": "Agqmdv0H2Y7M"
      },
      "source": [
        "<h1>Data Splitting</h1>"
      ]
    },
    {
      "cell_type": "code",
      "metadata": {
        "id": "z5Ah26DM2b-N"
      },
      "source": [
        "from sklearn.model_selection import train_test_split\n",
        "x_train,x_test,y_train,y_test = train_test_split(x,y,train_size=0.8,random_state=101)"
      ],
      "execution_count": 16,
      "outputs": []
    },
    {
      "cell_type": "code",
      "metadata": {
        "id": "nVA6XyNx73Di",
        "outputId": "81d156a7-4e69-4f9f-d60e-5372f3a8c7ee",
        "colab": {
          "base_uri": "https://localhost:8080/"
        }
      },
      "source": [
        "x_train.shape"
      ],
      "execution_count": 17,
      "outputs": [
        {
          "output_type": "execute_result",
          "data": {
            "text/plain": [
              "(167674, 32)"
            ]
          },
          "metadata": {
            "tags": []
          },
          "execution_count": 17
        }
      ]
    },
    {
      "cell_type": "markdown",
      "metadata": {
        "id": "THlWgZgj0Bng"
      },
      "source": [
        "<h1>Modelling</h1>"
      ]
    },
    {
      "cell_type": "code",
      "metadata": {
        "id": "mzTzTcmRb5nf"
      },
      "source": [
        "from sklearn.metrics import classification_report,confusion_matrix\n",
        "from sklearn.metrics import accuracy_score,precision_score,recall_score\n",
        "from sklearn.model_selection import GridSearchCV"
      ],
      "execution_count": 18,
      "outputs": []
    },
    {
      "cell_type": "code",
      "metadata": {
        "id": "DQq3Ax1JGc0g"
      },
      "source": [
        "# class myalgos:\n",
        "#     def __init__(self,model,name,index):\n",
        "#         self.model = model\n",
        "#         self.name = name\n",
        "#         self.index = index\n",
        "\n",
        "#     def model_(self):\n",
        "#         self.model.fit(x_train,y_train.reshape(-1,))\n",
        "#         y_pred = self.model.predict(x_test)\n",
        "#         model_accuracy = accuracy_score(y_test,y_pred) * 100\n",
        "\n",
        "# model = myalgos('model_here','name_herer','index_here')\n",
        "# model.model_()"
      ],
      "execution_count": 19,
      "outputs": []
    },
    {
      "cell_type": "markdown",
      "metadata": {
        "id": "vbpwpI_s3nTs"
      },
      "source": [
        "<h3>⭐Extremely Randomized Trees Classifier(Extra Trees Classifier)</h3>"
      ]
    },
    {
      "cell_type": "code",
      "metadata": {
        "id": "J5O4YGO0aY2u"
      },
      "source": [
        "from sklearn.ensemble import ExtraTreesClassifier\n",
        "param_grid = {\n",
        "                'n_estimators' : [10,25,50,100],\n",
        "                'criterion' : ['gini','entropy'] # 4 x 2 x 5(cv) = 40\n",
        "            }"
      ],
      "execution_count": 22,
      "outputs": []
    },
    {
      "cell_type": "code",
      "metadata": {
        "id": "8eM83kTFdi7K",
        "outputId": "cc3853c9-9edf-4ad0-e453-4cd1be094a10",
        "colab": {
          "base_uri": "https://localhost:8080/"
        }
      },
      "source": [
        "grid = GridSearchCV(ExtraTreesClassifier(), param_grid, refit = True, verbose = 3) #cv = 5\n",
        "grid.fit(x_train, y_train) "
      ],
      "execution_count": 23,
      "outputs": [
        {
          "output_type": "stream",
          "text": [
            "Fitting 5 folds for each of 8 candidates, totalling 40 fits\n",
            "[CV] criterion=gini, n_estimators=10 .................................\n"
          ],
          "name": "stdout"
        },
        {
          "output_type": "stream",
          "text": [
            "[Parallel(n_jobs=1)]: Using backend SequentialBackend with 1 concurrent workers.\n"
          ],
          "name": "stderr"
        },
        {
          "output_type": "stream",
          "text": [
            "[CV] ..... criterion=gini, n_estimators=10, score=0.899, total=   2.5s\n",
            "[CV] criterion=gini, n_estimators=10 .................................\n"
          ],
          "name": "stdout"
        },
        {
          "output_type": "stream",
          "text": [
            "[Parallel(n_jobs=1)]: Done   1 out of   1 | elapsed:    2.5s remaining:    0.0s\n"
          ],
          "name": "stderr"
        },
        {
          "output_type": "stream",
          "text": [
            "[CV] ..... criterion=gini, n_estimators=10, score=0.901, total=   2.5s\n",
            "[CV] criterion=gini, n_estimators=10 .................................\n"
          ],
          "name": "stdout"
        },
        {
          "output_type": "stream",
          "text": [
            "[Parallel(n_jobs=1)]: Done   2 out of   2 | elapsed:    5.0s remaining:    0.0s\n"
          ],
          "name": "stderr"
        },
        {
          "output_type": "stream",
          "text": [
            "[CV] ..... criterion=gini, n_estimators=10, score=0.901, total=   2.4s\n",
            "[CV] criterion=gini, n_estimators=10 .................................\n",
            "[CV] ..... criterion=gini, n_estimators=10, score=0.901, total=   2.5s\n",
            "[CV] criterion=gini, n_estimators=10 .................................\n",
            "[CV] ..... criterion=gini, n_estimators=10, score=0.904, total=   2.6s\n",
            "[CV] criterion=gini, n_estimators=25 .................................\n",
            "[CV] ..... criterion=gini, n_estimators=25, score=0.906, total=   6.2s\n",
            "[CV] criterion=gini, n_estimators=25 .................................\n",
            "[CV] ..... criterion=gini, n_estimators=25, score=0.906, total=   6.1s\n",
            "[CV] criterion=gini, n_estimators=25 .................................\n",
            "[CV] ..... criterion=gini, n_estimators=25, score=0.906, total=   6.1s\n",
            "[CV] criterion=gini, n_estimators=25 .................................\n",
            "[CV] ..... criterion=gini, n_estimators=25, score=0.906, total=   6.1s\n",
            "[CV] criterion=gini, n_estimators=25 .................................\n",
            "[CV] ..... criterion=gini, n_estimators=25, score=0.910, total=   6.2s\n",
            "[CV] criterion=gini, n_estimators=50 .................................\n",
            "[CV] ..... criterion=gini, n_estimators=50, score=0.907, total=  12.3s\n",
            "[CV] criterion=gini, n_estimators=50 .................................\n",
            "[CV] ..... criterion=gini, n_estimators=50, score=0.907, total=  13.6s\n",
            "[CV] criterion=gini, n_estimators=50 .................................\n",
            "[CV] ..... criterion=gini, n_estimators=50, score=0.908, total=  13.7s\n",
            "[CV] criterion=gini, n_estimators=50 .................................\n",
            "[CV] ..... criterion=gini, n_estimators=50, score=0.907, total=  12.2s\n",
            "[CV] criterion=gini, n_estimators=50 .................................\n",
            "[CV] ..... criterion=gini, n_estimators=50, score=0.909, total=  12.3s\n",
            "[CV] criterion=gini, n_estimators=100 ................................\n",
            "[CV] .... criterion=gini, n_estimators=100, score=0.908, total=  24.4s\n",
            "[CV] criterion=gini, n_estimators=100 ................................\n",
            "[CV] .... criterion=gini, n_estimators=100, score=0.908, total=  24.3s\n",
            "[CV] criterion=gini, n_estimators=100 ................................\n",
            "[CV] .... criterion=gini, n_estimators=100, score=0.909, total=  23.9s\n",
            "[CV] criterion=gini, n_estimators=100 ................................\n",
            "[CV] .... criterion=gini, n_estimators=100, score=0.907, total=  24.9s\n",
            "[CV] criterion=gini, n_estimators=100 ................................\n",
            "[CV] .... criterion=gini, n_estimators=100, score=0.910, total=  24.7s\n",
            "[CV] criterion=entropy, n_estimators=10 ..............................\n",
            "[CV] .. criterion=entropy, n_estimators=10, score=0.901, total=   2.7s\n",
            "[CV] criterion=entropy, n_estimators=10 ..............................\n",
            "[CV] .. criterion=entropy, n_estimators=10, score=0.900, total=   2.7s\n",
            "[CV] criterion=entropy, n_estimators=10 ..............................\n",
            "[CV] .. criterion=entropy, n_estimators=10, score=0.903, total=   2.7s\n",
            "[CV] criterion=entropy, n_estimators=10 ..............................\n",
            "[CV] .. criterion=entropy, n_estimators=10, score=0.899, total=   2.8s\n",
            "[CV] criterion=entropy, n_estimators=10 ..............................\n",
            "[CV] .. criterion=entropy, n_estimators=10, score=0.904, total=   2.8s\n",
            "[CV] criterion=entropy, n_estimators=25 ..............................\n",
            "[CV] .. criterion=entropy, n_estimators=25, score=0.906, total=   6.7s\n",
            "[CV] criterion=entropy, n_estimators=25 ..............................\n",
            "[CV] .. criterion=entropy, n_estimators=25, score=0.906, total=   6.6s\n",
            "[CV] criterion=entropy, n_estimators=25 ..............................\n",
            "[CV] .. criterion=entropy, n_estimators=25, score=0.907, total=   6.6s\n",
            "[CV] criterion=entropy, n_estimators=25 ..............................\n",
            "[CV] .. criterion=entropy, n_estimators=25, score=0.906, total=   6.5s\n",
            "[CV] criterion=entropy, n_estimators=25 ..............................\n",
            "[CV] .. criterion=entropy, n_estimators=25, score=0.908, total=   6.5s\n",
            "[CV] criterion=entropy, n_estimators=50 ..............................\n",
            "[CV] .. criterion=entropy, n_estimators=50, score=0.906, total=  13.2s\n",
            "[CV] criterion=entropy, n_estimators=50 ..............................\n",
            "[CV] .. criterion=entropy, n_estimators=50, score=0.907, total=  13.3s\n",
            "[CV] criterion=entropy, n_estimators=50 ..............................\n",
            "[CV] .. criterion=entropy, n_estimators=50, score=0.909, total=  13.3s\n",
            "[CV] criterion=entropy, n_estimators=50 ..............................\n",
            "[CV] .. criterion=entropy, n_estimators=50, score=0.907, total=  13.1s\n",
            "[CV] criterion=entropy, n_estimators=50 ..............................\n",
            "[CV] .. criterion=entropy, n_estimators=50, score=0.910, total=  13.1s\n",
            "[CV] criterion=entropy, n_estimators=100 .............................\n",
            "[CV] . criterion=entropy, n_estimators=100, score=0.908, total=  26.0s\n",
            "[CV] criterion=entropy, n_estimators=100 .............................\n",
            "[CV] . criterion=entropy, n_estimators=100, score=0.908, total=  26.0s\n",
            "[CV] criterion=entropy, n_estimators=100 .............................\n",
            "[CV] . criterion=entropy, n_estimators=100, score=0.909, total=  25.9s\n",
            "[CV] criterion=entropy, n_estimators=100 .............................\n",
            "[CV] . criterion=entropy, n_estimators=100, score=0.908, total=  26.0s\n",
            "[CV] criterion=entropy, n_estimators=100 .............................\n",
            "[CV] . criterion=entropy, n_estimators=100, score=0.910, total=  26.1s\n"
          ],
          "name": "stdout"
        },
        {
          "output_type": "stream",
          "text": [
            "[Parallel(n_jobs=1)]: Done  40 out of  40 | elapsed:  7.9min finished\n"
          ],
          "name": "stderr"
        },
        {
          "output_type": "execute_result",
          "data": {
            "text/plain": [
              "GridSearchCV(cv=None, error_score=nan,\n",
              "             estimator=ExtraTreesClassifier(bootstrap=False, ccp_alpha=0.0,\n",
              "                                            class_weight=None, criterion='gini',\n",
              "                                            max_depth=None, max_features='auto',\n",
              "                                            max_leaf_nodes=None,\n",
              "                                            max_samples=None,\n",
              "                                            min_impurity_decrease=0.0,\n",
              "                                            min_impurity_split=None,\n",
              "                                            min_samples_leaf=1,\n",
              "                                            min_samples_split=2,\n",
              "                                            min_weight_fraction_leaf=0.0,\n",
              "                                            n_estimators=100, n_jobs=None,\n",
              "                                            oob_score=False, random_state=None,\n",
              "                                            verbose=0, warm_start=False),\n",
              "             iid='deprecated', n_jobs=None,\n",
              "             param_grid={'criterion': ['gini', 'entropy'],\n",
              "                         'n_estimators': [10, 25, 50, 100]},\n",
              "             pre_dispatch='2*n_jobs', refit=True, return_train_score=False,\n",
              "             scoring=None, verbose=3)"
            ]
          },
          "metadata": {
            "tags": []
          },
          "execution_count": 23
        }
      ]
    },
    {
      "cell_type": "code",
      "metadata": {
        "id": "sSwMnN46gLYt",
        "outputId": "a67e4aab-bce0-4de5-fc48-8bedd237c419",
        "colab": {
          "base_uri": "https://localhost:8080/"
        }
      },
      "source": [
        "print(grid.best_params_) \n",
        "print(grid.best_estimator_)"
      ],
      "execution_count": 24,
      "outputs": [
        {
          "output_type": "stream",
          "text": [
            "{'criterion': 'entropy', 'n_estimators': 100}\n",
            "ExtraTreesClassifier(bootstrap=False, ccp_alpha=0.0, class_weight=None,\n",
            "                     criterion='entropy', max_depth=None, max_features='auto',\n",
            "                     max_leaf_nodes=None, max_samples=None,\n",
            "                     min_impurity_decrease=0.0, min_impurity_split=None,\n",
            "                     min_samples_leaf=1, min_samples_split=2,\n",
            "                     min_weight_fraction_leaf=0.0, n_estimators=100,\n",
            "                     n_jobs=None, oob_score=False, random_state=None, verbose=0,\n",
            "                     warm_start=False)\n"
          ],
          "name": "stdout"
        }
      ]
    },
    {
      "cell_type": "code",
      "metadata": {
        "id": "qm_Xx9nOhgnI",
        "outputId": "0830d0f2-f520-4add-8e28-d8331e9e55d9",
        "colab": {
          "base_uri": "https://localhost:8080/"
        }
      },
      "source": [
        "ETF = ExtraTreesClassifier(n_estimators = grid.best_params_['n_estimators'], \n",
        "                        criterion =grid.best_params_['criterion'],\n",
        "                         max_features = 'auto')  #x_train.shape[1]) | auto = sqrt(n_features)\n",
        "ETF.fit(x_train,y_train)"
      ],
      "execution_count": 25,
      "outputs": [
        {
          "output_type": "execute_result",
          "data": {
            "text/plain": [
              "ExtraTreesClassifier(bootstrap=False, ccp_alpha=0.0, class_weight=None,\n",
              "                     criterion='entropy', max_depth=None, max_features='auto',\n",
              "                     max_leaf_nodes=None, max_samples=None,\n",
              "                     min_impurity_decrease=0.0, min_impurity_split=None,\n",
              "                     min_samples_leaf=1, min_samples_split=2,\n",
              "                     min_weight_fraction_leaf=0.0, n_estimators=100,\n",
              "                     n_jobs=None, oob_score=False, random_state=None, verbose=0,\n",
              "                     warm_start=False)"
            ]
          },
          "metadata": {
            "tags": []
          },
          "execution_count": 25
        }
      ]
    },
    {
      "cell_type": "code",
      "metadata": {
        "id": "8kQsQpHRaZ4b",
        "outputId": "de4c30fc-27f0-4d6d-9d2b-ee68dd54ee18",
        "colab": {
          "base_uri": "https://localhost:8080/",
          "height": 312
        }
      },
      "source": [
        "sns.distplot(y_test,hist=False,color='r',label='Actual')\n",
        "plt.title('Actual v/s Predicted(ETF)')\n",
        "sns.distplot(ETF_y_pred,hist=False,color='b',label='Predicted')"
      ],
      "execution_count": 119,
      "outputs": [
        {
          "output_type": "execute_result",
          "data": {
            "text/plain": [
              "<matplotlib.axes._subplots.AxesSubplot at 0x7f5d222c07b8>"
            ]
          },
          "metadata": {
            "tags": []
          },
          "execution_count": 119
        },
        {
          "output_type": "display_data",
          "data": {
            "image/png": "[encoded data removed]",
            "text/plain": [
              "<Figure size 432x288 with 1 Axes>"
            ]
          },
          "metadata": {
            "tags": [],
            "needs_background": "light"
          }
        }
      ]
    },
    {
      "cell_type": "code",
      "metadata": {
        "id": "fUo8qrjPNBvB",
        "outputId": "f04ffab8-3012-4565-f903-f2a42a71f716",
        "colab": {
          "base_uri": "https://localhost:8080/"
        }
      },
      "source": [
        "fi = ETF.feature_importances_\n",
        "fi_normalized = np.std([tree.feature_importances_ for tree in \n",
        "                                        ETF.estimators_], \n",
        "                                        axis = 0) \n",
        "fi"
      ],
      "execution_count": 26,
      "outputs": [
        {
          "output_type": "execute_result",
          "data": {
            "text/plain": [
              "array([0.07015969, 0.10992036, 0.1045947 , 0.06827477, 0.06608094,\n",
              "       0.04638967, 0.00360879, 0.02652596, 0.03648285, 0.01704549,\n",
              "       0.03574497, 0.0258063 , 0.0360648 , 0.03926106, 0.03921005,\n",
              "       0.03433757, 0.0247505 , 0.04257785, 0.00279348, 0.00181496,\n",
              "       0.00345459, 0.00089723, 0.0286841 , 0.03225198, 0.00232799,\n",
              "       0.00474415, 0.00815393, 0.0279052 , 0.01023164, 0.00408038,\n",
              "       0.0203934 , 0.02543067])"
            ]
          },
          "metadata": {
            "tags": []
          },
          "execution_count": 26
        }
      ]
    },
    {
      "cell_type": "code",
      "metadata": {
        "id": "2gXcxDFoVl1u",
        "outputId": "4794ad3a-6526-4b52-e177-7b667925dde0",
        "colab": {
          "base_uri": "https://localhost:8080/",
          "height": 1000
        }
      },
      "source": [
        "fig = make_subplots(rows=2, cols=1,shared_xaxes=True)\n",
        "\n",
        "fig.add_trace(go.Bar(x=x.columns,y=fi,name='Non-normalized',\n",
        "                        marker_color='rgb(171,241,255)',marker_line_color='rgb(12,0,335)',\n",
        "                        marker_line_width=2, opacity=0.6),\n",
        "                row=1,col=1)\n",
        "\n",
        "fig.add_trace(go.Bar(x=x.columns,y=fi_normalized,name='Normalized',\n",
        "                        marker_color='#fc888d',marker_line_color='#6b0206',\n",
        "                        marker_line_width=2, opacity=0.6),\n",
        "                row=2,col=1)\n",
        "fig.update_layout(template='simple_white',title='Comparing different feature importance',height=900)\n",
        "fig.show()\n",
        "fig.show('svg',height=900,width=1200)"
      ],
      "execution_count": 71,
      "outputs": [
        {
          "output_type": "display_data",
          "data": {
            "text/html": [
              "<html>\n",
              "<head><meta charset=\"utf-8\" /></head>\n",
              "<body>\n",
              "    <div>\n",
              "            <script src=\"https://cdnjs.cloudflare.com/ajax/libs/mathjax/2.7.5/MathJax.js?config=TeX-AMS-MML_SVG\"></script><script type=\"text/javascript\">if (window.MathJax) {MathJax.Hub.Config({SVG: {font: \"STIX-Web\"}});}</script>\n",
              "                <script type=\"text/javascript\">window.PlotlyConfig = {MathJaxConfig: 'local'};</script>\n",
              "        <script src=\"https://cdn.plot.ly/plotly-latest.min.js\"></script>    \n",
              "            <div id=\"2e6d50c1-a7b6-40a9-9f8f-f227c10c094a\" class=\"plotly-graph-div\" style=\"height:900px; width:100%;\"></div>\n",
              "            <script type=\"text/javascript\">\n",
              "                \n",
              "                    window.PLOTLYENV=window.PLOTLYENV || {};\n",
              "                    \n",
              "                if (document.getElementById(\"2e6d50c1-a7b6-40a9-9f8f-f227c10c094a\")) {\n",
              "                    Plotly.newPlot(\n",
              "                        '2e6d50c1-a7b6-40a9-9f8f-f227c10c094a',\n",
              "                        [{\"marker\": {\"color\": \"rgb(171,241,255)\", \"line\": {\"color\": \"rgb(12,0,335)\", \"width\": 2}}, \"name\": \"Non-normalized\", \"opacity\": 0.6, \"type\": \"bar\", \"x\": [\"aon\", \"daily_decr30\", \"daily_decr90\", \"rental30\", \"rental90\", \"last_rech_date_ma\", \"last_rech_date_da\", \"last_rech_amt_ma\", \"cnt_ma_rech30\", \"fr_ma_rech30\", \"sumamnt_ma_rech30\", \"medianamnt_ma_rech30\", \"medianmarechprebal30\", \"cnt_ma_rech90\", \"fr_ma_rech90\", \"sumamnt_ma_rech90\", \"medianamnt_ma_rech90\", \"medianmarechprebal90\", \"cnt_da_rech30\", \"fr_da_rech30\", \"cnt_da_rech90\", \"fr_da_rech90\", \"cnt_loans30\", \"amnt_loans30\", \"maxamnt_loans30\", \"medianamnt_loans30\", \"cnt_loans90\", \"amnt_loans90\", \"maxamnt_loans90\", \"medianamnt_loans90\", \"payback30\", \"payback90\"], \"xaxis\": \"x\", \"y\": [0.07015969054291421, 0.10992036290842058, 0.10459470106862645, 0.06827476725706595, 0.06608093697848988, 0.04638966753689741, 0.003608793925325024, 0.02652595575853459, 0.03648284849878168, 0.017045488224467942, 0.03574496806911225, 0.025806296390293863, 0.036064799986514046, 0.039261056210381715, 0.03921004839962296, 0.0343375735808168, 0.024750503181795218, 0.042577846311268645, 0.002793483192974305, 0.0018149644509150458, 0.0034545874568117168, 0.0008972316979755805, 0.0286840962539571, 0.03225197973245629, 0.0023279898072363853, 0.004744148992398969, 0.008153929932604052, 0.027905198472860025, 0.010231636927821572, 0.004080381787213066, 0.020393396147343215, 0.025430670318103497], \"yaxis\": \"y\"}, {\"marker\": {\"color\": \"#fc888d\", \"line\": {\"color\": \"#6b0206\", \"width\": 2}}, \"name\": \"Normalized\", \"opacity\": 0.6, \"type\": \"bar\", \"x\": [\"aon\", \"daily_decr30\", \"daily_decr90\", \"rental30\", \"rental90\", \"last_rech_date_ma\", \"last_rech_date_da\", \"last_rech_amt_ma\", \"cnt_ma_rech30\", \"fr_ma_rech30\", \"sumamnt_ma_rech30\", \"medianamnt_ma_rech30\", \"medianmarechprebal30\", \"cnt_ma_rech90\", \"fr_ma_rech90\", \"sumamnt_ma_rech90\", \"medianamnt_ma_rech90\", \"medianmarechprebal90\", \"cnt_da_rech30\", \"fr_da_rech30\", \"cnt_da_rech90\", \"fr_da_rech90\", \"cnt_loans30\", \"amnt_loans30\", \"maxamnt_loans30\", \"medianamnt_loans30\", \"cnt_loans90\", \"amnt_loans90\", \"maxamnt_loans90\", \"medianamnt_loans90\", \"payback30\", \"payback90\"], \"xaxis\": \"x2\", \"y\": [0.001885814012680854, 0.025208180249059457, 0.018268801673213847, 0.004200286517506192, 0.0036179645320739244, 0.002272636987161507, 0.0003385537950589081, 0.014469471207730423, 0.028813974313842586, 0.001106643052462876, 0.02595972530804472, 0.019475491752518247, 0.0069320040896132555, 0.03302456691509791, 0.02395713579070865, 0.022372296589174376, 0.007683343334735248, 0.007517928607927675, 0.000314578276352629, 0.00022933575278758487, 0.00048557629923390414, 0.00017499755638433775, 0.029037579600794863, 0.03303146095469356, 0.0006271658141989138, 0.0021513801630167586, 0.0012649234386129518, 0.02812181494225653, 0.005649900966350379, 0.0022059715105202412, 0.01350693522986151, 0.02678180563592271], \"yaxis\": \"y2\"}],\n",
              "                        {\"height\": 900, \"template\": {\"data\": {\"bar\": [{\"error_x\": {\"color\": \"rgb(36,36,36)\"}, \"error_y\": {\"color\": \"rgb(36,36,36)\"}, \"marker\": {\"line\": {\"color\": \"white\", \"width\": 0.5}}, \"type\": \"bar\"}], \"barpolar\": [{\"marker\": {\"line\": {\"color\": \"white\", \"width\": 0.5}}, \"type\": \"barpolar\"}], \"carpet\": [{\"aaxis\": {\"endlinecolor\": \"rgb(36,36,36)\", \"gridcolor\": \"white\", \"linecolor\": \"white\", \"minorgridcolor\": \"white\", \"startlinecolor\": \"rgb(36,36,36)\"}, \"baxis\": {\"endlinecolor\": \"rgb(36,36,36)\", \"gridcolor\": \"white\", \"linecolor\": \"white\", \"minorgridcolor\": \"white\", \"startlinecolor\": \"rgb(36,36,36)\"}, \"type\": \"carpet\"}], \"choropleth\": [{\"colorbar\": {\"outlinewidth\": 10, \"tickcolor\": \"rgb(36,36,36)\", \"ticklen\": 8, \"ticks\": \"outside\", \"tickwidth\": 2}, \"type\": \"choropleth\"}], \"contour\": [{\"colorbar\": {\"outlinewidth\": 10, \"tickcolor\": \"rgb(36,36,36)\", \"ticklen\": 8, \"ticks\": \"outside\", \"tickwidth\": 2}, \"colorscale\": [[0.0, \"#440154\"], [0.1111111111111111, \"#482878\"], [0.2222222222222222, \"#3e4989\"], [0.3333333333333333, \"#31688e\"], [0.4444444444444444, \"#26828e\"], [0.5555555555555556, \"#1f9e89\"], [0.6666666666666666, \"#35b779\"], [0.7777777777777778, \"#6ece58\"], [0.8888888888888888, \"#b5de2b\"], [1.0, \"#fde725\"]], \"type\": \"contour\"}], \"contourcarpet\": [{\"colorbar\": {\"outlinewidth\": 10, \"tickcolor\": \"rgb(36,36,36)\", \"ticklen\": 8, \"ticks\": \"outside\", \"tickwidth\": 2}, \"type\": \"contourcarpet\"}], \"heatmap\": [{\"colorbar\": {\"outlinewidth\": 10, \"tickcolor\": \"rgb(36,36,36)\", \"ticklen\": 8, \"ticks\": \"outside\", \"tickwidth\": 2}, \"colorscale\": [[0.0, \"#440154\"], [0.1111111111111111, \"#482878\"], [0.2222222222222222, \"#3e4989\"], [0.3333333333333333, \"#31688e\"], [0.4444444444444444, \"#26828e\"], [0.5555555555555556, \"#1f9e89\"], [0.6666666666666666, \"#35b779\"], [0.7777777777777778, \"#6ece58\"], [0.8888888888888888, \"#b5de2b\"], [1.0, \"#fde725\"]], \"type\": \"heatmap\"}], \"heatmapgl\": [{\"colorbar\": {\"outlinewidth\": 10, \"tickcolor\": \"rgb(36,36,36)\", \"ticklen\": 8, \"ticks\": \"outside\", \"tickwidth\": 2}, \"colorscale\": [[0.0, \"#440154\"], [0.1111111111111111, \"#482878\"], [0.2222222222222222, \"#3e4989\"], [0.3333333333333333, \"#31688e\"], [0.4444444444444444, \"#26828e\"], [0.5555555555555556, \"#1f9e89\"], [0.6666666666666666, \"#35b779\"], [0.7777777777777778, \"#6ece58\"], [0.8888888888888888, \"#b5de2b\"], [1.0, \"#fde725\"]], \"type\": \"heatmapgl\"}], \"histogram\": [{\"marker\": {\"line\": {\"color\": \"white\", \"width\": 0.6}}, \"type\": \"histogram\"}], \"histogram2d\": [{\"colorbar\": {\"outlinewidth\": 10, \"tickcolor\": \"rgb(36,36,36)\", \"ticklen\": 8, \"ticks\": \"outside\", \"tickwidth\": 2}, \"colorscale\": [[0.0, \"#440154\"], [0.1111111111111111, \"#482878\"], [0.2222222222222222, \"#3e4989\"], [0.3333333333333333, \"#31688e\"], [0.4444444444444444, \"#26828e\"], [0.5555555555555556, \"#1f9e89\"], [0.6666666666666666, \"#35b779\"], [0.7777777777777778, \"#6ece58\"], [0.8888888888888888, \"#b5de2b\"], [1.0, \"#fde725\"]], \"type\": \"histogram2d\"}], \"histogram2dcontour\": [{\"colorbar\": {\"outlinewidth\": 10, \"tickcolor\": \"rgb(36,36,36)\", \"ticklen\": 8, \"ticks\": \"outside\", \"tickwidth\": 2}, \"colorscale\": [[0.0, \"#440154\"], [0.1111111111111111, \"#482878\"], [0.2222222222222222, \"#3e4989\"], [0.3333333333333333, \"#31688e\"], [0.4444444444444444, \"#26828e\"], [0.5555555555555556, \"#1f9e89\"], [0.6666666666666666, \"#35b779\"], [0.7777777777777778, \"#6ece58\"], [0.8888888888888888, \"#b5de2b\"], [1.0, \"#fde725\"]], \"type\": \"histogram2dcontour\"}], \"mesh3d\": [{\"colorbar\": {\"outlinewidth\": 10, \"tickcolor\": \"rgb(36,36,36)\", \"ticklen\": 8, \"ticks\": \"outside\", \"tickwidth\": 2}, \"type\": \"mesh3d\"}], \"parcoords\": [{\"line\": {\"colorbar\": {\"outlinewidth\": 10, \"tickcolor\": \"rgb(36,36,36)\", \"ticklen\": 8, \"ticks\": \"outside\", \"tickwidth\": 2}}, \"type\": \"parcoords\"}], \"pie\": [{\"automargin\": true, \"type\": \"pie\"}], \"scatter\": [{\"marker\": {\"colorbar\": {\"outlinewidth\": 10, \"tickcolor\": \"rgb(36,36,36)\", \"ticklen\": 8, \"ticks\": \"outside\", \"tickwidth\": 2}}, \"type\": \"scatter\"}], \"scatter3d\": [{\"line\": {\"colorbar\": {\"outlinewidth\": 10, \"tickcolor\": \"rgb(36,36,36)\", \"ticklen\": 8, \"ticks\": \"outside\", \"tickwidth\": 2}}, \"marker\": {\"colorbar\": {\"outlinewidth\": 10, \"tickcolor\": \"rgb(36,36,36)\", \"ticklen\": 8, \"ticks\": \"outside\", \"tickwidth\": 2}}, \"type\": \"scatter3d\"}], \"scattercarpet\": [{\"marker\": {\"colorbar\": {\"outlinewidth\": 10, \"tickcolor\": \"rgb(36,36,36)\", \"ticklen\": 8, \"ticks\": \"outside\", \"tickwidth\": 2}}, \"type\": \"scattercarpet\"}], \"scattergeo\": [{\"marker\": {\"colorbar\": {\"outlinewidth\": 10, \"tickcolor\": \"rgb(36,36,36)\", \"ticklen\": 8, \"ticks\": \"outside\", \"tickwidth\": 2}}, \"type\": \"scattergeo\"}], \"scattergl\": [{\"marker\": {\"colorbar\": {\"outlinewidth\": 10, \"tickcolor\": \"rgb(36,36,36)\", \"ticklen\": 8, \"ticks\": \"outside\", \"tickwidth\": 2}}, \"type\": \"scattergl\"}], \"scattermapbox\": [{\"marker\": {\"colorbar\": {\"outlinewidth\": 10, \"tickcolor\": \"rgb(36,36,36)\", \"ticklen\": 8, \"ticks\": \"outside\", \"tickwidth\": 2}}, \"type\": \"scattermapbox\"}], \"scatterpolar\": [{\"marker\": {\"colorbar\": {\"outlinewidth\": 10, \"tickcolor\": \"rgb(36,36,36)\", \"ticklen\": 8, \"ticks\": \"outside\", \"tickwidth\": 2}}, \"type\": \"scatterpolar\"}], \"scatterpolargl\": [{\"marker\": {\"colorbar\": {\"outlinewidth\": 10, \"tickcolor\": \"rgb(36,36,36)\", \"ticklen\": 8, \"ticks\": \"outside\", \"tickwidth\": 2}}, \"type\": \"scatterpolargl\"}], \"scatterternary\": [{\"marker\": {\"colorbar\": {\"outlinewidth\": 10, \"tickcolor\": \"rgb(36,36,36)\", \"ticklen\": 8, \"ticks\": \"outside\", \"tickwidth\": 2}}, \"type\": \"scatterternary\"}], \"surface\": [{\"colorbar\": {\"outlinewidth\": 10, \"tickcolor\": \"rgb(36,36,36)\", \"ticklen\": 8, \"ticks\": \"outside\", \"tickwidth\": 2}, \"colorscale\": [[0.0, \"#440154\"], [0.1111111111111111, \"#482878\"], [0.2222222222222222, \"#3e4989\"], [0.3333333333333333, \"#31688e\"], [0.4444444444444444, \"#26828e\"], [0.5555555555555556, \"#1f9e89\"], [0.6666666666666666, \"#35b779\"], [0.7777777777777778, \"#6ece58\"], [0.8888888888888888, \"#b5de2b\"], [1.0, \"#fde725\"]], \"type\": \"surface\"}], \"table\": [{\"cells\": {\"fill\": {\"color\": \"rgb(237,237,237)\"}, \"line\": {\"color\": \"white\"}}, \"header\": {\"fill\": {\"color\": \"rgb(217,217,217)\"}, \"line\": {\"color\": \"white\"}}, \"type\": \"table\"}]}, \"layout\": {\"annotationdefaults\": {\"arrowhead\": 0, \"arrowwidth\": 1}, \"coloraxis\": {\"colorbar\": {\"outlinewidth\": 10, \"tickcolor\": \"rgb(36,36,36)\", \"ticklen\": 8, \"ticks\": \"outside\", \"tickwidth\": 2}}, \"colorscale\": {\"diverging\": [[0.0, \"rgb(103,0,31)\"], [0.1, \"rgb(178,24,43)\"], [0.2, \"rgb(214,96,77)\"], [0.3, \"rgb(244,165,130)\"], [0.4, \"rgb(253,219,199)\"], [0.5, \"rgb(247,247,247)\"], [0.6, \"rgb(209,229,240)\"], [0.7, \"rgb(146,197,222)\"], [0.8, \"rgb(67,147,195)\"], [0.9, \"rgb(33,102,172)\"], [1.0, \"rgb(5,48,97)\"]], \"sequential\": [[0.0, \"#440154\"], [0.1111111111111111, \"#482878\"], [0.2222222222222222, \"#3e4989\"], [0.3333333333333333, \"#31688e\"], [0.4444444444444444, \"#26828e\"], [0.5555555555555556, \"#1f9e89\"], [0.6666666666666666, \"#35b779\"], [0.7777777777777778, \"#6ece58\"], [0.8888888888888888, \"#b5de2b\"], [1.0, \"#fde725\"]], \"sequentialminus\": [[0.0, \"#440154\"], [0.1111111111111111, \"#482878\"], [0.2222222222222222, \"#3e4989\"], [0.3333333333333333, \"#31688e\"], [0.4444444444444444, \"#26828e\"], [0.5555555555555556, \"#1f9e89\"], [0.6666666666666666, \"#35b779\"], [0.7777777777777778, \"#6ece58\"], [0.8888888888888888, \"#b5de2b\"], [1.0, \"#fde725\"]]}, \"colorway\": [\"#1F77B4\", \"#FF7F0E\", \"#2CA02C\", \"#D62728\", \"#9467BD\", \"#8C564B\", \"#E377C2\", \"#7F7F7F\", \"#BCBD22\", \"#17BECF\"], \"font\": {\"color\": \"rgb(36,36,36)\"}, \"geo\": {\"bgcolor\": \"white\", \"lakecolor\": \"white\", \"landcolor\": \"white\", \"showlakes\": true, \"showland\": true, \"subunitcolor\": \"white\"}, \"hoverlabel\": {\"align\": \"left\"}, \"hovermode\": \"closest\", \"mapbox\": {\"style\": \"light\"}, \"paper_bgcolor\": \"white\", \"plot_bgcolor\": \"white\", \"polar\": {\"angularaxis\": {\"gridcolor\": \"rgb(232,232,232)\", \"linecolor\": \"rgb(36,36,36)\", \"showgrid\": false, \"showline\": true, \"ticks\": \"outside\"}, \"bgcolor\": \"white\", \"radialaxis\": {\"gridcolor\": \"rgb(232,232,232)\", \"linecolor\": \"rgb(36,36,36)\", \"showgrid\": false, \"showline\": true, \"ticks\": \"outside\"}}, \"scene\": {\"xaxis\": {\"backgroundcolor\": \"white\", \"gridcolor\": \"rgb(232,232,232)\", \"gridwidth\": 2, \"linecolor\": \"rgb(36,36,36)\", \"showbackground\": true, \"showgrid\": false, \"showline\": true, \"ticks\": \"outside\", \"zeroline\": false, \"zerolinecolor\": \"rgb(36,36,36)\"}, \"yaxis\": {\"backgroundcolor\": \"white\", \"gridcolor\": \"rgb(232,232,232)\", \"gridwidth\": 2, \"linecolor\": \"rgb(36,36,36)\", \"showbackground\": true, \"showgrid\": false, \"showline\": true, \"ticks\": \"outside\", \"zeroline\": false, \"zerolinecolor\": \"rgb(36,36,36)\"}, \"zaxis\": {\"backgroundcolor\": \"white\", \"gridcolor\": \"rgb(232,232,232)\", \"gridwidth\": 2, \"linecolor\": \"rgb(36,36,36)\", \"showbackground\": true, \"showgrid\": false, \"showline\": true, \"ticks\": \"outside\", \"zeroline\": false, \"zerolinecolor\": \"rgb(36,36,36)\"}}, \"shapedefaults\": {\"fillcolor\": \"black\", \"line\": {\"width\": 0}, \"opacity\": 0.3}, \"ternary\": {\"aaxis\": {\"gridcolor\": \"rgb(232,232,232)\", \"linecolor\": \"rgb(36,36,36)\", \"showgrid\": false, \"showline\": true, \"ticks\": \"outside\"}, \"baxis\": {\"gridcolor\": \"rgb(232,232,232)\", \"linecolor\": \"rgb(36,36,36)\", \"showgrid\": false, \"showline\": true, \"ticks\": \"outside\"}, \"bgcolor\": \"white\", \"caxis\": {\"gridcolor\": \"rgb(232,232,232)\", \"linecolor\": \"rgb(36,36,36)\", \"showgrid\": false, \"showline\": true, \"ticks\": \"outside\"}}, \"title\": {\"x\": 0.05}, \"xaxis\": {\"automargin\": true, \"gridcolor\": \"rgb(232,232,232)\", \"linecolor\": \"rgb(36,36,36)\", \"showgrid\": false, \"showline\": true, \"ticks\": \"outside\", \"title\": {\"standoff\": 15}, \"zeroline\": false, \"zerolinecolor\": \"rgb(36,36,36)\"}, \"yaxis\": {\"automargin\": true, \"gridcolor\": \"rgb(232,232,232)\", \"linecolor\": \"rgb(36,36,36)\", \"showgrid\": false, \"showline\": true, \"ticks\": \"outside\", \"title\": {\"standoff\": 15}, \"zeroline\": false, \"zerolinecolor\": \"rgb(36,36,36)\"}}}, \"title\": {\"text\": \"Comparing different feature importance\"}, \"xaxis\": {\"anchor\": \"y\", \"domain\": [0.0, 1.0], \"matches\": \"x2\", \"showticklabels\": false}, \"xaxis2\": {\"anchor\": \"y2\", \"domain\": [0.0, 1.0]}, \"yaxis\": {\"anchor\": \"x\", \"domain\": [0.575, 1.0]}, \"yaxis2\": {\"anchor\": \"x2\", \"domain\": [0.0, 0.425]}},\n",
              "                        {\"responsive\": true}\n",
              "                    ).then(function(){\n",
              "                            \n",
              "var gd = document.getElementById('2e6d50c1-a7b6-40a9-9f8f-f227c10c094a');\n",
              "var x = new MutationObserver(function (mutations, observer) {{\n",
              "        var display = window.getComputedStyle(gd).display;\n",
              "        if (!display || display === 'none') {{\n",
              "            console.log([gd, 'removed!']);\n",
              "            Plotly.purge(gd);\n",
              "            observer.disconnect();\n",
              "        }}\n",
              "}});\n",
              "\n",
              "// Listen for the removal of the full notebook cells\n",
              "var notebookContainer = gd.closest('#notebook-container');\n",
              "if (notebookContainer) {{\n",
              "    x.observe(notebookContainer, {childList: true});\n",
              "}}\n",
              "\n",
              "// Listen for the clearing of the current output cell\n",
              "var outputEl = gd.closest('.output');\n",
              "if (outputEl) {{\n",
              "    x.observe(outputEl, {childList: true});\n",
              "}}\n",
              "\n",
              "                        })\n",
              "                };\n",
              "                \n",
              "            </script>\n",
              "        </div>\n",
              "</body>\n",
              "</html>"
            ]
          },
          "metadata": {
            "tags": []
          }
        },
        {
          "output_type": "display_data",
          "data": {
            "image/svg+xml": "<svg class=\"main-svg\" xmlns=\"http://www.w3.org/2000/svg\" xmlns:xlink=\"http://www.w3.org/1999/xlink\" width=\"1200\" height=\"900\" viewBox=\"0 0 1200 900\"><rect x=\"0\" y=\"0\" width=\"1200\" height=\"900\" style=\"fill: rgb(255, 255, 255); fill-opacity: 1;\"/><defs id=\"defs-4b7628\"><g class=\"clips\"><clipPath id=\"clip4b7628xyplot\" class=\"plotclip\"><rect width=\"959\" height=\"272.425\"/></clipPath><clipPath id=\"clip4b7628x2y2plot\" class=\"plotclip\"><rect width=\"959\" height=\"272.425\"/></clipPath><clipPath class=\"axesclip\" id=\"clip4b7628x\"><rect x=\"80\" y=\"0\" width=\"959\" height=\"900\"/></clipPath><clipPath class=\"axesclip\" id=\"clip4b7628y\"><rect x=\"0\" y=\"100\" width=\"1200\" height=\"272.425\"/></clipPath><clipPath class=\"axesclip\" id=\"clip4b7628xy\"><rect x=\"80\" y=\"100\" width=\"959\" height=\"272.425\"/></clipPath><clipPath class=\"axesclip\" id=\"clip4b7628y2\"><rect x=\"0\" y=\"468.575\" width=\"1200\" height=\"272.425\"/></clipPath><clipPath class=\"axesclip\" id=\"clip4b7628xy2\"><rect x=\"80\" y=\"468.575\" width=\"959\" height=\"272.425\"/></clipPath><clipPath class=\"axesclip\" id=\"clip4b7628x2\"><rect x=\"80\" y=\"0\" width=\"959\" height=\"900\"/></clipPath><clipPath class=\"axesclip\" id=\"clip4b7628x2y\"><rect x=\"80\" y=\"100\" width=\"959\" height=\"272.425\"/></clipPath><clipPath class=\"axesclip\" id=\"clip4b7628x2y2\"><rect x=\"80\" y=\"468.575\" width=\"959\" height=\"272.425\"/></clipPath></g><g class=\"gradients\"/></defs><g class=\"bglayer\"/><g class=\"layer-below\"><g class=\"imagelayer\"/><g class=\"shapelayer\"/></g><g class=\"cartesianlayer\"><g class=\"subplot xy\"><g class=\"layer-subplot\"><g class=\"shapelayer\"/><g class=\"imagelayer\"/></g><g class=\"gridlayer\"><g class=\"x\"/><g class=\"y\"/></g><g class=\"zerolinelayer\"/><path class=\"xlines-below\"/><path class=\"ylines-below\"/><g class=\"overlines-below\"/><g class=\"xaxislayer-below\"/><g class=\"yaxislayer-below\"/><g class=\"overaxes-below\"/><g class=\"plot\" transform=\"translate(80, 100)\" clip-path=\"url('#clip4b7628xyplot')\"><g class=\"barlayer mlayer\"><g class=\"trace bars\" style=\"opacity: 0.6;\"><g class=\"points\"><g class=\"point\"><path d=\"M3,272.43V107.24H26.97V272.43Z\" style=\"vector-effect: non-scaling-stroke; opacity: 1; stroke-width: 2px; fill: rgb(171, 241, 255); fill-opacity: 1; stroke: rgb(12, 0, 255); stroke-opacity: 1;\"/></g><g class=\"point\"><path d=\"M32.97,272.43V13.62H56.94V272.43Z\" style=\"vector-effect: non-scaling-stroke; opacity: 1; stroke-width: 2px; fill: rgb(171, 241, 255); fill-opacity: 1; stroke: rgb(12, 0, 255); stroke-opacity: 1;\"/></g><g class=\"point\"><path d=\"M62.93,272.43V26.16H86.91V272.43Z\" style=\"vector-effect: non-scaling-stroke; opacity: 1; stroke-width: 2px; fill: rgb(171, 241, 255); fill-opacity: 1; stroke: rgb(12, 0, 255); stroke-opacity: 1;\"/></g><g class=\"point\"><path d=\"M92.9,272.43V111.67H116.88V272.43Z\" style=\"vector-effect: non-scaling-stroke; opacity: 1; stroke-width: 2px; fill: rgb(171, 241, 255); fill-opacity: 1; stroke: rgb(12, 0, 255); stroke-opacity: 1;\"/></g><g class=\"point\"><path d=\"M122.87,272.43V116.84H146.85V272.43Z\" style=\"vector-effect: non-scaling-stroke; opacity: 1; stroke-width: 2px; fill: rgb(171, 241, 255); fill-opacity: 1; stroke: rgb(12, 0, 255); stroke-opacity: 1;\"/></g><g class=\"point\"><path d=\"M152.84,272.43V163.2H176.82V272.43Z\" style=\"vector-effect: non-scaling-stroke; opacity: 1; stroke-width: 2px; fill: rgb(171, 241, 255); fill-opacity: 1; stroke: rgb(12, 0, 255); stroke-opacity: 1;\"/></g><g class=\"point\"><path d=\"M182.81,272.43V263.93H206.78V272.43Z\" style=\"vector-effect: non-scaling-stroke; opacity: 1; stroke-width: 2px; fill: rgb(171, 241, 255); fill-opacity: 1; stroke: rgb(12, 0, 255); stroke-opacity: 1;\"/></g><g class=\"point\"><path d=\"M212.78,272.43V209.97H236.75V272.43Z\" style=\"vector-effect: non-scaling-stroke; opacity: 1; stroke-width: 2px; fill: rgb(171, 241, 255); fill-opacity: 1; stroke: rgb(12, 0, 255); stroke-opacity: 1;\"/></g><g class=\"point\"><path d=\"M242.75,272.43V186.53H266.72V272.43Z\" style=\"vector-effect: non-scaling-stroke; opacity: 1; stroke-width: 2px; fill: rgb(171, 241, 255); fill-opacity: 1; stroke: rgb(12, 0, 255); stroke-opacity: 1;\"/></g><g class=\"point\"><path d=\"M272.72,272.43V232.29H296.69V272.43Z\" style=\"vector-effect: non-scaling-stroke; opacity: 1; stroke-width: 2px; fill: rgb(171, 241, 255); fill-opacity: 1; stroke: rgb(12, 0, 255); stroke-opacity: 1;\"/></g><g class=\"point\"><path d=\"M302.68,272.43V188.26H326.66V272.43Z\" style=\"vector-effect: non-scaling-stroke; opacity: 1; stroke-width: 2px; fill: rgb(171, 241, 255); fill-opacity: 1; stroke: rgb(12, 0, 255); stroke-opacity: 1;\"/></g><g class=\"point\"><path d=\"M332.65,272.43V211.66H356.63V272.43Z\" style=\"vector-effect: non-scaling-stroke; opacity: 1; stroke-width: 2px; fill: rgb(171, 241, 255); fill-opacity: 1; stroke: rgb(12, 0, 255); stroke-opacity: 1;\"/></g><g class=\"point\"><path d=\"M362.62,272.43V187.51H386.6V272.43Z\" style=\"vector-effect: non-scaling-stroke; opacity: 1; stroke-width: 2px; fill: rgb(171, 241, 255); fill-opacity: 1; stroke: rgb(12, 0, 255); stroke-opacity: 1;\"/></g><g class=\"point\"><path d=\"M392.59,272.43V179.99H416.57V272.43Z\" style=\"vector-effect: non-scaling-stroke; opacity: 1; stroke-width: 2px; fill: rgb(171, 241, 255); fill-opacity: 1; stroke: rgb(12, 0, 255); stroke-opacity: 1;\"/></g><g class=\"point\"><path d=\"M422.56,272.43V180.11H446.53V272.43Z\" style=\"vector-effect: non-scaling-stroke; opacity: 1; stroke-width: 2px; fill: rgb(171, 241, 255); fill-opacity: 1; stroke: rgb(12, 0, 255); stroke-opacity: 1;\"/></g><g class=\"point\"><path d=\"M452.53,272.43V191.58H476.5V272.43Z\" style=\"vector-effect: non-scaling-stroke; opacity: 1; stroke-width: 2px; fill: rgb(171, 241, 255); fill-opacity: 1; stroke: rgb(12, 0, 255); stroke-opacity: 1;\"/></g><g class=\"point\"><path d=\"M482.5,272.43V214.15H506.47V272.43Z\" style=\"vector-effect: non-scaling-stroke; opacity: 1; stroke-width: 2px; fill: rgb(171, 241, 255); fill-opacity: 1; stroke: rgb(12, 0, 255); stroke-opacity: 1;\"/></g><g class=\"point\"><path d=\"M512.47,272.43V172.18H536.44V272.43Z\" style=\"vector-effect: non-scaling-stroke; opacity: 1; stroke-width: 2px; fill: rgb(171, 241, 255); fill-opacity: 1; stroke: rgb(12, 0, 255); stroke-opacity: 1;\"/></g><g class=\"point\"><path d=\"M542.43,272.43V265.85H566.41V272.43Z\" style=\"vector-effect: non-scaling-stroke; opacity: 1; stroke-width: 2px; fill: rgb(171, 241, 255); fill-opacity: 1; stroke: rgb(12, 0, 255); stroke-opacity: 1;\"/></g><g class=\"point\"><path d=\"M572.4,272.43V268.15H596.38V272.43Z\" style=\"vector-effect: non-scaling-stroke; opacity: 1; stroke-width: 2px; fill: rgb(171, 241, 255); fill-opacity: 1; stroke: rgb(12, 0, 255); stroke-opacity: 1;\"/></g><g class=\"point\"><path d=\"M602.37,272.43V264.29H626.35V272.43Z\" style=\"vector-effect: non-scaling-stroke; opacity: 1; stroke-width: 2px; fill: rgb(171, 241, 255); fill-opacity: 1; stroke: rgb(12, 0, 255); stroke-opacity: 1;\"/></g><g class=\"point\"><path d=\"M632.34,272.43V270.31H656.32V272.43Z\" style=\"vector-effect: non-scaling-stroke; opacity: 1; stroke-width: 2px; fill: rgb(171, 241, 255); fill-opacity: 1; stroke: rgb(12, 0, 255); stroke-opacity: 1;\"/></g><g class=\"point\"><path d=\"M662.31,272.43V204.89H686.28V272.43Z\" style=\"vector-effect: non-scaling-stroke; opacity: 1; stroke-width: 2px; fill: rgb(171, 241, 255); fill-opacity: 1; stroke: rgb(12, 0, 255); stroke-opacity: 1;\"/></g><g class=\"point\"><path d=\"M692.28,272.43V196.49H716.25V272.43Z\" style=\"vector-effect: non-scaling-stroke; opacity: 1; stroke-width: 2px; fill: rgb(171, 241, 255); fill-opacity: 1; stroke: rgb(12, 0, 255); stroke-opacity: 1;\"/></g><g class=\"point\"><path d=\"M722.25,272.43V266.94H746.22V272.43Z\" style=\"vector-effect: non-scaling-stroke; opacity: 1; stroke-width: 2px; fill: rgb(171, 241, 255); fill-opacity: 1; stroke: rgb(12, 0, 255); stroke-opacity: 1;\"/></g><g class=\"point\"><path d=\"M752.22,272.43V261.26H776.19V272.43Z\" style=\"vector-effect: non-scaling-stroke; opacity: 1; stroke-width: 2px; fill: rgb(171, 241, 255); fill-opacity: 1; stroke: rgb(12, 0, 255); stroke-opacity: 1;\"/></g><g class=\"point\"><path d=\"M782.18,272.43V253.23H806.16V272.43Z\" style=\"vector-effect: non-scaling-stroke; opacity: 1; stroke-width: 2px; fill: rgb(171, 241, 255); fill-opacity: 1; stroke: rgb(12, 0, 255); stroke-opacity: 1;\"/></g><g class=\"point\"><path d=\"M812.15,272.43V206.72H836.13V272.43Z\" style=\"vector-effect: non-scaling-stroke; opacity: 1; stroke-width: 2px; fill: rgb(171, 241, 255); fill-opacity: 1; stroke: rgb(12, 0, 255); stroke-opacity: 1;\"/></g><g class=\"point\"><path d=\"M842.12,272.43V248.33H866.1V272.43Z\" style=\"vector-effect: non-scaling-stroke; opacity: 1; stroke-width: 2px; fill: rgb(171, 241, 255); fill-opacity: 1; stroke: rgb(12, 0, 255); stroke-opacity: 1;\"/></g><g class=\"point\"><path d=\"M872.09,272.43V262.82H896.07V272.43Z\" style=\"vector-effect: non-scaling-stroke; opacity: 1; stroke-width: 2px; fill: rgb(171, 241, 255); fill-opacity: 1; stroke: rgb(12, 0, 255); stroke-opacity: 1;\"/></g><g class=\"point\"><path d=\"M902.06,272.43V224.41H926.03V272.43Z\" style=\"vector-effect: non-scaling-stroke; opacity: 1; stroke-width: 2px; fill: rgb(171, 241, 255); fill-opacity: 1; stroke: rgb(12, 0, 255); stroke-opacity: 1;\"/></g><g class=\"point\"><path d=\"M932.03,272.43V212.55H956V272.43Z\" style=\"vector-effect: non-scaling-stroke; opacity: 1; stroke-width: 2px; fill: rgb(171, 241, 255); fill-opacity: 1; stroke: rgb(12, 0, 255); stroke-opacity: 1;\"/></g></g></g></g></g><g class=\"overplot\"/><path class=\"xlines-above crisp\" d=\"M79,372.925H1039\" style=\"fill: none; stroke-width: 1px; stroke: rgb(36, 36, 36); stroke-opacity: 1;\"/><path class=\"ylines-above crisp\" d=\"M79.5,100V372.425\" style=\"fill: none; stroke-width: 1px; stroke: rgb(36, 36, 36); stroke-opacity: 1;\"/><g class=\"overlines-above\"/><g class=\"xaxislayer-above\"><path class=\"xtick ticks crisp\" d=\"M0,373.425v5\" transform=\"translate(94.98,0)\" style=\"stroke: rgb(68, 68, 68); stroke-opacity: 1; stroke-width: 1px;\"/><path class=\"xtick ticks crisp\" d=\"M0,373.425v5\" transform=\"translate(124.95,0)\" style=\"stroke: rgb(68, 68, 68); stroke-opacity: 1; stroke-width: 1px;\"/><path class=\"xtick ticks crisp\" d=\"M0,373.425v5\" transform=\"translate(154.92000000000002,0)\" style=\"stroke: rgb(68, 68, 68); stroke-opacity: 1; stroke-width: 1px;\"/><path class=\"xtick ticks crisp\" d=\"M0,373.425v5\" transform=\"translate(184.89,0)\" style=\"stroke: rgb(68, 68, 68); stroke-opacity: 1; stroke-width: 1px;\"/><path class=\"xtick ticks crisp\" d=\"M0,373.425v5\" transform=\"translate(214.86,0)\" style=\"stroke: rgb(68, 68, 68); stroke-opacity: 1; stroke-width: 1px;\"/><path class=\"xtick ticks crisp\" d=\"M0,373.425v5\" transform=\"translate(244.83,0)\" style=\"stroke: rgb(68, 68, 68); stroke-opacity: 1; stroke-width: 1px;\"/><path class=\"xtick ticks crisp\" d=\"M0,373.425v5\" transform=\"translate(274.8,0)\" style=\"stroke: rgb(68, 68, 68); stroke-opacity: 1; stroke-width: 1px;\"/><path class=\"xtick ticks crisp\" d=\"M0,373.425v5\" transform=\"translate(304.77,0)\" style=\"stroke: rgb(68, 68, 68); stroke-opacity: 1; stroke-width: 1px;\"/><path class=\"xtick ticks crisp\" d=\"M0,373.425v5\" transform=\"translate(334.73,0)\" style=\"stroke: rgb(68, 68, 68); stroke-opacity: 1; stroke-width: 1px;\"/><path class=\"xtick ticks crisp\" d=\"M0,373.425v5\" transform=\"translate(364.7,0)\" style=\"stroke: rgb(68, 68, 68); stroke-opacity: 1; stroke-width: 1px;\"/><path class=\"xtick ticks crisp\" d=\"M0,373.425v5\" transform=\"translate(394.67,0)\" style=\"stroke: rgb(68, 68, 68); stroke-opacity: 1; stroke-width: 1px;\"/><path class=\"xtick ticks crisp\" d=\"M0,373.425v5\" transform=\"translate(424.64,0)\" style=\"stroke: rgb(68, 68, 68); stroke-opacity: 1; stroke-width: 1px;\"/><path class=\"xtick ticks crisp\" d=\"M0,373.425v5\" transform=\"translate(454.61,0)\" style=\"stroke: rgb(68, 68, 68); stroke-opacity: 1; stroke-width: 1px;\"/><path class=\"xtick ticks crisp\" d=\"M0,373.425v5\" transform=\"translate(484.58,0)\" style=\"stroke: rgb(68, 68, 68); stroke-opacity: 1; stroke-width: 1px;\"/><path class=\"xtick ticks crisp\" d=\"M0,373.425v5\" transform=\"translate(514.55,0)\" style=\"stroke: rgb(68, 68, 68); stroke-opacity: 1; stroke-width: 1px;\"/><path class=\"xtick ticks crisp\" d=\"M0,373.425v5\" transform=\"translate(544.52,0)\" style=\"stroke: rgb(68, 68, 68); stroke-opacity: 1; stroke-width: 1px;\"/><path class=\"xtick ticks crisp\" d=\"M0,373.425v5\" transform=\"translate(574.48,0)\" style=\"stroke: rgb(68, 68, 68); stroke-opacity: 1; stroke-width: 1px;\"/><path class=\"xtick ticks crisp\" d=\"M0,373.425v5\" transform=\"translate(604.45,0)\" style=\"stroke: rgb(68, 68, 68); stroke-opacity: 1; stroke-width: 1px;\"/><path class=\"xtick ticks crisp\" d=\"M0,373.425v5\" transform=\"translate(634.42,0)\" style=\"stroke: rgb(68, 68, 68); stroke-opacity: 1; stroke-width: 1px;\"/><path class=\"xtick ticks crisp\" d=\"M0,373.425v5\" transform=\"translate(664.39,0)\" style=\"stroke: rgb(68, 68, 68); stroke-opacity: 1; stroke-width: 1px;\"/><path class=\"xtick ticks crisp\" d=\"M0,373.425v5\" transform=\"translate(694.36,0)\" style=\"stroke: rgb(68, 68, 68); stroke-opacity: 1; stroke-width: 1px;\"/><path class=\"xtick ticks crisp\" d=\"M0,373.425v5\" transform=\"translate(724.33,0)\" style=\"stroke: rgb(68, 68, 68); stroke-opacity: 1; stroke-width: 1px;\"/><path class=\"xtick ticks crisp\" d=\"M0,373.425v5\" transform=\"translate(754.3,0)\" style=\"stroke: rgb(68, 68, 68); stroke-opacity: 1; stroke-width: 1px;\"/><path class=\"xtick ticks crisp\" d=\"M0,373.425v5\" transform=\"translate(784.27,0)\" style=\"stroke: rgb(68, 68, 68); stroke-opacity: 1; stroke-width: 1px;\"/><path class=\"xtick ticks crisp\" d=\"M0,373.425v5\" transform=\"translate(814.23,0)\" style=\"stroke: rgb(68, 68, 68); stroke-opacity: 1; stroke-width: 1px;\"/><path class=\"xtick ticks crisp\" d=\"M0,373.425v5\" transform=\"translate(844.2,0)\" style=\"stroke: rgb(68, 68, 68); stroke-opacity: 1; stroke-width: 1px;\"/><path class=\"xtick ticks crisp\" d=\"M0,373.425v5\" transform=\"translate(874.17,0)\" style=\"stroke: rgb(68, 68, 68); stroke-opacity: 1; stroke-width: 1px;\"/><path class=\"xtick ticks crisp\" d=\"M0,373.425v5\" transform=\"translate(904.14,0)\" style=\"stroke: rgb(68, 68, 68); stroke-opacity: 1; stroke-width: 1px;\"/><path class=\"xtick ticks crisp\" d=\"M0,373.425v5\" transform=\"translate(934.11,0)\" style=\"stroke: rgb(68, 68, 68); stroke-opacity: 1; stroke-width: 1px;\"/><path class=\"xtick ticks crisp\" d=\"M0,373.425v5\" transform=\"translate(964.08,0)\" style=\"stroke: rgb(68, 68, 68); stroke-opacity: 1; stroke-width: 1px;\"/><path class=\"xtick ticks crisp\" d=\"M0,373.425v5\" transform=\"translate(994.05,0)\" style=\"stroke: rgb(68, 68, 68); stroke-opacity: 1; stroke-width: 1px;\"/><path class=\"xtick ticks crisp\" d=\"M0,373.425v5\" transform=\"translate(1024.02,0)\" style=\"stroke: rgb(68, 68, 68); stroke-opacity: 1; stroke-width: 1px;\"/></g><g class=\"yaxislayer-above\"><path class=\"ytick ticks crisp\" d=\"M79,0h-5\" transform=\"translate(0,372.43)\" style=\"stroke: rgb(68, 68, 68); stroke-opacity: 1; stroke-width: 1px;\"/><path class=\"ytick ticks crisp\" d=\"M79,0h-5\" transform=\"translate(0,325.34000000000003)\" style=\"stroke: rgb(68, 68, 68); stroke-opacity: 1; stroke-width: 1px;\"/><path class=\"ytick ticks crisp\" d=\"M79,0h-5\" transform=\"translate(0,278.25)\" style=\"stroke: rgb(68, 68, 68); stroke-opacity: 1; stroke-width: 1px;\"/><path class=\"ytick ticks crisp\" d=\"M79,0h-5\" transform=\"translate(0,231.16)\" style=\"stroke: rgb(68, 68, 68); stroke-opacity: 1; stroke-width: 1px;\"/><path class=\"ytick ticks crisp\" d=\"M79,0h-5\" transform=\"translate(0,184.07)\" style=\"stroke: rgb(68, 68, 68); stroke-opacity: 1; stroke-width: 1px;\"/><path class=\"ytick ticks crisp\" d=\"M79,0h-5\" transform=\"translate(0,136.98)\" style=\"stroke: rgb(68, 68, 68); stroke-opacity: 1; stroke-width: 1px;\"/><g class=\"ytick\"><text text-anchor=\"end\" x=\"71.6\" y=\"4.199999999999999\" transform=\"translate(0,372.43)\" style=\"font-family: 'Open Sans', verdana, arial, sans-serif; font-size: 12px; fill: rgb(36, 36, 36); fill-opacity: 1; white-space: pre;\">0</text></g><g class=\"ytick\"><text text-anchor=\"end\" x=\"71.6\" y=\"4.199999999999999\" transform=\"translate(0,325.34000000000003)\" style=\"font-family: 'Open Sans', verdana, arial, sans-serif; font-size: 12px; fill: rgb(36, 36, 36); fill-opacity: 1; white-space: pre;\">0.02</text></g><g class=\"ytick\"><text text-anchor=\"end\" x=\"71.6\" y=\"4.199999999999999\" transform=\"translate(0,278.25)\" style=\"font-family: 'Open Sans', verdana, arial, sans-serif; font-size: 12px; fill: rgb(36, 36, 36); fill-opacity: 1; white-space: pre;\">0.04</text></g><g class=\"ytick\"><text text-anchor=\"end\" x=\"71.6\" y=\"4.199999999999999\" transform=\"translate(0,231.16)\" style=\"font-family: 'Open Sans', verdana, arial, sans-serif; font-size: 12px; fill: rgb(36, 36, 36); fill-opacity: 1; white-space: pre;\">0.06</text></g><g class=\"ytick\"><text text-anchor=\"end\" x=\"71.6\" y=\"4.199999999999999\" transform=\"translate(0,184.07)\" style=\"font-family: 'Open Sans', verdana, arial, sans-serif; font-size: 12px; fill: rgb(36, 36, 36); fill-opacity: 1; white-space: pre;\">0.08</text></g><g class=\"ytick\"><text text-anchor=\"end\" x=\"71.6\" y=\"4.199999999999999\" transform=\"translate(0,136.98)\" style=\"font-family: 'Open Sans', verdana, arial, sans-serif; font-size: 12px; fill: rgb(36, 36, 36); fill-opacity: 1; white-space: pre;\">0.1</text></g></g><g class=\"overaxes-above\"/></g><g class=\"subplot x2y2\"><g class=\"layer-subplot\"><g class=\"shapelayer\"/><g class=\"imagelayer\"/></g><g class=\"gridlayer\"><g class=\"x2\"/><g class=\"y2\"/></g><g class=\"zerolinelayer\"/><path class=\"xlines-below\"/><path class=\"ylines-below\"/><g class=\"overlines-below\"/><g class=\"xaxislayer-below\"/><g class=\"yaxislayer-below\"/><g class=\"overaxes-below\"/><g class=\"plot\" transform=\"translate(80, 468.575)\" clip-path=\"url('#clip4b7628x2y2plot')\"><g class=\"barlayer mlayer\"><g class=\"trace bars\" style=\"opacity: 0.6;\"><g class=\"points\"><g class=\"point\"><path d=\"M3,272.43V257.65H26.97V272.43Z\" style=\"vector-effect: non-scaling-stroke; opacity: 1; stroke-width: 2px; fill: rgb(252, 136, 141); fill-opacity: 1; stroke: rgb(107, 2, 6); stroke-opacity: 1;\"/></g><g class=\"point\"><path d=\"M32.97,272.43V74.92H56.94V272.43Z\" style=\"vector-effect: non-scaling-stroke; opacity: 1; stroke-width: 2px; fill: rgb(252, 136, 141); fill-opacity: 1; stroke: rgb(107, 2, 6); stroke-opacity: 1;\"/></g><g class=\"point\"><path d=\"M62.93,272.43V129.29H86.91V272.43Z\" style=\"vector-effect: non-scaling-stroke; opacity: 1; stroke-width: 2px; fill: rgb(252, 136, 141); fill-opacity: 1; stroke: rgb(107, 2, 6); stroke-opacity: 1;\"/></g><g class=\"point\"><path d=\"M92.9,272.43V239.52H116.88V272.43Z\" style=\"vector-effect: non-scaling-stroke; opacity: 1; stroke-width: 2px; fill: rgb(252, 136, 141); fill-opacity: 1; stroke: rgb(107, 2, 6); stroke-opacity: 1;\"/></g><g class=\"point\"><path d=\"M122.87,272.43V244.08H146.85V272.43Z\" style=\"vector-effect: non-scaling-stroke; opacity: 1; stroke-width: 2px; fill: rgb(252, 136, 141); fill-opacity: 1; stroke: rgb(107, 2, 6); stroke-opacity: 1;\"/></g><g class=\"point\"><path d=\"M152.84,272.43V254.62H176.82V272.43Z\" style=\"vector-effect: non-scaling-stroke; opacity: 1; stroke-width: 2px; fill: rgb(252, 136, 141); fill-opacity: 1; stroke: rgb(107, 2, 6); stroke-opacity: 1;\"/></g><g class=\"point\"><path d=\"M182.81,272.43V269.77H206.78V272.43Z\" style=\"vector-effect: non-scaling-stroke; opacity: 1; stroke-width: 2px; fill: rgb(252, 136, 141); fill-opacity: 1; stroke: rgb(107, 2, 6); stroke-opacity: 1;\"/></g><g class=\"point\"><path d=\"M212.78,272.43V159.06H236.75V272.43Z\" style=\"vector-effect: non-scaling-stroke; opacity: 1; stroke-width: 2px; fill: rgb(252, 136, 141); fill-opacity: 1; stroke: rgb(107, 2, 6); stroke-opacity: 1;\"/></g><g class=\"point\"><path d=\"M242.75,272.43V46.67H266.72V272.43Z\" style=\"vector-effect: non-scaling-stroke; opacity: 1; stroke-width: 2px; fill: rgb(252, 136, 141); fill-opacity: 1; stroke: rgb(107, 2, 6); stroke-opacity: 1;\"/></g><g class=\"point\"><path d=\"M272.72,272.43V263.75H296.69V272.43Z\" style=\"vector-effect: non-scaling-stroke; opacity: 1; stroke-width: 2px; fill: rgb(252, 136, 141); fill-opacity: 1; stroke: rgb(107, 2, 6); stroke-opacity: 1;\"/></g><g class=\"point\"><path d=\"M302.68,272.43V69.03H326.66V272.43Z\" style=\"vector-effect: non-scaling-stroke; opacity: 1; stroke-width: 2px; fill: rgb(252, 136, 141); fill-opacity: 1; stroke: rgb(107, 2, 6); stroke-opacity: 1;\"/></g><g class=\"point\"><path d=\"M332.65,272.43V119.83H356.63V272.43Z\" style=\"vector-effect: non-scaling-stroke; opacity: 1; stroke-width: 2px; fill: rgb(252, 136, 141); fill-opacity: 1; stroke: rgb(107, 2, 6); stroke-opacity: 1;\"/></g><g class=\"point\"><path d=\"M362.62,272.43V218.11H386.6V272.43Z\" style=\"vector-effect: non-scaling-stroke; opacity: 1; stroke-width: 2px; fill: rgb(252, 136, 141); fill-opacity: 1; stroke: rgb(107, 2, 6); stroke-opacity: 1;\"/></g><g class=\"point\"><path d=\"M392.59,272.43V13.68H416.57V272.43Z\" style=\"vector-effect: non-scaling-stroke; opacity: 1; stroke-width: 2px; fill: rgb(252, 136, 141); fill-opacity: 1; stroke: rgb(107, 2, 6); stroke-opacity: 1;\"/></g><g class=\"point\"><path d=\"M422.56,272.43V84.72H446.53V272.43Z\" style=\"vector-effect: non-scaling-stroke; opacity: 1; stroke-width: 2px; fill: rgb(252, 136, 141); fill-opacity: 1; stroke: rgb(107, 2, 6); stroke-opacity: 1;\"/></g><g class=\"point\"><path d=\"M452.53,272.43V97.14H476.5V272.43Z\" style=\"vector-effect: non-scaling-stroke; opacity: 1; stroke-width: 2px; fill: rgb(252, 136, 141); fill-opacity: 1; stroke: rgb(107, 2, 6); stroke-opacity: 1;\"/></g><g class=\"point\"><path d=\"M482.5,272.43V212.23H506.47V272.43Z\" style=\"vector-effect: non-scaling-stroke; opacity: 1; stroke-width: 2px; fill: rgb(252, 136, 141); fill-opacity: 1; stroke: rgb(107, 2, 6); stroke-opacity: 1;\"/></g><g class=\"point\"><path d=\"M512.47,272.43V213.52H536.44V272.43Z\" style=\"vector-effect: non-scaling-stroke; opacity: 1; stroke-width: 2px; fill: rgb(252, 136, 141); fill-opacity: 1; stroke: rgb(107, 2, 6); stroke-opacity: 1;\"/></g><g class=\"point\"><path d=\"M542.43,272.43V269.96H566.41V272.43Z\" style=\"vector-effect: non-scaling-stroke; opacity: 1; stroke-width: 2px; fill: rgb(252, 136, 141); fill-opacity: 1; stroke: rgb(107, 2, 6); stroke-opacity: 1;\"/></g><g class=\"point\"><path d=\"M572.4,272.43V270.63H596.38V272.43Z\" style=\"vector-effect: non-scaling-stroke; opacity: 1; stroke-width: 2px; fill: rgb(252, 136, 141); fill-opacity: 1; stroke: rgb(107, 2, 6); stroke-opacity: 1;\"/></g><g class=\"point\"><path d=\"M602.37,272.43V268.62H626.35V272.43Z\" style=\"vector-effect: non-scaling-stroke; opacity: 1; stroke-width: 2px; fill: rgb(252, 136, 141); fill-opacity: 1; stroke: rgb(107, 2, 6); stroke-opacity: 1;\"/></g><g class=\"point\"><path d=\"M632.34,272.43V271.05H656.32V272.43Z\" style=\"vector-effect: non-scaling-stroke; opacity: 1; stroke-width: 2px; fill: rgb(252, 136, 141); fill-opacity: 1; stroke: rgb(107, 2, 6); stroke-opacity: 1;\"/></g><g class=\"point\"><path d=\"M662.31,272.43V44.91H686.28V272.43Z\" style=\"vector-effect: non-scaling-stroke; opacity: 1; stroke-width: 2px; fill: rgb(252, 136, 141); fill-opacity: 1; stroke: rgb(107, 2, 6); stroke-opacity: 1;\"/></g><g class=\"point\"><path d=\"M692.28,272.43V13.62H716.25V272.43Z\" style=\"vector-effect: non-scaling-stroke; opacity: 1; stroke-width: 2px; fill: rgb(252, 136, 141); fill-opacity: 1; stroke: rgb(107, 2, 6); stroke-opacity: 1;\"/></g><g class=\"point\"><path d=\"M722.25,272.43V267.51H746.22V272.43Z\" style=\"vector-effect: non-scaling-stroke; opacity: 1; stroke-width: 2px; fill: rgb(252, 136, 141); fill-opacity: 1; stroke: rgb(107, 2, 6); stroke-opacity: 1;\"/></g><g class=\"point\"><path d=\"M752.22,272.43V255.57H776.19V272.43Z\" style=\"vector-effect: non-scaling-stroke; opacity: 1; stroke-width: 2px; fill: rgb(252, 136, 141); fill-opacity: 1; stroke: rgb(107, 2, 6); stroke-opacity: 1;\"/></g><g class=\"point\"><path d=\"M782.18,272.43V262.51H806.16V272.43Z\" style=\"vector-effect: non-scaling-stroke; opacity: 1; stroke-width: 2px; fill: rgb(252, 136, 141); fill-opacity: 1; stroke: rgb(107, 2, 6); stroke-opacity: 1;\"/></g><g class=\"point\"><path d=\"M812.15,272.43V52.09H836.13V272.43Z\" style=\"vector-effect: non-scaling-stroke; opacity: 1; stroke-width: 2px; fill: rgb(252, 136, 141); fill-opacity: 1; stroke: rgb(107, 2, 6); stroke-opacity: 1;\"/></g><g class=\"point\"><path d=\"M842.12,272.43V228.16H866.1V272.43Z\" style=\"vector-effect: non-scaling-stroke; opacity: 1; stroke-width: 2px; fill: rgb(252, 136, 141); fill-opacity: 1; stroke: rgb(107, 2, 6); stroke-opacity: 1;\"/></g><g class=\"point\"><path d=\"M872.09,272.43V255.14H896.07V272.43Z\" style=\"vector-effect: non-scaling-stroke; opacity: 1; stroke-width: 2px; fill: rgb(252, 136, 141); fill-opacity: 1; stroke: rgb(107, 2, 6); stroke-opacity: 1;\"/></g><g class=\"point\"><path d=\"M902.06,272.43V166.6H926.03V272.43Z\" style=\"vector-effect: non-scaling-stroke; opacity: 1; stroke-width: 2px; fill: rgb(252, 136, 141); fill-opacity: 1; stroke: rgb(107, 2, 6); stroke-opacity: 1;\"/></g><g class=\"point\"><path d=\"M932.03,272.43V62.59H956V272.43Z\" style=\"vector-effect: non-scaling-stroke; opacity: 1; stroke-width: 2px; fill: rgb(252, 136, 141); fill-opacity: 1; stroke: rgb(107, 2, 6); stroke-opacity: 1;\"/></g></g></g></g></g><g class=\"overplot\"/><path class=\"xlines-above crisp\" d=\"M79,741.5H1039\" style=\"fill: none; stroke-width: 1px; stroke: rgb(36, 36, 36); stroke-opacity: 1;\"/><path class=\"ylines-above crisp\" d=\"M79.5,468.575V741\" style=\"fill: none; stroke-width: 1px; stroke: rgb(36, 36, 36); stroke-opacity: 1;\"/><g class=\"overlines-above\"/><g class=\"xaxislayer-above\"><path class=\"x2tick ticks crisp\" d=\"M0,742v5\" transform=\"translate(94.98,0)\" style=\"stroke: rgb(68, 68, 68); stroke-opacity: 1; stroke-width: 1px;\"/><path class=\"x2tick ticks crisp\" d=\"M0,742v5\" transform=\"translate(124.95,0)\" style=\"stroke: rgb(68, 68, 68); stroke-opacity: 1; stroke-width: 1px;\"/><path class=\"x2tick ticks crisp\" d=\"M0,742v5\" transform=\"translate(154.92000000000002,0)\" style=\"stroke: rgb(68, 68, 68); stroke-opacity: 1; stroke-width: 1px;\"/><path class=\"x2tick ticks crisp\" d=\"M0,742v5\" transform=\"translate(184.89,0)\" style=\"stroke: rgb(68, 68, 68); stroke-opacity: 1; stroke-width: 1px;\"/><path class=\"x2tick ticks crisp\" d=\"M0,742v5\" transform=\"translate(214.86,0)\" style=\"stroke: rgb(68, 68, 68); stroke-opacity: 1; stroke-width: 1px;\"/><path class=\"x2tick ticks crisp\" d=\"M0,742v5\" transform=\"translate(244.83,0)\" style=\"stroke: rgb(68, 68, 68); stroke-opacity: 1; stroke-width: 1px;\"/><path class=\"x2tick ticks crisp\" d=\"M0,742v5\" transform=\"translate(274.8,0)\" style=\"stroke: rgb(68, 68, 68); stroke-opacity: 1; stroke-width: 1px;\"/><path class=\"x2tick ticks crisp\" d=\"M0,742v5\" transform=\"translate(304.77,0)\" style=\"stroke: rgb(68, 68, 68); stroke-opacity: 1; stroke-width: 1px;\"/><path class=\"x2tick ticks crisp\" d=\"M0,742v5\" transform=\"translate(334.73,0)\" style=\"stroke: rgb(68, 68, 68); stroke-opacity: 1; stroke-width: 1px;\"/><path class=\"x2tick ticks crisp\" d=\"M0,742v5\" transform=\"translate(364.7,0)\" style=\"stroke: rgb(68, 68, 68); stroke-opacity: 1; stroke-width: 1px;\"/><path class=\"x2tick ticks crisp\" d=\"M0,742v5\" transform=\"translate(394.67,0)\" style=\"stroke: rgb(68, 68, 68); stroke-opacity: 1; stroke-width: 1px;\"/><path class=\"x2tick ticks crisp\" d=\"M0,742v5\" transform=\"translate(424.64,0)\" style=\"stroke: rgb(68, 68, 68); stroke-opacity: 1; stroke-width: 1px;\"/><path class=\"x2tick ticks crisp\" d=\"M0,742v5\" transform=\"translate(454.61,0)\" style=\"stroke: rgb(68, 68, 68); stroke-opacity: 1; stroke-width: 1px;\"/><path class=\"x2tick ticks crisp\" d=\"M0,742v5\" transform=\"translate(484.58,0)\" style=\"stroke: rgb(68, 68, 68); stroke-opacity: 1; stroke-width: 1px;\"/><path class=\"x2tick ticks crisp\" d=\"M0,742v5\" transform=\"translate(514.55,0)\" style=\"stroke: rgb(68, 68, 68); stroke-opacity: 1; stroke-width: 1px;\"/><path class=\"x2tick ticks crisp\" d=\"M0,742v5\" transform=\"translate(544.52,0)\" style=\"stroke: rgb(68, 68, 68); stroke-opacity: 1; stroke-width: 1px;\"/><path class=\"x2tick ticks crisp\" d=\"M0,742v5\" transform=\"translate(574.48,0)\" style=\"stroke: rgb(68, 68, 68); stroke-opacity: 1; stroke-width: 1px;\"/><path class=\"x2tick ticks crisp\" d=\"M0,742v5\" transform=\"translate(604.45,0)\" style=\"stroke: rgb(68, 68, 68); stroke-opacity: 1; stroke-width: 1px;\"/><path class=\"x2tick ticks crisp\" d=\"M0,742v5\" transform=\"translate(634.42,0)\" style=\"stroke: rgb(68, 68, 68); stroke-opacity: 1; stroke-width: 1px;\"/><path class=\"x2tick ticks crisp\" d=\"M0,742v5\" transform=\"translate(664.39,0)\" style=\"stroke: rgb(68, 68, 68); stroke-opacity: 1; stroke-width: 1px;\"/><path class=\"x2tick ticks crisp\" d=\"M0,742v5\" transform=\"translate(694.36,0)\" style=\"stroke: rgb(68, 68, 68); stroke-opacity: 1; stroke-width: 1px;\"/><path class=\"x2tick ticks crisp\" d=\"M0,742v5\" transform=\"translate(724.33,0)\" style=\"stroke: rgb(68, 68, 68); stroke-opacity: 1; stroke-width: 1px;\"/><path class=\"x2tick ticks crisp\" d=\"M0,742v5\" transform=\"translate(754.3,0)\" style=\"stroke: rgb(68, 68, 68); stroke-opacity: 1; stroke-width: 1px;\"/><path class=\"x2tick ticks crisp\" d=\"M0,742v5\" transform=\"translate(784.27,0)\" style=\"stroke: rgb(68, 68, 68); stroke-opacity: 1; stroke-width: 1px;\"/><path class=\"x2tick ticks crisp\" d=\"M0,742v5\" transform=\"translate(814.23,0)\" style=\"stroke: rgb(68, 68, 68); stroke-opacity: 1; stroke-width: 1px;\"/><path class=\"x2tick ticks crisp\" d=\"M0,742v5\" transform=\"translate(844.2,0)\" style=\"stroke: rgb(68, 68, 68); stroke-opacity: 1; stroke-width: 1px;\"/><path class=\"x2tick ticks crisp\" d=\"M0,742v5\" transform=\"translate(874.17,0)\" style=\"stroke: rgb(68, 68, 68); stroke-opacity: 1; stroke-width: 1px;\"/><path class=\"x2tick ticks crisp\" d=\"M0,742v5\" transform=\"translate(904.14,0)\" style=\"stroke: rgb(68, 68, 68); stroke-opacity: 1; stroke-width: 1px;\"/><path class=\"x2tick ticks crisp\" d=\"M0,742v5\" transform=\"translate(934.11,0)\" style=\"stroke: rgb(68, 68, 68); stroke-opacity: 1; stroke-width: 1px;\"/><path class=\"x2tick ticks crisp\" d=\"M0,742v5\" transform=\"translate(964.08,0)\" style=\"stroke: rgb(68, 68, 68); stroke-opacity: 1; stroke-width: 1px;\"/><path class=\"x2tick ticks crisp\" d=\"M0,742v5\" transform=\"translate(994.05,0)\" style=\"stroke: rgb(68, 68, 68); stroke-opacity: 1; stroke-width: 1px;\"/><path class=\"x2tick ticks crisp\" d=\"M0,742v5\" transform=\"translate(1024.02,0)\" style=\"stroke: rgb(68, 68, 68); stroke-opacity: 1; stroke-width: 1px;\"/><g class=\"x2tick\"><text text-anchor=\"start\" x=\"0\" y=\"761.4\" transform=\"translate(94.98,0) rotate(90,0,755.4)\" style=\"font-family: 'Open Sans', verdana, arial, sans-serif; font-size: 12px; fill: rgb(36, 36, 36); fill-opacity: 1; white-space: pre;\">aon</text></g><g class=\"x2tick\"><text text-anchor=\"start\" x=\"0\" y=\"761.4\" transform=\"translate(124.95,0) rotate(90,0,755.4)\" style=\"font-family: 'Open Sans', verdana, arial, sans-serif; font-size: 12px; fill: rgb(36, 36, 36); fill-opacity: 1; white-space: pre;\">daily_decr30</text></g><g class=\"x2tick\"><text text-anchor=\"start\" x=\"0\" y=\"761.4\" transform=\"translate(154.92000000000002,0) rotate(90,0,755.4)\" style=\"font-family: 'Open Sans', verdana, arial, sans-serif; font-size: 12px; fill: rgb(36, 36, 36); fill-opacity: 1; white-space: pre;\">daily_decr90</text></g><g class=\"x2tick\"><text text-anchor=\"start\" x=\"0\" y=\"761.4\" transform=\"translate(184.89,0) rotate(90,0,755.4)\" style=\"font-family: 'Open Sans', verdana, arial, sans-serif; font-size: 12px; fill: rgb(36, 36, 36); fill-opacity: 1; white-space: pre;\">rental30</text></g><g class=\"x2tick\"><text text-anchor=\"start\" x=\"0\" y=\"761.4\" transform=\"translate(214.86,0) rotate(90,0,755.4)\" style=\"font-family: 'Open Sans', verdana, arial, sans-serif; font-size: 12px; fill: rgb(36, 36, 36); fill-opacity: 1; white-space: pre;\">rental90</text></g><g class=\"x2tick\"><text text-anchor=\"start\" x=\"0\" y=\"761.4\" transform=\"translate(244.83,0) rotate(90,0,755.4)\" style=\"font-family: 'Open Sans', verdana, arial, sans-serif; font-size: 12px; fill: rgb(36, 36, 36); fill-opacity: 1; white-space: pre;\">last_rech_date_ma</text></g><g class=\"x2tick\"><text text-anchor=\"start\" x=\"0\" y=\"761.4\" transform=\"translate(274.8,0) rotate(90,0,755.4)\" style=\"font-family: 'Open Sans', verdana, arial, sans-serif; font-size: 12px; fill: rgb(36, 36, 36); fill-opacity: 1; white-space: pre;\">last_rech_date_da</text></g><g class=\"x2tick\"><text text-anchor=\"start\" x=\"0\" y=\"761.4\" transform=\"translate(304.77,0) rotate(90,0,755.4)\" style=\"font-family: 'Open Sans', verdana, arial, sans-serif; font-size: 12px; fill: rgb(36, 36, 36); fill-opacity: 1; white-space: pre;\">last_rech_amt_ma</text></g><g class=\"x2tick\"><text text-anchor=\"start\" x=\"0\" y=\"761.4\" transform=\"translate(334.73,0) rotate(90,0,755.4)\" style=\"font-family: 'Open Sans', verdana, arial, sans-serif; font-size: 12px; fill: rgb(36, 36, 36); fill-opacity: 1; white-space: pre;\">cnt_ma_rech30</text></g><g class=\"x2tick\"><text text-anchor=\"start\" x=\"0\" y=\"761.4\" transform=\"translate(364.7,0) rotate(90,0,755.4)\" style=\"font-family: 'Open Sans', verdana, arial, sans-serif; font-size: 12px; fill: rgb(36, 36, 36); fill-opacity: 1; white-space: pre;\">fr_ma_rech30</text></g><g class=\"x2tick\"><text text-anchor=\"start\" x=\"0\" y=\"761.4\" transform=\"translate(394.67,0) rotate(90,0,755.4)\" style=\"font-family: 'Open Sans', verdana, arial, sans-serif; font-size: 12px; fill: rgb(36, 36, 36); fill-opacity: 1; white-space: pre;\">sumamnt_ma_rech30</text></g><g class=\"x2tick\"><text text-anchor=\"start\" x=\"0\" y=\"761.4\" transform=\"translate(424.64,0) rotate(90,0,755.4)\" style=\"font-family: 'Open Sans', verdana, arial, sans-serif; font-size: 12px; fill: rgb(36, 36, 36); fill-opacity: 1; white-space: pre;\">medianamnt_ma_rech30</text></g><g class=\"x2tick\"><text text-anchor=\"start\" x=\"0\" y=\"761.4\" transform=\"translate(454.61,0) rotate(90,0,755.4)\" style=\"font-family: 'Open Sans', verdana, arial, sans-serif; font-size: 12px; fill: rgb(36, 36, 36); fill-opacity: 1; white-space: pre;\">medianmarechprebal30</text></g><g class=\"x2tick\"><text text-anchor=\"start\" x=\"0\" y=\"761.4\" transform=\"translate(484.58,0) rotate(90,0,755.4)\" style=\"font-family: 'Open Sans', verdana, arial, sans-serif; font-size: 12px; fill: rgb(36, 36, 36); fill-opacity: 1; white-space: pre;\">cnt_ma_rech90</text></g><g class=\"x2tick\"><text text-anchor=\"start\" x=\"0\" y=\"761.4\" transform=\"translate(514.55,0) rotate(90,0,755.4)\" style=\"font-family: 'Open Sans', verdana, arial, sans-serif; font-size: 12px; fill: rgb(36, 36, 36); fill-opacity: 1; white-space: pre;\">fr_ma_rech90</text></g><g class=\"x2tick\"><text text-anchor=\"start\" x=\"0\" y=\"761.4\" transform=\"translate(544.52,0) rotate(90,0,755.4)\" style=\"font-family: 'Open Sans', verdana, arial, sans-serif; font-size: 12px; fill: rgb(36, 36, 36); fill-opacity: 1; white-space: pre;\">sumamnt_ma_rech90</text></g><g class=\"x2tick\"><text text-anchor=\"start\" x=\"0\" y=\"761.4\" transform=\"translate(574.48,0) rotate(90,0,755.4)\" style=\"font-family: 'Open Sans', verdana, arial, sans-serif; font-size: 12px; fill: rgb(36, 36, 36); fill-opacity: 1; white-space: pre;\">medianamnt_ma_rech90</text></g><g class=\"x2tick\"><text text-anchor=\"start\" x=\"0\" y=\"761.4\" transform=\"translate(604.45,0) rotate(90,0,755.4)\" style=\"font-family: 'Open Sans', verdana, arial, sans-serif; font-size: 12px; fill: rgb(36, 36, 36); fill-opacity: 1; white-space: pre;\">medianmarechprebal90</text></g><g class=\"x2tick\"><text text-anchor=\"start\" x=\"0\" y=\"761.4\" transform=\"translate(634.42,0) rotate(90,0,755.4)\" style=\"font-family: 'Open Sans', verdana, arial, sans-serif; font-size: 12px; fill: rgb(36, 36, 36); fill-opacity: 1; white-space: pre;\">cnt_da_rech30</text></g><g class=\"x2tick\"><text text-anchor=\"start\" x=\"0\" y=\"761.4\" transform=\"translate(664.39,0) rotate(90,0,755.4)\" style=\"font-family: 'Open Sans', verdana, arial, sans-serif; font-size: 12px; fill: rgb(36, 36, 36); fill-opacity: 1; white-space: pre;\">fr_da_rech30</text></g><g class=\"x2tick\"><text text-anchor=\"start\" x=\"0\" y=\"761.4\" transform=\"translate(694.36,0) rotate(90,0,755.4)\" style=\"font-family: 'Open Sans', verdana, arial, sans-serif; font-size: 12px; fill: rgb(36, 36, 36); fill-opacity: 1; white-space: pre;\">cnt_da_rech90</text></g><g class=\"x2tick\"><text text-anchor=\"start\" x=\"0\" y=\"761.4\" transform=\"translate(724.33,0) rotate(90,0,755.4)\" style=\"font-family: 'Open Sans', verdana, arial, sans-serif; font-size: 12px; fill: rgb(36, 36, 36); fill-opacity: 1; white-space: pre;\">fr_da_rech90</text></g><g class=\"x2tick\"><text text-anchor=\"start\" x=\"0\" y=\"761.4\" transform=\"translate(754.3,0) rotate(90,0,755.4)\" style=\"font-family: 'Open Sans', verdana, arial, sans-serif; font-size: 12px; fill: rgb(36, 36, 36); fill-opacity: 1; white-space: pre;\">cnt_loans30</text></g><g class=\"x2tick\"><text text-anchor=\"start\" x=\"0\" y=\"761.4\" transform=\"translate(784.27,0) rotate(90,0,755.4)\" style=\"font-family: 'Open Sans', verdana, arial, sans-serif; font-size: 12px; fill: rgb(36, 36, 36); fill-opacity: 1; white-space: pre;\">amnt_loans30</text></g><g class=\"x2tick\"><text text-anchor=\"start\" x=\"0\" y=\"761.4\" transform=\"translate(814.23,0) rotate(90,0,755.4)\" style=\"font-family: 'Open Sans', verdana, arial, sans-serif; font-size: 12px; fill: rgb(36, 36, 36); fill-opacity: 1; white-space: pre;\">maxamnt_loans30</text></g><g class=\"x2tick\"><text text-anchor=\"start\" x=\"0\" y=\"761.4\" transform=\"translate(844.2,0) rotate(90,0,755.4)\" style=\"font-family: 'Open Sans', verdana, arial, sans-serif; font-size: 12px; fill: rgb(36, 36, 36); fill-opacity: 1; white-space: pre;\">medianamnt_loans30</text></g><g class=\"x2tick\"><text text-anchor=\"start\" x=\"0\" y=\"761.4\" transform=\"translate(874.17,0) rotate(90,0,755.4)\" style=\"font-family: 'Open Sans', verdana, arial, sans-serif; font-size: 12px; fill: rgb(36, 36, 36); fill-opacity: 1; white-space: pre;\">cnt_loans90</text></g><g class=\"x2tick\"><text text-anchor=\"start\" x=\"0\" y=\"761.4\" transform=\"translate(904.14,0) rotate(90,0,755.4)\" style=\"font-family: 'Open Sans', verdana, arial, sans-serif; font-size: 12px; fill: rgb(36, 36, 36); fill-opacity: 1; white-space: pre;\">amnt_loans90</text></g><g class=\"x2tick\"><text text-anchor=\"start\" x=\"0\" y=\"761.4\" transform=\"translate(934.11,0) rotate(90,0,755.4)\" style=\"font-family: 'Open Sans', verdana, arial, sans-serif; font-size: 12px; fill: rgb(36, 36, 36); fill-opacity: 1; white-space: pre;\">maxamnt_loans90</text></g><g class=\"x2tick\"><text text-anchor=\"start\" x=\"0\" y=\"761.4\" transform=\"translate(964.08,0) rotate(90,0,755.4)\" style=\"font-family: 'Open Sans', verdana, arial, sans-serif; font-size: 12px; fill: rgb(36, 36, 36); fill-opacity: 1; white-space: pre;\">medianamnt_loans90</text></g><g class=\"x2tick\"><text text-anchor=\"start\" x=\"0\" y=\"761.4\" transform=\"translate(994.05,0) rotate(90,0,755.4)\" style=\"font-family: 'Open Sans', verdana, arial, sans-serif; font-size: 12px; fill: rgb(36, 36, 36); fill-opacity: 1; white-space: pre;\">payback30</text></g><g class=\"x2tick\"><text text-anchor=\"start\" x=\"0\" y=\"761.4\" transform=\"translate(1024.02,0) rotate(90,0,755.4)\" style=\"font-family: 'Open Sans', verdana, arial, sans-serif; font-size: 12px; fill: rgb(36, 36, 36); fill-opacity: 1; white-space: pre;\">payback90</text></g></g><g class=\"yaxislayer-above\"><path class=\"y2tick ticks crisp\" d=\"M79,0h-5\" transform=\"translate(0,741.005)\" style=\"stroke: rgb(68, 68, 68); stroke-opacity: 1; stroke-width: 1px;\"/><path class=\"y2tick ticks crisp\" d=\"M79,0h-5\" transform=\"translate(0,701.825)\" style=\"stroke: rgb(68, 68, 68); stroke-opacity: 1; stroke-width: 1px;\"/><path class=\"y2tick ticks crisp\" d=\"M79,0h-5\" transform=\"translate(0,662.645)\" style=\"stroke: rgb(68, 68, 68); stroke-opacity: 1; stroke-width: 1px;\"/><path class=\"y2tick ticks crisp\" d=\"M79,0h-5\" transform=\"translate(0,623.475)\" style=\"stroke: rgb(68, 68, 68); stroke-opacity: 1; stroke-width: 1px;\"/><path class=\"y2tick ticks crisp\" d=\"M79,0h-5\" transform=\"translate(0,584.295)\" style=\"stroke: rgb(68, 68, 68); stroke-opacity: 1; stroke-width: 1px;\"/><path class=\"y2tick ticks crisp\" d=\"M79,0h-5\" transform=\"translate(0,545.125)\" style=\"stroke: rgb(68, 68, 68); stroke-opacity: 1; stroke-width: 1px;\"/><path class=\"y2tick ticks crisp\" d=\"M79,0h-5\" transform=\"translate(0,505.945)\" style=\"stroke: rgb(68, 68, 68); stroke-opacity: 1; stroke-width: 1px;\"/><g class=\"y2tick\"><text text-anchor=\"end\" x=\"71.6\" y=\"4.199999999999999\" transform=\"translate(0,741.005)\" style=\"font-family: 'Open Sans', verdana, arial, sans-serif; font-size: 12px; fill: rgb(36, 36, 36); fill-opacity: 1; white-space: pre;\">0</text></g><g class=\"y2tick\"><text text-anchor=\"end\" x=\"71.6\" y=\"4.199999999999999\" transform=\"translate(0,701.825)\" style=\"font-family: 'Open Sans', verdana, arial, sans-serif; font-size: 12px; fill: rgb(36, 36, 36); fill-opacity: 1; white-space: pre;\">0.005</text></g><g class=\"y2tick\"><text text-anchor=\"end\" x=\"71.6\" y=\"4.199999999999999\" transform=\"translate(0,662.645)\" style=\"font-family: 'Open Sans', verdana, arial, sans-serif; font-size: 12px; fill: rgb(36, 36, 36); fill-opacity: 1; white-space: pre;\">0.01</text></g><g class=\"y2tick\"><text text-anchor=\"end\" x=\"71.6\" y=\"4.199999999999999\" transform=\"translate(0,623.475)\" style=\"font-family: 'Open Sans', verdana, arial, sans-serif; font-size: 12px; fill: rgb(36, 36, 36); fill-opacity: 1; white-space: pre;\">0.015</text></g><g class=\"y2tick\"><text text-anchor=\"end\" x=\"71.6\" y=\"4.199999999999999\" transform=\"translate(0,584.295)\" style=\"font-family: 'Open Sans', verdana, arial, sans-serif; font-size: 12px; fill: rgb(36, 36, 36); fill-opacity: 1; white-space: pre;\">0.02</text></g><g class=\"y2tick\"><text text-anchor=\"end\" x=\"71.6\" y=\"4.199999999999999\" transform=\"translate(0,545.125)\" style=\"font-family: 'Open Sans', verdana, arial, sans-serif; font-size: 12px; fill: rgb(36, 36, 36); fill-opacity: 1; white-space: pre;\">0.025</text></g><g class=\"y2tick\"><text text-anchor=\"end\" x=\"71.6\" y=\"4.199999999999999\" transform=\"translate(0,505.945)\" style=\"font-family: 'Open Sans', verdana, arial, sans-serif; font-size: 12px; fill: rgb(36, 36, 36); fill-opacity: 1; white-space: pre;\">0.03</text></g></g><g class=\"overaxes-above\"/></g></g><g class=\"polarlayer\"/><g class=\"ternarylayer\"/><g class=\"geolayer\"/><g class=\"funnelarealayer\"/><g class=\"pielayer\"/><g class=\"treemaplayer\"/><g class=\"sunburstlayer\"/><g class=\"glimages\"/><defs id=\"topdefs-4b7628\"><g class=\"clips\"/><clipPath id=\"legend4b7628\"><rect width=\"130\" height=\"48\" x=\"0\" y=\"0\"/></clipPath></defs><g class=\"layer-above\"><g class=\"imagelayer\"/><g class=\"shapelayer\"/></g><g class=\"infolayer\"><g class=\"legend\" pointer-events=\"all\" transform=\"translate(1058.18, 100)\"><rect class=\"bg\" shape-rendering=\"crispEdges\" width=\"130\" height=\"48\" x=\"0\" y=\"0\" style=\"stroke: rgb(68, 68, 68); stroke-opacity: 1; fill: rgb(255, 255, 255); fill-opacity: 1; stroke-width: 0px;\"/><g class=\"scrollbox\" transform=\"translate(0, 0)\" clip-path=\"url('#legend4b7628')\"><g class=\"groups\"><g class=\"traces\" transform=\"translate(0, 14.5)\" style=\"opacity: 1;\"><text class=\"legendtext user-select-none\" text-anchor=\"start\" x=\"40\" y=\"4.680000000000001\" style=\"font-family: 'Open Sans', verdana, arial, sans-serif; font-size: 12px; fill: rgb(36, 36, 36); fill-opacity: 1; white-space: pre;\">Non-normalized</text><g class=\"layers\" style=\"opacity: 0.6;\"><g class=\"legendfill\"/><g class=\"legendlines\"/><g class=\"legendsymbols\"><g class=\"legendpoints\"><path class=\"legendundefined\" d=\"M6,6H-6V-6H6Z\" transform=\"translate(20,0)\" style=\"stroke-width: 2px; fill: rgb(171, 241, 255); fill-opacity: 1; stroke: rgb(12, 0, 255); stroke-opacity: 1;\"/></g></g></g><rect class=\"legendtoggle\" pointer-events=\"all\" x=\"0\" y=\"-9.5\" width=\"124.703125\" height=\"19\" style=\"cursor: pointer; fill: rgb(0, 0, 0); fill-opacity: 0;\"/></g><g class=\"traces\" transform=\"translate(0, 33.5)\" style=\"opacity: 1;\"><text class=\"legendtext user-select-none\" text-anchor=\"start\" x=\"40\" y=\"4.680000000000001\" style=\"font-family: 'Open Sans', verdana, arial, sans-serif; font-size: 12px; fill: rgb(36, 36, 36); fill-opacity: 1; white-space: pre;\">Normalized</text><g class=\"layers\" style=\"opacity: 0.6;\"><g class=\"legendfill\"/><g class=\"legendlines\"/><g class=\"legendsymbols\"><g class=\"legendpoints\"><path class=\"legendundefined\" d=\"M6,6H-6V-6H6Z\" transform=\"translate(20,0)\" style=\"stroke-width: 2px; fill: rgb(252, 136, 141); fill-opacity: 1; stroke: rgb(107, 2, 6); stroke-opacity: 1;\"/></g></g></g><rect class=\"legendtoggle\" pointer-events=\"all\" x=\"0\" y=\"-9.5\" width=\"124.703125\" height=\"19\" style=\"cursor: pointer; fill: rgb(0, 0, 0); fill-opacity: 0;\"/></g></g></g><rect class=\"scrollbar\" rx=\"20\" ry=\"3\" width=\"0\" height=\"0\" x=\"0\" y=\"0\" style=\"fill: rgb(128, 139, 164); fill-opacity: 1;\"/></g><g class=\"g-gtitle\"><text class=\"gtitle\" x=\"60\" y=\"50\" text-anchor=\"start\" dy=\"0em\" style=\"font-family: 'Open Sans', verdana, arial, sans-serif; font-size: 17px; fill: rgb(36, 36, 36); opacity: 1; font-weight: normal; white-space: pre;\">Comparing different feature importance</text></g><g class=\"g-xtitle\"/><g class=\"g-x2title\"/><g class=\"g-ytitle\"/><g class=\"g-y2title\"/></g></svg>"
          },
          "metadata": {
            "tags": []
          }
        }
      ]
    },
    {
      "cell_type": "code",
      "metadata": {
        "id": "LszYmi0J82a8",
        "outputId": "1a529987-dd2b-4a5a-fe3a-abcc1fb82b50",
        "colab": {
          "base_uri": "https://localhost:8080/"
        }
      },
      "source": [
        "ETF_y_pred = ETF.predict(x_test)\n",
        "ETF_accuracy = accuracy_score(ETF_y_pred,y_test)\n",
        "ETF_recall = recall_score(ETF_y_pred,y_test)\n",
        "ETF_precision = precision_score(ETF_y_pred,y_test)\n",
        "print(classification_report(ETF_y_pred,y_test))\n",
        "print('Confusion Matrix:\\n',confusion_matrix(ETF_y_pred,y_test))"
      ],
      "execution_count": 32,
      "outputs": [
        {
          "output_type": "stream",
          "text": [
            "              precision    recall  f1-score   support\n",
            "\n",
            "           0       0.43      0.74      0.54      3033\n",
            "           1       0.98      0.92      0.95     38886\n",
            "\n",
            "    accuracy                           0.91     41919\n",
            "   macro avg       0.70      0.83      0.75     41919\n",
            "weighted avg       0.94      0.91      0.92     41919\n",
            "\n",
            "Confusion Matrix:\n",
            " [[ 2256   777]\n",
            " [ 3017 35869]]\n"
          ],
          "name": "stdout"
        }
      ]
    },
    {
      "cell_type": "markdown",
      "metadata": {
        "id": "BGh40OHddMDD"
      },
      "source": [
        "<h3>⭐Random Forest Classifier</h3>"
      ]
    },
    {
      "cell_type": "markdown",
      "metadata": {
        "id": "U39bZIhhmd-_"
      },
      "source": [
        "Bagging(ex. random forest):- handles overfitting, reduce variance, independent classifiers"
      ]
    },
    {
      "cell_type": "code",
      "metadata": {
        "id": "WTSs020gir5J"
      },
      "source": [
        "from sklearn.ensemble import RandomForestClassifier\n",
        "param_grid = {\n",
        "                'n_estimators':[10,25,50,100],\n",
        "                'criterion':['gini','entropy'],\n",
        "                'n_jobs':[-1], # -1 indicates the processing in parallel using all CPUs\n",
        "                'max_features':['auto','log2',None] #4 x 2 x 3 x 5(cv) = 120 fits\n",
        "}"
      ],
      "execution_count": 34,
      "outputs": []
    },
    {
      "cell_type": "code",
      "metadata": {
        "id": "eJTNoqJajas0",
        "outputId": "3e5c7ac6-7632-47cf-bdfe-6fca2a8b03ae",
        "colab": {
          "base_uri": "https://localhost:8080/"
        }
      },
      "source": [
        "RFC_grid = GridSearchCV(RandomForestClassifier(), param_grid, refit = True, verbose = 3)\n",
        "RFC_grid.fit(x_train, y_train) "
      ],
      "execution_count": 35,
      "outputs": [
        {
          "output_type": "stream",
          "text": [
            "Fitting 5 folds for each of 24 candidates, totalling 120 fits\n",
            "[CV] criterion=gini, max_features=auto, n_estimators=10, n_jobs=-1 ...\n"
          ],
          "name": "stdout"
        },
        {
          "output_type": "stream",
          "text": [
            "[Parallel(n_jobs=1)]: Using backend SequentialBackend with 1 concurrent workers.\n"
          ],
          "name": "stderr"
        },
        {
          "output_type": "stream",
          "text": [
            "[CV]  criterion=gini, max_features=auto, n_estimators=10, n_jobs=-1, score=0.905, total=   4.7s\n",
            "[CV] criterion=gini, max_features=auto, n_estimators=10, n_jobs=-1 ...\n"
          ],
          "name": "stdout"
        },
        {
          "output_type": "stream",
          "text": [
            "[Parallel(n_jobs=1)]: Done   1 out of   1 | elapsed:    4.7s remaining:    0.0s\n"
          ],
          "name": "stderr"
        },
        {
          "output_type": "stream",
          "text": [
            "[CV]  criterion=gini, max_features=auto, n_estimators=10, n_jobs=-1, score=0.905, total=   3.7s\n",
            "[CV] criterion=gini, max_features=auto, n_estimators=10, n_jobs=-1 ...\n"
          ],
          "name": "stdout"
        },
        {
          "output_type": "stream",
          "text": [
            "[Parallel(n_jobs=1)]: Done   2 out of   2 | elapsed:    8.3s remaining:    0.0s\n"
          ],
          "name": "stderr"
        },
        {
          "output_type": "stream",
          "text": [
            "[CV]  criterion=gini, max_features=auto, n_estimators=10, n_jobs=-1, score=0.907, total=   3.5s\n",
            "[CV] criterion=gini, max_features=auto, n_estimators=10, n_jobs=-1 ...\n",
            "[CV]  criterion=gini, max_features=auto, n_estimators=10, n_jobs=-1, score=0.906, total=   3.5s\n",
            "[CV] criterion=gini, max_features=auto, n_estimators=10, n_jobs=-1 ...\n",
            "[CV]  criterion=gini, max_features=auto, n_estimators=10, n_jobs=-1, score=0.908, total=   3.5s\n",
            "[CV] criterion=gini, max_features=auto, n_estimators=25, n_jobs=-1 ...\n",
            "[CV]  criterion=gini, max_features=auto, n_estimators=25, n_jobs=-1, score=0.911, total=   8.8s\n",
            "[CV] criterion=gini, max_features=auto, n_estimators=25, n_jobs=-1 ...\n",
            "[CV]  criterion=gini, max_features=auto, n_estimators=25, n_jobs=-1, score=0.910, total=   9.0s\n",
            "[CV] criterion=gini, max_features=auto, n_estimators=25, n_jobs=-1 ...\n",
            "[CV]  criterion=gini, max_features=auto, n_estimators=25, n_jobs=-1, score=0.912, total=   8.7s\n",
            "[CV] criterion=gini, max_features=auto, n_estimators=25, n_jobs=-1 ...\n",
            "[CV]  criterion=gini, max_features=auto, n_estimators=25, n_jobs=-1, score=0.911, total=   8.8s\n",
            "[CV] criterion=gini, max_features=auto, n_estimators=25, n_jobs=-1 ...\n",
            "[CV]  criterion=gini, max_features=auto, n_estimators=25, n_jobs=-1, score=0.914, total=   8.7s\n",
            "[CV] criterion=gini, max_features=auto, n_estimators=50, n_jobs=-1 ...\n",
            "[CV]  criterion=gini, max_features=auto, n_estimators=50, n_jobs=-1, score=0.912, total=  16.8s\n",
            "[CV] criterion=gini, max_features=auto, n_estimators=50, n_jobs=-1 ...\n",
            "[CV]  criterion=gini, max_features=auto, n_estimators=50, n_jobs=-1, score=0.913, total=  16.8s\n",
            "[CV] criterion=gini, max_features=auto, n_estimators=50, n_jobs=-1 ...\n",
            "[CV]  criterion=gini, max_features=auto, n_estimators=50, n_jobs=-1, score=0.912, total=  17.2s\n",
            "[CV] criterion=gini, max_features=auto, n_estimators=50, n_jobs=-1 ...\n",
            "[CV]  criterion=gini, max_features=auto, n_estimators=50, n_jobs=-1, score=0.912, total=  17.3s\n",
            "[CV] criterion=gini, max_features=auto, n_estimators=50, n_jobs=-1 ...\n",
            "[CV]  criterion=gini, max_features=auto, n_estimators=50, n_jobs=-1, score=0.915, total=  17.6s\n",
            "[CV] criterion=gini, max_features=auto, n_estimators=100, n_jobs=-1 ..\n",
            "[CV]  criterion=gini, max_features=auto, n_estimators=100, n_jobs=-1, score=0.911, total=  34.4s\n",
            "[CV] criterion=gini, max_features=auto, n_estimators=100, n_jobs=-1 ..\n",
            "[CV]  criterion=gini, max_features=auto, n_estimators=100, n_jobs=-1, score=0.912, total=  33.9s\n",
            "[CV] criterion=gini, max_features=auto, n_estimators=100, n_jobs=-1 ..\n",
            "[CV]  criterion=gini, max_features=auto, n_estimators=100, n_jobs=-1, score=0.913, total=  34.2s\n",
            "[CV] criterion=gini, max_features=auto, n_estimators=100, n_jobs=-1 ..\n",
            "[CV]  criterion=gini, max_features=auto, n_estimators=100, n_jobs=-1, score=0.912, total=  33.7s\n",
            "[CV] criterion=gini, max_features=auto, n_estimators=100, n_jobs=-1 ..\n",
            "[CV]  criterion=gini, max_features=auto, n_estimators=100, n_jobs=-1, score=0.915, total=  37.5s\n",
            "[CV] criterion=gini, max_features=log2, n_estimators=10, n_jobs=-1 ...\n",
            "[CV]  criterion=gini, max_features=log2, n_estimators=10, n_jobs=-1, score=0.905, total=   3.6s\n",
            "[CV] criterion=gini, max_features=log2, n_estimators=10, n_jobs=-1 ...\n",
            "[CV]  criterion=gini, max_features=log2, n_estimators=10, n_jobs=-1, score=0.906, total=   3.7s\n",
            "[CV] criterion=gini, max_features=log2, n_estimators=10, n_jobs=-1 ...\n",
            "[CV]  criterion=gini, max_features=log2, n_estimators=10, n_jobs=-1, score=0.906, total=   3.6s\n",
            "[CV] criterion=gini, max_features=log2, n_estimators=10, n_jobs=-1 ...\n",
            "[CV]  criterion=gini, max_features=log2, n_estimators=10, n_jobs=-1, score=0.905, total=   3.6s\n",
            "[CV] criterion=gini, max_features=log2, n_estimators=10, n_jobs=-1 ...\n",
            "[CV]  criterion=gini, max_features=log2, n_estimators=10, n_jobs=-1, score=0.907, total=   3.7s\n",
            "[CV] criterion=gini, max_features=log2, n_estimators=25, n_jobs=-1 ...\n",
            "[CV]  criterion=gini, max_features=log2, n_estimators=25, n_jobs=-1, score=0.911, total=   8.7s\n",
            "[CV] criterion=gini, max_features=log2, n_estimators=25, n_jobs=-1 ...\n",
            "[CV]  criterion=gini, max_features=log2, n_estimators=25, n_jobs=-1, score=0.911, total=   8.9s\n",
            "[CV] criterion=gini, max_features=log2, n_estimators=25, n_jobs=-1 ...\n",
            "[CV]  criterion=gini, max_features=log2, n_estimators=25, n_jobs=-1, score=0.911, total=   8.8s\n",
            "[CV] criterion=gini, max_features=log2, n_estimators=25, n_jobs=-1 ...\n",
            "[CV]  criterion=gini, max_features=log2, n_estimators=25, n_jobs=-1, score=0.913, total=   8.7s\n",
            "[CV] criterion=gini, max_features=log2, n_estimators=25, n_jobs=-1 ...\n",
            "[CV]  criterion=gini, max_features=log2, n_estimators=25, n_jobs=-1, score=0.913, total=   8.7s\n",
            "[CV] criterion=gini, max_features=log2, n_estimators=50, n_jobs=-1 ...\n",
            "[CV]  criterion=gini, max_features=log2, n_estimators=50, n_jobs=-1, score=0.911, total=  16.9s\n",
            "[CV] criterion=gini, max_features=log2, n_estimators=50, n_jobs=-1 ...\n",
            "[CV]  criterion=gini, max_features=log2, n_estimators=50, n_jobs=-1, score=0.912, total=  17.2s\n",
            "[CV] criterion=gini, max_features=log2, n_estimators=50, n_jobs=-1 ...\n",
            "[CV]  criterion=gini, max_features=log2, n_estimators=50, n_jobs=-1, score=0.912, total=  17.6s\n",
            "[CV] criterion=gini, max_features=log2, n_estimators=50, n_jobs=-1 ...\n",
            "[CV]  criterion=gini, max_features=log2, n_estimators=50, n_jobs=-1, score=0.913, total=  17.3s\n",
            "[CV] criterion=gini, max_features=log2, n_estimators=50, n_jobs=-1 ...\n",
            "[CV]  criterion=gini, max_features=log2, n_estimators=50, n_jobs=-1, score=0.914, total=  17.5s\n",
            "[CV] criterion=gini, max_features=log2, n_estimators=100, n_jobs=-1 ..\n",
            "[CV]  criterion=gini, max_features=log2, n_estimators=100, n_jobs=-1, score=0.912, total=  34.3s\n",
            "[CV] criterion=gini, max_features=log2, n_estimators=100, n_jobs=-1 ..\n",
            "[CV]  criterion=gini, max_features=log2, n_estimators=100, n_jobs=-1, score=0.912, total=  34.4s\n",
            "[CV] criterion=gini, max_features=log2, n_estimators=100, n_jobs=-1 ..\n",
            "[CV]  criterion=gini, max_features=log2, n_estimators=100, n_jobs=-1, score=0.912, total=  33.8s\n",
            "[CV] criterion=gini, max_features=log2, n_estimators=100, n_jobs=-1 ..\n",
            "[CV]  criterion=gini, max_features=log2, n_estimators=100, n_jobs=-1, score=0.913, total=  33.7s\n",
            "[CV] criterion=gini, max_features=log2, n_estimators=100, n_jobs=-1 ..\n",
            "[CV]  criterion=gini, max_features=log2, n_estimators=100, n_jobs=-1, score=0.915, total=  34.5s\n",
            "[CV] criterion=gini, max_features=None, n_estimators=10, n_jobs=-1 ...\n",
            "[CV]  criterion=gini, max_features=None, n_estimators=10, n_jobs=-1, score=0.904, total=  20.2s\n",
            "[CV] criterion=gini, max_features=None, n_estimators=10, n_jobs=-1 ...\n",
            "[CV]  criterion=gini, max_features=None, n_estimators=10, n_jobs=-1, score=0.903, total=  20.3s\n",
            "[CV] criterion=gini, max_features=None, n_estimators=10, n_jobs=-1 ...\n",
            "[CV]  criterion=gini, max_features=None, n_estimators=10, n_jobs=-1, score=0.906, total=  20.2s\n",
            "[CV] criterion=gini, max_features=None, n_estimators=10, n_jobs=-1 ...\n",
            "[CV]  criterion=gini, max_features=None, n_estimators=10, n_jobs=-1, score=0.905, total=  20.0s\n",
            "[CV] criterion=gini, max_features=None, n_estimators=10, n_jobs=-1 ...\n",
            "[CV]  criterion=gini, max_features=None, n_estimators=10, n_jobs=-1, score=0.905, total=  20.4s\n",
            "[CV] criterion=gini, max_features=None, n_estimators=25, n_jobs=-1 ...\n",
            "[CV]  criterion=gini, max_features=None, n_estimators=25, n_jobs=-1, score=0.910, total=  50.9s\n",
            "[CV] criterion=gini, max_features=None, n_estimators=25, n_jobs=-1 ...\n",
            "[CV]  criterion=gini, max_features=None, n_estimators=25, n_jobs=-1, score=0.909, total=  50.9s\n",
            "[CV] criterion=gini, max_features=None, n_estimators=25, n_jobs=-1 ...\n",
            "[CV]  criterion=gini, max_features=None, n_estimators=25, n_jobs=-1, score=0.912, total=  50.7s\n",
            "[CV] criterion=gini, max_features=None, n_estimators=25, n_jobs=-1 ...\n",
            "[CV]  criterion=gini, max_features=None, n_estimators=25, n_jobs=-1, score=0.910, total=  54.0s\n",
            "[CV] criterion=gini, max_features=None, n_estimators=25, n_jobs=-1 ...\n",
            "[CV]  criterion=gini, max_features=None, n_estimators=25, n_jobs=-1, score=0.912, total=  50.5s\n",
            "[CV] criterion=gini, max_features=None, n_estimators=50, n_jobs=-1 ...\n",
            "[CV]  criterion=gini, max_features=None, n_estimators=50, n_jobs=-1, score=0.911, total= 1.7min\n",
            "[CV] criterion=gini, max_features=None, n_estimators=50, n_jobs=-1 ...\n",
            "[CV]  criterion=gini, max_features=None, n_estimators=50, n_jobs=-1, score=0.910, total= 1.7min\n",
            "[CV] criterion=gini, max_features=None, n_estimators=50, n_jobs=-1 ...\n",
            "[CV]  criterion=gini, max_features=None, n_estimators=50, n_jobs=-1, score=0.912, total= 1.7min\n",
            "[CV] criterion=gini, max_features=None, n_estimators=50, n_jobs=-1 ...\n",
            "[CV]  criterion=gini, max_features=None, n_estimators=50, n_jobs=-1, score=0.912, total= 1.6min\n",
            "[CV] criterion=gini, max_features=None, n_estimators=50, n_jobs=-1 ...\n",
            "[CV]  criterion=gini, max_features=None, n_estimators=50, n_jobs=-1, score=0.912, total= 1.7min\n",
            "[CV] criterion=gini, max_features=None, n_estimators=100, n_jobs=-1 ..\n",
            "[CV]  criterion=gini, max_features=None, n_estimators=100, n_jobs=-1, score=0.911, total= 3.4min\n",
            "[CV] criterion=gini, max_features=None, n_estimators=100, n_jobs=-1 ..\n",
            "[CV]  criterion=gini, max_features=None, n_estimators=100, n_jobs=-1, score=0.911, total= 3.4min\n",
            "[CV] criterion=gini, max_features=None, n_estimators=100, n_jobs=-1 ..\n",
            "[CV]  criterion=gini, max_features=None, n_estimators=100, n_jobs=-1, score=0.913, total= 3.4min\n",
            "[CV] criterion=gini, max_features=None, n_estimators=100, n_jobs=-1 ..\n",
            "[CV]  criterion=gini, max_features=None, n_estimators=100, n_jobs=-1, score=0.912, total= 3.4min\n",
            "[CV] criterion=gini, max_features=None, n_estimators=100, n_jobs=-1 ..\n",
            "[CV]  criterion=gini, max_features=None, n_estimators=100, n_jobs=-1, score=0.914, total= 3.4min\n",
            "[CV] criterion=entropy, max_features=auto, n_estimators=10, n_jobs=-1 \n",
            "[CV]  criterion=entropy, max_features=auto, n_estimators=10, n_jobs=-1, score=0.908, total=   4.4s\n",
            "[CV] criterion=entropy, max_features=auto, n_estimators=10, n_jobs=-1 \n",
            "[CV]  criterion=entropy, max_features=auto, n_estimators=10, n_jobs=-1, score=0.905, total=   4.3s\n",
            "[CV] criterion=entropy, max_features=auto, n_estimators=10, n_jobs=-1 \n",
            "[CV]  criterion=entropy, max_features=auto, n_estimators=10, n_jobs=-1, score=0.907, total=   4.3s\n",
            "[CV] criterion=entropy, max_features=auto, n_estimators=10, n_jobs=-1 \n",
            "[CV]  criterion=entropy, max_features=auto, n_estimators=10, n_jobs=-1, score=0.908, total=   4.4s\n",
            "[CV] criterion=entropy, max_features=auto, n_estimators=10, n_jobs=-1 \n",
            "[CV]  criterion=entropy, max_features=auto, n_estimators=10, n_jobs=-1, score=0.908, total=   4.4s\n",
            "[CV] criterion=entropy, max_features=auto, n_estimators=25, n_jobs=-1 \n",
            "[CV]  criterion=entropy, max_features=auto, n_estimators=25, n_jobs=-1, score=0.912, total=  10.6s\n",
            "[CV] criterion=entropy, max_features=auto, n_estimators=25, n_jobs=-1 \n",
            "[CV]  criterion=entropy, max_features=auto, n_estimators=25, n_jobs=-1, score=0.912, total=  10.5s\n",
            "[CV] criterion=entropy, max_features=auto, n_estimators=25, n_jobs=-1 \n",
            "[CV]  criterion=entropy, max_features=auto, n_estimators=25, n_jobs=-1, score=0.912, total=  10.4s\n",
            "[CV] criterion=entropy, max_features=auto, n_estimators=25, n_jobs=-1 \n",
            "[CV]  criterion=entropy, max_features=auto, n_estimators=25, n_jobs=-1, score=0.912, total=  10.5s\n",
            "[CV] criterion=entropy, max_features=auto, n_estimators=25, n_jobs=-1 \n",
            "[CV]  criterion=entropy, max_features=auto, n_estimators=25, n_jobs=-1, score=0.913, total=  10.9s\n",
            "[CV] criterion=entropy, max_features=auto, n_estimators=50, n_jobs=-1 \n",
            "[CV]  criterion=entropy, max_features=auto, n_estimators=50, n_jobs=-1, score=0.912, total=  20.5s\n",
            "[CV] criterion=entropy, max_features=auto, n_estimators=50, n_jobs=-1 \n",
            "[CV]  criterion=entropy, max_features=auto, n_estimators=50, n_jobs=-1, score=0.912, total=  20.4s\n",
            "[CV] criterion=entropy, max_features=auto, n_estimators=50, n_jobs=-1 \n",
            "[CV]  criterion=entropy, max_features=auto, n_estimators=50, n_jobs=-1, score=0.913, total=  20.7s\n",
            "[CV] criterion=entropy, max_features=auto, n_estimators=50, n_jobs=-1 \n",
            "[CV]  criterion=entropy, max_features=auto, n_estimators=50, n_jobs=-1, score=0.912, total=  20.3s\n",
            "[CV] criterion=entropy, max_features=auto, n_estimators=50, n_jobs=-1 \n",
            "[CV]  criterion=entropy, max_features=auto, n_estimators=50, n_jobs=-1, score=0.915, total=  20.7s\n",
            "[CV] criterion=entropy, max_features=auto, n_estimators=100, n_jobs=-1 \n",
            "[CV]  criterion=entropy, max_features=auto, n_estimators=100, n_jobs=-1, score=0.913, total=  41.0s\n",
            "[CV] criterion=entropy, max_features=auto, n_estimators=100, n_jobs=-1 \n",
            "[CV]  criterion=entropy, max_features=auto, n_estimators=100, n_jobs=-1, score=0.912, total=  44.4s\n",
            "[CV] criterion=entropy, max_features=auto, n_estimators=100, n_jobs=-1 \n",
            "[CV]  criterion=entropy, max_features=auto, n_estimators=100, n_jobs=-1, score=0.913, total=  40.8s\n",
            "[CV] criterion=entropy, max_features=auto, n_estimators=100, n_jobs=-1 \n",
            "[CV]  criterion=entropy, max_features=auto, n_estimators=100, n_jobs=-1, score=0.912, total=  40.9s\n",
            "[CV] criterion=entropy, max_features=auto, n_estimators=100, n_jobs=-1 \n",
            "[CV]  criterion=entropy, max_features=auto, n_estimators=100, n_jobs=-1, score=0.914, total=  41.3s\n",
            "[CV] criterion=entropy, max_features=log2, n_estimators=10, n_jobs=-1 \n",
            "[CV]  criterion=entropy, max_features=log2, n_estimators=10, n_jobs=-1, score=0.906, total=   4.3s\n",
            "[CV] criterion=entropy, max_features=log2, n_estimators=10, n_jobs=-1 \n",
            "[CV]  criterion=entropy, max_features=log2, n_estimators=10, n_jobs=-1, score=0.906, total=   4.4s\n",
            "[CV] criterion=entropy, max_features=log2, n_estimators=10, n_jobs=-1 \n",
            "[CV]  criterion=entropy, max_features=log2, n_estimators=10, n_jobs=-1, score=0.907, total=   4.2s\n",
            "[CV] criterion=entropy, max_features=log2, n_estimators=10, n_jobs=-1 \n",
            "[CV]  criterion=entropy, max_features=log2, n_estimators=10, n_jobs=-1, score=0.908, total=   4.3s\n",
            "[CV] criterion=entropy, max_features=log2, n_estimators=10, n_jobs=-1 \n",
            "[CV]  criterion=entropy, max_features=log2, n_estimators=10, n_jobs=-1, score=0.909, total=   4.5s\n",
            "[CV] criterion=entropy, max_features=log2, n_estimators=25, n_jobs=-1 \n",
            "[CV]  criterion=entropy, max_features=log2, n_estimators=25, n_jobs=-1, score=0.910, total=  10.5s\n",
            "[CV] criterion=entropy, max_features=log2, n_estimators=25, n_jobs=-1 \n",
            "[CV]  criterion=entropy, max_features=log2, n_estimators=25, n_jobs=-1, score=0.911, total=  10.6s\n",
            "[CV] criterion=entropy, max_features=log2, n_estimators=25, n_jobs=-1 \n",
            "[CV]  criterion=entropy, max_features=log2, n_estimators=25, n_jobs=-1, score=0.911, total=  10.5s\n",
            "[CV] criterion=entropy, max_features=log2, n_estimators=25, n_jobs=-1 \n",
            "[CV]  criterion=entropy, max_features=log2, n_estimators=25, n_jobs=-1, score=0.911, total=  10.5s\n",
            "[CV] criterion=entropy, max_features=log2, n_estimators=25, n_jobs=-1 \n",
            "[CV]  criterion=entropy, max_features=log2, n_estimators=25, n_jobs=-1, score=0.913, total=  10.7s\n",
            "[CV] criterion=entropy, max_features=log2, n_estimators=50, n_jobs=-1 \n",
            "[CV]  criterion=entropy, max_features=log2, n_estimators=50, n_jobs=-1, score=0.912, total=  20.8s\n",
            "[CV] criterion=entropy, max_features=log2, n_estimators=50, n_jobs=-1 \n",
            "[CV]  criterion=entropy, max_features=log2, n_estimators=50, n_jobs=-1, score=0.912, total=  20.8s\n",
            "[CV] criterion=entropy, max_features=log2, n_estimators=50, n_jobs=-1 \n",
            "[CV]  criterion=entropy, max_features=log2, n_estimators=50, n_jobs=-1, score=0.913, total=  20.9s\n",
            "[CV] criterion=entropy, max_features=log2, n_estimators=50, n_jobs=-1 \n",
            "[CV]  criterion=entropy, max_features=log2, n_estimators=50, n_jobs=-1, score=0.912, total=  21.0s\n",
            "[CV] criterion=entropy, max_features=log2, n_estimators=50, n_jobs=-1 \n",
            "[CV]  criterion=entropy, max_features=log2, n_estimators=50, n_jobs=-1, score=0.914, total=  21.2s\n",
            "[CV] criterion=entropy, max_features=log2, n_estimators=100, n_jobs=-1 \n",
            "[CV]  criterion=entropy, max_features=log2, n_estimators=100, n_jobs=-1, score=0.911, total=  40.9s\n",
            "[CV] criterion=entropy, max_features=log2, n_estimators=100, n_jobs=-1 \n",
            "[CV]  criterion=entropy, max_features=log2, n_estimators=100, n_jobs=-1, score=0.912, total=  40.5s\n",
            "[CV] criterion=entropy, max_features=log2, n_estimators=100, n_jobs=-1 \n",
            "[CV]  criterion=entropy, max_features=log2, n_estimators=100, n_jobs=-1, score=0.913, total=  40.7s\n",
            "[CV] criterion=entropy, max_features=log2, n_estimators=100, n_jobs=-1 \n",
            "[CV]  criterion=entropy, max_features=log2, n_estimators=100, n_jobs=-1, score=0.913, total=  40.8s\n",
            "[CV] criterion=entropy, max_features=log2, n_estimators=100, n_jobs=-1 \n",
            "[CV]  criterion=entropy, max_features=log2, n_estimators=100, n_jobs=-1, score=0.915, total=  40.6s\n",
            "[CV] criterion=entropy, max_features=None, n_estimators=10, n_jobs=-1 \n",
            "[CV]  criterion=entropy, max_features=None, n_estimators=10, n_jobs=-1, score=0.904, total=  20.8s\n",
            "[CV] criterion=entropy, max_features=None, n_estimators=10, n_jobs=-1 \n",
            "[CV]  criterion=entropy, max_features=None, n_estimators=10, n_jobs=-1, score=0.905, total=  21.0s\n",
            "[CV] criterion=entropy, max_features=None, n_estimators=10, n_jobs=-1 \n",
            "[CV]  criterion=entropy, max_features=None, n_estimators=10, n_jobs=-1, score=0.906, total=  20.8s\n",
            "[CV] criterion=entropy, max_features=None, n_estimators=10, n_jobs=-1 \n",
            "[CV]  criterion=entropy, max_features=None, n_estimators=10, n_jobs=-1, score=0.906, total=  24.1s\n",
            "[CV] criterion=entropy, max_features=None, n_estimators=10, n_jobs=-1 \n",
            "[CV]  criterion=entropy, max_features=None, n_estimators=10, n_jobs=-1, score=0.906, total=  21.5s\n",
            "[CV] criterion=entropy, max_features=None, n_estimators=25, n_jobs=-1 \n",
            "[CV]  criterion=entropy, max_features=None, n_estimators=25, n_jobs=-1, score=0.910, total=  52.7s\n",
            "[CV] criterion=entropy, max_features=None, n_estimators=25, n_jobs=-1 \n",
            "[CV]  criterion=entropy, max_features=None, n_estimators=25, n_jobs=-1, score=0.912, total=  52.5s\n",
            "[CV] criterion=entropy, max_features=None, n_estimators=25, n_jobs=-1 \n",
            "[CV]  criterion=entropy, max_features=None, n_estimators=25, n_jobs=-1, score=0.912, total=  53.4s\n",
            "[CV] criterion=entropy, max_features=None, n_estimators=25, n_jobs=-1 \n",
            "[CV]  criterion=entropy, max_features=None, n_estimators=25, n_jobs=-1, score=0.912, total=  53.5s\n",
            "[CV] criterion=entropy, max_features=None, n_estimators=25, n_jobs=-1 \n",
            "[CV]  criterion=entropy, max_features=None, n_estimators=25, n_jobs=-1, score=0.912, total=  53.2s\n",
            "[CV] criterion=entropy, max_features=None, n_estimators=50, n_jobs=-1 \n",
            "[CV]  criterion=entropy, max_features=None, n_estimators=50, n_jobs=-1, score=0.912, total= 1.7min\n",
            "[CV] criterion=entropy, max_features=None, n_estimators=50, n_jobs=-1 \n",
            "[CV]  criterion=entropy, max_features=None, n_estimators=50, n_jobs=-1, score=0.912, total= 1.7min\n",
            "[CV] criterion=entropy, max_features=None, n_estimators=50, n_jobs=-1 \n",
            "[CV]  criterion=entropy, max_features=None, n_estimators=50, n_jobs=-1, score=0.913, total= 1.8min\n",
            "[CV] criterion=entropy, max_features=None, n_estimators=50, n_jobs=-1 \n",
            "[CV]  criterion=entropy, max_features=None, n_estimators=50, n_jobs=-1, score=0.912, total= 1.7min\n",
            "[CV] criterion=entropy, max_features=None, n_estimators=50, n_jobs=-1 \n",
            "[CV]  criterion=entropy, max_features=None, n_estimators=50, n_jobs=-1, score=0.913, total= 1.7min\n",
            "[CV] criterion=entropy, max_features=None, n_estimators=100, n_jobs=-1 \n",
            "[CV]  criterion=entropy, max_features=None, n_estimators=100, n_jobs=-1, score=0.912, total= 3.4min\n",
            "[CV] criterion=entropy, max_features=None, n_estimators=100, n_jobs=-1 \n",
            "[CV]  criterion=entropy, max_features=None, n_estimators=100, n_jobs=-1, score=0.912, total= 3.5min\n",
            "[CV] criterion=entropy, max_features=None, n_estimators=100, n_jobs=-1 \n",
            "[CV]  criterion=entropy, max_features=None, n_estimators=100, n_jobs=-1, score=0.913, total= 3.5min\n",
            "[CV] criterion=entropy, max_features=None, n_estimators=100, n_jobs=-1 \n",
            "[CV]  criterion=entropy, max_features=None, n_estimators=100, n_jobs=-1, score=0.912, total= 3.5min\n",
            "[CV] criterion=entropy, max_features=None, n_estimators=100, n_jobs=-1 \n",
            "[CV]  criterion=entropy, max_features=None, n_estimators=100, n_jobs=-1, score=0.913, total= 3.5min\n"
          ],
          "name": "stdout"
        },
        {
          "output_type": "stream",
          "text": [
            "[Parallel(n_jobs=1)]: Done 120 out of 120 | elapsed: 87.2min finished\n"
          ],
          "name": "stderr"
        },
        {
          "output_type": "execute_result",
          "data": {
            "text/plain": [
              "GridSearchCV(cv=None, error_score=nan,\n",
              "             estimator=RandomForestClassifier(bootstrap=True, ccp_alpha=0.0,\n",
              "                                              class_weight=None,\n",
              "                                              criterion='gini', max_depth=None,\n",
              "                                              max_features='auto',\n",
              "                                              max_leaf_nodes=None,\n",
              "                                              max_samples=None,\n",
              "                                              min_impurity_decrease=0.0,\n",
              "                                              min_impurity_split=None,\n",
              "                                              min_samples_leaf=1,\n",
              "                                              min_samples_split=2,\n",
              "                                              min_weight_fraction_leaf=0.0,\n",
              "                                              n_estimators=100, n_jobs=None,\n",
              "                                              oob_score=False,\n",
              "                                              random_state=None, verbose=0,\n",
              "                                              warm_start=False),\n",
              "             iid='deprecated', n_jobs=None,\n",
              "             param_grid={'criterion': ['gini', 'entropy'],\n",
              "                         'max_features': ['auto', 'log2', None],\n",
              "                         'n_estimators': [10, 25, 50, 100], 'n_jobs': [-1]},\n",
              "             pre_dispatch='2*n_jobs', refit=True, return_train_score=False,\n",
              "             scoring=None, verbose=3)"
            ]
          },
          "metadata": {
            "tags": []
          },
          "execution_count": 35
        }
      ]
    },
    {
      "cell_type": "code",
      "metadata": {
        "id": "h6CP43Ipi81P",
        "outputId": "3f223fb0-12b3-465b-e63b-4dd9bdd328e0",
        "colab": {
          "base_uri": "https://localhost:8080/"
        }
      },
      "source": [
        "print(RFC_grid.best_params_) \n",
        "print(RFC_grid.best_estimator_) "
      ],
      "execution_count": 37,
      "outputs": [
        {
          "output_type": "stream",
          "text": [
            "{'criterion': 'entropy', 'max_features': 'auto', 'n_estimators': 100, 'n_jobs': -1}\n",
            "RandomForestClassifier(bootstrap=True, ccp_alpha=0.0, class_weight=None,\n",
            "                       criterion='entropy', max_depth=None, max_features='auto',\n",
            "                       max_leaf_nodes=None, max_samples=None,\n",
            "                       min_impurity_decrease=0.0, min_impurity_split=None,\n",
            "                       min_samples_leaf=1, min_samples_split=2,\n",
            "                       min_weight_fraction_leaf=0.0, n_estimators=100,\n",
            "                       n_jobs=-1, oob_score=False, random_state=None, verbose=0,\n",
            "                       warm_start=False)\n"
          ],
          "name": "stdout"
        }
      ]
    },
    {
      "cell_type": "code",
      "metadata": {
        "id": "aDAvBEd1kRCZ",
        "outputId": "621e0633-76c8-4afe-95ee-2558ebb715c4",
        "colab": {
          "base_uri": "https://localhost:8080/"
        }
      },
      "source": [
        "RFC = RandomForestClassifier(n_estimators = RFC_grid.best_params_['n_estimators'],\n",
        "                             criterion = RFC_grid.best_params_['criterion'],\n",
        "                             max_features = RFC_grid.best_params_['max_features'],\n",
        "                             n_jobs = RFC_grid.best_params_['n_jobs'])\n",
        "RFC.fit(x_train, y_train)"
      ],
      "execution_count": 39,
      "outputs": [
        {
          "output_type": "execute_result",
          "data": {
            "text/plain": [
              "RandomForestClassifier(bootstrap=True, ccp_alpha=0.0, class_weight=None,\n",
              "                       criterion='entropy', max_depth=None, max_features='auto',\n",
              "                       max_leaf_nodes=None, max_samples=None,\n",
              "                       min_impurity_decrease=0.0, min_impurity_split=None,\n",
              "                       min_samples_leaf=1, min_samples_split=2,\n",
              "                       min_weight_fraction_leaf=0.0, n_estimators=100,\n",
              "                       n_jobs=-1, oob_score=False, random_state=None, verbose=0,\n",
              "                       warm_start=False)"
            ]
          },
          "metadata": {
            "tags": []
          },
          "execution_count": 39
        }
      ]
    },
    {
      "cell_type": "code",
      "metadata": {
        "id": "4Ly2g4NCcDSL",
        "outputId": "99333c86-53c0-4c25-e2e0-e8f2cf4e326a",
        "colab": {
          "base_uri": "https://localhost:8080/"
        }
      },
      "source": [
        "RFC_y_pred = RFC.predict(x_test)\n",
        "RFC_accuracy = accuracy_score(RFC_y_pred,y_test)\n",
        "RFC_recall = recall_score(RFC_y_pred,y_test)\n",
        "RFC_precision = precision_score(RFC_y_pred,y_test)\n",
        "print(classification_report(RFC_y_pred,y_test))\n",
        "print('Confusion Matrix:\\n',confusion_matrix(RFC_y_pred,y_test))"
      ],
      "execution_count": 40,
      "outputs": [
        {
          "output_type": "stream",
          "text": [
            "              precision    recall  f1-score   support\n",
            "\n",
            "           0       0.44      0.77      0.56      3033\n",
            "           1       0.98      0.92      0.95     38886\n",
            "\n",
            "    accuracy                           0.91     41919\n",
            "   macro avg       0.71      0.84      0.76     41919\n",
            "weighted avg       0.94      0.91      0.92     41919\n",
            "\n",
            "Confusion Matrix:\n",
            " [[ 2321   712]\n",
            " [ 2952 35934]]\n"
          ],
          "name": "stdout"
        }
      ]
    },
    {
      "cell_type": "code",
      "metadata": {
        "id": "chTfRsgXbo4B",
        "outputId": "6dbc204a-43b5-462d-b38e-8eca580bdec7",
        "colab": {
          "base_uri": "https://localhost:8080/",
          "height": 312
        }
      },
      "source": [
        "sns.distplot(y_test,hist=False,color='r',label='Actual')\n",
        "plt.title('Actual v/s Predicted(RFC)')\n",
        "sns.distplot(RFC_y_pred,hist=False,color='b',label='Predicted')"
      ],
      "execution_count": 120,
      "outputs": [
        {
          "output_type": "execute_result",
          "data": {
            "text/plain": [
              "<matplotlib.axes._subplots.AxesSubplot at 0x7f5d22038278>"
            ]
          },
          "metadata": {
            "tags": []
          },
          "execution_count": 120
        },
        {
          "output_type": "display_data",
          "data": {
            "image/png": "[encoded data removed]",
            "text/plain": [
              "<Figure size 432x288 with 1 Axes>"
            ]
          },
          "metadata": {
            "tags": [],
            "needs_background": "light"
          }
        }
      ]
    },
    {
      "cell_type": "code",
      "metadata": {
        "id": "MGObAXtqWQ0h",
        "outputId": "26093623-c626-4571-8e03-d578bff91667",
        "colab": {
          "base_uri": "https://localhost:8080/",
          "height": 1000
        }
      },
      "source": [
        "fi = RFC.feature_importances_\n",
        "fi_normalized = np.std([tree.feature_importances_ for tree in \n",
        "                                        RFC.estimators_], \n",
        "                                        axis = 0) \n",
        "fig = make_subplots(rows=2, cols=1,shared_xaxes=True)\n",
        "\n",
        "fig.add_trace(go.Bar(x=x.columns,y=fi,name='Non-normalized',\n",
        "                        marker_color='rgb(171,241,255)',marker_line_color='rgb(12,0,335)',\n",
        "                        marker_line_width=2, opacity=0.6),\n",
        "                row=1,col=1)\n",
        "\n",
        "fig.add_trace(go.Bar(x=x.columns,y=fi_normalized,name='Normalized',\n",
        "                        marker_color='#fc888d',marker_line_color='#6b0206',\n",
        "                        marker_line_width=2, opacity=0.6),\n",
        "                row=2,col=1)\n",
        "fig.update_layout(template='simple_white',title='Comparing different feature importance(RFC)',height=900)\n",
        "fig.show()\n",
        "fig.show('svg',height=900,width=1200)"
      ],
      "execution_count": 99,
      "outputs": [
        {
          "output_type": "display_data",
          "data": {
            "text/html": [
              "<html>\n",
              "<head><meta charset=\"utf-8\" /></head>\n",
              "<body>\n",
              "    <div>\n",
              "            <script src=\"https://cdnjs.cloudflare.com/ajax/libs/mathjax/2.7.5/MathJax.js?config=TeX-AMS-MML_SVG\"></script><script type=\"text/javascript\">if (window.MathJax) {MathJax.Hub.Config({SVG: {font: \"STIX-Web\"}});}</script>\n",
              "                <script type=\"text/javascript\">window.PlotlyConfig = {MathJaxConfig: 'local'};</script>\n",
              "        <script src=\"https://cdn.plot.ly/plotly-latest.min.js\"></script>    \n",
              "            <div id=\"68a83612-04fd-4723-9a11-3c0f27cbe7ea\" class=\"plotly-graph-div\" style=\"height:900px; width:100%;\"></div>\n",
              "            <script type=\"text/javascript\">\n",
              "                \n",
              "                    window.PLOTLYENV=window.PLOTLYENV || {};\n",
              "                    \n",
              "                if (document.getElementById(\"68a83612-04fd-4723-9a11-3c0f27cbe7ea\")) {\n",
              "                    Plotly.newPlot(\n",
              "                        '68a83612-04fd-4723-9a11-3c0f27cbe7ea',\n",
              "                        [{\"marker\": {\"color\": \"rgb(171,241,255)\", \"line\": {\"color\": \"rgb(12,0,335)\", \"width\": 2}}, \"name\": \"Non-normalized\", \"opacity\": 0.6, \"type\": \"bar\", \"x\": [\"aon\", \"daily_decr30\", \"daily_decr90\", \"rental30\", \"rental90\", \"last_rech_date_ma\", \"last_rech_date_da\", \"last_rech_amt_ma\", \"cnt_ma_rech30\", \"fr_ma_rech30\", \"sumamnt_ma_rech30\", \"medianamnt_ma_rech30\", \"medianmarechprebal30\", \"cnt_ma_rech90\", \"fr_ma_rech90\", \"sumamnt_ma_rech90\", \"medianamnt_ma_rech90\", \"medianmarechprebal90\", \"cnt_da_rech30\", \"fr_da_rech30\", \"cnt_da_rech90\", \"fr_da_rech90\", \"cnt_loans30\", \"amnt_loans30\", \"maxamnt_loans30\", \"medianamnt_loans30\", \"cnt_loans90\", \"amnt_loans90\", \"maxamnt_loans90\", \"medianamnt_loans90\", \"payback30\", \"payback90\"], \"xaxis\": \"x\", \"y\": [0.07758718577511313, 0.1247440996115026, 0.1277154908027294, 0.06653976309056783, 0.06689068710701437, 0.04404665386252147, 0.002780301257611022, 0.016961910153332677, 0.018826485190885887, 0.022977069672778842, 0.04437447437272596, 0.020068747449730487, 0.043841421459503954, 0.04772097674239187, 0.026210133873967117, 0.05739857985653095, 0.020198759328894464, 0.04678839706778717, 0.001724689353178175, 0.001185856881420673, 0.0018027174593443212, 0.0005652559444145317, 0.009790094136205973, 0.01411734421292065, 0.004687286987828947, 0.004007550379677944, 0.014613914743028764, 0.02156905647216543, 0.00374354242193505, 0.004021465290035215, 0.015585114942591414, 0.026914974099663737], \"yaxis\": \"y\"}, {\"marker\": {\"color\": \"#fc888d\", \"line\": {\"color\": \"#6b0206\", \"width\": 2}}, \"name\": \"Normalized\", \"opacity\": 0.6, \"type\": \"bar\", \"x\": [\"aon\", \"daily_decr30\", \"daily_decr90\", \"rental30\", \"rental90\", \"last_rech_date_ma\", \"last_rech_date_da\", \"last_rech_amt_ma\", \"cnt_ma_rech30\", \"fr_ma_rech30\", \"sumamnt_ma_rech30\", \"medianamnt_ma_rech30\", \"medianmarechprebal30\", \"cnt_ma_rech90\", \"fr_ma_rech90\", \"sumamnt_ma_rech90\", \"medianamnt_ma_rech90\", \"medianmarechprebal90\", \"cnt_da_rech30\", \"fr_da_rech30\", \"cnt_da_rech90\", \"fr_da_rech90\", \"cnt_loans30\", \"amnt_loans30\", \"maxamnt_loans30\", \"medianamnt_loans30\", \"cnt_loans90\", \"amnt_loans90\", \"maxamnt_loans90\", \"medianamnt_loans90\", \"payback30\", \"payback90\"], \"xaxis\": \"x2\", \"y\": [0.0020287438449495326, 0.047588090648736814, 0.050695323726929795, 0.003763047208730187, 0.003497091606720945, 0.008976026472683415, 0.0003666462050092787, 0.010207987985612047, 0.028904961723221528, 0.02443672440512822, 0.03973931776089075, 0.01788655844023005, 0.011450136580693568, 0.05487331815615094, 0.01852026409514232, 0.046021609797456384, 0.004228959540679998, 0.006985224853480711, 0.0002818636317146239, 0.00027863108058392186, 0.0003128165725982995, 0.00022306255113098118, 0.013818811511883695, 0.02080686440045729, 0.001838634411835621, 0.0010016113609365982, 0.019652300761730048, 0.03107728261314752, 0.0018141280674995326, 0.000942798390147687, 0.011480700351447383, 0.029266648010087826], \"yaxis\": \"y2\"}],\n",
              "                        {\"height\": 900, \"template\": {\"data\": {\"bar\": [{\"error_x\": {\"color\": \"rgb(36,36,36)\"}, \"error_y\": {\"color\": \"rgb(36,36,36)\"}, \"marker\": {\"line\": {\"color\": \"white\", \"width\": 0.5}}, \"type\": \"bar\"}], \"barpolar\": [{\"marker\": {\"line\": {\"color\": \"white\", \"width\": 0.5}}, \"type\": \"barpolar\"}], \"carpet\": [{\"aaxis\": {\"endlinecolor\": \"rgb(36,36,36)\", \"gridcolor\": \"white\", \"linecolor\": \"white\", \"minorgridcolor\": \"white\", \"startlinecolor\": \"rgb(36,36,36)\"}, \"baxis\": {\"endlinecolor\": \"rgb(36,36,36)\", \"gridcolor\": \"white\", \"linecolor\": \"white\", \"minorgridcolor\": \"white\", \"startlinecolor\": \"rgb(36,36,36)\"}, \"type\": \"carpet\"}], \"choropleth\": [{\"colorbar\": {\"outlinewidth\": 10, \"tickcolor\": \"rgb(36,36,36)\", \"ticklen\": 8, \"ticks\": \"outside\", \"tickwidth\": 2}, \"type\": \"choropleth\"}], \"contour\": [{\"colorbar\": {\"outlinewidth\": 10, \"tickcolor\": \"rgb(36,36,36)\", \"ticklen\": 8, \"ticks\": \"outside\", \"tickwidth\": 2}, \"colorscale\": [[0.0, \"#440154\"], [0.1111111111111111, \"#482878\"], [0.2222222222222222, \"#3e4989\"], [0.3333333333333333, \"#31688e\"], [0.4444444444444444, \"#26828e\"], [0.5555555555555556, \"#1f9e89\"], [0.6666666666666666, \"#35b779\"], [0.7777777777777778, \"#6ece58\"], [0.8888888888888888, \"#b5de2b\"], [1.0, \"#fde725\"]], \"type\": \"contour\"}], \"contourcarpet\": [{\"colorbar\": {\"outlinewidth\": 10, \"tickcolor\": \"rgb(36,36,36)\", \"ticklen\": 8, \"ticks\": \"outside\", \"tickwidth\": 2}, \"type\": \"contourcarpet\"}], \"heatmap\": [{\"colorbar\": {\"outlinewidth\": 10, \"tickcolor\": \"rgb(36,36,36)\", \"ticklen\": 8, \"ticks\": \"outside\", \"tickwidth\": 2}, \"colorscale\": [[0.0, \"#440154\"], [0.1111111111111111, \"#482878\"], [0.2222222222222222, \"#3e4989\"], [0.3333333333333333, \"#31688e\"], [0.4444444444444444, \"#26828e\"], [0.5555555555555556, \"#1f9e89\"], [0.6666666666666666, \"#35b779\"], [0.7777777777777778, \"#6ece58\"], [0.8888888888888888, \"#b5de2b\"], [1.0, \"#fde725\"]], \"type\": \"heatmap\"}], \"heatmapgl\": [{\"colorbar\": {\"outlinewidth\": 10, \"tickcolor\": \"rgb(36,36,36)\", \"ticklen\": 8, \"ticks\": \"outside\", \"tickwidth\": 2}, \"colorscale\": [[0.0, \"#440154\"], [0.1111111111111111, \"#482878\"], [0.2222222222222222, \"#3e4989\"], [0.3333333333333333, \"#31688e\"], [0.4444444444444444, \"#26828e\"], [0.5555555555555556, \"#1f9e89\"], [0.6666666666666666, \"#35b779\"], [0.7777777777777778, \"#6ece58\"], [0.8888888888888888, \"#b5de2b\"], [1.0, \"#fde725\"]], \"type\": \"heatmapgl\"}], \"histogram\": [{\"marker\": {\"line\": {\"color\": \"white\", \"width\": 0.6}}, \"type\": \"histogram\"}], \"histogram2d\": [{\"colorbar\": {\"outlinewidth\": 10, \"tickcolor\": \"rgb(36,36,36)\", \"ticklen\": 8, \"ticks\": \"outside\", \"tickwidth\": 2}, \"colorscale\": [[0.0, \"#440154\"], [0.1111111111111111, \"#482878\"], [0.2222222222222222, \"#3e4989\"], [0.3333333333333333, \"#31688e\"], [0.4444444444444444, \"#26828e\"], [0.5555555555555556, \"#1f9e89\"], [0.6666666666666666, \"#35b779\"], [0.7777777777777778, \"#6ece58\"], [0.8888888888888888, \"#b5de2b\"], [1.0, \"#fde725\"]], \"type\": \"histogram2d\"}], \"histogram2dcontour\": [{\"colorbar\": {\"outlinewidth\": 10, \"tickcolor\": \"rgb(36,36,36)\", \"ticklen\": 8, \"ticks\": \"outside\", \"tickwidth\": 2}, \"colorscale\": [[0.0, \"#440154\"], [0.1111111111111111, \"#482878\"], [0.2222222222222222, \"#3e4989\"], [0.3333333333333333, \"#31688e\"], [0.4444444444444444, \"#26828e\"], [0.5555555555555556, \"#1f9e89\"], [0.6666666666666666, \"#35b779\"], [0.7777777777777778, \"#6ece58\"], [0.8888888888888888, \"#b5de2b\"], [1.0, \"#fde725\"]], \"type\": \"histogram2dcontour\"}], \"mesh3d\": [{\"colorbar\": {\"outlinewidth\": 10, \"tickcolor\": \"rgb(36,36,36)\", \"ticklen\": 8, \"ticks\": \"outside\", \"tickwidth\": 2}, \"type\": \"mesh3d\"}], \"parcoords\": [{\"line\": {\"colorbar\": {\"outlinewidth\": 10, \"tickcolor\": \"rgb(36,36,36)\", \"ticklen\": 8, \"ticks\": \"outside\", \"tickwidth\": 2}}, \"type\": \"parcoords\"}], \"pie\": [{\"automargin\": true, \"type\": \"pie\"}], \"scatter\": [{\"marker\": {\"colorbar\": {\"outlinewidth\": 10, \"tickcolor\": \"rgb(36,36,36)\", \"ticklen\": 8, \"ticks\": \"outside\", \"tickwidth\": 2}}, \"type\": \"scatter\"}], \"scatter3d\": [{\"line\": {\"colorbar\": {\"outlinewidth\": 10, \"tickcolor\": \"rgb(36,36,36)\", \"ticklen\": 8, \"ticks\": \"outside\", \"tickwidth\": 2}}, \"marker\": {\"colorbar\": {\"outlinewidth\": 10, \"tickcolor\": \"rgb(36,36,36)\", \"ticklen\": 8, \"ticks\": \"outside\", \"tickwidth\": 2}}, \"type\": \"scatter3d\"}], \"scattercarpet\": [{\"marker\": {\"colorbar\": {\"outlinewidth\": 10, \"tickcolor\": \"rgb(36,36,36)\", \"ticklen\": 8, \"ticks\": \"outside\", \"tickwidth\": 2}}, \"type\": \"scattercarpet\"}], \"scattergeo\": [{\"marker\": {\"colorbar\": {\"outlinewidth\": 10, \"tickcolor\": \"rgb(36,36,36)\", \"ticklen\": 8, \"ticks\": \"outside\", \"tickwidth\": 2}}, \"type\": \"scattergeo\"}], \"scattergl\": [{\"marker\": {\"colorbar\": {\"outlinewidth\": 10, \"tickcolor\": \"rgb(36,36,36)\", \"ticklen\": 8, \"ticks\": \"outside\", \"tickwidth\": 2}}, \"type\": \"scattergl\"}], \"scattermapbox\": [{\"marker\": {\"colorbar\": {\"outlinewidth\": 10, \"tickcolor\": \"rgb(36,36,36)\", \"ticklen\": 8, \"ticks\": \"outside\", \"tickwidth\": 2}}, \"type\": \"scattermapbox\"}], \"scatterpolar\": [{\"marker\": {\"colorbar\": {\"outlinewidth\": 10, \"tickcolor\": \"rgb(36,36,36)\", \"ticklen\": 8, \"ticks\": \"outside\", \"tickwidth\": 2}}, \"type\": \"scatterpolar\"}], \"scatterpolargl\": [{\"marker\": {\"colorbar\": {\"outlinewidth\": 10, \"tickcolor\": \"rgb(36,36,36)\", \"ticklen\": 8, \"ticks\": \"outside\", \"tickwidth\": 2}}, \"type\": \"scatterpolargl\"}], \"scatterternary\": [{\"marker\": {\"colorbar\": {\"outlinewidth\": 10, \"tickcolor\": \"rgb(36,36,36)\", \"ticklen\": 8, \"ticks\": \"outside\", \"tickwidth\": 2}}, \"type\": \"scatterternary\"}], \"surface\": [{\"colorbar\": {\"outlinewidth\": 10, \"tickcolor\": \"rgb(36,36,36)\", \"ticklen\": 8, \"ticks\": \"outside\", \"tickwidth\": 2}, \"colorscale\": [[0.0, \"#440154\"], [0.1111111111111111, \"#482878\"], [0.2222222222222222, \"#3e4989\"], [0.3333333333333333, \"#31688e\"], [0.4444444444444444, \"#26828e\"], [0.5555555555555556, \"#1f9e89\"], [0.6666666666666666, \"#35b779\"], [0.7777777777777778, \"#6ece58\"], [0.8888888888888888, \"#b5de2b\"], [1.0, \"#fde725\"]], \"type\": \"surface\"}], \"table\": [{\"cells\": {\"fill\": {\"color\": \"rgb(237,237,237)\"}, \"line\": {\"color\": \"white\"}}, \"header\": {\"fill\": {\"color\": \"rgb(217,217,217)\"}, \"line\": {\"color\": \"white\"}}, \"type\": \"table\"}]}, \"layout\": {\"annotationdefaults\": {\"arrowhead\": 0, \"arrowwidth\": 1}, \"coloraxis\": {\"colorbar\": {\"outlinewidth\": 10, \"tickcolor\": \"rgb(36,36,36)\", \"ticklen\": 8, \"ticks\": \"outside\", \"tickwidth\": 2}}, \"colorscale\": {\"diverging\": [[0.0, \"rgb(103,0,31)\"], [0.1, \"rgb(178,24,43)\"], [0.2, \"rgb(214,96,77)\"], [0.3, \"rgb(244,165,130)\"], [0.4, \"rgb(253,219,199)\"], [0.5, \"rgb(247,247,247)\"], [0.6, \"rgb(209,229,240)\"], [0.7, \"rgb(146,197,222)\"], [0.8, \"rgb(67,147,195)\"], [0.9, \"rgb(33,102,172)\"], [1.0, \"rgb(5,48,97)\"]], \"sequential\": [[0.0, \"#440154\"], [0.1111111111111111, \"#482878\"], [0.2222222222222222, \"#3e4989\"], [0.3333333333333333, \"#31688e\"], [0.4444444444444444, \"#26828e\"], [0.5555555555555556, \"#1f9e89\"], [0.6666666666666666, \"#35b779\"], [0.7777777777777778, \"#6ece58\"], [0.8888888888888888, \"#b5de2b\"], [1.0, \"#fde725\"]], \"sequentialminus\": [[0.0, \"#440154\"], [0.1111111111111111, \"#482878\"], [0.2222222222222222, \"#3e4989\"], [0.3333333333333333, \"#31688e\"], [0.4444444444444444, \"#26828e\"], [0.5555555555555556, \"#1f9e89\"], [0.6666666666666666, \"#35b779\"], [0.7777777777777778, \"#6ece58\"], [0.8888888888888888, \"#b5de2b\"], [1.0, \"#fde725\"]]}, \"colorway\": [\"#1F77B4\", \"#FF7F0E\", \"#2CA02C\", \"#D62728\", \"#9467BD\", \"#8C564B\", \"#E377C2\", \"#7F7F7F\", \"#BCBD22\", \"#17BECF\"], \"font\": {\"color\": \"rgb(36,36,36)\"}, \"geo\": {\"bgcolor\": \"white\", \"lakecolor\": \"white\", \"landcolor\": \"white\", \"showlakes\": true, \"showland\": true, \"subunitcolor\": \"white\"}, \"hoverlabel\": {\"align\": \"left\"}, \"hovermode\": \"closest\", \"mapbox\": {\"style\": \"light\"}, \"paper_bgcolor\": \"white\", \"plot_bgcolor\": \"white\", \"polar\": {\"angularaxis\": {\"gridcolor\": \"rgb(232,232,232)\", \"linecolor\": \"rgb(36,36,36)\", \"showgrid\": false, \"showline\": true, \"ticks\": \"outside\"}, \"bgcolor\": \"white\", \"radialaxis\": {\"gridcolor\": \"rgb(232,232,232)\", \"linecolor\": \"rgb(36,36,36)\", \"showgrid\": false, \"showline\": true, \"ticks\": \"outside\"}}, \"scene\": {\"xaxis\": {\"backgroundcolor\": \"white\", \"gridcolor\": \"rgb(232,232,232)\", \"gridwidth\": 2, \"linecolor\": \"rgb(36,36,36)\", \"showbackground\": true, \"showgrid\": false, \"showline\": true, \"ticks\": \"outside\", \"zeroline\": false, \"zerolinecolor\": \"rgb(36,36,36)\"}, \"yaxis\": {\"backgroundcolor\": \"white\", \"gridcolor\": \"rgb(232,232,232)\", \"gridwidth\": 2, \"linecolor\": \"rgb(36,36,36)\", \"showbackground\": true, \"showgrid\": false, \"showline\": true, \"ticks\": \"outside\", \"zeroline\": false, \"zerolinecolor\": \"rgb(36,36,36)\"}, \"zaxis\": {\"backgroundcolor\": \"white\", \"gridcolor\": \"rgb(232,232,232)\", \"gridwidth\": 2, \"linecolor\": \"rgb(36,36,36)\", \"showbackground\": true, \"showgrid\": false, \"showline\": true, \"ticks\": \"outside\", \"zeroline\": false, \"zerolinecolor\": \"rgb(36,36,36)\"}}, \"shapedefaults\": {\"fillcolor\": \"black\", \"line\": {\"width\": 0}, \"opacity\": 0.3}, \"ternary\": {\"aaxis\": {\"gridcolor\": \"rgb(232,232,232)\", \"linecolor\": \"rgb(36,36,36)\", \"showgrid\": false, \"showline\": true, \"ticks\": \"outside\"}, \"baxis\": {\"gridcolor\": \"rgb(232,232,232)\", \"linecolor\": \"rgb(36,36,36)\", \"showgrid\": false, \"showline\": true, \"ticks\": \"outside\"}, \"bgcolor\": \"white\", \"caxis\": {\"gridcolor\": \"rgb(232,232,232)\", \"linecolor\": \"rgb(36,36,36)\", \"showgrid\": false, \"showline\": true, \"ticks\": \"outside\"}}, \"title\": {\"x\": 0.05}, \"xaxis\": {\"automargin\": true, \"gridcolor\": \"rgb(232,232,232)\", \"linecolor\": \"rgb(36,36,36)\", \"showgrid\": false, \"showline\": true, \"ticks\": \"outside\", \"title\": {\"standoff\": 15}, \"zeroline\": false, \"zerolinecolor\": \"rgb(36,36,36)\"}, \"yaxis\": {\"automargin\": true, \"gridcolor\": \"rgb(232,232,232)\", \"linecolor\": \"rgb(36,36,36)\", \"showgrid\": false, \"showline\": true, \"ticks\": \"outside\", \"title\": {\"standoff\": 15}, \"zeroline\": false, \"zerolinecolor\": \"rgb(36,36,36)\"}}}, \"title\": {\"text\": \"Comparing different feature importance(RFC)\"}, \"xaxis\": {\"anchor\": \"y\", \"domain\": [0.0, 1.0], \"matches\": \"x2\", \"showticklabels\": false}, \"xaxis2\": {\"anchor\": \"y2\", \"domain\": [0.0, 1.0]}, \"yaxis\": {\"anchor\": \"x\", \"domain\": [0.575, 1.0]}, \"yaxis2\": {\"anchor\": \"x2\", \"domain\": [0.0, 0.425]}},\n",
              "                        {\"responsive\": true}\n",
              "                    ).then(function(){\n",
              "                            \n",
              "var gd = document.getElementById('68a83612-04fd-4723-9a11-3c0f27cbe7ea');\n",
              "var x = new MutationObserver(function (mutations, observer) {{\n",
              "        var display = window.getComputedStyle(gd).display;\n",
              "        if (!display || display === 'none') {{\n",
              "            console.log([gd, 'removed!']);\n",
              "            Plotly.purge(gd);\n",
              "            observer.disconnect();\n",
              "        }}\n",
              "}});\n",
              "\n",
              "// Listen for the removal of the full notebook cells\n",
              "var notebookContainer = gd.closest('#notebook-container');\n",
              "if (notebookContainer) {{\n",
              "    x.observe(notebookContainer, {childList: true});\n",
              "}}\n",
              "\n",
              "// Listen for the clearing of the current output cell\n",
              "var outputEl = gd.closest('.output');\n",
              "if (outputEl) {{\n",
              "    x.observe(outputEl, {childList: true});\n",
              "}}\n",
              "\n",
              "                        })\n",
              "                };\n",
              "                \n",
              "            </script>\n",
              "        </div>\n",
              "</body>\n",
              "</html>"
            ]
          },
          "metadata": {
            "tags": []
          }
        },
        {
          "output_type": "display_data",
          "data": {
            "image/svg+xml": "<svg class=\"main-svg\" xmlns=\"http://www.w3.org/2000/svg\" xmlns:xlink=\"http://www.w3.org/1999/xlink\" width=\"1200\" height=\"900\" viewBox=\"0 0 1200 900\"><rect x=\"0\" y=\"0\" width=\"1200\" height=\"900\" style=\"fill: rgb(255, 255, 255); fill-opacity: 1;\"/><defs id=\"defs-89863e\"><g class=\"clips\"><clipPath id=\"clip89863exyplot\" class=\"plotclip\"><rect width=\"959\" height=\"272.425\"/></clipPath><clipPath id=\"clip89863ex2y2plot\" class=\"plotclip\"><rect width=\"959\" height=\"272.425\"/></clipPath><clipPath class=\"axesclip\" id=\"clip89863ex\"><rect x=\"80\" y=\"0\" width=\"959\" height=\"900\"/></clipPath><clipPath class=\"axesclip\" id=\"clip89863ey\"><rect x=\"0\" y=\"100\" width=\"1200\" height=\"272.425\"/></clipPath><clipPath class=\"axesclip\" id=\"clip89863exy\"><rect x=\"80\" y=\"100\" width=\"959\" height=\"272.425\"/></clipPath><clipPath class=\"axesclip\" id=\"clip89863ey2\"><rect x=\"0\" y=\"468.575\" width=\"1200\" height=\"272.425\"/></clipPath><clipPath class=\"axesclip\" id=\"clip89863exy2\"><rect x=\"80\" y=\"468.575\" width=\"959\" height=\"272.425\"/></clipPath><clipPath class=\"axesclip\" id=\"clip89863ex2\"><rect x=\"80\" y=\"0\" width=\"959\" height=\"900\"/></clipPath><clipPath class=\"axesclip\" id=\"clip89863ex2y\"><rect x=\"80\" y=\"100\" width=\"959\" height=\"272.425\"/></clipPath><clipPath class=\"axesclip\" id=\"clip89863ex2y2\"><rect x=\"80\" y=\"468.575\" width=\"959\" height=\"272.425\"/></clipPath></g><g class=\"gradients\"/></defs><g class=\"bglayer\"/><g class=\"layer-below\"><g class=\"imagelayer\"/><g class=\"shapelayer\"/></g><g class=\"cartesianlayer\"><g class=\"subplot xy\"><g class=\"layer-subplot\"><g class=\"shapelayer\"/><g class=\"imagelayer\"/></g><g class=\"gridlayer\"><g class=\"x\"/><g class=\"y\"/></g><g class=\"zerolinelayer\"/><path class=\"xlines-below\"/><path class=\"ylines-below\"/><g class=\"overlines-below\"/><g class=\"xaxislayer-below\"/><g class=\"yaxislayer-below\"/><g class=\"overaxes-below\"/><g class=\"plot\" transform=\"translate(80, 100)\" clip-path=\"url('#clip89863exyplot')\"><g class=\"barlayer mlayer\"><g class=\"trace bars\" style=\"opacity: 0.6;\"><g class=\"points\"><g class=\"point\"><path d=\"M3,272.43V115.2H26.97V272.43Z\" style=\"vector-effect: non-scaling-stroke; opacity: 1; stroke-width: 2px; fill: rgb(171, 241, 255); fill-opacity: 1; stroke: rgb(12, 0, 255); stroke-opacity: 1;\"/></g><g class=\"point\"><path d=\"M32.97,272.43V19.64H56.94V272.43Z\" style=\"vector-effect: non-scaling-stroke; opacity: 1; stroke-width: 2px; fill: rgb(171, 241, 255); fill-opacity: 1; stroke: rgb(12, 0, 255); stroke-opacity: 1;\"/></g><g class=\"point\"><path d=\"M62.93,272.43V13.62H86.91V272.43Z\" style=\"vector-effect: non-scaling-stroke; opacity: 1; stroke-width: 2px; fill: rgb(171, 241, 255); fill-opacity: 1; stroke: rgb(12, 0, 255); stroke-opacity: 1;\"/></g><g class=\"point\"><path d=\"M92.9,272.43V137.59H116.88V272.43Z\" style=\"vector-effect: non-scaling-stroke; opacity: 1; stroke-width: 2px; fill: rgb(171, 241, 255); fill-opacity: 1; stroke: rgb(12, 0, 255); stroke-opacity: 1;\"/></g><g class=\"point\"><path d=\"M122.87,272.43V136.88H146.85V272.43Z\" style=\"vector-effect: non-scaling-stroke; opacity: 1; stroke-width: 2px; fill: rgb(171, 241, 255); fill-opacity: 1; stroke: rgb(12, 0, 255); stroke-opacity: 1;\"/></g><g class=\"point\"><path d=\"M152.84,272.43V183.17H176.82V272.43Z\" style=\"vector-effect: non-scaling-stroke; opacity: 1; stroke-width: 2px; fill: rgb(171, 241, 255); fill-opacity: 1; stroke: rgb(12, 0, 255); stroke-opacity: 1;\"/></g><g class=\"point\"><path d=\"M182.81,272.43V266.79H206.78V272.43Z\" style=\"vector-effect: non-scaling-stroke; opacity: 1; stroke-width: 2px; fill: rgb(171, 241, 255); fill-opacity: 1; stroke: rgb(12, 0, 255); stroke-opacity: 1;\"/></g><g class=\"point\"><path d=\"M212.78,272.43V238.05H236.75V272.43Z\" style=\"vector-effect: non-scaling-stroke; opacity: 1; stroke-width: 2px; fill: rgb(171, 241, 255); fill-opacity: 1; stroke: rgb(12, 0, 255); stroke-opacity: 1;\"/></g><g class=\"point\"><path d=\"M242.75,272.43V234.27H266.72V272.43Z\" style=\"vector-effect: non-scaling-stroke; opacity: 1; stroke-width: 2px; fill: rgb(171, 241, 255); fill-opacity: 1; stroke: rgb(12, 0, 255); stroke-opacity: 1;\"/></g><g class=\"point\"><path d=\"M272.72,272.43V225.86H296.69V272.43Z\" style=\"vector-effect: non-scaling-stroke; opacity: 1; stroke-width: 2px; fill: rgb(171, 241, 255); fill-opacity: 1; stroke: rgb(12, 0, 255); stroke-opacity: 1;\"/></g><g class=\"point\"><path d=\"M302.68,272.43V182.5H326.66V272.43Z\" style=\"vector-effect: non-scaling-stroke; opacity: 1; stroke-width: 2px; fill: rgb(171, 241, 255); fill-opacity: 1; stroke: rgb(12, 0, 255); stroke-opacity: 1;\"/></g><g class=\"point\"><path d=\"M332.65,272.43V231.76H356.63V272.43Z\" style=\"vector-effect: non-scaling-stroke; opacity: 1; stroke-width: 2px; fill: rgb(171, 241, 255); fill-opacity: 1; stroke: rgb(12, 0, 255); stroke-opacity: 1;\"/></g><g class=\"point\"><path d=\"M362.62,272.43V183.58H386.6V272.43Z\" style=\"vector-effect: non-scaling-stroke; opacity: 1; stroke-width: 2px; fill: rgb(171, 241, 255); fill-opacity: 1; stroke: rgb(12, 0, 255); stroke-opacity: 1;\"/></g><g class=\"point\"><path d=\"M392.59,272.43V175.72H416.57V272.43Z\" style=\"vector-effect: non-scaling-stroke; opacity: 1; stroke-width: 2px; fill: rgb(171, 241, 255); fill-opacity: 1; stroke: rgb(12, 0, 255); stroke-opacity: 1;\"/></g><g class=\"point\"><path d=\"M422.56,272.43V219.31H446.53V272.43Z\" style=\"vector-effect: non-scaling-stroke; opacity: 1; stroke-width: 2px; fill: rgb(171, 241, 255); fill-opacity: 1; stroke: rgb(12, 0, 255); stroke-opacity: 1;\"/></g><g class=\"point\"><path d=\"M452.53,272.43V156.11H476.5V272.43Z\" style=\"vector-effect: non-scaling-stroke; opacity: 1; stroke-width: 2px; fill: rgb(171, 241, 255); fill-opacity: 1; stroke: rgb(12, 0, 255); stroke-opacity: 1;\"/></g><g class=\"point\"><path d=\"M482.5,272.43V231.49H506.47V272.43Z\" style=\"vector-effect: non-scaling-stroke; opacity: 1; stroke-width: 2px; fill: rgb(171, 241, 255); fill-opacity: 1; stroke: rgb(12, 0, 255); stroke-opacity: 1;\"/></g><g class=\"point\"><path d=\"M512.47,272.43V177.61H536.44V272.43Z\" style=\"vector-effect: non-scaling-stroke; opacity: 1; stroke-width: 2px; fill: rgb(171, 241, 255); fill-opacity: 1; stroke: rgb(12, 0, 255); stroke-opacity: 1;\"/></g><g class=\"point\"><path d=\"M542.43,272.43V268.93H566.41V272.43Z\" style=\"vector-effect: non-scaling-stroke; opacity: 1; stroke-width: 2px; fill: rgb(171, 241, 255); fill-opacity: 1; stroke: rgb(12, 0, 255); stroke-opacity: 1;\"/></g><g class=\"point\"><path d=\"M572.4,272.43V270.02H596.38V272.43Z\" style=\"vector-effect: non-scaling-stroke; opacity: 1; stroke-width: 2px; fill: rgb(171, 241, 255); fill-opacity: 1; stroke: rgb(12, 0, 255); stroke-opacity: 1;\"/></g><g class=\"point\"><path d=\"M602.37,272.43V268.77H626.35V272.43Z\" style=\"vector-effect: non-scaling-stroke; opacity: 1; stroke-width: 2px; fill: rgb(171, 241, 255); fill-opacity: 1; stroke: rgb(12, 0, 255); stroke-opacity: 1;\"/></g><g class=\"point\"><path d=\"M632.34,272.43V271.28H656.32V272.43Z\" style=\"vector-effect: non-scaling-stroke; opacity: 1; stroke-width: 2px; fill: rgb(171, 241, 255); fill-opacity: 1; stroke: rgb(12, 0, 255); stroke-opacity: 1;\"/></g><g class=\"point\"><path d=\"M662.31,272.43V252.59H686.28V272.43Z\" style=\"vector-effect: non-scaling-stroke; opacity: 1; stroke-width: 2px; fill: rgb(171, 241, 255); fill-opacity: 1; stroke: rgb(12, 0, 255); stroke-opacity: 1;\"/></g><g class=\"point\"><path d=\"M692.28,272.43V243.82H716.25V272.43Z\" style=\"vector-effect: non-scaling-stroke; opacity: 1; stroke-width: 2px; fill: rgb(171, 241, 255); fill-opacity: 1; stroke: rgb(12, 0, 255); stroke-opacity: 1;\"/></g><g class=\"point\"><path d=\"M722.25,272.43V262.93H746.22V272.43Z\" style=\"vector-effect: non-scaling-stroke; opacity: 1; stroke-width: 2px; fill: rgb(171, 241, 255); fill-opacity: 1; stroke: rgb(12, 0, 255); stroke-opacity: 1;\"/></g><g class=\"point\"><path d=\"M752.22,272.43V264.3H776.19V272.43Z\" style=\"vector-effect: non-scaling-stroke; opacity: 1; stroke-width: 2px; fill: rgb(171, 241, 255); fill-opacity: 1; stroke: rgb(12, 0, 255); stroke-opacity: 1;\"/></g><g class=\"point\"><path d=\"M782.18,272.43V242.81H806.16V272.43Z\" style=\"vector-effect: non-scaling-stroke; opacity: 1; stroke-width: 2px; fill: rgb(171, 241, 255); fill-opacity: 1; stroke: rgb(12, 0, 255); stroke-opacity: 1;\"/></g><g class=\"point\"><path d=\"M812.15,272.43V228.72H836.13V272.43Z\" style=\"vector-effect: non-scaling-stroke; opacity: 1; stroke-width: 2px; fill: rgb(171, 241, 255); fill-opacity: 1; stroke: rgb(12, 0, 255); stroke-opacity: 1;\"/></g><g class=\"point\"><path d=\"M842.12,272.43V264.84H866.1V272.43Z\" style=\"vector-effect: non-scaling-stroke; opacity: 1; stroke-width: 2px; fill: rgb(171, 241, 255); fill-opacity: 1; stroke: rgb(12, 0, 255); stroke-opacity: 1;\"/></g><g class=\"point\"><path d=\"M872.09,272.43V264.28H896.07V272.43Z\" style=\"vector-effect: non-scaling-stroke; opacity: 1; stroke-width: 2px; fill: rgb(171, 241, 255); fill-opacity: 1; stroke: rgb(12, 0, 255); stroke-opacity: 1;\"/></g><g class=\"point\"><path d=\"M902.06,272.43V240.84H926.03V272.43Z\" style=\"vector-effect: non-scaling-stroke; opacity: 1; stroke-width: 2px; fill: rgb(171, 241, 255); fill-opacity: 1; stroke: rgb(12, 0, 255); stroke-opacity: 1;\"/></g><g class=\"point\"><path d=\"M932.03,272.43V217.88H956V272.43Z\" style=\"vector-effect: non-scaling-stroke; opacity: 1; stroke-width: 2px; fill: rgb(171, 241, 255); fill-opacity: 1; stroke: rgb(12, 0, 255); stroke-opacity: 1;\"/></g></g></g></g></g><g class=\"overplot\"/><path class=\"xlines-above crisp\" d=\"M79,372.925H1039\" style=\"fill: none; stroke-width: 1px; stroke: rgb(36, 36, 36); stroke-opacity: 1;\"/><path class=\"ylines-above crisp\" d=\"M79.5,100V372.425\" style=\"fill: none; stroke-width: 1px; stroke: rgb(36, 36, 36); stroke-opacity: 1;\"/><g class=\"overlines-above\"/><g class=\"xaxislayer-above\"><path class=\"xtick ticks crisp\" d=\"M0,373.425v5\" transform=\"translate(94.98,0)\" style=\"stroke: rgb(68, 68, 68); stroke-opacity: 1; stroke-width: 1px;\"/><path class=\"xtick ticks crisp\" d=\"M0,373.425v5\" transform=\"translate(124.95,0)\" style=\"stroke: rgb(68, 68, 68); stroke-opacity: 1; stroke-width: 1px;\"/><path class=\"xtick ticks crisp\" d=\"M0,373.425v5\" transform=\"translate(154.92000000000002,0)\" style=\"stroke: rgb(68, 68, 68); stroke-opacity: 1; stroke-width: 1px;\"/><path class=\"xtick ticks crisp\" d=\"M0,373.425v5\" transform=\"translate(184.89,0)\" style=\"stroke: rgb(68, 68, 68); stroke-opacity: 1; stroke-width: 1px;\"/><path class=\"xtick ticks crisp\" d=\"M0,373.425v5\" transform=\"translate(214.86,0)\" style=\"stroke: rgb(68, 68, 68); stroke-opacity: 1; stroke-width: 1px;\"/><path class=\"xtick ticks crisp\" d=\"M0,373.425v5\" transform=\"translate(244.83,0)\" style=\"stroke: rgb(68, 68, 68); stroke-opacity: 1; stroke-width: 1px;\"/><path class=\"xtick ticks crisp\" d=\"M0,373.425v5\" transform=\"translate(274.8,0)\" style=\"stroke: rgb(68, 68, 68); stroke-opacity: 1; stroke-width: 1px;\"/><path class=\"xtick ticks crisp\" d=\"M0,373.425v5\" transform=\"translate(304.77,0)\" style=\"stroke: rgb(68, 68, 68); stroke-opacity: 1; stroke-width: 1px;\"/><path class=\"xtick ticks crisp\" d=\"M0,373.425v5\" transform=\"translate(334.73,0)\" style=\"stroke: rgb(68, 68, 68); stroke-opacity: 1; stroke-width: 1px;\"/><path class=\"xtick ticks crisp\" d=\"M0,373.425v5\" transform=\"translate(364.7,0)\" style=\"stroke: rgb(68, 68, 68); stroke-opacity: 1; stroke-width: 1px;\"/><path class=\"xtick ticks crisp\" d=\"M0,373.425v5\" transform=\"translate(394.67,0)\" style=\"stroke: rgb(68, 68, 68); stroke-opacity: 1; stroke-width: 1px;\"/><path class=\"xtick ticks crisp\" d=\"M0,373.425v5\" transform=\"translate(424.64,0)\" style=\"stroke: rgb(68, 68, 68); stroke-opacity: 1; stroke-width: 1px;\"/><path class=\"xtick ticks crisp\" d=\"M0,373.425v5\" transform=\"translate(454.61,0)\" style=\"stroke: rgb(68, 68, 68); stroke-opacity: 1; stroke-width: 1px;\"/><path class=\"xtick ticks crisp\" d=\"M0,373.425v5\" transform=\"translate(484.58,0)\" style=\"stroke: rgb(68, 68, 68); stroke-opacity: 1; stroke-width: 1px;\"/><path class=\"xtick ticks crisp\" d=\"M0,373.425v5\" transform=\"translate(514.55,0)\" style=\"stroke: rgb(68, 68, 68); stroke-opacity: 1; stroke-width: 1px;\"/><path class=\"xtick ticks crisp\" d=\"M0,373.425v5\" transform=\"translate(544.52,0)\" style=\"stroke: rgb(68, 68, 68); stroke-opacity: 1; stroke-width: 1px;\"/><path class=\"xtick ticks crisp\" d=\"M0,373.425v5\" transform=\"translate(574.48,0)\" style=\"stroke: rgb(68, 68, 68); stroke-opacity: 1; stroke-width: 1px;\"/><path class=\"xtick ticks crisp\" d=\"M0,373.425v5\" transform=\"translate(604.45,0)\" style=\"stroke: rgb(68, 68, 68); stroke-opacity: 1; stroke-width: 1px;\"/><path class=\"xtick ticks crisp\" d=\"M0,373.425v5\" transform=\"translate(634.42,0)\" style=\"stroke: rgb(68, 68, 68); stroke-opacity: 1; stroke-width: 1px;\"/><path class=\"xtick ticks crisp\" d=\"M0,373.425v5\" transform=\"translate(664.39,0)\" style=\"stroke: rgb(68, 68, 68); stroke-opacity: 1; stroke-width: 1px;\"/><path class=\"xtick ticks crisp\" d=\"M0,373.425v5\" transform=\"translate(694.36,0)\" style=\"stroke: rgb(68, 68, 68); stroke-opacity: 1; stroke-width: 1px;\"/><path class=\"xtick ticks crisp\" d=\"M0,373.425v5\" transform=\"translate(724.33,0)\" style=\"stroke: rgb(68, 68, 68); stroke-opacity: 1; stroke-width: 1px;\"/><path class=\"xtick ticks crisp\" d=\"M0,373.425v5\" transform=\"translate(754.3,0)\" style=\"stroke: rgb(68, 68, 68); stroke-opacity: 1; stroke-width: 1px;\"/><path class=\"xtick ticks crisp\" d=\"M0,373.425v5\" transform=\"translate(784.27,0)\" style=\"stroke: rgb(68, 68, 68); stroke-opacity: 1; stroke-width: 1px;\"/><path class=\"xtick ticks crisp\" d=\"M0,373.425v5\" transform=\"translate(814.23,0)\" style=\"stroke: rgb(68, 68, 68); stroke-opacity: 1; stroke-width: 1px;\"/><path class=\"xtick ticks crisp\" d=\"M0,373.425v5\" transform=\"translate(844.2,0)\" style=\"stroke: rgb(68, 68, 68); stroke-opacity: 1; stroke-width: 1px;\"/><path class=\"xtick ticks crisp\" d=\"M0,373.425v5\" transform=\"translate(874.17,0)\" style=\"stroke: rgb(68, 68, 68); stroke-opacity: 1; stroke-width: 1px;\"/><path class=\"xtick ticks crisp\" d=\"M0,373.425v5\" transform=\"translate(904.14,0)\" style=\"stroke: rgb(68, 68, 68); stroke-opacity: 1; stroke-width: 1px;\"/><path class=\"xtick ticks crisp\" d=\"M0,373.425v5\" transform=\"translate(934.11,0)\" style=\"stroke: rgb(68, 68, 68); stroke-opacity: 1; stroke-width: 1px;\"/><path class=\"xtick ticks crisp\" d=\"M0,373.425v5\" transform=\"translate(964.08,0)\" style=\"stroke: rgb(68, 68, 68); stroke-opacity: 1; stroke-width: 1px;\"/><path class=\"xtick ticks crisp\" d=\"M0,373.425v5\" transform=\"translate(994.05,0)\" style=\"stroke: rgb(68, 68, 68); stroke-opacity: 1; stroke-width: 1px;\"/><path class=\"xtick ticks crisp\" d=\"M0,373.425v5\" transform=\"translate(1024.02,0)\" style=\"stroke: rgb(68, 68, 68); stroke-opacity: 1; stroke-width: 1px;\"/></g><g class=\"yaxislayer-above\"><path class=\"ytick ticks crisp\" d=\"M79,0h-5\" transform=\"translate(0,372.43)\" style=\"stroke: rgb(68, 68, 68); stroke-opacity: 1; stroke-width: 1px;\"/><path class=\"ytick ticks crisp\" d=\"M79,0h-5\" transform=\"translate(0,331.9)\" style=\"stroke: rgb(68, 68, 68); stroke-opacity: 1; stroke-width: 1px;\"/><path class=\"ytick ticks crisp\" d=\"M79,0h-5\" transform=\"translate(0,291.37)\" style=\"stroke: rgb(68, 68, 68); stroke-opacity: 1; stroke-width: 1px;\"/><path class=\"ytick ticks crisp\" d=\"M79,0h-5\" transform=\"translate(0,250.84)\" style=\"stroke: rgb(68, 68, 68); stroke-opacity: 1; stroke-width: 1px;\"/><path class=\"ytick ticks crisp\" d=\"M79,0h-5\" transform=\"translate(0,210.31)\" style=\"stroke: rgb(68, 68, 68); stroke-opacity: 1; stroke-width: 1px;\"/><path class=\"ytick ticks crisp\" d=\"M79,0h-5\" transform=\"translate(0,169.78)\" style=\"stroke: rgb(68, 68, 68); stroke-opacity: 1; stroke-width: 1px;\"/><path class=\"ytick ticks crisp\" d=\"M79,0h-5\" transform=\"translate(0,129.26)\" style=\"stroke: rgb(68, 68, 68); stroke-opacity: 1; stroke-width: 1px;\"/><g class=\"ytick\"><text text-anchor=\"end\" x=\"71.6\" y=\"4.199999999999999\" transform=\"translate(0,372.43)\" style=\"font-family: 'Open Sans', verdana, arial, sans-serif; font-size: 12px; fill: rgb(36, 36, 36); fill-opacity: 1; white-space: pre;\">0</text></g><g class=\"ytick\"><text text-anchor=\"end\" x=\"71.6\" y=\"4.199999999999999\" transform=\"translate(0,331.9)\" style=\"font-family: 'Open Sans', verdana, arial, sans-serif; font-size: 12px; fill: rgb(36, 36, 36); fill-opacity: 1; white-space: pre;\">0.02</text></g><g class=\"ytick\"><text text-anchor=\"end\" x=\"71.6\" y=\"4.199999999999999\" transform=\"translate(0,291.37)\" style=\"font-family: 'Open Sans', verdana, arial, sans-serif; font-size: 12px; fill: rgb(36, 36, 36); fill-opacity: 1; white-space: pre;\">0.04</text></g><g class=\"ytick\"><text text-anchor=\"end\" x=\"71.6\" y=\"4.199999999999999\" transform=\"translate(0,250.84)\" style=\"font-family: 'Open Sans', verdana, arial, sans-serif; font-size: 12px; fill: rgb(36, 36, 36); fill-opacity: 1; white-space: pre;\">0.06</text></g><g class=\"ytick\"><text text-anchor=\"end\" x=\"71.6\" y=\"4.199999999999999\" transform=\"translate(0,210.31)\" style=\"font-family: 'Open Sans', verdana, arial, sans-serif; font-size: 12px; fill: rgb(36, 36, 36); fill-opacity: 1; white-space: pre;\">0.08</text></g><g class=\"ytick\"><text text-anchor=\"end\" x=\"71.6\" y=\"4.199999999999999\" transform=\"translate(0,169.78)\" style=\"font-family: 'Open Sans', verdana, arial, sans-serif; font-size: 12px; fill: rgb(36, 36, 36); fill-opacity: 1; white-space: pre;\">0.1</text></g><g class=\"ytick\"><text text-anchor=\"end\" x=\"71.6\" y=\"4.199999999999999\" transform=\"translate(0,129.26)\" style=\"font-family: 'Open Sans', verdana, arial, sans-serif; font-size: 12px; fill: rgb(36, 36, 36); fill-opacity: 1; white-space: pre;\">0.12</text></g></g><g class=\"overaxes-above\"/></g><g class=\"subplot x2y2\"><g class=\"layer-subplot\"><g class=\"shapelayer\"/><g class=\"imagelayer\"/></g><g class=\"gridlayer\"><g class=\"x2\"/><g class=\"y2\"/></g><g class=\"zerolinelayer\"/><path class=\"xlines-below\"/><path class=\"ylines-below\"/><g class=\"overlines-below\"/><g class=\"xaxislayer-below\"/><g class=\"yaxislayer-below\"/><g class=\"overaxes-below\"/><g class=\"plot\" transform=\"translate(80, 468.575)\" clip-path=\"url('#clip89863ex2y2plot')\"><g class=\"barlayer mlayer\"><g class=\"trace bars\" style=\"opacity: 0.6;\"><g class=\"points\"><g class=\"point\"><path d=\"M3,272.43V262.86H26.97V272.43Z\" style=\"vector-effect: non-scaling-stroke; opacity: 1; stroke-width: 2px; fill: rgb(252, 136, 141); fill-opacity: 1; stroke: rgb(107, 2, 6); stroke-opacity: 1;\"/></g><g class=\"point\"><path d=\"M32.97,272.43V47.98H56.94V272.43Z\" style=\"vector-effect: non-scaling-stroke; opacity: 1; stroke-width: 2px; fill: rgb(252, 136, 141); fill-opacity: 1; stroke: rgb(107, 2, 6); stroke-opacity: 1;\"/></g><g class=\"point\"><path d=\"M62.93,272.43V33.33H86.91V272.43Z\" style=\"vector-effect: non-scaling-stroke; opacity: 1; stroke-width: 2px; fill: rgb(252, 136, 141); fill-opacity: 1; stroke: rgb(107, 2, 6); stroke-opacity: 1;\"/></g><g class=\"point\"><path d=\"M92.9,272.43V254.68H116.88V272.43Z\" style=\"vector-effect: non-scaling-stroke; opacity: 1; stroke-width: 2px; fill: rgb(252, 136, 141); fill-opacity: 1; stroke: rgb(107, 2, 6); stroke-opacity: 1;\"/></g><g class=\"point\"><path d=\"M122.87,272.43V255.93H146.85V272.43Z\" style=\"vector-effect: non-scaling-stroke; opacity: 1; stroke-width: 2px; fill: rgb(252, 136, 141); fill-opacity: 1; stroke: rgb(107, 2, 6); stroke-opacity: 1;\"/></g><g class=\"point\"><path d=\"M152.84,272.43V230.09H176.82V272.43Z\" style=\"vector-effect: non-scaling-stroke; opacity: 1; stroke-width: 2px; fill: rgb(252, 136, 141); fill-opacity: 1; stroke: rgb(107, 2, 6); stroke-opacity: 1;\"/></g><g class=\"point\"><path d=\"M182.81,272.43V270.7H206.78V272.43Z\" style=\"vector-effect: non-scaling-stroke; opacity: 1; stroke-width: 2px; fill: rgb(252, 136, 141); fill-opacity: 1; stroke: rgb(107, 2, 6); stroke-opacity: 1;\"/></g><g class=\"point\"><path d=\"M212.78,272.43V224.28H236.75V272.43Z\" style=\"vector-effect: non-scaling-stroke; opacity: 1; stroke-width: 2px; fill: rgb(252, 136, 141); fill-opacity: 1; stroke: rgb(107, 2, 6); stroke-opacity: 1;\"/></g><g class=\"point\"><path d=\"M242.75,272.43V136.1H266.72V272.43Z\" style=\"vector-effect: non-scaling-stroke; opacity: 1; stroke-width: 2px; fill: rgb(252, 136, 141); fill-opacity: 1; stroke: rgb(107, 2, 6); stroke-opacity: 1;\"/></g><g class=\"point\"><path d=\"M272.72,272.43V157.17H296.69V272.43Z\" style=\"vector-effect: non-scaling-stroke; opacity: 1; stroke-width: 2px; fill: rgb(252, 136, 141); fill-opacity: 1; stroke: rgb(107, 2, 6); stroke-opacity: 1;\"/></g><g class=\"point\"><path d=\"M302.68,272.43V85H326.66V272.43Z\" style=\"vector-effect: non-scaling-stroke; opacity: 1; stroke-width: 2px; fill: rgb(252, 136, 141); fill-opacity: 1; stroke: rgb(107, 2, 6); stroke-opacity: 1;\"/></g><g class=\"point\"><path d=\"M332.65,272.43V188.07H356.63V272.43Z\" style=\"vector-effect: non-scaling-stroke; opacity: 1; stroke-width: 2px; fill: rgb(252, 136, 141); fill-opacity: 1; stroke: rgb(107, 2, 6); stroke-opacity: 1;\"/></g><g class=\"point\"><path d=\"M362.62,272.43V218.42H386.6V272.43Z\" style=\"vector-effect: non-scaling-stroke; opacity: 1; stroke-width: 2px; fill: rgb(252, 136, 141); fill-opacity: 1; stroke: rgb(107, 2, 6); stroke-opacity: 1;\"/></g><g class=\"point\"><path d=\"M392.59,272.43V13.62H416.57V272.43Z\" style=\"vector-effect: non-scaling-stroke; opacity: 1; stroke-width: 2px; fill: rgb(252, 136, 141); fill-opacity: 1; stroke: rgb(107, 2, 6); stroke-opacity: 1;\"/></g><g class=\"point\"><path d=\"M422.56,272.43V185.08H446.53V272.43Z\" style=\"vector-effect: non-scaling-stroke; opacity: 1; stroke-width: 2px; fill: rgb(252, 136, 141); fill-opacity: 1; stroke: rgb(107, 2, 6); stroke-opacity: 1;\"/></g><g class=\"point\"><path d=\"M452.53,272.43V55.37H476.5V272.43Z\" style=\"vector-effect: non-scaling-stroke; opacity: 1; stroke-width: 2px; fill: rgb(252, 136, 141); fill-opacity: 1; stroke: rgb(107, 2, 6); stroke-opacity: 1;\"/></g><g class=\"point\"><path d=\"M482.5,272.43V252.48H506.47V272.43Z\" style=\"vector-effect: non-scaling-stroke; opacity: 1; stroke-width: 2px; fill: rgb(252, 136, 141); fill-opacity: 1; stroke: rgb(107, 2, 6); stroke-opacity: 1;\"/></g><g class=\"point\"><path d=\"M512.47,272.43V239.48H536.44V272.43Z\" style=\"vector-effect: non-scaling-stroke; opacity: 1; stroke-width: 2px; fill: rgb(252, 136, 141); fill-opacity: 1; stroke: rgb(107, 2, 6); stroke-opacity: 1;\"/></g><g class=\"point\"><path d=\"M542.43,272.43V271.1H566.41V272.43Z\" style=\"vector-effect: non-scaling-stroke; opacity: 1; stroke-width: 2px; fill: rgb(252, 136, 141); fill-opacity: 1; stroke: rgb(107, 2, 6); stroke-opacity: 1;\"/></g><g class=\"point\"><path d=\"M572.4,272.43V271.11H596.38V272.43Z\" style=\"vector-effect: non-scaling-stroke; opacity: 1; stroke-width: 2px; fill: rgb(252, 136, 141); fill-opacity: 1; stroke: rgb(107, 2, 6); stroke-opacity: 1;\"/></g><g class=\"point\"><path d=\"M602.37,272.43V270.95H626.35V272.43Z\" style=\"vector-effect: non-scaling-stroke; opacity: 1; stroke-width: 2px; fill: rgb(252, 136, 141); fill-opacity: 1; stroke: rgb(107, 2, 6); stroke-opacity: 1;\"/></g><g class=\"point\"><path d=\"M632.34,272.43V271.37H656.32V272.43Z\" style=\"vector-effect: non-scaling-stroke; opacity: 1; stroke-width: 2px; fill: rgb(252, 136, 141); fill-opacity: 1; stroke: rgb(107, 2, 6); stroke-opacity: 1;\"/></g><g class=\"point\"><path d=\"M662.31,272.43V207.25H686.28V272.43Z\" style=\"vector-effect: non-scaling-stroke; opacity: 1; stroke-width: 2px; fill: rgb(252, 136, 141); fill-opacity: 1; stroke: rgb(107, 2, 6); stroke-opacity: 1;\"/></g><g class=\"point\"><path d=\"M692.28,272.43V174.29H716.25V272.43Z\" style=\"vector-effect: non-scaling-stroke; opacity: 1; stroke-width: 2px; fill: rgb(252, 136, 141); fill-opacity: 1; stroke: rgb(107, 2, 6); stroke-opacity: 1;\"/></g><g class=\"point\"><path d=\"M722.25,272.43V263.75H746.22V272.43Z\" style=\"vector-effect: non-scaling-stroke; opacity: 1; stroke-width: 2px; fill: rgb(252, 136, 141); fill-opacity: 1; stroke: rgb(107, 2, 6); stroke-opacity: 1;\"/></g><g class=\"point\"><path d=\"M752.22,272.43V267.7H776.19V272.43Z\" style=\"vector-effect: non-scaling-stroke; opacity: 1; stroke-width: 2px; fill: rgb(252, 136, 141); fill-opacity: 1; stroke: rgb(107, 2, 6); stroke-opacity: 1;\"/></g><g class=\"point\"><path d=\"M782.18,272.43V179.74H806.16V272.43Z\" style=\"vector-effect: non-scaling-stroke; opacity: 1; stroke-width: 2px; fill: rgb(252, 136, 141); fill-opacity: 1; stroke: rgb(107, 2, 6); stroke-opacity: 1;\"/></g><g class=\"point\"><path d=\"M812.15,272.43V125.85H836.13V272.43Z\" style=\"vector-effect: non-scaling-stroke; opacity: 1; stroke-width: 2px; fill: rgb(252, 136, 141); fill-opacity: 1; stroke: rgb(107, 2, 6); stroke-opacity: 1;\"/></g><g class=\"point\"><path d=\"M842.12,272.43V263.87H866.1V272.43Z\" style=\"vector-effect: non-scaling-stroke; opacity: 1; stroke-width: 2px; fill: rgb(252, 136, 141); fill-opacity: 1; stroke: rgb(107, 2, 6); stroke-opacity: 1;\"/></g><g class=\"point\"><path d=\"M872.09,272.43V267.98H896.07V272.43Z\" style=\"vector-effect: non-scaling-stroke; opacity: 1; stroke-width: 2px; fill: rgb(252, 136, 141); fill-opacity: 1; stroke: rgb(107, 2, 6); stroke-opacity: 1;\"/></g><g class=\"point\"><path d=\"M902.06,272.43V218.28H926.03V272.43Z\" style=\"vector-effect: non-scaling-stroke; opacity: 1; stroke-width: 2px; fill: rgb(252, 136, 141); fill-opacity: 1; stroke: rgb(107, 2, 6); stroke-opacity: 1;\"/></g><g class=\"point\"><path d=\"M932.03,272.43V134.39H956V272.43Z\" style=\"vector-effect: non-scaling-stroke; opacity: 1; stroke-width: 2px; fill: rgb(252, 136, 141); fill-opacity: 1; stroke: rgb(107, 2, 6); stroke-opacity: 1;\"/></g></g></g></g></g><g class=\"overplot\"/><path class=\"xlines-above crisp\" d=\"M79,741.5H1039\" style=\"fill: none; stroke-width: 1px; stroke: rgb(36, 36, 36); stroke-opacity: 1;\"/><path class=\"ylines-above crisp\" d=\"M79.5,468.575V741\" style=\"fill: none; stroke-width: 1px; stroke: rgb(36, 36, 36); stroke-opacity: 1;\"/><g class=\"overlines-above\"/><g class=\"xaxislayer-above\"><path class=\"x2tick ticks crisp\" d=\"M0,742v5\" transform=\"translate(94.98,0)\" style=\"stroke: rgb(68, 68, 68); stroke-opacity: 1; stroke-width: 1px;\"/><path class=\"x2tick ticks crisp\" d=\"M0,742v5\" transform=\"translate(124.95,0)\" style=\"stroke: rgb(68, 68, 68); stroke-opacity: 1; stroke-width: 1px;\"/><path class=\"x2tick ticks crisp\" d=\"M0,742v5\" transform=\"translate(154.92000000000002,0)\" style=\"stroke: rgb(68, 68, 68); stroke-opacity: 1; stroke-width: 1px;\"/><path class=\"x2tick ticks crisp\" d=\"M0,742v5\" transform=\"translate(184.89,0)\" style=\"stroke: rgb(68, 68, 68); stroke-opacity: 1; stroke-width: 1px;\"/><path class=\"x2tick ticks crisp\" d=\"M0,742v5\" transform=\"translate(214.86,0)\" style=\"stroke: rgb(68, 68, 68); stroke-opacity: 1; stroke-width: 1px;\"/><path class=\"x2tick ticks crisp\" d=\"M0,742v5\" transform=\"translate(244.83,0)\" style=\"stroke: rgb(68, 68, 68); stroke-opacity: 1; stroke-width: 1px;\"/><path class=\"x2tick ticks crisp\" d=\"M0,742v5\" transform=\"translate(274.8,0)\" style=\"stroke: rgb(68, 68, 68); stroke-opacity: 1; stroke-width: 1px;\"/><path class=\"x2tick ticks crisp\" d=\"M0,742v5\" transform=\"translate(304.77,0)\" style=\"stroke: rgb(68, 68, 68); stroke-opacity: 1; stroke-width: 1px;\"/><path class=\"x2tick ticks crisp\" d=\"M0,742v5\" transform=\"translate(334.73,0)\" style=\"stroke: rgb(68, 68, 68); stroke-opacity: 1; stroke-width: 1px;\"/><path class=\"x2tick ticks crisp\" d=\"M0,742v5\" transform=\"translate(364.7,0)\" style=\"stroke: rgb(68, 68, 68); stroke-opacity: 1; stroke-width: 1px;\"/><path class=\"x2tick ticks crisp\" d=\"M0,742v5\" transform=\"translate(394.67,0)\" style=\"stroke: rgb(68, 68, 68); stroke-opacity: 1; stroke-width: 1px;\"/><path class=\"x2tick ticks crisp\" d=\"M0,742v5\" transform=\"translate(424.64,0)\" style=\"stroke: rgb(68, 68, 68); stroke-opacity: 1; stroke-width: 1px;\"/><path class=\"x2tick ticks crisp\" d=\"M0,742v5\" transform=\"translate(454.61,0)\" style=\"stroke: rgb(68, 68, 68); stroke-opacity: 1; stroke-width: 1px;\"/><path class=\"x2tick ticks crisp\" d=\"M0,742v5\" transform=\"translate(484.58,0)\" style=\"stroke: rgb(68, 68, 68); stroke-opacity: 1; stroke-width: 1px;\"/><path class=\"x2tick ticks crisp\" d=\"M0,742v5\" transform=\"translate(514.55,0)\" style=\"stroke: rgb(68, 68, 68); stroke-opacity: 1; stroke-width: 1px;\"/><path class=\"x2tick ticks crisp\" d=\"M0,742v5\" transform=\"translate(544.52,0)\" style=\"stroke: rgb(68, 68, 68); stroke-opacity: 1; stroke-width: 1px;\"/><path class=\"x2tick ticks crisp\" d=\"M0,742v5\" transform=\"translate(574.48,0)\" style=\"stroke: rgb(68, 68, 68); stroke-opacity: 1; stroke-width: 1px;\"/><path class=\"x2tick ticks crisp\" d=\"M0,742v5\" transform=\"translate(604.45,0)\" style=\"stroke: rgb(68, 68, 68); stroke-opacity: 1; stroke-width: 1px;\"/><path class=\"x2tick ticks crisp\" d=\"M0,742v5\" transform=\"translate(634.42,0)\" style=\"stroke: rgb(68, 68, 68); stroke-opacity: 1; stroke-width: 1px;\"/><path class=\"x2tick ticks crisp\" d=\"M0,742v5\" transform=\"translate(664.39,0)\" style=\"stroke: rgb(68, 68, 68); stroke-opacity: 1; stroke-width: 1px;\"/><path class=\"x2tick ticks crisp\" d=\"M0,742v5\" transform=\"translate(694.36,0)\" style=\"stroke: rgb(68, 68, 68); stroke-opacity: 1; stroke-width: 1px;\"/><path class=\"x2tick ticks crisp\" d=\"M0,742v5\" transform=\"translate(724.33,0)\" style=\"stroke: rgb(68, 68, 68); stroke-opacity: 1; stroke-width: 1px;\"/><path class=\"x2tick ticks crisp\" d=\"M0,742v5\" transform=\"translate(754.3,0)\" style=\"stroke: rgb(68, 68, 68); stroke-opacity: 1; stroke-width: 1px;\"/><path class=\"x2tick ticks crisp\" d=\"M0,742v5\" transform=\"translate(784.27,0)\" style=\"stroke: rgb(68, 68, 68); stroke-opacity: 1; stroke-width: 1px;\"/><path class=\"x2tick ticks crisp\" d=\"M0,742v5\" transform=\"translate(814.23,0)\" style=\"stroke: rgb(68, 68, 68); stroke-opacity: 1; stroke-width: 1px;\"/><path class=\"x2tick ticks crisp\" d=\"M0,742v5\" transform=\"translate(844.2,0)\" style=\"stroke: rgb(68, 68, 68); stroke-opacity: 1; stroke-width: 1px;\"/><path class=\"x2tick ticks crisp\" d=\"M0,742v5\" transform=\"translate(874.17,0)\" style=\"stroke: rgb(68, 68, 68); stroke-opacity: 1; stroke-width: 1px;\"/><path class=\"x2tick ticks crisp\" d=\"M0,742v5\" transform=\"translate(904.14,0)\" style=\"stroke: rgb(68, 68, 68); stroke-opacity: 1; stroke-width: 1px;\"/><path class=\"x2tick ticks crisp\" d=\"M0,742v5\" transform=\"translate(934.11,0)\" style=\"stroke: rgb(68, 68, 68); stroke-opacity: 1; stroke-width: 1px;\"/><path class=\"x2tick ticks crisp\" d=\"M0,742v5\" transform=\"translate(964.08,0)\" style=\"stroke: rgb(68, 68, 68); stroke-opacity: 1; stroke-width: 1px;\"/><path class=\"x2tick ticks crisp\" d=\"M0,742v5\" transform=\"translate(994.05,0)\" style=\"stroke: rgb(68, 68, 68); stroke-opacity: 1; stroke-width: 1px;\"/><path class=\"x2tick ticks crisp\" d=\"M0,742v5\" transform=\"translate(1024.02,0)\" style=\"stroke: rgb(68, 68, 68); stroke-opacity: 1; stroke-width: 1px;\"/><g class=\"x2tick\"><text text-anchor=\"start\" x=\"0\" y=\"761.4\" transform=\"translate(94.98,0) rotate(90,0,755.4)\" style=\"font-family: 'Open Sans', verdana, arial, sans-serif; font-size: 12px; fill: rgb(36, 36, 36); fill-opacity: 1; white-space: pre;\">aon</text></g><g class=\"x2tick\"><text text-anchor=\"start\" x=\"0\" y=\"761.4\" transform=\"translate(124.95,0) rotate(90,0,755.4)\" style=\"font-family: 'Open Sans', verdana, arial, sans-serif; font-size: 12px; fill: rgb(36, 36, 36); fill-opacity: 1; white-space: pre;\">daily_decr30</text></g><g class=\"x2tick\"><text text-anchor=\"start\" x=\"0\" y=\"761.4\" transform=\"translate(154.92000000000002,0) rotate(90,0,755.4)\" style=\"font-family: 'Open Sans', verdana, arial, sans-serif; font-size: 12px; fill: rgb(36, 36, 36); fill-opacity: 1; white-space: pre;\">daily_decr90</text></g><g class=\"x2tick\"><text text-anchor=\"start\" x=\"0\" y=\"761.4\" transform=\"translate(184.89,0) rotate(90,0,755.4)\" style=\"font-family: 'Open Sans', verdana, arial, sans-serif; font-size: 12px; fill: rgb(36, 36, 36); fill-opacity: 1; white-space: pre;\">rental30</text></g><g class=\"x2tick\"><text text-anchor=\"start\" x=\"0\" y=\"761.4\" transform=\"translate(214.86,0) rotate(90,0,755.4)\" style=\"font-family: 'Open Sans', verdana, arial, sans-serif; font-size: 12px; fill: rgb(36, 36, 36); fill-opacity: 1; white-space: pre;\">rental90</text></g><g class=\"x2tick\"><text text-anchor=\"start\" x=\"0\" y=\"761.4\" transform=\"translate(244.83,0) rotate(90,0,755.4)\" style=\"font-family: 'Open Sans', verdana, arial, sans-serif; font-size: 12px; fill: rgb(36, 36, 36); fill-opacity: 1; white-space: pre;\">last_rech_date_ma</text></g><g class=\"x2tick\"><text text-anchor=\"start\" x=\"0\" y=\"761.4\" transform=\"translate(274.8,0) rotate(90,0,755.4)\" style=\"font-family: 'Open Sans', verdana, arial, sans-serif; font-size: 12px; fill: rgb(36, 36, 36); fill-opacity: 1; white-space: pre;\">last_rech_date_da</text></g><g class=\"x2tick\"><text text-anchor=\"start\" x=\"0\" y=\"761.4\" transform=\"translate(304.77,0) rotate(90,0,755.4)\" style=\"font-family: 'Open Sans', verdana, arial, sans-serif; font-size: 12px; fill: rgb(36, 36, 36); fill-opacity: 1; white-space: pre;\">last_rech_amt_ma</text></g><g class=\"x2tick\"><text text-anchor=\"start\" x=\"0\" y=\"761.4\" transform=\"translate(334.73,0) rotate(90,0,755.4)\" style=\"font-family: 'Open Sans', verdana, arial, sans-serif; font-size: 12px; fill: rgb(36, 36, 36); fill-opacity: 1; white-space: pre;\">cnt_ma_rech30</text></g><g class=\"x2tick\"><text text-anchor=\"start\" x=\"0\" y=\"761.4\" transform=\"translate(364.7,0) rotate(90,0,755.4)\" style=\"font-family: 'Open Sans', verdana, arial, sans-serif; font-size: 12px; fill: rgb(36, 36, 36); fill-opacity: 1; white-space: pre;\">fr_ma_rech30</text></g><g class=\"x2tick\"><text text-anchor=\"start\" x=\"0\" y=\"761.4\" transform=\"translate(394.67,0) rotate(90,0,755.4)\" style=\"font-family: 'Open Sans', verdana, arial, sans-serif; font-size: 12px; fill: rgb(36, 36, 36); fill-opacity: 1; white-space: pre;\">sumamnt_ma_rech30</text></g><g class=\"x2tick\"><text text-anchor=\"start\" x=\"0\" y=\"761.4\" transform=\"translate(424.64,0) rotate(90,0,755.4)\" style=\"font-family: 'Open Sans', verdana, arial, sans-serif; font-size: 12px; fill: rgb(36, 36, 36); fill-opacity: 1; white-space: pre;\">medianamnt_ma_rech30</text></g><g class=\"x2tick\"><text text-anchor=\"start\" x=\"0\" y=\"761.4\" transform=\"translate(454.61,0) rotate(90,0,755.4)\" style=\"font-family: 'Open Sans', verdana, arial, sans-serif; font-size: 12px; fill: rgb(36, 36, 36); fill-opacity: 1; white-space: pre;\">medianmarechprebal30</text></g><g class=\"x2tick\"><text text-anchor=\"start\" x=\"0\" y=\"761.4\" transform=\"translate(484.58,0) rotate(90,0,755.4)\" style=\"font-family: 'Open Sans', verdana, arial, sans-serif; font-size: 12px; fill: rgb(36, 36, 36); fill-opacity: 1; white-space: pre;\">cnt_ma_rech90</text></g><g class=\"x2tick\"><text text-anchor=\"start\" x=\"0\" y=\"761.4\" transform=\"translate(514.55,0) rotate(90,0,755.4)\" style=\"font-family: 'Open Sans', verdana, arial, sans-serif; font-size: 12px; fill: rgb(36, 36, 36); fill-opacity: 1; white-space: pre;\">fr_ma_rech90</text></g><g class=\"x2tick\"><text text-anchor=\"start\" x=\"0\" y=\"761.4\" transform=\"translate(544.52,0) rotate(90,0,755.4)\" style=\"font-family: 'Open Sans', verdana, arial, sans-serif; font-size: 12px; fill: rgb(36, 36, 36); fill-opacity: 1; white-space: pre;\">sumamnt_ma_rech90</text></g><g class=\"x2tick\"><text text-anchor=\"start\" x=\"0\" y=\"761.4\" transform=\"translate(574.48,0) rotate(90,0,755.4)\" style=\"font-family: 'Open Sans', verdana, arial, sans-serif; font-size: 12px; fill: rgb(36, 36, 36); fill-opacity: 1; white-space: pre;\">medianamnt_ma_rech90</text></g><g class=\"x2tick\"><text text-anchor=\"start\" x=\"0\" y=\"761.4\" transform=\"translate(604.45,0) rotate(90,0,755.4)\" style=\"font-family: 'Open Sans', verdana, arial, sans-serif; font-size: 12px; fill: rgb(36, 36, 36); fill-opacity: 1; white-space: pre;\">medianmarechprebal90</text></g><g class=\"x2tick\"><text text-anchor=\"start\" x=\"0\" y=\"761.4\" transform=\"translate(634.42,0) rotate(90,0,755.4)\" style=\"font-family: 'Open Sans', verdana, arial, sans-serif; font-size: 12px; fill: rgb(36, 36, 36); fill-opacity: 1; white-space: pre;\">cnt_da_rech30</text></g><g class=\"x2tick\"><text text-anchor=\"start\" x=\"0\" y=\"761.4\" transform=\"translate(664.39,0) rotate(90,0,755.4)\" style=\"font-family: 'Open Sans', verdana, arial, sans-serif; font-size: 12px; fill: rgb(36, 36, 36); fill-opacity: 1; white-space: pre;\">fr_da_rech30</text></g><g class=\"x2tick\"><text text-anchor=\"start\" x=\"0\" y=\"761.4\" transform=\"translate(694.36,0) rotate(90,0,755.4)\" style=\"font-family: 'Open Sans', verdana, arial, sans-serif; font-size: 12px; fill: rgb(36, 36, 36); fill-opacity: 1; white-space: pre;\">cnt_da_rech90</text></g><g class=\"x2tick\"><text text-anchor=\"start\" x=\"0\" y=\"761.4\" transform=\"translate(724.33,0) rotate(90,0,755.4)\" style=\"font-family: 'Open Sans', verdana, arial, sans-serif; font-size: 12px; fill: rgb(36, 36, 36); fill-opacity: 1; white-space: pre;\">fr_da_rech90</text></g><g class=\"x2tick\"><text text-anchor=\"start\" x=\"0\" y=\"761.4\" transform=\"translate(754.3,0) rotate(90,0,755.4)\" style=\"font-family: 'Open Sans', verdana, arial, sans-serif; font-size: 12px; fill: rgb(36, 36, 36); fill-opacity: 1; white-space: pre;\">cnt_loans30</text></g><g class=\"x2tick\"><text text-anchor=\"start\" x=\"0\" y=\"761.4\" transform=\"translate(784.27,0) rotate(90,0,755.4)\" style=\"font-family: 'Open Sans', verdana, arial, sans-serif; font-size: 12px; fill: rgb(36, 36, 36); fill-opacity: 1; white-space: pre;\">amnt_loans30</text></g><g class=\"x2tick\"><text text-anchor=\"start\" x=\"0\" y=\"761.4\" transform=\"translate(814.23,0) rotate(90,0,755.4)\" style=\"font-family: 'Open Sans', verdana, arial, sans-serif; font-size: 12px; fill: rgb(36, 36, 36); fill-opacity: 1; white-space: pre;\">maxamnt_loans30</text></g><g class=\"x2tick\"><text text-anchor=\"start\" x=\"0\" y=\"761.4\" transform=\"translate(844.2,0) rotate(90,0,755.4)\" style=\"font-family: 'Open Sans', verdana, arial, sans-serif; font-size: 12px; fill: rgb(36, 36, 36); fill-opacity: 1; white-space: pre;\">medianamnt_loans30</text></g><g class=\"x2tick\"><text text-anchor=\"start\" x=\"0\" y=\"761.4\" transform=\"translate(874.17,0) rotate(90,0,755.4)\" style=\"font-family: 'Open Sans', verdana, arial, sans-serif; font-size: 12px; fill: rgb(36, 36, 36); fill-opacity: 1; white-space: pre;\">cnt_loans90</text></g><g class=\"x2tick\"><text text-anchor=\"start\" x=\"0\" y=\"761.4\" transform=\"translate(904.14,0) rotate(90,0,755.4)\" style=\"font-family: 'Open Sans', verdana, arial, sans-serif; font-size: 12px; fill: rgb(36, 36, 36); fill-opacity: 1; white-space: pre;\">amnt_loans90</text></g><g class=\"x2tick\"><text text-anchor=\"start\" x=\"0\" y=\"761.4\" transform=\"translate(934.11,0) rotate(90,0,755.4)\" style=\"font-family: 'Open Sans', verdana, arial, sans-serif; font-size: 12px; fill: rgb(36, 36, 36); fill-opacity: 1; white-space: pre;\">maxamnt_loans90</text></g><g class=\"x2tick\"><text text-anchor=\"start\" x=\"0\" y=\"761.4\" transform=\"translate(964.08,0) rotate(90,0,755.4)\" style=\"font-family: 'Open Sans', verdana, arial, sans-serif; font-size: 12px; fill: rgb(36, 36, 36); fill-opacity: 1; white-space: pre;\">medianamnt_loans90</text></g><g class=\"x2tick\"><text text-anchor=\"start\" x=\"0\" y=\"761.4\" transform=\"translate(994.05,0) rotate(90,0,755.4)\" style=\"font-family: 'Open Sans', verdana, arial, sans-serif; font-size: 12px; fill: rgb(36, 36, 36); fill-opacity: 1; white-space: pre;\">payback30</text></g><g class=\"x2tick\"><text text-anchor=\"start\" x=\"0\" y=\"761.4\" transform=\"translate(1024.02,0) rotate(90,0,755.4)\" style=\"font-family: 'Open Sans', verdana, arial, sans-serif; font-size: 12px; fill: rgb(36, 36, 36); fill-opacity: 1; white-space: pre;\">payback90</text></g></g><g class=\"yaxislayer-above\"><path class=\"y2tick ticks crisp\" d=\"M79,0h-5\" transform=\"translate(0,741.005)\" style=\"stroke: rgb(68, 68, 68); stroke-opacity: 1; stroke-width: 1px;\"/><path class=\"y2tick ticks crisp\" d=\"M79,0h-5\" transform=\"translate(0,693.835)\" style=\"stroke: rgb(68, 68, 68); stroke-opacity: 1; stroke-width: 1px;\"/><path class=\"y2tick ticks crisp\" d=\"M79,0h-5\" transform=\"translate(0,646.675)\" style=\"stroke: rgb(68, 68, 68); stroke-opacity: 1; stroke-width: 1px;\"/><path class=\"y2tick ticks crisp\" d=\"M79,0h-5\" transform=\"translate(0,599.505)\" style=\"stroke: rgb(68, 68, 68); stroke-opacity: 1; stroke-width: 1px;\"/><path class=\"y2tick ticks crisp\" d=\"M79,0h-5\" transform=\"translate(0,552.345)\" style=\"stroke: rgb(68, 68, 68); stroke-opacity: 1; stroke-width: 1px;\"/><path class=\"y2tick ticks crisp\" d=\"M79,0h-5\" transform=\"translate(0,505.185)\" style=\"stroke: rgb(68, 68, 68); stroke-opacity: 1; stroke-width: 1px;\"/><g class=\"y2tick\"><text text-anchor=\"end\" x=\"71.6\" y=\"4.199999999999999\" transform=\"translate(0,741.005)\" style=\"font-family: 'Open Sans', verdana, arial, sans-serif; font-size: 12px; fill: rgb(36, 36, 36); fill-opacity: 1; white-space: pre;\">0</text></g><g class=\"y2tick\"><text text-anchor=\"end\" x=\"71.6\" y=\"4.199999999999999\" transform=\"translate(0,693.835)\" style=\"font-family: 'Open Sans', verdana, arial, sans-serif; font-size: 12px; fill: rgb(36, 36, 36); fill-opacity: 1; white-space: pre;\">0.01</text></g><g class=\"y2tick\"><text text-anchor=\"end\" x=\"71.6\" y=\"4.199999999999999\" transform=\"translate(0,646.675)\" style=\"font-family: 'Open Sans', verdana, arial, sans-serif; font-size: 12px; fill: rgb(36, 36, 36); fill-opacity: 1; white-space: pre;\">0.02</text></g><g class=\"y2tick\"><text text-anchor=\"end\" x=\"71.6\" y=\"4.199999999999999\" transform=\"translate(0,599.505)\" style=\"font-family: 'Open Sans', verdana, arial, sans-serif; font-size: 12px; fill: rgb(36, 36, 36); fill-opacity: 1; white-space: pre;\">0.03</text></g><g class=\"y2tick\"><text text-anchor=\"end\" x=\"71.6\" y=\"4.199999999999999\" transform=\"translate(0,552.345)\" style=\"font-family: 'Open Sans', verdana, arial, sans-serif; font-size: 12px; fill: rgb(36, 36, 36); fill-opacity: 1; white-space: pre;\">0.04</text></g><g class=\"y2tick\"><text text-anchor=\"end\" x=\"71.6\" y=\"4.199999999999999\" transform=\"translate(0,505.185)\" style=\"font-family: 'Open Sans', verdana, arial, sans-serif; font-size: 12px; fill: rgb(36, 36, 36); fill-opacity: 1; white-space: pre;\">0.05</text></g></g><g class=\"overaxes-above\"/></g></g><g class=\"polarlayer\"/><g class=\"ternarylayer\"/><g class=\"geolayer\"/><g class=\"funnelarealayer\"/><g class=\"pielayer\"/><g class=\"treemaplayer\"/><g class=\"sunburstlayer\"/><g class=\"glimages\"/><defs id=\"topdefs-89863e\"><g class=\"clips\"/><clipPath id=\"legend89863e\"><rect width=\"130\" height=\"48\" x=\"0\" y=\"0\"/></clipPath></defs><g class=\"layer-above\"><g class=\"imagelayer\"/><g class=\"shapelayer\"/></g><g class=\"infolayer\"><g class=\"legend\" pointer-events=\"all\" transform=\"translate(1058.18, 100)\"><rect class=\"bg\" shape-rendering=\"crispEdges\" width=\"130\" height=\"48\" x=\"0\" y=\"0\" style=\"stroke: rgb(68, 68, 68); stroke-opacity: 1; fill: rgb(255, 255, 255); fill-opacity: 1; stroke-width: 0px;\"/><g class=\"scrollbox\" transform=\"translate(0, 0)\" clip-path=\"url('#legend89863e')\"><g class=\"groups\"><g class=\"traces\" transform=\"translate(0, 14.5)\" style=\"opacity: 1;\"><text class=\"legendtext user-select-none\" text-anchor=\"start\" x=\"40\" y=\"4.680000000000001\" style=\"font-family: 'Open Sans', verdana, arial, sans-serif; font-size: 12px; fill: rgb(36, 36, 36); fill-opacity: 1; white-space: pre;\">Non-normalized</text><g class=\"layers\" style=\"opacity: 0.6;\"><g class=\"legendfill\"/><g class=\"legendlines\"/><g class=\"legendsymbols\"><g class=\"legendpoints\"><path class=\"legendundefined\" d=\"M6,6H-6V-6H6Z\" transform=\"translate(20,0)\" style=\"stroke-width: 2px; fill: rgb(171, 241, 255); fill-opacity: 1; stroke: rgb(12, 0, 255); stroke-opacity: 1;\"/></g></g></g><rect class=\"legendtoggle\" pointer-events=\"all\" x=\"0\" y=\"-9.5\" width=\"124.703125\" height=\"19\" style=\"cursor: pointer; fill: rgb(0, 0, 0); fill-opacity: 0;\"/></g><g class=\"traces\" transform=\"translate(0, 33.5)\" style=\"opacity: 1;\"><text class=\"legendtext user-select-none\" text-anchor=\"start\" x=\"40\" y=\"4.680000000000001\" style=\"font-family: 'Open Sans', verdana, arial, sans-serif; font-size: 12px; fill: rgb(36, 36, 36); fill-opacity: 1; white-space: pre;\">Normalized</text><g class=\"layers\" style=\"opacity: 0.6;\"><g class=\"legendfill\"/><g class=\"legendlines\"/><g class=\"legendsymbols\"><g class=\"legendpoints\"><path class=\"legendundefined\" d=\"M6,6H-6V-6H6Z\" transform=\"translate(20,0)\" style=\"stroke-width: 2px; fill: rgb(252, 136, 141); fill-opacity: 1; stroke: rgb(107, 2, 6); stroke-opacity: 1;\"/></g></g></g><rect class=\"legendtoggle\" pointer-events=\"all\" x=\"0\" y=\"-9.5\" width=\"124.703125\" height=\"19\" style=\"cursor: pointer; fill: rgb(0, 0, 0); fill-opacity: 0;\"/></g></g></g><rect class=\"scrollbar\" rx=\"20\" ry=\"3\" width=\"0\" height=\"0\" x=\"0\" y=\"0\" style=\"fill: rgb(128, 139, 164); fill-opacity: 1;\"/></g><g class=\"g-gtitle\"><text class=\"gtitle\" x=\"60\" y=\"50\" text-anchor=\"start\" dy=\"0em\" style=\"font-family: 'Open Sans', verdana, arial, sans-serif; font-size: 17px; fill: rgb(36, 36, 36); opacity: 1; font-weight: normal; white-space: pre;\">Comparing different feature importance(RFC)</text></g><g class=\"g-xtitle\"/><g class=\"g-x2title\"/><g class=\"g-ytitle\"/><g class=\"g-y2title\"/></g></svg>"
          },
          "metadata": {
            "tags": []
          }
        }
      ]
    },
    {
      "cell_type": "markdown",
      "metadata": {
        "id": "6BSR-xoUi0u6"
      },
      "source": [
        "<h3>⭐Gradient Boosting Classifier</h3>"
      ]
    },
    {
      "cell_type": "markdown",
      "metadata": {
        "id": "KzNXRPxqmB-b"
      },
      "source": [
        "Boosting(ex. gradient boosting):- can overfit, reduce bias & variance, sequential classifier. "
      ]
    },
    {
      "cell_type": "code",
      "metadata": {
        "id": "0Tc582Wnf2y6",
        "outputId": "3b56b1e2-566a-4359-e70e-27d5368cd79f",
        "colab": {
          "base_uri": "https://localhost:8080/"
        }
      },
      "source": [
        "from sklearn.ensemble import GradientBoostingClassifier\n",
        "GBC = GradientBoostingClassifier(random_state=10)\n",
        "GBC.fit(x_train,y_train)"
      ],
      "execution_count": 41,
      "outputs": [
        {
          "output_type": "execute_result",
          "data": {
            "text/plain": [
              "GradientBoostingClassifier(ccp_alpha=0.0, criterion='friedman_mse', init=None,\n",
              "                           learning_rate=0.1, loss='deviance', max_depth=3,\n",
              "                           max_features=None, max_leaf_nodes=None,\n",
              "                           min_impurity_decrease=0.0, min_impurity_split=None,\n",
              "                           min_samples_leaf=1, min_samples_split=2,\n",
              "                           min_weight_fraction_leaf=0.0, n_estimators=100,\n",
              "                           n_iter_no_change=None, presort='deprecated',\n",
              "                           random_state=10, subsample=1.0, tol=0.0001,\n",
              "                           validation_fraction=0.1, verbose=0,\n",
              "                           warm_start=False)"
            ]
          },
          "metadata": {
            "tags": []
          },
          "execution_count": 41
        }
      ]
    },
    {
      "cell_type": "code",
      "metadata": {
        "id": "1hExSQSgiYkL",
        "outputId": "4ee939de-abe1-489f-bf67-31aa40931154",
        "colab": {
          "base_uri": "https://localhost:8080/"
        }
      },
      "source": [
        "GBC.feature_importances_"
      ],
      "execution_count": 42,
      "outputs": [
        {
          "output_type": "execute_result",
          "data": {
            "text/plain": [
              "array([9.62251001e-03, 9.25135684e-02, 5.32308363e-01, 1.64473482e-02,\n",
              "       4.00856129e-02, 2.38620049e-02, 0.00000000e+00, 5.99404545e-04,\n",
              "       7.54464764e-05, 0.00000000e+00, 3.21844687e-02, 7.26719574e-03,\n",
              "       4.31067584e-03, 8.40637936e-02, 4.25982371e-04, 8.44635200e-02,\n",
              "       1.07478149e-03, 1.77789786e-02, 0.00000000e+00, 0.00000000e+00,\n",
              "       1.62629199e-05, 1.34513891e-04, 4.28940671e-03, 5.03619999e-03,\n",
              "       3.28477742e-04, 3.40179742e-03, 2.67685659e-03, 1.16704069e-02,\n",
              "       4.32007096e-03, 2.26390425e-03, 1.45836720e-03, 1.73200811e-02])"
            ]
          },
          "metadata": {
            "tags": []
          },
          "execution_count": 42
        }
      ]
    },
    {
      "cell_type": "code",
      "metadata": {
        "id": "ai72rtXrpysN",
        "outputId": "9fda73df-a5f5-4060-a63c-1389ec96eeb4",
        "colab": {
          "base_uri": "https://localhost:8080/"
        }
      },
      "source": [
        "GBC_y_pred = GBC.predict(x_test)\n",
        "GBC_accuracy = accuracy_score(GBC_y_pred,y_test)\n",
        "GBC_recall = recall_score(GBC_y_pred,y_test)\n",
        "GBC_precision = precision_score(GBC_y_pred,y_test)\n",
        "print(classification_report(GBC_y_pred,y_test))\n",
        "print('Confusion Matrix:\\n',confusion_matrix(GBC_y_pred,y_test))"
      ],
      "execution_count": 43,
      "outputs": [
        {
          "output_type": "stream",
          "text": [
            "              precision    recall  f1-score   support\n",
            "\n",
            "           0       0.35      0.81      0.49      2253\n",
            "           1       0.99      0.91      0.95     39666\n",
            "\n",
            "    accuracy                           0.91     41919\n",
            "   macro avg       0.67      0.86      0.72     41919\n",
            "weighted avg       0.95      0.91      0.92     41919\n",
            "\n",
            "Confusion Matrix:\n",
            " [[ 1835   418]\n",
            " [ 3438 36228]]\n"
          ],
          "name": "stdout"
        }
      ]
    },
    {
      "cell_type": "code",
      "metadata": {
        "id": "h9SvDlFcbyuu",
        "outputId": "6d8b0de6-e5d0-4d12-f788-5b50bd1484a5",
        "colab": {
          "base_uri": "https://localhost:8080/",
          "height": 312
        }
      },
      "source": [
        "sns.distplot(y_test,hist=False,color='r',label='Actual')\n",
        "plt.title('Actual v/s Predicted(GBC)')\n",
        "sns.distplot(GBC_y_pred,hist=False,color='b',label='Predicted')"
      ],
      "execution_count": 121,
      "outputs": [
        {
          "output_type": "execute_result",
          "data": {
            "text/plain": [
              "<matplotlib.axes._subplots.AxesSubplot at 0x7f5d1a14cbe0>"
            ]
          },
          "metadata": {
            "tags": []
          },
          "execution_count": 121
        },
        {
          "output_type": "display_data",
          "data": {
            "image/png": "[encoded data removed]",
            "text/plain": [
              "<Figure size 432x288 with 1 Axes>"
            ]
          },
          "metadata": {
            "tags": [],
            "needs_background": "light"
          }
        }
      ]
    },
    {
      "cell_type": "code",
      "metadata": {
        "id": "oTY3kpqdW95i",
        "outputId": "650f3d35-a07a-42b7-f990-20a08e388121",
        "colab": {
          "base_uri": "https://localhost:8080/",
          "height": 1000
        }
      },
      "source": [
        "fi = GBC.feature_importances_\n",
        "fig = make_subplots(rows=1, cols=1)\n",
        "\n",
        "fig.add_trace(go.Bar(x=x.columns,y=fi,name='Non-normalized',\n",
        "                        marker_color='rgb(171,241,255)',marker_line_color='rgb(12,0,335)',\n",
        "                        marker_line_width=2, opacity=0.6),\n",
        "                row=1,col=1)\n",
        "fig.update_layout(template='simple_white',title='Comparing different feature importance(GBC)',height=900)\n",
        "fig.show()\n",
        "fig.show('svg',height=900,width=1200)"
      ],
      "execution_count": 114,
      "outputs": [
        {
          "output_type": "display_data",
          "data": {
            "text/html": [
              "<html>\n",
              "<head><meta charset=\"utf-8\" /></head>\n",
              "<body>\n",
              "    <div>\n",
              "            <script src=\"https://cdnjs.cloudflare.com/ajax/libs/mathjax/2.7.5/MathJax.js?config=TeX-AMS-MML_SVG\"></script><script type=\"text/javascript\">if (window.MathJax) {MathJax.Hub.Config({SVG: {font: \"STIX-Web\"}});}</script>\n",
              "                <script type=\"text/javascript\">window.PlotlyConfig = {MathJaxConfig: 'local'};</script>\n",
              "        <script src=\"https://cdn.plot.ly/plotly-latest.min.js\"></script>    \n",
              "            <div id=\"81c86f44-65e9-4200-96e7-05c0002905df\" class=\"plotly-graph-div\" style=\"height:900px; width:100%;\"></div>\n",
              "            <script type=\"text/javascript\">\n",
              "                \n",
              "                    window.PLOTLYENV=window.PLOTLYENV || {};\n",
              "                    \n",
              "                if (document.getElementById(\"81c86f44-65e9-4200-96e7-05c0002905df\")) {\n",
              "                    Plotly.newPlot(\n",
              "                        '81c86f44-65e9-4200-96e7-05c0002905df',\n",
              "                        [{\"marker\": {\"color\": \"rgb(171,241,255)\", \"line\": {\"color\": \"rgb(12,0,335)\", \"width\": 2}}, \"name\": \"Non-normalized\", \"opacity\": 0.6, \"type\": \"bar\", \"x\": [\"aon\", \"daily_decr30\", \"daily_decr90\", \"rental30\", \"rental90\", \"last_rech_date_ma\", \"last_rech_date_da\", \"last_rech_amt_ma\", \"cnt_ma_rech30\", \"fr_ma_rech30\", \"sumamnt_ma_rech30\", \"medianamnt_ma_rech30\", \"medianmarechprebal30\", \"cnt_ma_rech90\", \"fr_ma_rech90\", \"sumamnt_ma_rech90\", \"medianamnt_ma_rech90\", \"medianmarechprebal90\", \"cnt_da_rech30\", \"fr_da_rech30\", \"cnt_da_rech90\", \"fr_da_rech90\", \"cnt_loans30\", \"amnt_loans30\", \"maxamnt_loans30\", \"medianamnt_loans30\", \"cnt_loans90\", \"amnt_loans90\", \"maxamnt_loans90\", \"medianamnt_loans90\", \"payback30\", \"payback90\"], \"xaxis\": \"x\", \"y\": [0.009622510006762753, 0.09251356844300752, 0.5323083625945633, 0.016447348172427313, 0.040085612936664565, 0.02386200487014931, 0.0, 0.0005994045450144288, 7.544647643145632e-05, 0.0, 0.03218446866326905, 0.007267195743142933, 0.004310675839444805, 0.08406379358805796, 0.00042598237070697086, 0.0844635200041058, 0.001074781486129388, 0.017778978641647493, 0.0, 0.0, 1.6262919850740558e-05, 0.0001345138908345948, 0.004289406710211896, 0.005036199988625532, 0.0003284777415362716, 0.003401797422845868, 0.0026768565884620504, 0.01167040688298114, 0.004320070960844487, 0.0022639042513060465, 0.0014583671994712112, 0.017320081061505305], \"yaxis\": \"y\"}],\n",
              "                        {\"height\": 900, \"template\": {\"data\": {\"bar\": [{\"error_x\": {\"color\": \"rgb(36,36,36)\"}, \"error_y\": {\"color\": \"rgb(36,36,36)\"}, \"marker\": {\"line\": {\"color\": \"white\", \"width\": 0.5}}, \"type\": \"bar\"}], \"barpolar\": [{\"marker\": {\"line\": {\"color\": \"white\", \"width\": 0.5}}, \"type\": \"barpolar\"}], \"carpet\": [{\"aaxis\": {\"endlinecolor\": \"rgb(36,36,36)\", \"gridcolor\": \"white\", \"linecolor\": \"white\", \"minorgridcolor\": \"white\", \"startlinecolor\": \"rgb(36,36,36)\"}, \"baxis\": {\"endlinecolor\": \"rgb(36,36,36)\", \"gridcolor\": \"white\", \"linecolor\": \"white\", \"minorgridcolor\": \"white\", \"startlinecolor\": \"rgb(36,36,36)\"}, \"type\": \"carpet\"}], \"choropleth\": [{\"colorbar\": {\"outlinewidth\": 10, \"tickcolor\": \"rgb(36,36,36)\", \"ticklen\": 8, \"ticks\": \"outside\", \"tickwidth\": 2}, \"type\": \"choropleth\"}], \"contour\": [{\"colorbar\": {\"outlinewidth\": 10, \"tickcolor\": \"rgb(36,36,36)\", \"ticklen\": 8, \"ticks\": \"outside\", \"tickwidth\": 2}, \"colorscale\": [[0.0, \"#440154\"], [0.1111111111111111, \"#482878\"], [0.2222222222222222, \"#3e4989\"], [0.3333333333333333, \"#31688e\"], [0.4444444444444444, \"#26828e\"], [0.5555555555555556, \"#1f9e89\"], [0.6666666666666666, \"#35b779\"], [0.7777777777777778, \"#6ece58\"], [0.8888888888888888, \"#b5de2b\"], [1.0, \"#fde725\"]], \"type\": \"contour\"}], \"contourcarpet\": [{\"colorbar\": {\"outlinewidth\": 10, \"tickcolor\": \"rgb(36,36,36)\", \"ticklen\": 8, \"ticks\": \"outside\", \"tickwidth\": 2}, \"type\": \"contourcarpet\"}], \"heatmap\": [{\"colorbar\": {\"outlinewidth\": 10, \"tickcolor\": \"rgb(36,36,36)\", \"ticklen\": 8, \"ticks\": \"outside\", \"tickwidth\": 2}, \"colorscale\": [[0.0, \"#440154\"], [0.1111111111111111, \"#482878\"], [0.2222222222222222, \"#3e4989\"], [0.3333333333333333, \"#31688e\"], [0.4444444444444444, \"#26828e\"], [0.5555555555555556, \"#1f9e89\"], [0.6666666666666666, \"#35b779\"], [0.7777777777777778, \"#6ece58\"], [0.8888888888888888, \"#b5de2b\"], [1.0, \"#fde725\"]], \"type\": \"heatmap\"}], \"heatmapgl\": [{\"colorbar\": {\"outlinewidth\": 10, \"tickcolor\": \"rgb(36,36,36)\", \"ticklen\": 8, \"ticks\": \"outside\", \"tickwidth\": 2}, \"colorscale\": [[0.0, \"#440154\"], [0.1111111111111111, \"#482878\"], [0.2222222222222222, \"#3e4989\"], [0.3333333333333333, \"#31688e\"], [0.4444444444444444, \"#26828e\"], [0.5555555555555556, \"#1f9e89\"], [0.6666666666666666, \"#35b779\"], [0.7777777777777778, \"#6ece58\"], [0.8888888888888888, \"#b5de2b\"], [1.0, \"#fde725\"]], \"type\": \"heatmapgl\"}], \"histogram\": [{\"marker\": {\"line\": {\"color\": \"white\", \"width\": 0.6}}, \"type\": \"histogram\"}], \"histogram2d\": [{\"colorbar\": {\"outlinewidth\": 10, \"tickcolor\": \"rgb(36,36,36)\", \"ticklen\": 8, \"ticks\": \"outside\", \"tickwidth\": 2}, \"colorscale\": [[0.0, \"#440154\"], [0.1111111111111111, \"#482878\"], [0.2222222222222222, \"#3e4989\"], [0.3333333333333333, \"#31688e\"], [0.4444444444444444, \"#26828e\"], [0.5555555555555556, \"#1f9e89\"], [0.6666666666666666, \"#35b779\"], [0.7777777777777778, \"#6ece58\"], [0.8888888888888888, \"#b5de2b\"], [1.0, \"#fde725\"]], \"type\": \"histogram2d\"}], \"histogram2dcontour\": [{\"colorbar\": {\"outlinewidth\": 10, \"tickcolor\": \"rgb(36,36,36)\", \"ticklen\": 8, \"ticks\": \"outside\", \"tickwidth\": 2}, \"colorscale\": [[0.0, \"#440154\"], [0.1111111111111111, \"#482878\"], [0.2222222222222222, \"#3e4989\"], [0.3333333333333333, \"#31688e\"], [0.4444444444444444, \"#26828e\"], [0.5555555555555556, \"#1f9e89\"], [0.6666666666666666, \"#35b779\"], [0.7777777777777778, \"#6ece58\"], [0.8888888888888888, \"#b5de2b\"], [1.0, \"#fde725\"]], \"type\": \"histogram2dcontour\"}], \"mesh3d\": [{\"colorbar\": {\"outlinewidth\": 10, \"tickcolor\": \"rgb(36,36,36)\", \"ticklen\": 8, \"ticks\": \"outside\", \"tickwidth\": 2}, \"type\": \"mesh3d\"}], \"parcoords\": [{\"line\": {\"colorbar\": {\"outlinewidth\": 10, \"tickcolor\": \"rgb(36,36,36)\", \"ticklen\": 8, \"ticks\": \"outside\", \"tickwidth\": 2}}, \"type\": \"parcoords\"}], \"pie\": [{\"automargin\": true, \"type\": \"pie\"}], \"scatter\": [{\"marker\": {\"colorbar\": {\"outlinewidth\": 10, \"tickcolor\": \"rgb(36,36,36)\", \"ticklen\": 8, \"ticks\": \"outside\", \"tickwidth\": 2}}, \"type\": \"scatter\"}], \"scatter3d\": [{\"line\": {\"colorbar\": {\"outlinewidth\": 10, \"tickcolor\": \"rgb(36,36,36)\", \"ticklen\": 8, \"ticks\": \"outside\", \"tickwidth\": 2}}, \"marker\": {\"colorbar\": {\"outlinewidth\": 10, \"tickcolor\": \"rgb(36,36,36)\", \"ticklen\": 8, \"ticks\": \"outside\", \"tickwidth\": 2}}, \"type\": \"scatter3d\"}], \"scattercarpet\": [{\"marker\": {\"colorbar\": {\"outlinewidth\": 10, \"tickcolor\": \"rgb(36,36,36)\", \"ticklen\": 8, \"ticks\": \"outside\", \"tickwidth\": 2}}, \"type\": \"scattercarpet\"}], \"scattergeo\": [{\"marker\": {\"colorbar\": {\"outlinewidth\": 10, \"tickcolor\": \"rgb(36,36,36)\", \"ticklen\": 8, \"ticks\": \"outside\", \"tickwidth\": 2}}, \"type\": \"scattergeo\"}], \"scattergl\": [{\"marker\": {\"colorbar\": {\"outlinewidth\": 10, \"tickcolor\": \"rgb(36,36,36)\", \"ticklen\": 8, \"ticks\": \"outside\", \"tickwidth\": 2}}, \"type\": \"scattergl\"}], \"scattermapbox\": [{\"marker\": {\"colorbar\": {\"outlinewidth\": 10, \"tickcolor\": \"rgb(36,36,36)\", \"ticklen\": 8, \"ticks\": \"outside\", \"tickwidth\": 2}}, \"type\": \"scattermapbox\"}], \"scatterpolar\": [{\"marker\": {\"colorbar\": {\"outlinewidth\": 10, \"tickcolor\": \"rgb(36,36,36)\", \"ticklen\": 8, \"ticks\": \"outside\", \"tickwidth\": 2}}, \"type\": \"scatterpolar\"}], \"scatterpolargl\": [{\"marker\": {\"colorbar\": {\"outlinewidth\": 10, \"tickcolor\": \"rgb(36,36,36)\", \"ticklen\": 8, \"ticks\": \"outside\", \"tickwidth\": 2}}, \"type\": \"scatterpolargl\"}], \"scatterternary\": [{\"marker\": {\"colorbar\": {\"outlinewidth\": 10, \"tickcolor\": \"rgb(36,36,36)\", \"ticklen\": 8, \"ticks\": \"outside\", \"tickwidth\": 2}}, \"type\": \"scatterternary\"}], \"surface\": [{\"colorbar\": {\"outlinewidth\": 10, \"tickcolor\": \"rgb(36,36,36)\", \"ticklen\": 8, \"ticks\": \"outside\", \"tickwidth\": 2}, \"colorscale\": [[0.0, \"#440154\"], [0.1111111111111111, \"#482878\"], [0.2222222222222222, \"#3e4989\"], [0.3333333333333333, \"#31688e\"], [0.4444444444444444, \"#26828e\"], [0.5555555555555556, \"#1f9e89\"], [0.6666666666666666, \"#35b779\"], [0.7777777777777778, \"#6ece58\"], [0.8888888888888888, \"#b5de2b\"], [1.0, \"#fde725\"]], \"type\": \"surface\"}], \"table\": [{\"cells\": {\"fill\": {\"color\": \"rgb(237,237,237)\"}, \"line\": {\"color\": \"white\"}}, \"header\": {\"fill\": {\"color\": \"rgb(217,217,217)\"}, \"line\": {\"color\": \"white\"}}, \"type\": \"table\"}]}, \"layout\": {\"annotationdefaults\": {\"arrowhead\": 0, \"arrowwidth\": 1}, \"coloraxis\": {\"colorbar\": {\"outlinewidth\": 10, \"tickcolor\": \"rgb(36,36,36)\", \"ticklen\": 8, \"ticks\": \"outside\", \"tickwidth\": 2}}, \"colorscale\": {\"diverging\": [[0.0, \"rgb(103,0,31)\"], [0.1, \"rgb(178,24,43)\"], [0.2, \"rgb(214,96,77)\"], [0.3, \"rgb(244,165,130)\"], [0.4, \"rgb(253,219,199)\"], [0.5, \"rgb(247,247,247)\"], [0.6, \"rgb(209,229,240)\"], [0.7, \"rgb(146,197,222)\"], [0.8, \"rgb(67,147,195)\"], [0.9, \"rgb(33,102,172)\"], [1.0, \"rgb(5,48,97)\"]], \"sequential\": [[0.0, \"#440154\"], [0.1111111111111111, \"#482878\"], [0.2222222222222222, \"#3e4989\"], [0.3333333333333333, \"#31688e\"], [0.4444444444444444, \"#26828e\"], [0.5555555555555556, \"#1f9e89\"], [0.6666666666666666, \"#35b779\"], [0.7777777777777778, \"#6ece58\"], [0.8888888888888888, \"#b5de2b\"], [1.0, \"#fde725\"]], \"sequentialminus\": [[0.0, \"#440154\"], [0.1111111111111111, \"#482878\"], [0.2222222222222222, \"#3e4989\"], [0.3333333333333333, \"#31688e\"], [0.4444444444444444, \"#26828e\"], [0.5555555555555556, \"#1f9e89\"], [0.6666666666666666, \"#35b779\"], [0.7777777777777778, \"#6ece58\"], [0.8888888888888888, \"#b5de2b\"], [1.0, \"#fde725\"]]}, \"colorway\": [\"#1F77B4\", \"#FF7F0E\", \"#2CA02C\", \"#D62728\", \"#9467BD\", \"#8C564B\", \"#E377C2\", \"#7F7F7F\", \"#BCBD22\", \"#17BECF\"], \"font\": {\"color\": \"rgb(36,36,36)\"}, \"geo\": {\"bgcolor\": \"white\", \"lakecolor\": \"white\", \"landcolor\": \"white\", \"showlakes\": true, \"showland\": true, \"subunitcolor\": \"white\"}, \"hoverlabel\": {\"align\": \"left\"}, \"hovermode\": \"closest\", \"mapbox\": {\"style\": \"light\"}, \"paper_bgcolor\": \"white\", \"plot_bgcolor\": \"white\", \"polar\": {\"angularaxis\": {\"gridcolor\": \"rgb(232,232,232)\", \"linecolor\": \"rgb(36,36,36)\", \"showgrid\": false, \"showline\": true, \"ticks\": \"outside\"}, \"bgcolor\": \"white\", \"radialaxis\": {\"gridcolor\": \"rgb(232,232,232)\", \"linecolor\": \"rgb(36,36,36)\", \"showgrid\": false, \"showline\": true, \"ticks\": \"outside\"}}, \"scene\": {\"xaxis\": {\"backgroundcolor\": \"white\", \"gridcolor\": \"rgb(232,232,232)\", \"gridwidth\": 2, \"linecolor\": \"rgb(36,36,36)\", \"showbackground\": true, \"showgrid\": false, \"showline\": true, \"ticks\": \"outside\", \"zeroline\": false, \"zerolinecolor\": \"rgb(36,36,36)\"}, \"yaxis\": {\"backgroundcolor\": \"white\", \"gridcolor\": \"rgb(232,232,232)\", \"gridwidth\": 2, \"linecolor\": \"rgb(36,36,36)\", \"showbackground\": true, \"showgrid\": false, \"showline\": true, \"ticks\": \"outside\", \"zeroline\": false, \"zerolinecolor\": \"rgb(36,36,36)\"}, \"zaxis\": {\"backgroundcolor\": \"white\", \"gridcolor\": \"rgb(232,232,232)\", \"gridwidth\": 2, \"linecolor\": \"rgb(36,36,36)\", \"showbackground\": true, \"showgrid\": false, \"showline\": true, \"ticks\": \"outside\", \"zeroline\": false, \"zerolinecolor\": \"rgb(36,36,36)\"}}, \"shapedefaults\": {\"fillcolor\": \"black\", \"line\": {\"width\": 0}, \"opacity\": 0.3}, \"ternary\": {\"aaxis\": {\"gridcolor\": \"rgb(232,232,232)\", \"linecolor\": \"rgb(36,36,36)\", \"showgrid\": false, \"showline\": true, \"ticks\": \"outside\"}, \"baxis\": {\"gridcolor\": \"rgb(232,232,232)\", \"linecolor\": \"rgb(36,36,36)\", \"showgrid\": false, \"showline\": true, \"ticks\": \"outside\"}, \"bgcolor\": \"white\", \"caxis\": {\"gridcolor\": \"rgb(232,232,232)\", \"linecolor\": \"rgb(36,36,36)\", \"showgrid\": false, \"showline\": true, \"ticks\": \"outside\"}}, \"title\": {\"x\": 0.05}, \"xaxis\": {\"automargin\": true, \"gridcolor\": \"rgb(232,232,232)\", \"linecolor\": \"rgb(36,36,36)\", \"showgrid\": false, \"showline\": true, \"ticks\": \"outside\", \"title\": {\"standoff\": 15}, \"zeroline\": false, \"zerolinecolor\": \"rgb(36,36,36)\"}, \"yaxis\": {\"automargin\": true, \"gridcolor\": \"rgb(232,232,232)\", \"linecolor\": \"rgb(36,36,36)\", \"showgrid\": false, \"showline\": true, \"ticks\": \"outside\", \"title\": {\"standoff\": 15}, \"zeroline\": false, \"zerolinecolor\": \"rgb(36,36,36)\"}}}, \"title\": {\"text\": \"Comparing different feature importance(GBC)\"}, \"xaxis\": {\"anchor\": \"y\", \"domain\": [0.0, 1.0]}, \"yaxis\": {\"anchor\": \"x\", \"domain\": [0.0, 1.0]}},\n",
              "                        {\"responsive\": true}\n",
              "                    ).then(function(){\n",
              "                            \n",
              "var gd = document.getElementById('81c86f44-65e9-4200-96e7-05c0002905df');\n",
              "var x = new MutationObserver(function (mutations, observer) {{\n",
              "        var display = window.getComputedStyle(gd).display;\n",
              "        if (!display || display === 'none') {{\n",
              "            console.log([gd, 'removed!']);\n",
              "            Plotly.purge(gd);\n",
              "            observer.disconnect();\n",
              "        }}\n",
              "}});\n",
              "\n",
              "// Listen for the removal of the full notebook cells\n",
              "var notebookContainer = gd.closest('#notebook-container');\n",
              "if (notebookContainer) {{\n",
              "    x.observe(notebookContainer, {childList: true});\n",
              "}}\n",
              "\n",
              "// Listen for the clearing of the current output cell\n",
              "var outputEl = gd.closest('.output');\n",
              "if (outputEl) {{\n",
              "    x.observe(outputEl, {childList: true});\n",
              "}}\n",
              "\n",
              "                        })\n",
              "                };\n",
              "                \n",
              "            </script>\n",
              "        </div>\n",
              "</body>\n",
              "</html>"
            ]
          },
          "metadata": {
            "tags": []
          }
        },
        {
          "output_type": "display_data",
          "data": {
            "image/svg+xml": "<svg class=\"main-svg\" xmlns=\"http://www.w3.org/2000/svg\" xmlns:xlink=\"http://www.w3.org/1999/xlink\" width=\"1200\" height=\"900\" viewBox=\"0 0 1200 900\"><rect x=\"0\" y=\"0\" width=\"1200\" height=\"900\" style=\"fill: rgb(255, 255, 255); fill-opacity: 1;\"/><defs id=\"defs-4d6767\"><g class=\"clips\"><clipPath id=\"clip4d6767xyplot\" class=\"plotclip\"><rect width=\"1040\" height=\"699\"/></clipPath><clipPath class=\"axesclip\" id=\"clip4d6767x\"><rect x=\"80\" y=\"0\" width=\"1040\" height=\"900\"/></clipPath><clipPath class=\"axesclip\" id=\"clip4d6767y\"><rect x=\"0\" y=\"100\" width=\"1200\" height=\"699\"/></clipPath><clipPath class=\"axesclip\" id=\"clip4d6767xy\"><rect x=\"80\" y=\"100\" width=\"1040\" height=\"699\"/></clipPath></g><g class=\"gradients\"/></defs><g class=\"bglayer\"/><g class=\"layer-below\"><g class=\"imagelayer\"/><g class=\"shapelayer\"/></g><g class=\"cartesianlayer\"><g class=\"subplot xy\"><g class=\"layer-subplot\"><g class=\"shapelayer\"/><g class=\"imagelayer\"/></g><g class=\"gridlayer\"><g class=\"x\"/><g class=\"y\"/></g><g class=\"zerolinelayer\"/><path class=\"xlines-below\"/><path class=\"ylines-below\"/><g class=\"overlines-below\"/><g class=\"xaxislayer-below\"/><g class=\"yaxislayer-below\"/><g class=\"overaxes-below\"/><g class=\"plot\" transform=\"translate(80, 100)\" clip-path=\"url('#clip4d6767xyplot')\"><g class=\"barlayer mlayer\"><g class=\"trace bars\" style=\"opacity: 0.6;\"><g class=\"points\"><g class=\"point\"><path d=\"M3.25,699V687H29.25V699Z\" style=\"vector-effect: non-scaling-stroke; opacity: 1; stroke-width: 2px; fill: rgb(171, 241, 255); fill-opacity: 1; stroke: rgb(12, 0, 255); stroke-opacity: 1;\"/></g><g class=\"point\"><path d=\"M35.75,699V583.59H61.75V699Z\" style=\"vector-effect: non-scaling-stroke; opacity: 1; stroke-width: 2px; fill: rgb(171, 241, 255); fill-opacity: 1; stroke: rgb(12, 0, 255); stroke-opacity: 1;\"/></g><g class=\"point\"><path d=\"M68.25,699V34.95H94.25V699Z\" style=\"vector-effect: non-scaling-stroke; opacity: 1; stroke-width: 2px; fill: rgb(171, 241, 255); fill-opacity: 1; stroke: rgb(12, 0, 255); stroke-opacity: 1;\"/></g><g class=\"point\"><path d=\"M100.75,699V678.48H126.75V699Z\" style=\"vector-effect: non-scaling-stroke; opacity: 1; stroke-width: 2px; fill: rgb(171, 241, 255); fill-opacity: 1; stroke: rgb(12, 0, 255); stroke-opacity: 1;\"/></g><g class=\"point\"><path d=\"M133.25,699V648.99H159.25V699Z\" style=\"vector-effect: non-scaling-stroke; opacity: 1; stroke-width: 2px; fill: rgb(171, 241, 255); fill-opacity: 1; stroke: rgb(12, 0, 255); stroke-opacity: 1;\"/></g><g class=\"point\"><path d=\"M165.75,699V669.23H191.75V699Z\" style=\"vector-effect: non-scaling-stroke; opacity: 1; stroke-width: 2px; fill: rgb(171, 241, 255); fill-opacity: 1; stroke: rgb(12, 0, 255); stroke-opacity: 1;\"/></g><g class=\"point\"><path d=\"M198.25,699V699H224.25V699Z\" style=\"vector-effect: non-scaling-stroke; opacity: 1; stroke-width: 2px; fill: rgb(171, 241, 255); fill-opacity: 1; stroke: rgb(12, 0, 255); stroke-opacity: 1;\"/></g><g class=\"point\"><path d=\"M230.75,699V698.25H256.75V699Z\" style=\"vector-effect: non-scaling-stroke; opacity: 1; stroke-width: 2px; fill: rgb(171, 241, 255); fill-opacity: 1; stroke: rgb(12, 0, 255); stroke-opacity: 1;\"/></g><g class=\"point\"><path d=\"M263.25,699V698.91H289.25V699Z\" style=\"vector-effect: non-scaling-stroke; opacity: 1; stroke-width: 2px; fill: rgb(171, 241, 255); fill-opacity: 1; stroke: rgb(12, 0, 255); stroke-opacity: 1;\"/></g><g class=\"point\"><path d=\"M295.75,699V699H321.75V699Z\" style=\"vector-effect: non-scaling-stroke; opacity: 1; stroke-width: 2px; fill: rgb(171, 241, 255); fill-opacity: 1; stroke: rgb(12, 0, 255); stroke-opacity: 1;\"/></g><g class=\"point\"><path d=\"M328.25,699V658.85H354.25V699Z\" style=\"vector-effect: non-scaling-stroke; opacity: 1; stroke-width: 2px; fill: rgb(171, 241, 255); fill-opacity: 1; stroke: rgb(12, 0, 255); stroke-opacity: 1;\"/></g><g class=\"point\"><path d=\"M360.75,699V689.93H386.75V699Z\" style=\"vector-effect: non-scaling-stroke; opacity: 1; stroke-width: 2px; fill: rgb(171, 241, 255); fill-opacity: 1; stroke: rgb(12, 0, 255); stroke-opacity: 1;\"/></g><g class=\"point\"><path d=\"M393.25,699V693.62H419.25V699Z\" style=\"vector-effect: non-scaling-stroke; opacity: 1; stroke-width: 2px; fill: rgb(171, 241, 255); fill-opacity: 1; stroke: rgb(12, 0, 255); stroke-opacity: 1;\"/></g><g class=\"point\"><path d=\"M425.75,699V594.13H451.75V699Z\" style=\"vector-effect: non-scaling-stroke; opacity: 1; stroke-width: 2px; fill: rgb(171, 241, 255); fill-opacity: 1; stroke: rgb(12, 0, 255); stroke-opacity: 1;\"/></g><g class=\"point\"><path d=\"M458.25,699V698.47H484.25V699Z\" style=\"vector-effect: non-scaling-stroke; opacity: 1; stroke-width: 2px; fill: rgb(171, 241, 255); fill-opacity: 1; stroke: rgb(12, 0, 255); stroke-opacity: 1;\"/></g><g class=\"point\"><path d=\"M490.75,699V593.63H516.75V699Z\" style=\"vector-effect: non-scaling-stroke; opacity: 1; stroke-width: 2px; fill: rgb(171, 241, 255); fill-opacity: 1; stroke: rgb(12, 0, 255); stroke-opacity: 1;\"/></g><g class=\"point\"><path d=\"M523.25,699V697.66H549.25V699Z\" style=\"vector-effect: non-scaling-stroke; opacity: 1; stroke-width: 2px; fill: rgb(171, 241, 255); fill-opacity: 1; stroke: rgb(12, 0, 255); stroke-opacity: 1;\"/></g><g class=\"point\"><path d=\"M555.75,699V676.82H581.75V699Z\" style=\"vector-effect: non-scaling-stroke; opacity: 1; stroke-width: 2px; fill: rgb(171, 241, 255); fill-opacity: 1; stroke: rgb(12, 0, 255); stroke-opacity: 1;\"/></g><g class=\"point\"><path d=\"M588.25,699V699H614.25V699Z\" style=\"vector-effect: non-scaling-stroke; opacity: 1; stroke-width: 2px; fill: rgb(171, 241, 255); fill-opacity: 1; stroke: rgb(12, 0, 255); stroke-opacity: 1;\"/></g><g class=\"point\"><path d=\"M620.75,699V699H646.75V699Z\" style=\"vector-effect: non-scaling-stroke; opacity: 1; stroke-width: 2px; fill: rgb(171, 241, 255); fill-opacity: 1; stroke: rgb(12, 0, 255); stroke-opacity: 1;\"/></g><g class=\"point\"><path d=\"M653.25,699V698.98H679.25V699Z\" style=\"vector-effect: non-scaling-stroke; opacity: 1; stroke-width: 2px; fill: rgb(171, 241, 255); fill-opacity: 1; stroke: rgb(12, 0, 255); stroke-opacity: 1;\"/></g><g class=\"point\"><path d=\"M685.75,699V698.83H711.75V699Z\" style=\"vector-effect: non-scaling-stroke; opacity: 1; stroke-width: 2px; fill: rgb(171, 241, 255); fill-opacity: 1; stroke: rgb(12, 0, 255); stroke-opacity: 1;\"/></g><g class=\"point\"><path d=\"M718.25,699V693.65H744.25V699Z\" style=\"vector-effect: non-scaling-stroke; opacity: 1; stroke-width: 2px; fill: rgb(171, 241, 255); fill-opacity: 1; stroke: rgb(12, 0, 255); stroke-opacity: 1;\"/></g><g class=\"point\"><path d=\"M750.75,699V692.72H776.75V699Z\" style=\"vector-effect: non-scaling-stroke; opacity: 1; stroke-width: 2px; fill: rgb(171, 241, 255); fill-opacity: 1; stroke: rgb(12, 0, 255); stroke-opacity: 1;\"/></g><g class=\"point\"><path d=\"M783.25,699V698.59H809.25V699Z\" style=\"vector-effect: non-scaling-stroke; opacity: 1; stroke-width: 2px; fill: rgb(171, 241, 255); fill-opacity: 1; stroke: rgb(12, 0, 255); stroke-opacity: 1;\"/></g><g class=\"point\"><path d=\"M815.75,699V694.76H841.75V699Z\" style=\"vector-effect: non-scaling-stroke; opacity: 1; stroke-width: 2px; fill: rgb(171, 241, 255); fill-opacity: 1; stroke: rgb(12, 0, 255); stroke-opacity: 1;\"/></g><g class=\"point\"><path d=\"M848.25,699V695.66H874.25V699Z\" style=\"vector-effect: non-scaling-stroke; opacity: 1; stroke-width: 2px; fill: rgb(171, 241, 255); fill-opacity: 1; stroke: rgb(12, 0, 255); stroke-opacity: 1;\"/></g><g class=\"point\"><path d=\"M880.75,699V684.44H906.75V699Z\" style=\"vector-effect: non-scaling-stroke; opacity: 1; stroke-width: 2px; fill: rgb(171, 241, 255); fill-opacity: 1; stroke: rgb(12, 0, 255); stroke-opacity: 1;\"/></g><g class=\"point\"><path d=\"M913.25,699V693.61H939.25V699Z\" style=\"vector-effect: non-scaling-stroke; opacity: 1; stroke-width: 2px; fill: rgb(171, 241, 255); fill-opacity: 1; stroke: rgb(12, 0, 255); stroke-opacity: 1;\"/></g><g class=\"point\"><path d=\"M945.75,699V696.18H971.75V699Z\" style=\"vector-effect: non-scaling-stroke; opacity: 1; stroke-width: 2px; fill: rgb(171, 241, 255); fill-opacity: 1; stroke: rgb(12, 0, 255); stroke-opacity: 1;\"/></g><g class=\"point\"><path d=\"M978.25,699V697.18H1004.25V699Z\" style=\"vector-effect: non-scaling-stroke; opacity: 1; stroke-width: 2px; fill: rgb(171, 241, 255); fill-opacity: 1; stroke: rgb(12, 0, 255); stroke-opacity: 1;\"/></g><g class=\"point\"><path d=\"M1010.75,699V677.39H1036.75V699Z\" style=\"vector-effect: non-scaling-stroke; opacity: 1; stroke-width: 2px; fill: rgb(171, 241, 255); fill-opacity: 1; stroke: rgb(12, 0, 255); stroke-opacity: 1;\"/></g></g></g></g></g><g class=\"overplot\"/><path class=\"xlines-above crisp\" d=\"M79,799.5H1120\" style=\"fill: none; stroke-width: 1px; stroke: rgb(36, 36, 36); stroke-opacity: 1;\"/><path class=\"ylines-above crisp\" d=\"M79.5,100V799\" style=\"fill: none; stroke-width: 1px; stroke: rgb(36, 36, 36); stroke-opacity: 1;\"/><g class=\"overlines-above\"/><g class=\"xaxislayer-above\"><path class=\"xtick ticks crisp\" d=\"M0,800v5\" transform=\"translate(96.25,0)\" style=\"stroke: rgb(68, 68, 68); stroke-opacity: 1; stroke-width: 1px;\"/><path class=\"xtick ticks crisp\" d=\"M0,800v5\" transform=\"translate(128.75,0)\" style=\"stroke: rgb(68, 68, 68); stroke-opacity: 1; stroke-width: 1px;\"/><path class=\"xtick ticks crisp\" d=\"M0,800v5\" transform=\"translate(161.25,0)\" style=\"stroke: rgb(68, 68, 68); stroke-opacity: 1; stroke-width: 1px;\"/><path class=\"xtick ticks crisp\" d=\"M0,800v5\" transform=\"translate(193.75,0)\" style=\"stroke: rgb(68, 68, 68); stroke-opacity: 1; stroke-width: 1px;\"/><path class=\"xtick ticks crisp\" d=\"M0,800v5\" transform=\"translate(226.25,0)\" style=\"stroke: rgb(68, 68, 68); stroke-opacity: 1; stroke-width: 1px;\"/><path class=\"xtick ticks crisp\" d=\"M0,800v5\" transform=\"translate(258.75,0)\" style=\"stroke: rgb(68, 68, 68); stroke-opacity: 1; stroke-width: 1px;\"/><path class=\"xtick ticks crisp\" d=\"M0,800v5\" transform=\"translate(291.25,0)\" style=\"stroke: rgb(68, 68, 68); stroke-opacity: 1; stroke-width: 1px;\"/><path class=\"xtick ticks crisp\" d=\"M0,800v5\" transform=\"translate(323.75,0)\" style=\"stroke: rgb(68, 68, 68); stroke-opacity: 1; stroke-width: 1px;\"/><path class=\"xtick ticks crisp\" d=\"M0,800v5\" transform=\"translate(356.25,0)\" style=\"stroke: rgb(68, 68, 68); stroke-opacity: 1; stroke-width: 1px;\"/><path class=\"xtick ticks crisp\" d=\"M0,800v5\" transform=\"translate(388.75,0)\" style=\"stroke: rgb(68, 68, 68); stroke-opacity: 1; stroke-width: 1px;\"/><path class=\"xtick ticks crisp\" d=\"M0,800v5\" transform=\"translate(421.25,0)\" style=\"stroke: rgb(68, 68, 68); stroke-opacity: 1; stroke-width: 1px;\"/><path class=\"xtick ticks crisp\" d=\"M0,800v5\" transform=\"translate(453.75,0)\" style=\"stroke: rgb(68, 68, 68); stroke-opacity: 1; stroke-width: 1px;\"/><path class=\"xtick ticks crisp\" d=\"M0,800v5\" transform=\"translate(486.25,0)\" style=\"stroke: rgb(68, 68, 68); stroke-opacity: 1; stroke-width: 1px;\"/><path class=\"xtick ticks crisp\" d=\"M0,800v5\" transform=\"translate(518.75,0)\" style=\"stroke: rgb(68, 68, 68); stroke-opacity: 1; stroke-width: 1px;\"/><path class=\"xtick ticks crisp\" d=\"M0,800v5\" transform=\"translate(551.25,0)\" style=\"stroke: rgb(68, 68, 68); stroke-opacity: 1; stroke-width: 1px;\"/><path class=\"xtick ticks crisp\" d=\"M0,800v5\" transform=\"translate(583.75,0)\" style=\"stroke: rgb(68, 68, 68); stroke-opacity: 1; stroke-width: 1px;\"/><path class=\"xtick ticks crisp\" d=\"M0,800v5\" transform=\"translate(616.25,0)\" style=\"stroke: rgb(68, 68, 68); stroke-opacity: 1; stroke-width: 1px;\"/><path class=\"xtick ticks crisp\" d=\"M0,800v5\" transform=\"translate(648.75,0)\" style=\"stroke: rgb(68, 68, 68); stroke-opacity: 1; stroke-width: 1px;\"/><path class=\"xtick ticks crisp\" d=\"M0,800v5\" transform=\"translate(681.25,0)\" style=\"stroke: rgb(68, 68, 68); stroke-opacity: 1; stroke-width: 1px;\"/><path class=\"xtick ticks crisp\" d=\"M0,800v5\" transform=\"translate(713.75,0)\" style=\"stroke: rgb(68, 68, 68); stroke-opacity: 1; stroke-width: 1px;\"/><path class=\"xtick ticks crisp\" d=\"M0,800v5\" transform=\"translate(746.25,0)\" style=\"stroke: rgb(68, 68, 68); stroke-opacity: 1; stroke-width: 1px;\"/><path class=\"xtick ticks crisp\" d=\"M0,800v5\" transform=\"translate(778.75,0)\" style=\"stroke: rgb(68, 68, 68); stroke-opacity: 1; stroke-width: 1px;\"/><path class=\"xtick ticks crisp\" d=\"M0,800v5\" transform=\"translate(811.25,0)\" style=\"stroke: rgb(68, 68, 68); stroke-opacity: 1; stroke-width: 1px;\"/><path class=\"xtick ticks crisp\" d=\"M0,800v5\" transform=\"translate(843.75,0)\" style=\"stroke: rgb(68, 68, 68); stroke-opacity: 1; stroke-width: 1px;\"/><path class=\"xtick ticks crisp\" d=\"M0,800v5\" transform=\"translate(876.25,0)\" style=\"stroke: rgb(68, 68, 68); stroke-opacity: 1; stroke-width: 1px;\"/><path class=\"xtick ticks crisp\" d=\"M0,800v5\" transform=\"translate(908.75,0)\" style=\"stroke: rgb(68, 68, 68); stroke-opacity: 1; stroke-width: 1px;\"/><path class=\"xtick ticks crisp\" d=\"M0,800v5\" transform=\"translate(941.25,0)\" style=\"stroke: rgb(68, 68, 68); stroke-opacity: 1; stroke-width: 1px;\"/><path class=\"xtick ticks crisp\" d=\"M0,800v5\" transform=\"translate(973.75,0)\" style=\"stroke: rgb(68, 68, 68); stroke-opacity: 1; stroke-width: 1px;\"/><path class=\"xtick ticks crisp\" d=\"M0,800v5\" transform=\"translate(1006.25,0)\" style=\"stroke: rgb(68, 68, 68); stroke-opacity: 1; stroke-width: 1px;\"/><path class=\"xtick ticks crisp\" d=\"M0,800v5\" transform=\"translate(1038.75,0)\" style=\"stroke: rgb(68, 68, 68); stroke-opacity: 1; stroke-width: 1px;\"/><path class=\"xtick ticks crisp\" d=\"M0,800v5\" transform=\"translate(1071.25,0)\" style=\"stroke: rgb(68, 68, 68); stroke-opacity: 1; stroke-width: 1px;\"/><path class=\"xtick ticks crisp\" d=\"M0,800v5\" transform=\"translate(1103.75,0)\" style=\"stroke: rgb(68, 68, 68); stroke-opacity: 1; stroke-width: 1px;\"/><g class=\"xtick\"><text text-anchor=\"start\" x=\"0\" y=\"819.4\" transform=\"translate(96.25,0) rotate(30,0,813.4)\" style=\"font-family: 'Open Sans', verdana, arial, sans-serif; font-size: 12px; fill: rgb(36, 36, 36); fill-opacity: 1; white-space: pre;\">aon</text></g><g class=\"xtick\"><text text-anchor=\"start\" x=\"0\" y=\"819.4\" transform=\"translate(128.75,0) rotate(30,0,813.4)\" style=\"font-family: 'Open Sans', verdana, arial, sans-serif; font-size: 12px; fill: rgb(36, 36, 36); fill-opacity: 1; white-space: pre;\">daily_decr30</text></g><g class=\"xtick\"><text text-anchor=\"start\" x=\"0\" y=\"819.4\" transform=\"translate(161.25,0) rotate(30,0,813.4)\" style=\"font-family: 'Open Sans', verdana, arial, sans-serif; font-size: 12px; fill: rgb(36, 36, 36); fill-opacity: 1; white-space: pre;\">daily_decr90</text></g><g class=\"xtick\"><text text-anchor=\"start\" x=\"0\" y=\"819.4\" transform=\"translate(193.75,0) rotate(30,0,813.4)\" style=\"font-family: 'Open Sans', verdana, arial, sans-serif; font-size: 12px; fill: rgb(36, 36, 36); fill-opacity: 1; white-space: pre;\">rental30</text></g><g class=\"xtick\"><text text-anchor=\"start\" x=\"0\" y=\"819.4\" transform=\"translate(226.25,0) rotate(30,0,813.4)\" style=\"font-family: 'Open Sans', verdana, arial, sans-serif; font-size: 12px; fill: rgb(36, 36, 36); fill-opacity: 1; white-space: pre;\">rental90</text></g><g class=\"xtick\"><text text-anchor=\"start\" x=\"0\" y=\"819.4\" transform=\"translate(258.75,0) rotate(30,0,813.4)\" style=\"font-family: 'Open Sans', verdana, arial, sans-serif; font-size: 12px; fill: rgb(36, 36, 36); fill-opacity: 1; white-space: pre;\">last_rech_date_ma</text></g><g class=\"xtick\"><text text-anchor=\"start\" x=\"0\" y=\"819.4\" transform=\"translate(291.25,0) rotate(30,0,813.4)\" style=\"font-family: 'Open Sans', verdana, arial, sans-serif; font-size: 12px; fill: rgb(36, 36, 36); fill-opacity: 1; white-space: pre;\">last_rech_date_da</text></g><g class=\"xtick\"><text text-anchor=\"start\" x=\"0\" y=\"819.4\" transform=\"translate(323.75,0) rotate(30,0,813.4)\" style=\"font-family: 'Open Sans', verdana, arial, sans-serif; font-size: 12px; fill: rgb(36, 36, 36); fill-opacity: 1; white-space: pre;\">last_rech_amt_ma</text></g><g class=\"xtick\"><text text-anchor=\"start\" x=\"0\" y=\"819.4\" transform=\"translate(356.25,0) rotate(30,0,813.4)\" style=\"font-family: 'Open Sans', verdana, arial, sans-serif; font-size: 12px; fill: rgb(36, 36, 36); fill-opacity: 1; white-space: pre;\">cnt_ma_rech30</text></g><g class=\"xtick\"><text text-anchor=\"start\" x=\"0\" y=\"819.4\" transform=\"translate(388.75,0) rotate(30,0,813.4)\" style=\"font-family: 'Open Sans', verdana, arial, sans-serif; font-size: 12px; fill: rgb(36, 36, 36); fill-opacity: 1; white-space: pre;\">fr_ma_rech30</text></g><g class=\"xtick\"><text text-anchor=\"start\" x=\"0\" y=\"819.4\" transform=\"translate(421.25,0) rotate(30,0,813.4)\" style=\"font-family: 'Open Sans', verdana, arial, sans-serif; font-size: 12px; fill: rgb(36, 36, 36); fill-opacity: 1; white-space: pre;\">sumamnt_ma_rech30</text></g><g class=\"xtick\"><text text-anchor=\"start\" x=\"0\" y=\"819.4\" transform=\"translate(453.75,0) rotate(30,0,813.4)\" style=\"font-family: 'Open Sans', verdana, arial, sans-serif; font-size: 12px; fill: rgb(36, 36, 36); fill-opacity: 1; white-space: pre;\">medianamnt_ma_rech30</text></g><g class=\"xtick\"><text text-anchor=\"start\" x=\"0\" y=\"819.4\" transform=\"translate(486.25,0) rotate(30,0,813.4)\" style=\"font-family: 'Open Sans', verdana, arial, sans-serif; font-size: 12px; fill: rgb(36, 36, 36); fill-opacity: 1; white-space: pre;\">medianmarechprebal30</text></g><g class=\"xtick\"><text text-anchor=\"start\" x=\"0\" y=\"819.4\" transform=\"translate(518.75,0) rotate(30,0,813.4)\" style=\"font-family: 'Open Sans', verdana, arial, sans-serif; font-size: 12px; fill: rgb(36, 36, 36); fill-opacity: 1; white-space: pre;\">cnt_ma_rech90</text></g><g class=\"xtick\"><text text-anchor=\"start\" x=\"0\" y=\"819.4\" transform=\"translate(551.25,0) rotate(30,0,813.4)\" style=\"font-family: 'Open Sans', verdana, arial, sans-serif; font-size: 12px; fill: rgb(36, 36, 36); fill-opacity: 1; white-space: pre;\">fr_ma_rech90</text></g><g class=\"xtick\"><text text-anchor=\"start\" x=\"0\" y=\"819.4\" transform=\"translate(583.75,0) rotate(30,0,813.4)\" style=\"font-family: 'Open Sans', verdana, arial, sans-serif; font-size: 12px; fill: rgb(36, 36, 36); fill-opacity: 1; white-space: pre;\">sumamnt_ma_rech90</text></g><g class=\"xtick\"><text text-anchor=\"start\" x=\"0\" y=\"819.4\" transform=\"translate(616.25,0) rotate(30,0,813.4)\" style=\"font-family: 'Open Sans', verdana, arial, sans-serif; font-size: 12px; fill: rgb(36, 36, 36); fill-opacity: 1; white-space: pre;\">medianamnt_ma_rech90</text></g><g class=\"xtick\"><text text-anchor=\"start\" x=\"0\" y=\"819.4\" transform=\"translate(648.75,0) rotate(30,0,813.4)\" style=\"font-family: 'Open Sans', verdana, arial, sans-serif; font-size: 12px; fill: rgb(36, 36, 36); fill-opacity: 1; white-space: pre;\">medianmarechprebal90</text></g><g class=\"xtick\"><text text-anchor=\"start\" x=\"0\" y=\"819.4\" transform=\"translate(681.25,0) rotate(30,0,813.4)\" style=\"font-family: 'Open Sans', verdana, arial, sans-serif; font-size: 12px; fill: rgb(36, 36, 36); fill-opacity: 1; white-space: pre;\">cnt_da_rech30</text></g><g class=\"xtick\"><text text-anchor=\"start\" x=\"0\" y=\"819.4\" transform=\"translate(713.75,0) rotate(30,0,813.4)\" style=\"font-family: 'Open Sans', verdana, arial, sans-serif; font-size: 12px; fill: rgb(36, 36, 36); fill-opacity: 1; white-space: pre;\">fr_da_rech30</text></g><g class=\"xtick\"><text text-anchor=\"start\" x=\"0\" y=\"819.4\" transform=\"translate(746.25,0) rotate(30,0,813.4)\" style=\"font-family: 'Open Sans', verdana, arial, sans-serif; font-size: 12px; fill: rgb(36, 36, 36); fill-opacity: 1; white-space: pre;\">cnt_da_rech90</text></g><g class=\"xtick\"><text text-anchor=\"start\" x=\"0\" y=\"819.4\" transform=\"translate(778.75,0) rotate(30,0,813.4)\" style=\"font-family: 'Open Sans', verdana, arial, sans-serif; font-size: 12px; fill: rgb(36, 36, 36); fill-opacity: 1; white-space: pre;\">fr_da_rech90</text></g><g class=\"xtick\"><text text-anchor=\"start\" x=\"0\" y=\"819.4\" transform=\"translate(811.25,0) rotate(30,0,813.4)\" style=\"font-family: 'Open Sans', verdana, arial, sans-serif; font-size: 12px; fill: rgb(36, 36, 36); fill-opacity: 1; white-space: pre;\">cnt_loans30</text></g><g class=\"xtick\"><text text-anchor=\"start\" x=\"0\" y=\"819.4\" transform=\"translate(843.75,0) rotate(30,0,813.4)\" style=\"font-family: 'Open Sans', verdana, arial, sans-serif; font-size: 12px; fill: rgb(36, 36, 36); fill-opacity: 1; white-space: pre;\">amnt_loans30</text></g><g class=\"xtick\"><text text-anchor=\"start\" x=\"0\" y=\"819.4\" transform=\"translate(876.25,0) rotate(30,0,813.4)\" style=\"font-family: 'Open Sans', verdana, arial, sans-serif; font-size: 12px; fill: rgb(36, 36, 36); fill-opacity: 1; white-space: pre;\">maxamnt_loans30</text></g><g class=\"xtick\"><text text-anchor=\"start\" x=\"0\" y=\"819.4\" transform=\"translate(908.75,0) rotate(30,0,813.4)\" style=\"font-family: 'Open Sans', verdana, arial, sans-serif; font-size: 12px; fill: rgb(36, 36, 36); fill-opacity: 1; white-space: pre;\">medianamnt_loans30</text></g><g class=\"xtick\"><text text-anchor=\"start\" x=\"0\" y=\"819.4\" transform=\"translate(941.25,0) rotate(30,0,813.4)\" style=\"font-family: 'Open Sans', verdana, arial, sans-serif; font-size: 12px; fill: rgb(36, 36, 36); fill-opacity: 1; white-space: pre;\">cnt_loans90</text></g><g class=\"xtick\"><text text-anchor=\"start\" x=\"0\" y=\"819.4\" transform=\"translate(973.75,0) rotate(30,0,813.4)\" style=\"font-family: 'Open Sans', verdana, arial, sans-serif; font-size: 12px; fill: rgb(36, 36, 36); fill-opacity: 1; white-space: pre;\">amnt_loans90</text></g><g class=\"xtick\"><text text-anchor=\"start\" x=\"0\" y=\"819.4\" transform=\"translate(1006.25,0) rotate(30,0,813.4)\" style=\"font-family: 'Open Sans', verdana, arial, sans-serif; font-size: 12px; fill: rgb(36, 36, 36); fill-opacity: 1; white-space: pre;\">maxamnt_loans90</text></g><g class=\"xtick\"><text text-anchor=\"start\" x=\"0\" y=\"819.4\" transform=\"translate(1038.75,0) rotate(30,0,813.4)\" style=\"font-family: 'Open Sans', verdana, arial, sans-serif; font-size: 12px; fill: rgb(36, 36, 36); fill-opacity: 1; white-space: pre;\">medianamnt_loans90</text></g><g class=\"xtick\"><text text-anchor=\"start\" x=\"0\" y=\"819.4\" transform=\"translate(1071.25,0) rotate(30,0,813.4)\" style=\"font-family: 'Open Sans', verdana, arial, sans-serif; font-size: 12px; fill: rgb(36, 36, 36); fill-opacity: 1; white-space: pre;\">payback30</text></g><g class=\"xtick\"><text text-anchor=\"start\" x=\"0\" y=\"819.4\" transform=\"translate(1103.75,0) rotate(30,0,813.4)\" style=\"font-family: 'Open Sans', verdana, arial, sans-serif; font-size: 12px; fill: rgb(36, 36, 36); fill-opacity: 1; white-space: pre;\">payback90</text></g></g><g class=\"yaxislayer-above\"><path class=\"ytick ticks crisp\" d=\"M79,0h-5\" transform=\"translate(0,799)\" style=\"stroke: rgb(68, 68, 68); stroke-opacity: 1; stroke-width: 1px;\"/><path class=\"ytick ticks crisp\" d=\"M79,0h-5\" transform=\"translate(0,674.25)\" style=\"stroke: rgb(68, 68, 68); stroke-opacity: 1; stroke-width: 1px;\"/><path class=\"ytick ticks crisp\" d=\"M79,0h-5\" transform=\"translate(0,549.5)\" style=\"stroke: rgb(68, 68, 68); stroke-opacity: 1; stroke-width: 1px;\"/><path class=\"ytick ticks crisp\" d=\"M79,0h-5\" transform=\"translate(0,424.75)\" style=\"stroke: rgb(68, 68, 68); stroke-opacity: 1; stroke-width: 1px;\"/><path class=\"ytick ticks crisp\" d=\"M79,0h-5\" transform=\"translate(0,300)\" style=\"stroke: rgb(68, 68, 68); stroke-opacity: 1; stroke-width: 1px;\"/><path class=\"ytick ticks crisp\" d=\"M79,0h-5\" transform=\"translate(0,175.25)\" style=\"stroke: rgb(68, 68, 68); stroke-opacity: 1; stroke-width: 1px;\"/><g class=\"ytick\"><text text-anchor=\"end\" x=\"71.6\" y=\"4.199999999999999\" transform=\"translate(0,799)\" style=\"font-family: 'Open Sans', verdana, arial, sans-serif; font-size: 12px; fill: rgb(36, 36, 36); fill-opacity: 1; white-space: pre;\">0</text></g><g class=\"ytick\"><text text-anchor=\"end\" x=\"71.6\" y=\"4.199999999999999\" transform=\"translate(0,674.25)\" style=\"font-family: 'Open Sans', verdana, arial, sans-serif; font-size: 12px; fill: rgb(36, 36, 36); fill-opacity: 1; white-space: pre;\">0.1</text></g><g class=\"ytick\"><text text-anchor=\"end\" x=\"71.6\" y=\"4.199999999999999\" transform=\"translate(0,549.5)\" style=\"font-family: 'Open Sans', verdana, arial, sans-serif; font-size: 12px; fill: rgb(36, 36, 36); fill-opacity: 1; white-space: pre;\">0.2</text></g><g class=\"ytick\"><text text-anchor=\"end\" x=\"71.6\" y=\"4.199999999999999\" transform=\"translate(0,424.75)\" style=\"font-family: 'Open Sans', verdana, arial, sans-serif; font-size: 12px; fill: rgb(36, 36, 36); fill-opacity: 1; white-space: pre;\">0.3</text></g><g class=\"ytick\"><text text-anchor=\"end\" x=\"71.6\" y=\"4.199999999999999\" transform=\"translate(0,300)\" style=\"font-family: 'Open Sans', verdana, arial, sans-serif; font-size: 12px; fill: rgb(36, 36, 36); fill-opacity: 1; white-space: pre;\">0.4</text></g><g class=\"ytick\"><text text-anchor=\"end\" x=\"71.6\" y=\"4.199999999999999\" transform=\"translate(0,175.25)\" style=\"font-family: 'Open Sans', verdana, arial, sans-serif; font-size: 12px; fill: rgb(36, 36, 36); fill-opacity: 1; white-space: pre;\">0.5</text></g></g><g class=\"overaxes-above\"/></g></g><g class=\"polarlayer\"/><g class=\"ternarylayer\"/><g class=\"geolayer\"/><g class=\"funnelarealayer\"/><g class=\"pielayer\"/><g class=\"treemaplayer\"/><g class=\"sunburstlayer\"/><g class=\"glimages\"/><defs id=\"topdefs-4d6767\"><g class=\"clips\"/></defs><g class=\"layer-above\"><g class=\"imagelayer\"/><g class=\"shapelayer\"/></g><g class=\"infolayer\"><g class=\"g-gtitle\"><text class=\"gtitle\" x=\"60\" y=\"50\" text-anchor=\"start\" dy=\"0em\" style=\"font-family: 'Open Sans', verdana, arial, sans-serif; font-size: 17px; fill: rgb(36, 36, 36); opacity: 1; font-weight: normal; white-space: pre;\">Comparing different feature importance(GBC)</text></g><g class=\"g-xtitle\"/><g class=\"g-ytitle\"/></g></svg>"
          },
          "metadata": {
            "tags": []
          }
        }
      ]
    },
    {
      "cell_type": "markdown",
      "metadata": {
        "id": "PaP9FWKopH1b"
      },
      "source": [
        "<h3>⭐Logistics Regression</h3>"
      ]
    },
    {
      "cell_type": "code",
      "metadata": {
        "id": "gojw-lTTo1Ur",
        "outputId": "66c2bcae-4cf7-4b77-e74d-fa0a217ffbad",
        "colab": {
          "base_uri": "https://localhost:8080/"
        }
      },
      "source": [
        "from sklearn.linear_model import LogisticRegression\n",
        "lr = LogisticRegression(random_state=10,max_iter=200)\n",
        "lr.fit(x_train,y_train)"
      ],
      "execution_count": 44,
      "outputs": [
        {
          "output_type": "execute_result",
          "data": {
            "text/plain": [
              "LogisticRegression(C=1.0, class_weight=None, dual=False, fit_intercept=True,\n",
              "                   intercept_scaling=1, l1_ratio=None, max_iter=200,\n",
              "                   multi_class='auto', n_jobs=None, penalty='l2',\n",
              "                   random_state=10, solver='lbfgs', tol=0.0001, verbose=0,\n",
              "                   warm_start=False)"
            ]
          },
          "metadata": {
            "tags": []
          },
          "execution_count": 44
        }
      ]
    },
    {
      "cell_type": "code",
      "metadata": {
        "id": "3dHnHNz1pfFy",
        "outputId": "936627dc-6dc8-46e0-f0d5-1ae2df16377b",
        "colab": {
          "base_uri": "https://localhost:8080/"
        }
      },
      "source": [
        "lr_y_pred = lr.predict(x_test)\n",
        "lr_accuracy = accuracy_score(lr_y_pred,y_test)\n",
        "lr_recall = recall_score(lr_y_pred,y_test)\n",
        "lr_precision = precision_score(lr_y_pred,y_test)\n",
        "print(classification_report(lr_y_pred,y_test))\n",
        "print('Confusion Matrix:\\n',confusion_matrix(lr_y_pred,y_test))"
      ],
      "execution_count": 45,
      "outputs": [
        {
          "output_type": "stream",
          "text": [
            "              precision    recall  f1-score   support\n",
            "\n",
            "           0       0.18      0.51      0.26      1869\n",
            "           1       0.97      0.89      0.93     40050\n",
            "\n",
            "    accuracy                           0.87     41919\n",
            "   macro avg       0.58      0.70      0.60     41919\n",
            "weighted avg       0.94      0.87      0.90     41919\n",
            "\n",
            "Confusion Matrix:\n",
            " [[  944   925]\n",
            " [ 4329 35721]]\n"
          ],
          "name": "stdout"
        }
      ]
    },
    {
      "cell_type": "code",
      "metadata": {
        "id": "bgGYtzHHb5K0",
        "outputId": "51780f98-8a29-434e-aaca-0051234818af",
        "colab": {
          "base_uri": "https://localhost:8080/",
          "height": 312
        }
      },
      "source": [
        "sns.distplot(y_test,hist=False,color='r',label='Actual')\n",
        "plt.title('Actual v/s Predicted(Logistics Reg.)')\n",
        "sns.distplot(lr_y_pred,hist=False,color='b',label='Predicted')"
      ],
      "execution_count": 122,
      "outputs": [
        {
          "output_type": "execute_result",
          "data": {
            "text/plain": [
              "<matplotlib.axes._subplots.AxesSubplot at 0x7f5d2005ba20>"
            ]
          },
          "metadata": {
            "tags": []
          },
          "execution_count": 122
        },
        {
          "output_type": "display_data",
          "data": {
            "image/png": "[encoded data removed]",
            "text/plain": [
              "<Figure size 432x288 with 1 Axes>"
            ]
          },
          "metadata": {
            "tags": [],
            "needs_background": "light"
          }
        }
      ]
    },
    {
      "cell_type": "markdown",
      "metadata": {
        "id": "oa2twyRaqMvs"
      },
      "source": [
        "<h3>⭐Decision Tree Classifier</h3>"
      ]
    },
    {
      "cell_type": "code",
      "metadata": {
        "id": "jQi8sSOdqDDL",
        "outputId": "65708546-2058-418c-8453-6ae94902641e",
        "colab": {
          "base_uri": "https://localhost:8080/"
        }
      },
      "source": [
        "from sklearn.tree import DecisionTreeClassifier\n",
        "DTC = DecisionTreeClassifier(random_state=10)\n",
        "DTC.fit(x_train,y_train)"
      ],
      "execution_count": 46,
      "outputs": [
        {
          "output_type": "execute_result",
          "data": {
            "text/plain": [
              "DecisionTreeClassifier(ccp_alpha=0.0, class_weight=None, criterion='gini',\n",
              "                       max_depth=None, max_features=None, max_leaf_nodes=None,\n",
              "                       min_impurity_decrease=0.0, min_impurity_split=None,\n",
              "                       min_samples_leaf=1, min_samples_split=2,\n",
              "                       min_weight_fraction_leaf=0.0, presort='deprecated',\n",
              "                       random_state=10, splitter='best')"
            ]
          },
          "metadata": {
            "tags": []
          },
          "execution_count": 46
        }
      ]
    },
    {
      "cell_type": "code",
      "metadata": {
        "id": "9w_arJLTqiQx",
        "outputId": "2947c868-1e68-4679-ede8-85af181fd5f2",
        "colab": {
          "base_uri": "https://localhost:8080/"
        }
      },
      "source": [
        "DTC_y_pred = DTC.predict(x_test)\n",
        "DTC_accuracy = accuracy_score(DTC_y_pred,y_test)\n",
        "DTC_recall = recall_score(DTC_y_pred,y_test)\n",
        "DTC_precision = precision_score(DTC_y_pred,y_test)\n",
        "print(classification_report(DTC_y_pred,y_test))\n",
        "print('Confusion Matrix:\\n',confusion_matrix(DTC_y_pred,y_test))"
      ],
      "execution_count": 63,
      "outputs": [
        {
          "output_type": "stream",
          "text": [
            "              precision    recall  f1-score   support\n",
            "\n",
            "           0       0.50      0.47      0.48      5569\n",
            "           1       0.92      0.93      0.92     36350\n",
            "\n",
            "    accuracy                           0.87     41919\n",
            "   macro avg       0.71      0.70      0.70     41919\n",
            "weighted avg       0.86      0.87      0.86     41919\n",
            "\n",
            "Confusion Matrix:\n",
            " [[ 2617  2952]\n",
            " [ 2656 33694]]\n"
          ],
          "name": "stdout"
        }
      ]
    },
    {
      "cell_type": "code",
      "metadata": {
        "id": "g7gcAj_zcCMR",
        "outputId": "9a36a630-bfe1-431a-cea1-5d15fa195b6d",
        "colab": {
          "base_uri": "https://localhost:8080/",
          "height": 312
        }
      },
      "source": [
        "sns.distplot(y_test,hist=False,color='r',label='Actual')\n",
        "plt.title('Actual v/s Predicted(DTC)')\n",
        "sns.distplot(DTC_y_pred,hist=False,color='b',label='Predicted')"
      ],
      "execution_count": 123,
      "outputs": [
        {
          "output_type": "execute_result",
          "data": {
            "text/plain": [
              "<matplotlib.axes._subplots.AxesSubplot at 0x7f5d1a170780>"
            ]
          },
          "metadata": {
            "tags": []
          },
          "execution_count": 123
        },
        {
          "output_type": "display_data",
          "data": {
            "image/png": "[encoded data removed]",
            "text/plain": [
              "<Figure size 432x288 with 1 Axes>"
            ]
          },
          "metadata": {
            "tags": [],
            "needs_background": "light"
          }
        }
      ]
    },
    {
      "cell_type": "code",
      "metadata": {
        "id": "C3ROpMYlY68c",
        "outputId": "e3e2873f-a9ba-4e4a-e7e2-9be7216907bf",
        "colab": {
          "base_uri": "https://localhost:8080/",
          "height": 1000
        }
      },
      "source": [
        "fi = DTC.feature_importances_\n",
        "fig = make_subplots(rows=1, cols=1)\n",
        "\n",
        "fig.add_trace(go.Bar(x=x.columns,y=fi,name='Non-normalized',\n",
        "                        marker_color='rgb(171,241,255)',marker_line_color='rgb(12,0,335)',\n",
        "                        marker_line_width=2, opacity=0.6),\n",
        "                row=1,col=1)\n",
        "fig.update_layout(template='simple_white',title='Comparing different feature importance(DTC)',height=900)\n",
        "fig.show()\n",
        "fig.show('svg',height=900,width=1200)"
      ],
      "execution_count": 113,
      "outputs": [
        {
          "output_type": "display_data",
          "data": {
            "text/html": [
              "<html>\n",
              "<head><meta charset=\"utf-8\" /></head>\n",
              "<body>\n",
              "    <div>\n",
              "            <script src=\"https://cdnjs.cloudflare.com/ajax/libs/mathjax/2.7.5/MathJax.js?config=TeX-AMS-MML_SVG\"></script><script type=\"text/javascript\">if (window.MathJax) {MathJax.Hub.Config({SVG: {font: \"STIX-Web\"}});}</script>\n",
              "                <script type=\"text/javascript\">window.PlotlyConfig = {MathJaxConfig: 'local'};</script>\n",
              "        <script src=\"https://cdn.plot.ly/plotly-latest.min.js\"></script>    \n",
              "            <div id=\"34af2bd6-2016-4780-bdfc-167704a21f47\" class=\"plotly-graph-div\" style=\"height:900px; width:100%;\"></div>\n",
              "            <script type=\"text/javascript\">\n",
              "                \n",
              "                    window.PLOTLYENV=window.PLOTLYENV || {};\n",
              "                    \n",
              "                if (document.getElementById(\"34af2bd6-2016-4780-bdfc-167704a21f47\")) {\n",
              "                    Plotly.newPlot(\n",
              "                        '34af2bd6-2016-4780-bdfc-167704a21f47',\n",
              "                        [{\"marker\": {\"color\": \"rgb(171,241,255)\", \"line\": {\"color\": \"rgb(12,0,335)\", \"width\": 2}}, \"name\": \"Non-normalized\", \"opacity\": 0.6, \"type\": \"bar\", \"x\": [\"aon\", \"daily_decr30\", \"daily_decr90\", \"rental30\", \"rental90\", \"last_rech_date_ma\", \"last_rech_date_da\", \"last_rech_amt_ma\", \"cnt_ma_rech30\", \"fr_ma_rech30\", \"sumamnt_ma_rech30\", \"medianamnt_ma_rech30\", \"medianmarechprebal30\", \"cnt_ma_rech90\", \"fr_ma_rech90\", \"sumamnt_ma_rech90\", \"medianamnt_ma_rech90\", \"medianmarechprebal90\", \"cnt_da_rech30\", \"fr_da_rech30\", \"cnt_da_rech90\", \"fr_da_rech90\", \"cnt_loans30\", \"amnt_loans30\", \"maxamnt_loans30\", \"medianamnt_loans30\", \"cnt_loans90\", \"amnt_loans90\", \"maxamnt_loans90\", \"medianamnt_loans90\", \"payback30\", \"payback90\"], \"xaxis\": \"x\", \"y\": [0.10089605048205823, 0.08207724046217217, 0.2648654140432929, 0.06464792068796237, 0.08120470477601159, 0.04626939128790686, 0.002446324687726323, 0.01087304222975996, 0.004757221739381543, 0.014404618248533054, 0.021793094192506718, 0.014216011220086795, 0.03818213616677963, 0.014673178696225468, 0.02453000865846675, 0.08375437379050038, 0.015872099880636117, 0.04698697957656773, 0.0016526849198619964, 0.0013967124958842144, 0.0011752725474612458, 0.0005806614801565826, 0.005299127218986685, 0.008157012586643008, 0.003382583319212135, 0.0034372635218361323, 0.005315588152989118, 0.00521507788965667, 0.0019679555421719197, 0.004129779490748103, 0.01086743027607193, 0.014973039731745682], \"yaxis\": \"y\"}],\n",
              "                        {\"height\": 900, \"template\": {\"data\": {\"bar\": [{\"error_x\": {\"color\": \"rgb(36,36,36)\"}, \"error_y\": {\"color\": \"rgb(36,36,36)\"}, \"marker\": {\"line\": {\"color\": \"white\", \"width\": 0.5}}, \"type\": \"bar\"}], \"barpolar\": [{\"marker\": {\"line\": {\"color\": \"white\", \"width\": 0.5}}, \"type\": \"barpolar\"}], \"carpet\": [{\"aaxis\": {\"endlinecolor\": \"rgb(36,36,36)\", \"gridcolor\": \"white\", \"linecolor\": \"white\", \"minorgridcolor\": \"white\", \"startlinecolor\": \"rgb(36,36,36)\"}, \"baxis\": {\"endlinecolor\": \"rgb(36,36,36)\", \"gridcolor\": \"white\", \"linecolor\": \"white\", \"minorgridcolor\": \"white\", \"startlinecolor\": \"rgb(36,36,36)\"}, \"type\": \"carpet\"}], \"choropleth\": [{\"colorbar\": {\"outlinewidth\": 10, \"tickcolor\": \"rgb(36,36,36)\", \"ticklen\": 8, \"ticks\": \"outside\", \"tickwidth\": 2}, \"type\": \"choropleth\"}], \"contour\": [{\"colorbar\": {\"outlinewidth\": 10, \"tickcolor\": \"rgb(36,36,36)\", \"ticklen\": 8, \"ticks\": \"outside\", \"tickwidth\": 2}, \"colorscale\": [[0.0, \"#440154\"], [0.1111111111111111, \"#482878\"], [0.2222222222222222, \"#3e4989\"], [0.3333333333333333, \"#31688e\"], [0.4444444444444444, \"#26828e\"], [0.5555555555555556, \"#1f9e89\"], [0.6666666666666666, \"#35b779\"], [0.7777777777777778, \"#6ece58\"], [0.8888888888888888, \"#b5de2b\"], [1.0, \"#fde725\"]], \"type\": \"contour\"}], \"contourcarpet\": [{\"colorbar\": {\"outlinewidth\": 10, \"tickcolor\": \"rgb(36,36,36)\", \"ticklen\": 8, \"ticks\": \"outside\", \"tickwidth\": 2}, \"type\": \"contourcarpet\"}], \"heatmap\": [{\"colorbar\": {\"outlinewidth\": 10, \"tickcolor\": \"rgb(36,36,36)\", \"ticklen\": 8, \"ticks\": \"outside\", \"tickwidth\": 2}, \"colorscale\": [[0.0, \"#440154\"], [0.1111111111111111, \"#482878\"], [0.2222222222222222, \"#3e4989\"], [0.3333333333333333, \"#31688e\"], [0.4444444444444444, \"#26828e\"], [0.5555555555555556, \"#1f9e89\"], [0.6666666666666666, \"#35b779\"], [0.7777777777777778, \"#6ece58\"], [0.8888888888888888, \"#b5de2b\"], [1.0, \"#fde725\"]], \"type\": \"heatmap\"}], \"heatmapgl\": [{\"colorbar\": {\"outlinewidth\": 10, \"tickcolor\": \"rgb(36,36,36)\", \"ticklen\": 8, \"ticks\": \"outside\", \"tickwidth\": 2}, \"colorscale\": [[0.0, \"#440154\"], [0.1111111111111111, \"#482878\"], [0.2222222222222222, \"#3e4989\"], [0.3333333333333333, \"#31688e\"], [0.4444444444444444, \"#26828e\"], [0.5555555555555556, \"#1f9e89\"], [0.6666666666666666, \"#35b779\"], [0.7777777777777778, \"#6ece58\"], [0.8888888888888888, \"#b5de2b\"], [1.0, \"#fde725\"]], \"type\": \"heatmapgl\"}], \"histogram\": [{\"marker\": {\"line\": {\"color\": \"white\", \"width\": 0.6}}, \"type\": \"histogram\"}], \"histogram2d\": [{\"colorbar\": {\"outlinewidth\": 10, \"tickcolor\": \"rgb(36,36,36)\", \"ticklen\": 8, \"ticks\": \"outside\", \"tickwidth\": 2}, \"colorscale\": [[0.0, \"#440154\"], [0.1111111111111111, \"#482878\"], [0.2222222222222222, \"#3e4989\"], [0.3333333333333333, \"#31688e\"], [0.4444444444444444, \"#26828e\"], [0.5555555555555556, \"#1f9e89\"], [0.6666666666666666, \"#35b779\"], [0.7777777777777778, \"#6ece58\"], [0.8888888888888888, \"#b5de2b\"], [1.0, \"#fde725\"]], \"type\": \"histogram2d\"}], \"histogram2dcontour\": [{\"colorbar\": {\"outlinewidth\": 10, \"tickcolor\": \"rgb(36,36,36)\", \"ticklen\": 8, \"ticks\": \"outside\", \"tickwidth\": 2}, \"colorscale\": [[0.0, \"#440154\"], [0.1111111111111111, \"#482878\"], [0.2222222222222222, \"#3e4989\"], [0.3333333333333333, \"#31688e\"], [0.4444444444444444, \"#26828e\"], [0.5555555555555556, \"#1f9e89\"], [0.6666666666666666, \"#35b779\"], [0.7777777777777778, \"#6ece58\"], [0.8888888888888888, \"#b5de2b\"], [1.0, \"#fde725\"]], \"type\": \"histogram2dcontour\"}], \"mesh3d\": [{\"colorbar\": {\"outlinewidth\": 10, \"tickcolor\": \"rgb(36,36,36)\", \"ticklen\": 8, \"ticks\": \"outside\", \"tickwidth\": 2}, \"type\": \"mesh3d\"}], \"parcoords\": [{\"line\": {\"colorbar\": {\"outlinewidth\": 10, \"tickcolor\": \"rgb(36,36,36)\", \"ticklen\": 8, \"ticks\": \"outside\", \"tickwidth\": 2}}, \"type\": \"parcoords\"}], \"pie\": [{\"automargin\": true, \"type\": \"pie\"}], \"scatter\": [{\"marker\": {\"colorbar\": {\"outlinewidth\": 10, \"tickcolor\": \"rgb(36,36,36)\", \"ticklen\": 8, \"ticks\": \"outside\", \"tickwidth\": 2}}, \"type\": \"scatter\"}], \"scatter3d\": [{\"line\": {\"colorbar\": {\"outlinewidth\": 10, \"tickcolor\": \"rgb(36,36,36)\", \"ticklen\": 8, \"ticks\": \"outside\", \"tickwidth\": 2}}, \"marker\": {\"colorbar\": {\"outlinewidth\": 10, \"tickcolor\": \"rgb(36,36,36)\", \"ticklen\": 8, \"ticks\": \"outside\", \"tickwidth\": 2}}, \"type\": \"scatter3d\"}], \"scattercarpet\": [{\"marker\": {\"colorbar\": {\"outlinewidth\": 10, \"tickcolor\": \"rgb(36,36,36)\", \"ticklen\": 8, \"ticks\": \"outside\", \"tickwidth\": 2}}, \"type\": \"scattercarpet\"}], \"scattergeo\": [{\"marker\": {\"colorbar\": {\"outlinewidth\": 10, \"tickcolor\": \"rgb(36,36,36)\", \"ticklen\": 8, \"ticks\": \"outside\", \"tickwidth\": 2}}, \"type\": \"scattergeo\"}], \"scattergl\": [{\"marker\": {\"colorbar\": {\"outlinewidth\": 10, \"tickcolor\": \"rgb(36,36,36)\", \"ticklen\": 8, \"ticks\": \"outside\", \"tickwidth\": 2}}, \"type\": \"scattergl\"}], \"scattermapbox\": [{\"marker\": {\"colorbar\": {\"outlinewidth\": 10, \"tickcolor\": \"rgb(36,36,36)\", \"ticklen\": 8, \"ticks\": \"outside\", \"tickwidth\": 2}}, \"type\": \"scattermapbox\"}], \"scatterpolar\": [{\"marker\": {\"colorbar\": {\"outlinewidth\": 10, \"tickcolor\": \"rgb(36,36,36)\", \"ticklen\": 8, \"ticks\": \"outside\", \"tickwidth\": 2}}, \"type\": \"scatterpolar\"}], \"scatterpolargl\": [{\"marker\": {\"colorbar\": {\"outlinewidth\": 10, \"tickcolor\": \"rgb(36,36,36)\", \"ticklen\": 8, \"ticks\": \"outside\", \"tickwidth\": 2}}, \"type\": \"scatterpolargl\"}], \"scatterternary\": [{\"marker\": {\"colorbar\": {\"outlinewidth\": 10, \"tickcolor\": \"rgb(36,36,36)\", \"ticklen\": 8, \"ticks\": \"outside\", \"tickwidth\": 2}}, \"type\": \"scatterternary\"}], \"surface\": [{\"colorbar\": {\"outlinewidth\": 10, \"tickcolor\": \"rgb(36,36,36)\", \"ticklen\": 8, \"ticks\": \"outside\", \"tickwidth\": 2}, \"colorscale\": [[0.0, \"#440154\"], [0.1111111111111111, \"#482878\"], [0.2222222222222222, \"#3e4989\"], [0.3333333333333333, \"#31688e\"], [0.4444444444444444, \"#26828e\"], [0.5555555555555556, \"#1f9e89\"], [0.6666666666666666, \"#35b779\"], [0.7777777777777778, \"#6ece58\"], [0.8888888888888888, \"#b5de2b\"], [1.0, \"#fde725\"]], \"type\": \"surface\"}], \"table\": [{\"cells\": {\"fill\": {\"color\": \"rgb(237,237,237)\"}, \"line\": {\"color\": \"white\"}}, \"header\": {\"fill\": {\"color\": \"rgb(217,217,217)\"}, \"line\": {\"color\": \"white\"}}, \"type\": \"table\"}]}, \"layout\": {\"annotationdefaults\": {\"arrowhead\": 0, \"arrowwidth\": 1}, \"coloraxis\": {\"colorbar\": {\"outlinewidth\": 10, \"tickcolor\": \"rgb(36,36,36)\", \"ticklen\": 8, \"ticks\": \"outside\", \"tickwidth\": 2}}, \"colorscale\": {\"diverging\": [[0.0, \"rgb(103,0,31)\"], [0.1, \"rgb(178,24,43)\"], [0.2, \"rgb(214,96,77)\"], [0.3, \"rgb(244,165,130)\"], [0.4, \"rgb(253,219,199)\"], [0.5, \"rgb(247,247,247)\"], [0.6, \"rgb(209,229,240)\"], [0.7, \"rgb(146,197,222)\"], [0.8, \"rgb(67,147,195)\"], [0.9, \"rgb(33,102,172)\"], [1.0, \"rgb(5,48,97)\"]], \"sequential\": [[0.0, \"#440154\"], [0.1111111111111111, \"#482878\"], [0.2222222222222222, \"#3e4989\"], [0.3333333333333333, \"#31688e\"], [0.4444444444444444, \"#26828e\"], [0.5555555555555556, \"#1f9e89\"], [0.6666666666666666, \"#35b779\"], [0.7777777777777778, \"#6ece58\"], [0.8888888888888888, \"#b5de2b\"], [1.0, \"#fde725\"]], \"sequentialminus\": [[0.0, \"#440154\"], [0.1111111111111111, \"#482878\"], [0.2222222222222222, \"#3e4989\"], [0.3333333333333333, \"#31688e\"], [0.4444444444444444, \"#26828e\"], [0.5555555555555556, \"#1f9e89\"], [0.6666666666666666, \"#35b779\"], [0.7777777777777778, \"#6ece58\"], [0.8888888888888888, \"#b5de2b\"], [1.0, \"#fde725\"]]}, \"colorway\": [\"#1F77B4\", \"#FF7F0E\", \"#2CA02C\", \"#D62728\", \"#9467BD\", \"#8C564B\", \"#E377C2\", \"#7F7F7F\", \"#BCBD22\", \"#17BECF\"], \"font\": {\"color\": \"rgb(36,36,36)\"}, \"geo\": {\"bgcolor\": \"white\", \"lakecolor\": \"white\", \"landcolor\": \"white\", \"showlakes\": true, \"showland\": true, \"subunitcolor\": \"white\"}, \"hoverlabel\": {\"align\": \"left\"}, \"hovermode\": \"closest\", \"mapbox\": {\"style\": \"light\"}, \"paper_bgcolor\": \"white\", \"plot_bgcolor\": \"white\", \"polar\": {\"angularaxis\": {\"gridcolor\": \"rgb(232,232,232)\", \"linecolor\": \"rgb(36,36,36)\", \"showgrid\": false, \"showline\": true, \"ticks\": \"outside\"}, \"bgcolor\": \"white\", \"radialaxis\": {\"gridcolor\": \"rgb(232,232,232)\", \"linecolor\": \"rgb(36,36,36)\", \"showgrid\": false, \"showline\": true, \"ticks\": \"outside\"}}, \"scene\": {\"xaxis\": {\"backgroundcolor\": \"white\", \"gridcolor\": \"rgb(232,232,232)\", \"gridwidth\": 2, \"linecolor\": \"rgb(36,36,36)\", \"showbackground\": true, \"showgrid\": false, \"showline\": true, \"ticks\": \"outside\", \"zeroline\": false, \"zerolinecolor\": \"rgb(36,36,36)\"}, \"yaxis\": {\"backgroundcolor\": \"white\", \"gridcolor\": \"rgb(232,232,232)\", \"gridwidth\": 2, \"linecolor\": \"rgb(36,36,36)\", \"showbackground\": true, \"showgrid\": false, \"showline\": true, \"ticks\": \"outside\", \"zeroline\": false, \"zerolinecolor\": \"rgb(36,36,36)\"}, \"zaxis\": {\"backgroundcolor\": \"white\", \"gridcolor\": \"rgb(232,232,232)\", \"gridwidth\": 2, \"linecolor\": \"rgb(36,36,36)\", \"showbackground\": true, \"showgrid\": false, \"showline\": true, \"ticks\": \"outside\", \"zeroline\": false, \"zerolinecolor\": \"rgb(36,36,36)\"}}, \"shapedefaults\": {\"fillcolor\": \"black\", \"line\": {\"width\": 0}, \"opacity\": 0.3}, \"ternary\": {\"aaxis\": {\"gridcolor\": \"rgb(232,232,232)\", \"linecolor\": \"rgb(36,36,36)\", \"showgrid\": false, \"showline\": true, \"ticks\": \"outside\"}, \"baxis\": {\"gridcolor\": \"rgb(232,232,232)\", \"linecolor\": \"rgb(36,36,36)\", \"showgrid\": false, \"showline\": true, \"ticks\": \"outside\"}, \"bgcolor\": \"white\", \"caxis\": {\"gridcolor\": \"rgb(232,232,232)\", \"linecolor\": \"rgb(36,36,36)\", \"showgrid\": false, \"showline\": true, \"ticks\": \"outside\"}}, \"title\": {\"x\": 0.05}, \"xaxis\": {\"automargin\": true, \"gridcolor\": \"rgb(232,232,232)\", \"linecolor\": \"rgb(36,36,36)\", \"showgrid\": false, \"showline\": true, \"ticks\": \"outside\", \"title\": {\"standoff\": 15}, \"zeroline\": false, \"zerolinecolor\": \"rgb(36,36,36)\"}, \"yaxis\": {\"automargin\": true, \"gridcolor\": \"rgb(232,232,232)\", \"linecolor\": \"rgb(36,36,36)\", \"showgrid\": false, \"showline\": true, \"ticks\": \"outside\", \"title\": {\"standoff\": 15}, \"zeroline\": false, \"zerolinecolor\": \"rgb(36,36,36)\"}}}, \"title\": {\"text\": \"Comparing different feature importance(DTC)\"}, \"xaxis\": {\"anchor\": \"y\", \"domain\": [0.0, 1.0]}, \"yaxis\": {\"anchor\": \"x\", \"domain\": [0.0, 1.0]}},\n",
              "                        {\"responsive\": true}\n",
              "                    ).then(function(){\n",
              "                            \n",
              "var gd = document.getElementById('34af2bd6-2016-4780-bdfc-167704a21f47');\n",
              "var x = new MutationObserver(function (mutations, observer) {{\n",
              "        var display = window.getComputedStyle(gd).display;\n",
              "        if (!display || display === 'none') {{\n",
              "            console.log([gd, 'removed!']);\n",
              "            Plotly.purge(gd);\n",
              "            observer.disconnect();\n",
              "        }}\n",
              "}});\n",
              "\n",
              "// Listen for the removal of the full notebook cells\n",
              "var notebookContainer = gd.closest('#notebook-container');\n",
              "if (notebookContainer) {{\n",
              "    x.observe(notebookContainer, {childList: true});\n",
              "}}\n",
              "\n",
              "// Listen for the clearing of the current output cell\n",
              "var outputEl = gd.closest('.output');\n",
              "if (outputEl) {{\n",
              "    x.observe(outputEl, {childList: true});\n",
              "}}\n",
              "\n",
              "                        })\n",
              "                };\n",
              "                \n",
              "            </script>\n",
              "        </div>\n",
              "</body>\n",
              "</html>"
            ]
          },
          "metadata": {
            "tags": []
          }
        },
        {
          "output_type": "display_data",
          "data": {
            "image/svg+xml": "<svg class=\"main-svg\" xmlns=\"http://www.w3.org/2000/svg\" xmlns:xlink=\"http://www.w3.org/1999/xlink\" width=\"1200\" height=\"900\" viewBox=\"0 0 1200 900\"><rect x=\"0\" y=\"0\" width=\"1200\" height=\"900\" style=\"fill: rgb(255, 255, 255); fill-opacity: 1;\"/><defs id=\"defs-d257d7\"><g class=\"clips\"><clipPath id=\"clipd257d7xyplot\" class=\"plotclip\"><rect width=\"1040\" height=\"699\"/></clipPath><clipPath class=\"axesclip\" id=\"clipd257d7x\"><rect x=\"80\" y=\"0\" width=\"1040\" height=\"900\"/></clipPath><clipPath class=\"axesclip\" id=\"clipd257d7y\"><rect x=\"0\" y=\"100\" width=\"1200\" height=\"699\"/></clipPath><clipPath class=\"axesclip\" id=\"clipd257d7xy\"><rect x=\"80\" y=\"100\" width=\"1040\" height=\"699\"/></clipPath></g><g class=\"gradients\"/></defs><g class=\"bglayer\"/><g class=\"layer-below\"><g class=\"imagelayer\"/><g class=\"shapelayer\"/></g><g class=\"cartesianlayer\"><g class=\"subplot xy\"><g class=\"layer-subplot\"><g class=\"shapelayer\"/><g class=\"imagelayer\"/></g><g class=\"gridlayer\"><g class=\"x\"/><g class=\"y\"/></g><g class=\"zerolinelayer\"/><path class=\"xlines-below\"/><path class=\"ylines-below\"/><g class=\"overlines-below\"/><g class=\"xaxislayer-below\"/><g class=\"yaxislayer-below\"/><g class=\"overaxes-below\"/><g class=\"plot\" transform=\"translate(80, 100)\" clip-path=\"url('#clipd257d7xyplot')\"><g class=\"barlayer mlayer\"><g class=\"trace bars\" style=\"opacity: 0.6;\"><g class=\"points\"><g class=\"point\"><path d=\"M3.25,699V446.04H29.25V699Z\" style=\"vector-effect: non-scaling-stroke; opacity: 1; stroke-width: 2px; fill: rgb(171, 241, 255); fill-opacity: 1; stroke: rgb(12, 0, 255); stroke-opacity: 1;\"/></g><g class=\"point\"><path d=\"M35.75,699V493.22H61.75V699Z\" style=\"vector-effect: non-scaling-stroke; opacity: 1; stroke-width: 2px; fill: rgb(171, 241, 255); fill-opacity: 1; stroke: rgb(12, 0, 255); stroke-opacity: 1;\"/></g><g class=\"point\"><path d=\"M68.25,699V34.95H94.25V699Z\" style=\"vector-effect: non-scaling-stroke; opacity: 1; stroke-width: 2px; fill: rgb(171, 241, 255); fill-opacity: 1; stroke: rgb(12, 0, 255); stroke-opacity: 1;\"/></g><g class=\"point\"><path d=\"M100.75,699V536.92H126.75V699Z\" style=\"vector-effect: non-scaling-stroke; opacity: 1; stroke-width: 2px; fill: rgb(171, 241, 255); fill-opacity: 1; stroke: rgb(12, 0, 255); stroke-opacity: 1;\"/></g><g class=\"point\"><path d=\"M133.25,699V495.41H159.25V699Z\" style=\"vector-effect: non-scaling-stroke; opacity: 1; stroke-width: 2px; fill: rgb(171, 241, 255); fill-opacity: 1; stroke: rgb(12, 0, 255); stroke-opacity: 1;\"/></g><g class=\"point\"><path d=\"M165.75,699V583H191.75V699Z\" style=\"vector-effect: non-scaling-stroke; opacity: 1; stroke-width: 2px; fill: rgb(171, 241, 255); fill-opacity: 1; stroke: rgb(12, 0, 255); stroke-opacity: 1;\"/></g><g class=\"point\"><path d=\"M198.25,699V692.87H224.25V699Z\" style=\"vector-effect: non-scaling-stroke; opacity: 1; stroke-width: 2px; fill: rgb(171, 241, 255); fill-opacity: 1; stroke: rgb(12, 0, 255); stroke-opacity: 1;\"/></g><g class=\"point\"><path d=\"M230.75,699V671.74H256.75V699Z\" style=\"vector-effect: non-scaling-stroke; opacity: 1; stroke-width: 2px; fill: rgb(171, 241, 255); fill-opacity: 1; stroke: rgb(12, 0, 255); stroke-opacity: 1;\"/></g><g class=\"point\"><path d=\"M263.25,699V687.07H289.25V699Z\" style=\"vector-effect: non-scaling-stroke; opacity: 1; stroke-width: 2px; fill: rgb(171, 241, 255); fill-opacity: 1; stroke: rgb(12, 0, 255); stroke-opacity: 1;\"/></g><g class=\"point\"><path d=\"M295.75,699V662.89H321.75V699Z\" style=\"vector-effect: non-scaling-stroke; opacity: 1; stroke-width: 2px; fill: rgb(171, 241, 255); fill-opacity: 1; stroke: rgb(12, 0, 255); stroke-opacity: 1;\"/></g><g class=\"point\"><path d=\"M328.25,699V644.36H354.25V699Z\" style=\"vector-effect: non-scaling-stroke; opacity: 1; stroke-width: 2px; fill: rgb(171, 241, 255); fill-opacity: 1; stroke: rgb(12, 0, 255); stroke-opacity: 1;\"/></g><g class=\"point\"><path d=\"M360.75,699V663.36H386.75V699Z\" style=\"vector-effect: non-scaling-stroke; opacity: 1; stroke-width: 2px; fill: rgb(171, 241, 255); fill-opacity: 1; stroke: rgb(12, 0, 255); stroke-opacity: 1;\"/></g><g class=\"point\"><path d=\"M393.25,699V603.27H419.25V699Z\" style=\"vector-effect: non-scaling-stroke; opacity: 1; stroke-width: 2px; fill: rgb(171, 241, 255); fill-opacity: 1; stroke: rgb(12, 0, 255); stroke-opacity: 1;\"/></g><g class=\"point\"><path d=\"M425.75,699V662.21H451.75V699Z\" style=\"vector-effect: non-scaling-stroke; opacity: 1; stroke-width: 2px; fill: rgb(171, 241, 255); fill-opacity: 1; stroke: rgb(12, 0, 255); stroke-opacity: 1;\"/></g><g class=\"point\"><path d=\"M458.25,699V637.5H484.25V699Z\" style=\"vector-effect: non-scaling-stroke; opacity: 1; stroke-width: 2px; fill: rgb(171, 241, 255); fill-opacity: 1; stroke: rgb(12, 0, 255); stroke-opacity: 1;\"/></g><g class=\"point\"><path d=\"M490.75,699V489.02H516.75V699Z\" style=\"vector-effect: non-scaling-stroke; opacity: 1; stroke-width: 2px; fill: rgb(171, 241, 255); fill-opacity: 1; stroke: rgb(12, 0, 255); stroke-opacity: 1;\"/></g><g class=\"point\"><path d=\"M523.25,699V659.21H549.25V699Z\" style=\"vector-effect: non-scaling-stroke; opacity: 1; stroke-width: 2px; fill: rgb(171, 241, 255); fill-opacity: 1; stroke: rgb(12, 0, 255); stroke-opacity: 1;\"/></g><g class=\"point\"><path d=\"M555.75,699V581.2H581.75V699Z\" style=\"vector-effect: non-scaling-stroke; opacity: 1; stroke-width: 2px; fill: rgb(171, 241, 255); fill-opacity: 1; stroke: rgb(12, 0, 255); stroke-opacity: 1;\"/></g><g class=\"point\"><path d=\"M588.25,699V694.86H614.25V699Z\" style=\"vector-effect: non-scaling-stroke; opacity: 1; stroke-width: 2px; fill: rgb(171, 241, 255); fill-opacity: 1; stroke: rgb(12, 0, 255); stroke-opacity: 1;\"/></g><g class=\"point\"><path d=\"M620.75,699V695.5H646.75V699Z\" style=\"vector-effect: non-scaling-stroke; opacity: 1; stroke-width: 2px; fill: rgb(171, 241, 255); fill-opacity: 1; stroke: rgb(12, 0, 255); stroke-opacity: 1;\"/></g><g class=\"point\"><path d=\"M653.25,699V696.05H679.25V699Z\" style=\"vector-effect: non-scaling-stroke; opacity: 1; stroke-width: 2px; fill: rgb(171, 241, 255); fill-opacity: 1; stroke: rgb(12, 0, 255); stroke-opacity: 1;\"/></g><g class=\"point\"><path d=\"M685.75,699V697.54H711.75V699Z\" style=\"vector-effect: non-scaling-stroke; opacity: 1; stroke-width: 2px; fill: rgb(171, 241, 255); fill-opacity: 1; stroke: rgb(12, 0, 255); stroke-opacity: 1;\"/></g><g class=\"point\"><path d=\"M718.25,699V685.71H744.25V699Z\" style=\"vector-effect: non-scaling-stroke; opacity: 1; stroke-width: 2px; fill: rgb(171, 241, 255); fill-opacity: 1; stroke: rgb(12, 0, 255); stroke-opacity: 1;\"/></g><g class=\"point\"><path d=\"M750.75,699V678.55H776.75V699Z\" style=\"vector-effect: non-scaling-stroke; opacity: 1; stroke-width: 2px; fill: rgb(171, 241, 255); fill-opacity: 1; stroke: rgb(12, 0, 255); stroke-opacity: 1;\"/></g><g class=\"point\"><path d=\"M783.25,699V690.52H809.25V699Z\" style=\"vector-effect: non-scaling-stroke; opacity: 1; stroke-width: 2px; fill: rgb(171, 241, 255); fill-opacity: 1; stroke: rgb(12, 0, 255); stroke-opacity: 1;\"/></g><g class=\"point\"><path d=\"M815.75,699V690.38H841.75V699Z\" style=\"vector-effect: non-scaling-stroke; opacity: 1; stroke-width: 2px; fill: rgb(171, 241, 255); fill-opacity: 1; stroke: rgb(12, 0, 255); stroke-opacity: 1;\"/></g><g class=\"point\"><path d=\"M848.25,699V685.67H874.25V699Z\" style=\"vector-effect: non-scaling-stroke; opacity: 1; stroke-width: 2px; fill: rgb(171, 241, 255); fill-opacity: 1; stroke: rgb(12, 0, 255); stroke-opacity: 1;\"/></g><g class=\"point\"><path d=\"M880.75,699V685.93H906.75V699Z\" style=\"vector-effect: non-scaling-stroke; opacity: 1; stroke-width: 2px; fill: rgb(171, 241, 255); fill-opacity: 1; stroke: rgb(12, 0, 255); stroke-opacity: 1;\"/></g><g class=\"point\"><path d=\"M913.25,699V694.07H939.25V699Z\" style=\"vector-effect: non-scaling-stroke; opacity: 1; stroke-width: 2px; fill: rgb(171, 241, 255); fill-opacity: 1; stroke: rgb(12, 0, 255); stroke-opacity: 1;\"/></g><g class=\"point\"><path d=\"M945.75,699V688.65H971.75V699Z\" style=\"vector-effect: non-scaling-stroke; opacity: 1; stroke-width: 2px; fill: rgb(171, 241, 255); fill-opacity: 1; stroke: rgb(12, 0, 255); stroke-opacity: 1;\"/></g><g class=\"point\"><path d=\"M978.25,699V671.75H1004.25V699Z\" style=\"vector-effect: non-scaling-stroke; opacity: 1; stroke-width: 2px; fill: rgb(171, 241, 255); fill-opacity: 1; stroke: rgb(12, 0, 255); stroke-opacity: 1;\"/></g><g class=\"point\"><path d=\"M1010.75,699V661.46H1036.75V699Z\" style=\"vector-effect: non-scaling-stroke; opacity: 1; stroke-width: 2px; fill: rgb(171, 241, 255); fill-opacity: 1; stroke: rgb(12, 0, 255); stroke-opacity: 1;\"/></g></g></g></g></g><g class=\"overplot\"/><path class=\"xlines-above crisp\" d=\"M79,799.5H1120\" style=\"fill: none; stroke-width: 1px; stroke: rgb(36, 36, 36); stroke-opacity: 1;\"/><path class=\"ylines-above crisp\" d=\"M79.5,100V799\" style=\"fill: none; stroke-width: 1px; stroke: rgb(36, 36, 36); stroke-opacity: 1;\"/><g class=\"overlines-above\"/><g class=\"xaxislayer-above\"><path class=\"xtick ticks crisp\" d=\"M0,800v5\" transform=\"translate(96.25,0)\" style=\"stroke: rgb(68, 68, 68); stroke-opacity: 1; stroke-width: 1px;\"/><path class=\"xtick ticks crisp\" d=\"M0,800v5\" transform=\"translate(128.75,0)\" style=\"stroke: rgb(68, 68, 68); stroke-opacity: 1; stroke-width: 1px;\"/><path class=\"xtick ticks crisp\" d=\"M0,800v5\" transform=\"translate(161.25,0)\" style=\"stroke: rgb(68, 68, 68); stroke-opacity: 1; stroke-width: 1px;\"/><path class=\"xtick ticks crisp\" d=\"M0,800v5\" transform=\"translate(193.75,0)\" style=\"stroke: rgb(68, 68, 68); stroke-opacity: 1; stroke-width: 1px;\"/><path class=\"xtick ticks crisp\" d=\"M0,800v5\" transform=\"translate(226.25,0)\" style=\"stroke: rgb(68, 68, 68); stroke-opacity: 1; stroke-width: 1px;\"/><path class=\"xtick ticks crisp\" d=\"M0,800v5\" transform=\"translate(258.75,0)\" style=\"stroke: rgb(68, 68, 68); stroke-opacity: 1; stroke-width: 1px;\"/><path class=\"xtick ticks crisp\" d=\"M0,800v5\" transform=\"translate(291.25,0)\" style=\"stroke: rgb(68, 68, 68); stroke-opacity: 1; stroke-width: 1px;\"/><path class=\"xtick ticks crisp\" d=\"M0,800v5\" transform=\"translate(323.75,0)\" style=\"stroke: rgb(68, 68, 68); stroke-opacity: 1; stroke-width: 1px;\"/><path class=\"xtick ticks crisp\" d=\"M0,800v5\" transform=\"translate(356.25,0)\" style=\"stroke: rgb(68, 68, 68); stroke-opacity: 1; stroke-width: 1px;\"/><path class=\"xtick ticks crisp\" d=\"M0,800v5\" transform=\"translate(388.75,0)\" style=\"stroke: rgb(68, 68, 68); stroke-opacity: 1; stroke-width: 1px;\"/><path class=\"xtick ticks crisp\" d=\"M0,800v5\" transform=\"translate(421.25,0)\" style=\"stroke: rgb(68, 68, 68); stroke-opacity: 1; stroke-width: 1px;\"/><path class=\"xtick ticks crisp\" d=\"M0,800v5\" transform=\"translate(453.75,0)\" style=\"stroke: rgb(68, 68, 68); stroke-opacity: 1; stroke-width: 1px;\"/><path class=\"xtick ticks crisp\" d=\"M0,800v5\" transform=\"translate(486.25,0)\" style=\"stroke: rgb(68, 68, 68); stroke-opacity: 1; stroke-width: 1px;\"/><path class=\"xtick ticks crisp\" d=\"M0,800v5\" transform=\"translate(518.75,0)\" style=\"stroke: rgb(68, 68, 68); stroke-opacity: 1; stroke-width: 1px;\"/><path class=\"xtick ticks crisp\" d=\"M0,800v5\" transform=\"translate(551.25,0)\" style=\"stroke: rgb(68, 68, 68); stroke-opacity: 1; stroke-width: 1px;\"/><path class=\"xtick ticks crisp\" d=\"M0,800v5\" transform=\"translate(583.75,0)\" style=\"stroke: rgb(68, 68, 68); stroke-opacity: 1; stroke-width: 1px;\"/><path class=\"xtick ticks crisp\" d=\"M0,800v5\" transform=\"translate(616.25,0)\" style=\"stroke: rgb(68, 68, 68); stroke-opacity: 1; stroke-width: 1px;\"/><path class=\"xtick ticks crisp\" d=\"M0,800v5\" transform=\"translate(648.75,0)\" style=\"stroke: rgb(68, 68, 68); stroke-opacity: 1; stroke-width: 1px;\"/><path class=\"xtick ticks crisp\" d=\"M0,800v5\" transform=\"translate(681.25,0)\" style=\"stroke: rgb(68, 68, 68); stroke-opacity: 1; stroke-width: 1px;\"/><path class=\"xtick ticks crisp\" d=\"M0,800v5\" transform=\"translate(713.75,0)\" style=\"stroke: rgb(68, 68, 68); stroke-opacity: 1; stroke-width: 1px;\"/><path class=\"xtick ticks crisp\" d=\"M0,800v5\" transform=\"translate(746.25,0)\" style=\"stroke: rgb(68, 68, 68); stroke-opacity: 1; stroke-width: 1px;\"/><path class=\"xtick ticks crisp\" d=\"M0,800v5\" transform=\"translate(778.75,0)\" style=\"stroke: rgb(68, 68, 68); stroke-opacity: 1; stroke-width: 1px;\"/><path class=\"xtick ticks crisp\" d=\"M0,800v5\" transform=\"translate(811.25,0)\" style=\"stroke: rgb(68, 68, 68); stroke-opacity: 1; stroke-width: 1px;\"/><path class=\"xtick ticks crisp\" d=\"M0,800v5\" transform=\"translate(843.75,0)\" style=\"stroke: rgb(68, 68, 68); stroke-opacity: 1; stroke-width: 1px;\"/><path class=\"xtick ticks crisp\" d=\"M0,800v5\" transform=\"translate(876.25,0)\" style=\"stroke: rgb(68, 68, 68); stroke-opacity: 1; stroke-width: 1px;\"/><path class=\"xtick ticks crisp\" d=\"M0,800v5\" transform=\"translate(908.75,0)\" style=\"stroke: rgb(68, 68, 68); stroke-opacity: 1; stroke-width: 1px;\"/><path class=\"xtick ticks crisp\" d=\"M0,800v5\" transform=\"translate(941.25,0)\" style=\"stroke: rgb(68, 68, 68); stroke-opacity: 1; stroke-width: 1px;\"/><path class=\"xtick ticks crisp\" d=\"M0,800v5\" transform=\"translate(973.75,0)\" style=\"stroke: rgb(68, 68, 68); stroke-opacity: 1; stroke-width: 1px;\"/><path class=\"xtick ticks crisp\" d=\"M0,800v5\" transform=\"translate(1006.25,0)\" style=\"stroke: rgb(68, 68, 68); stroke-opacity: 1; stroke-width: 1px;\"/><path class=\"xtick ticks crisp\" d=\"M0,800v5\" transform=\"translate(1038.75,0)\" style=\"stroke: rgb(68, 68, 68); stroke-opacity: 1; stroke-width: 1px;\"/><path class=\"xtick ticks crisp\" d=\"M0,800v5\" transform=\"translate(1071.25,0)\" style=\"stroke: rgb(68, 68, 68); stroke-opacity: 1; stroke-width: 1px;\"/><path class=\"xtick ticks crisp\" d=\"M0,800v5\" transform=\"translate(1103.75,0)\" style=\"stroke: rgb(68, 68, 68); stroke-opacity: 1; stroke-width: 1px;\"/><g class=\"xtick\"><text text-anchor=\"start\" x=\"0\" y=\"819.4\" transform=\"translate(96.25,0) rotate(30,0,813.4)\" style=\"font-family: 'Open Sans', verdana, arial, sans-serif; font-size: 12px; fill: rgb(36, 36, 36); fill-opacity: 1; white-space: pre;\">aon</text></g><g class=\"xtick\"><text text-anchor=\"start\" x=\"0\" y=\"819.4\" transform=\"translate(128.75,0) rotate(30,0,813.4)\" style=\"font-family: 'Open Sans', verdana, arial, sans-serif; font-size: 12px; fill: rgb(36, 36, 36); fill-opacity: 1; white-space: pre;\">daily_decr30</text></g><g class=\"xtick\"><text text-anchor=\"start\" x=\"0\" y=\"819.4\" transform=\"translate(161.25,0) rotate(30,0,813.4)\" style=\"font-family: 'Open Sans', verdana, arial, sans-serif; font-size: 12px; fill: rgb(36, 36, 36); fill-opacity: 1; white-space: pre;\">daily_decr90</text></g><g class=\"xtick\"><text text-anchor=\"start\" x=\"0\" y=\"819.4\" transform=\"translate(193.75,0) rotate(30,0,813.4)\" style=\"font-family: 'Open Sans', verdana, arial, sans-serif; font-size: 12px; fill: rgb(36, 36, 36); fill-opacity: 1; white-space: pre;\">rental30</text></g><g class=\"xtick\"><text text-anchor=\"start\" x=\"0\" y=\"819.4\" transform=\"translate(226.25,0) rotate(30,0,813.4)\" style=\"font-family: 'Open Sans', verdana, arial, sans-serif; font-size: 12px; fill: rgb(36, 36, 36); fill-opacity: 1; white-space: pre;\">rental90</text></g><g class=\"xtick\"><text text-anchor=\"start\" x=\"0\" y=\"819.4\" transform=\"translate(258.75,0) rotate(30,0,813.4)\" style=\"font-family: 'Open Sans', verdana, arial, sans-serif; font-size: 12px; fill: rgb(36, 36, 36); fill-opacity: 1; white-space: pre;\">last_rech_date_ma</text></g><g class=\"xtick\"><text text-anchor=\"start\" x=\"0\" y=\"819.4\" transform=\"translate(291.25,0) rotate(30,0,813.4)\" style=\"font-family: 'Open Sans', verdana, arial, sans-serif; font-size: 12px; fill: rgb(36, 36, 36); fill-opacity: 1; white-space: pre;\">last_rech_date_da</text></g><g class=\"xtick\"><text text-anchor=\"start\" x=\"0\" y=\"819.4\" transform=\"translate(323.75,0) rotate(30,0,813.4)\" style=\"font-family: 'Open Sans', verdana, arial, sans-serif; font-size: 12px; fill: rgb(36, 36, 36); fill-opacity: 1; white-space: pre;\">last_rech_amt_ma</text></g><g class=\"xtick\"><text text-anchor=\"start\" x=\"0\" y=\"819.4\" transform=\"translate(356.25,0) rotate(30,0,813.4)\" style=\"font-family: 'Open Sans', verdana, arial, sans-serif; font-size: 12px; fill: rgb(36, 36, 36); fill-opacity: 1; white-space: pre;\">cnt_ma_rech30</text></g><g class=\"xtick\"><text text-anchor=\"start\" x=\"0\" y=\"819.4\" transform=\"translate(388.75,0) rotate(30,0,813.4)\" style=\"font-family: 'Open Sans', verdana, arial, sans-serif; font-size: 12px; fill: rgb(36, 36, 36); fill-opacity: 1; white-space: pre;\">fr_ma_rech30</text></g><g class=\"xtick\"><text text-anchor=\"start\" x=\"0\" y=\"819.4\" transform=\"translate(421.25,0) rotate(30,0,813.4)\" style=\"font-family: 'Open Sans', verdana, arial, sans-serif; font-size: 12px; fill: rgb(36, 36, 36); fill-opacity: 1; white-space: pre;\">sumamnt_ma_rech30</text></g><g class=\"xtick\"><text text-anchor=\"start\" x=\"0\" y=\"819.4\" transform=\"translate(453.75,0) rotate(30,0,813.4)\" style=\"font-family: 'Open Sans', verdana, arial, sans-serif; font-size: 12px; fill: rgb(36, 36, 36); fill-opacity: 1; white-space: pre;\">medianamnt_ma_rech30</text></g><g class=\"xtick\"><text text-anchor=\"start\" x=\"0\" y=\"819.4\" transform=\"translate(486.25,0) rotate(30,0,813.4)\" style=\"font-family: 'Open Sans', verdana, arial, sans-serif; font-size: 12px; fill: rgb(36, 36, 36); fill-opacity: 1; white-space: pre;\">medianmarechprebal30</text></g><g class=\"xtick\"><text text-anchor=\"start\" x=\"0\" y=\"819.4\" transform=\"translate(518.75,0) rotate(30,0,813.4)\" style=\"font-family: 'Open Sans', verdana, arial, sans-serif; font-size: 12px; fill: rgb(36, 36, 36); fill-opacity: 1; white-space: pre;\">cnt_ma_rech90</text></g><g class=\"xtick\"><text text-anchor=\"start\" x=\"0\" y=\"819.4\" transform=\"translate(551.25,0) rotate(30,0,813.4)\" style=\"font-family: 'Open Sans', verdana, arial, sans-serif; font-size: 12px; fill: rgb(36, 36, 36); fill-opacity: 1; white-space: pre;\">fr_ma_rech90</text></g><g class=\"xtick\"><text text-anchor=\"start\" x=\"0\" y=\"819.4\" transform=\"translate(583.75,0) rotate(30,0,813.4)\" style=\"font-family: 'Open Sans', verdana, arial, sans-serif; font-size: 12px; fill: rgb(36, 36, 36); fill-opacity: 1; white-space: pre;\">sumamnt_ma_rech90</text></g><g class=\"xtick\"><text text-anchor=\"start\" x=\"0\" y=\"819.4\" transform=\"translate(616.25,0) rotate(30,0,813.4)\" style=\"font-family: 'Open Sans', verdana, arial, sans-serif; font-size: 12px; fill: rgb(36, 36, 36); fill-opacity: 1; white-space: pre;\">medianamnt_ma_rech90</text></g><g class=\"xtick\"><text text-anchor=\"start\" x=\"0\" y=\"819.4\" transform=\"translate(648.75,0) rotate(30,0,813.4)\" style=\"font-family: 'Open Sans', verdana, arial, sans-serif; font-size: 12px; fill: rgb(36, 36, 36); fill-opacity: 1; white-space: pre;\">medianmarechprebal90</text></g><g class=\"xtick\"><text text-anchor=\"start\" x=\"0\" y=\"819.4\" transform=\"translate(681.25,0) rotate(30,0,813.4)\" style=\"font-family: 'Open Sans', verdana, arial, sans-serif; font-size: 12px; fill: rgb(36, 36, 36); fill-opacity: 1; white-space: pre;\">cnt_da_rech30</text></g><g class=\"xtick\"><text text-anchor=\"start\" x=\"0\" y=\"819.4\" transform=\"translate(713.75,0) rotate(30,0,813.4)\" style=\"font-family: 'Open Sans', verdana, arial, sans-serif; font-size: 12px; fill: rgb(36, 36, 36); fill-opacity: 1; white-space: pre;\">fr_da_rech30</text></g><g class=\"xtick\"><text text-anchor=\"start\" x=\"0\" y=\"819.4\" transform=\"translate(746.25,0) rotate(30,0,813.4)\" style=\"font-family: 'Open Sans', verdana, arial, sans-serif; font-size: 12px; fill: rgb(36, 36, 36); fill-opacity: 1; white-space: pre;\">cnt_da_rech90</text></g><g class=\"xtick\"><text text-anchor=\"start\" x=\"0\" y=\"819.4\" transform=\"translate(778.75,0) rotate(30,0,813.4)\" style=\"font-family: 'Open Sans', verdana, arial, sans-serif; font-size: 12px; fill: rgb(36, 36, 36); fill-opacity: 1; white-space: pre;\">fr_da_rech90</text></g><g class=\"xtick\"><text text-anchor=\"start\" x=\"0\" y=\"819.4\" transform=\"translate(811.25,0) rotate(30,0,813.4)\" style=\"font-family: 'Open Sans', verdana, arial, sans-serif; font-size: 12px; fill: rgb(36, 36, 36); fill-opacity: 1; white-space: pre;\">cnt_loans30</text></g><g class=\"xtick\"><text text-anchor=\"start\" x=\"0\" y=\"819.4\" transform=\"translate(843.75,0) rotate(30,0,813.4)\" style=\"font-family: 'Open Sans', verdana, arial, sans-serif; font-size: 12px; fill: rgb(36, 36, 36); fill-opacity: 1; white-space: pre;\">amnt_loans30</text></g><g class=\"xtick\"><text text-anchor=\"start\" x=\"0\" y=\"819.4\" transform=\"translate(876.25,0) rotate(30,0,813.4)\" style=\"font-family: 'Open Sans', verdana, arial, sans-serif; font-size: 12px; fill: rgb(36, 36, 36); fill-opacity: 1; white-space: pre;\">maxamnt_loans30</text></g><g class=\"xtick\"><text text-anchor=\"start\" x=\"0\" y=\"819.4\" transform=\"translate(908.75,0) rotate(30,0,813.4)\" style=\"font-family: 'Open Sans', verdana, arial, sans-serif; font-size: 12px; fill: rgb(36, 36, 36); fill-opacity: 1; white-space: pre;\">medianamnt_loans30</text></g><g class=\"xtick\"><text text-anchor=\"start\" x=\"0\" y=\"819.4\" transform=\"translate(941.25,0) rotate(30,0,813.4)\" style=\"font-family: 'Open Sans', verdana, arial, sans-serif; font-size: 12px; fill: rgb(36, 36, 36); fill-opacity: 1; white-space: pre;\">cnt_loans90</text></g><g class=\"xtick\"><text text-anchor=\"start\" x=\"0\" y=\"819.4\" transform=\"translate(973.75,0) rotate(30,0,813.4)\" style=\"font-family: 'Open Sans', verdana, arial, sans-serif; font-size: 12px; fill: rgb(36, 36, 36); fill-opacity: 1; white-space: pre;\">amnt_loans90</text></g><g class=\"xtick\"><text text-anchor=\"start\" x=\"0\" y=\"819.4\" transform=\"translate(1006.25,0) rotate(30,0,813.4)\" style=\"font-family: 'Open Sans', verdana, arial, sans-serif; font-size: 12px; fill: rgb(36, 36, 36); fill-opacity: 1; white-space: pre;\">maxamnt_loans90</text></g><g class=\"xtick\"><text text-anchor=\"start\" x=\"0\" y=\"819.4\" transform=\"translate(1038.75,0) rotate(30,0,813.4)\" style=\"font-family: 'Open Sans', verdana, arial, sans-serif; font-size: 12px; fill: rgb(36, 36, 36); fill-opacity: 1; white-space: pre;\">medianamnt_loans90</text></g><g class=\"xtick\"><text text-anchor=\"start\" x=\"0\" y=\"819.4\" transform=\"translate(1071.25,0) rotate(30,0,813.4)\" style=\"font-family: 'Open Sans', verdana, arial, sans-serif; font-size: 12px; fill: rgb(36, 36, 36); fill-opacity: 1; white-space: pre;\">payback30</text></g><g class=\"xtick\"><text text-anchor=\"start\" x=\"0\" y=\"819.4\" transform=\"translate(1103.75,0) rotate(30,0,813.4)\" style=\"font-family: 'Open Sans', verdana, arial, sans-serif; font-size: 12px; fill: rgb(36, 36, 36); fill-opacity: 1; white-space: pre;\">payback90</text></g></g><g class=\"yaxislayer-above\"><path class=\"ytick ticks crisp\" d=\"M79,0h-5\" transform=\"translate(0,799)\" style=\"stroke: rgb(68, 68, 68); stroke-opacity: 1; stroke-width: 1px;\"/><path class=\"ytick ticks crisp\" d=\"M79,0h-5\" transform=\"translate(0,673.64)\" style=\"stroke: rgb(68, 68, 68); stroke-opacity: 1; stroke-width: 1px;\"/><path class=\"ytick ticks crisp\" d=\"M79,0h-5\" transform=\"translate(0,548.29)\" style=\"stroke: rgb(68, 68, 68); stroke-opacity: 1; stroke-width: 1px;\"/><path class=\"ytick ticks crisp\" d=\"M79,0h-5\" transform=\"translate(0,422.93)\" style=\"stroke: rgb(68, 68, 68); stroke-opacity: 1; stroke-width: 1px;\"/><path class=\"ytick ticks crisp\" d=\"M79,0h-5\" transform=\"translate(0,297.58000000000004)\" style=\"stroke: rgb(68, 68, 68); stroke-opacity: 1; stroke-width: 1px;\"/><path class=\"ytick ticks crisp\" d=\"M79,0h-5\" transform=\"translate(0,172.22)\" style=\"stroke: rgb(68, 68, 68); stroke-opacity: 1; stroke-width: 1px;\"/><g class=\"ytick\"><text text-anchor=\"end\" x=\"71.6\" y=\"4.199999999999999\" transform=\"translate(0,799)\" style=\"font-family: 'Open Sans', verdana, arial, sans-serif; font-size: 12px; fill: rgb(36, 36, 36); fill-opacity: 1; white-space: pre;\">0</text></g><g class=\"ytick\"><text text-anchor=\"end\" x=\"71.6\" y=\"4.199999999999999\" transform=\"translate(0,673.64)\" style=\"font-family: 'Open Sans', verdana, arial, sans-serif; font-size: 12px; fill: rgb(36, 36, 36); fill-opacity: 1; white-space: pre;\">0.05</text></g><g class=\"ytick\"><text text-anchor=\"end\" x=\"71.6\" y=\"4.199999999999999\" transform=\"translate(0,548.29)\" style=\"font-family: 'Open Sans', verdana, arial, sans-serif; font-size: 12px; fill: rgb(36, 36, 36); fill-opacity: 1; white-space: pre;\">0.1</text></g><g class=\"ytick\"><text text-anchor=\"end\" x=\"71.6\" y=\"4.199999999999999\" transform=\"translate(0,422.93)\" style=\"font-family: 'Open Sans', verdana, arial, sans-serif; font-size: 12px; fill: rgb(36, 36, 36); fill-opacity: 1; white-space: pre;\">0.15</text></g><g class=\"ytick\"><text text-anchor=\"end\" x=\"71.6\" y=\"4.199999999999999\" transform=\"translate(0,297.58000000000004)\" style=\"font-family: 'Open Sans', verdana, arial, sans-serif; font-size: 12px; fill: rgb(36, 36, 36); fill-opacity: 1; white-space: pre;\">0.2</text></g><g class=\"ytick\"><text text-anchor=\"end\" x=\"71.6\" y=\"4.199999999999999\" transform=\"translate(0,172.22)\" style=\"font-family: 'Open Sans', verdana, arial, sans-serif; font-size: 12px; fill: rgb(36, 36, 36); fill-opacity: 1; white-space: pre;\">0.25</text></g></g><g class=\"overaxes-above\"/></g></g><g class=\"polarlayer\"/><g class=\"ternarylayer\"/><g class=\"geolayer\"/><g class=\"funnelarealayer\"/><g class=\"pielayer\"/><g class=\"treemaplayer\"/><g class=\"sunburstlayer\"/><g class=\"glimages\"/><defs id=\"topdefs-d257d7\"><g class=\"clips\"/></defs><g class=\"layer-above\"><g class=\"imagelayer\"/><g class=\"shapelayer\"/></g><g class=\"infolayer\"><g class=\"g-gtitle\"><text class=\"gtitle\" x=\"60\" y=\"50\" text-anchor=\"start\" dy=\"0em\" style=\"font-family: 'Open Sans', verdana, arial, sans-serif; font-size: 17px; fill: rgb(36, 36, 36); opacity: 1; font-weight: normal; white-space: pre;\">Comparing different feature importance(DTC)</text></g><g class=\"g-xtitle\"/><g class=\"g-ytitle\"/></g></svg>"
          },
          "metadata": {
            "tags": []
          }
        }
      ]
    },
    {
      "cell_type": "markdown",
      "metadata": {
        "id": "xCu1i5ecshgm"
      },
      "source": [
        "<h3>⭐Support Vector Machine - SVC</h3>"
      ]
    },
    {
      "cell_type": "code",
      "metadata": {
        "id": "UT6NAkWpq4_w"
      },
      "source": [
        "# from sklearn.svm import SVC\n",
        "# SVC = SVC()\n",
        "# SVC.fit(x_train,y_train)"
      ],
      "execution_count": 57,
      "outputs": []
    },
    {
      "cell_type": "code",
      "metadata": {
        "id": "hX-F2gLACnUr",
        "outputId": "3751143d-36d5-4837-ac57-2c32b9302fd1",
        "colab": {
          "base_uri": "https://localhost:8080/"
        }
      },
      "source": [
        "from sklearn.svm import LinearSVC  #~SVC(kernel = 'linear')\n",
        "SVC = LinearSVC()\n",
        "SVC.fit(x_train,y_train)"
      ],
      "execution_count": 59,
      "outputs": [
        {
          "output_type": "execute_result",
          "data": {
            "text/plain": [
              "LinearSVC(C=1.0, class_weight=None, dual=True, fit_intercept=True,\n",
              "          intercept_scaling=1, loss='squared_hinge', max_iter=1000,\n",
              "          multi_class='ovr', penalty='l2', random_state=None, tol=0.0001,\n",
              "          verbose=0)"
            ]
          },
          "metadata": {
            "tags": []
          },
          "execution_count": 59
        }
      ]
    },
    {
      "cell_type": "code",
      "metadata": {
        "id": "40fvXXDIFQaA",
        "outputId": "9a2bb990-2af5-44d2-eb57-bcd7b244e9cf",
        "colab": {
          "base_uri": "https://localhost:8080/"
        }
      },
      "source": [
        "SVC_y_pred = SVC.predict(x_test)\n",
        "SVC_accuracy = accuracy_score(SVC_y_pred,y_test)\n",
        "SVC_recall = recall_score(SVC_y_pred,y_test)\n",
        "SVC_precision = precision_score(SVC_y_pred,y_test)\n",
        "print(classification_report(SVC_y_pred,y_test))\n",
        "print('Confusion Matrix:\\n',confusion_matrix(SVC_y_pred,y_test))"
      ],
      "execution_count": 65,
      "outputs": [
        {
          "output_type": "stream",
          "text": [
            "              precision    recall  f1-score   support\n",
            "\n",
            "           0       0.14      0.18      0.16      4155\n",
            "           1       0.91      0.88      0.89     37764\n",
            "\n",
            "    accuracy                           0.81     41919\n",
            "   macro avg       0.52      0.53      0.52     41919\n",
            "weighted avg       0.83      0.81      0.82     41919\n",
            "\n",
            "Confusion Matrix:\n",
            " [[  737  3418]\n",
            " [ 4536 33228]]\n"
          ],
          "name": "stdout"
        }
      ]
    },
    {
      "cell_type": "code",
      "metadata": {
        "id": "qNVGLPgzcNRk",
        "outputId": "0f154182-fae9-43b2-c36b-693aa9cb8fa8",
        "colab": {
          "base_uri": "https://localhost:8080/",
          "height": 312
        }
      },
      "source": [
        "sns.distplot(y_test,hist=False,color='r',label='Actual')\n",
        "plt.title('Actual v/s Predicted(SVC)')\n",
        "sns.distplot(SVC_y_pred,hist=False,color='b',label='Predicted')"
      ],
      "execution_count": 124,
      "outputs": [
        {
          "output_type": "execute_result",
          "data": {
            "text/plain": [
              "<matplotlib.axes._subplots.AxesSubplot at 0x7f5d1fc907f0>"
            ]
          },
          "metadata": {
            "tags": []
          },
          "execution_count": 124
        },
        {
          "output_type": "display_data",
          "data": {
            "image/png": "[encoded data removed]",
            "text/plain": [
              "<Figure size 432x288 with 1 Axes>"
            ]
          },
          "metadata": {
            "tags": [],
            "needs_background": "light"
          }
        }
      ]
    },
    {
      "cell_type": "markdown",
      "metadata": {
        "id": "Vsxh1iVcvwKH"
      },
      "source": [
        "<h1>⭐KNN</h1>"
      ]
    },
    {
      "cell_type": "code",
      "metadata": {
        "id": "U7VQRAqwv0Xy"
      },
      "source": [
        "# from sklearn.neighbors import KNeighborsClassifier\n",
        "# param_grid = {\n",
        "#                 'n_neighbors':[5,10,15,20],\n",
        "#                 'weights':['uniform', 'distance'],\n",
        "#                 'n_jobs':[-1]\n",
        "# }"
      ],
      "execution_count": 51,
      "outputs": []
    },
    {
      "cell_type": "code",
      "metadata": {
        "id": "LCYOir3n4G8Q"
      },
      "source": [
        "# KNN_grid = GridSearchCV(KNeighborsClassifier(), param_grid, refit = True, verbose = 3)\n",
        "# KNN_grid.fit(x_train, y_train) "
      ],
      "execution_count": null,
      "outputs": []
    },
    {
      "cell_type": "code",
      "metadata": {
        "id": "edBwEWec4xkV"
      },
      "source": [
        "# print(KNN_grid.best_params_) \n",
        "# print(KNN_grid.best_estimator_) "
      ],
      "execution_count": null,
      "outputs": []
    },
    {
      "cell_type": "code",
      "metadata": {
        "id": "-JrplXAXv727"
      },
      "source": [
        "# KNN = KNeighborsClassifier(n_neighbors = KNN_grid.best_params_['n_neighbors'],\n",
        "#                            weights = KNN_grid.best_params_['weights'],\n",
        "#                            n_jobs = KNN_grid.best_params_['n_jobs'])\n",
        "# KNN.fit(x_train,y_train)"
      ],
      "execution_count": null,
      "outputs": []
    },
    {
      "cell_type": "code",
      "metadata": {
        "id": "TqQmA-R1C04e",
        "outputId": "ca2969c9-c324-4409-d9b9-26d52725593e",
        "colab": {
          "base_uri": "https://localhost:8080/"
        }
      },
      "source": [
        "KNN = KNeighborsClassifier(n_jobs=-1)\n",
        "KNN.fit(x_train,y_train)\n",
        "#p = euclidien distance\n",
        "#weights = uniform: Equal importance to each neighbor"
      ],
      "execution_count": 54,
      "outputs": [
        {
          "output_type": "execute_result",
          "data": {
            "text/plain": [
              "KNeighborsClassifier(algorithm='auto', leaf_size=30, metric='minkowski',\n",
              "                     metric_params=None, n_jobs=-1, n_neighbors=5, p=2,\n",
              "                     weights='uniform')"
            ]
          },
          "metadata": {
            "tags": []
          },
          "execution_count": 54
        }
      ]
    },
    {
      "cell_type": "code",
      "metadata": {
        "id": "vr-fx3Su4xkt",
        "outputId": "e6d6b3ce-f2cd-467d-bad6-fe719d8a2d40",
        "colab": {
          "base_uri": "https://localhost:8080/"
        }
      },
      "source": [
        "KNN_y_pred = KNN.predict(x_test)\n",
        "KNN_accuracy = accuracy_score(KNN_y_pred,y_test)\n",
        "KNN_recall = recall_score(KNN_y_pred,y_test)\n",
        "KNN_precision = precision_score(KNN_y_pred,y_test)\n",
        "print(classification_report(KNN_y_pred,y_test))\n",
        "print('Confusion Matrix:\\n',confusion_matrix(KNN_y_pred,y_test))"
      ],
      "execution_count": 55,
      "outputs": [
        {
          "output_type": "stream",
          "text": [
            "              precision    recall  f1-score   support\n",
            "\n",
            "           0       0.33      0.55      0.41      3192\n",
            "           1       0.96      0.91      0.93     38727\n",
            "\n",
            "    accuracy                           0.88     41919\n",
            "   macro avg       0.65      0.73      0.67     41919\n",
            "weighted avg       0.91      0.88      0.89     41919\n",
            "\n",
            "Confusion Matrix:\n",
            " [[ 1750  1442]\n",
            " [ 3523 35204]]\n"
          ],
          "name": "stdout"
        }
      ]
    },
    {
      "cell_type": "code",
      "metadata": {
        "id": "qZ0VKxfbcUL5",
        "outputId": "185fd766-6ae3-45a8-b18a-9d718792c258",
        "colab": {
          "base_uri": "https://localhost:8080/",
          "height": 312
        }
      },
      "source": [
        "sns.distplot(y_test,hist=False,color='r',label='Actual')\n",
        "plt.title('Actual v/s Predicted(KNN)')\n",
        "sns.distplot(KNN_y_pred,hist=False,color='b',label='Predicted')"
      ],
      "execution_count": 125,
      "outputs": [
        {
          "output_type": "execute_result",
          "data": {
            "text/plain": [
              "<matplotlib.axes._subplots.AxesSubplot at 0x7f5d1a2420f0>"
            ]
          },
          "metadata": {
            "tags": []
          },
          "execution_count": 125
        },
        {
          "output_type": "display_data",
          "data": {
            "image/png": "[encoded data removed]",
            "text/plain": [
              "<Figure size 432x288 with 1 Axes>"
            ]
          },
          "metadata": {
            "tags": [],
            "needs_background": "light"
          }
        }
      ]
    },
    {
      "cell_type": "markdown",
      "metadata": {
        "id": "BHAEb-b9F6AK"
      },
      "source": [
        "<h1>Prediction - One View</h1>"
      ]
    },
    {
      "cell_type": "code",
      "metadata": {
        "id": "Ghf_vshxDX2b",
        "outputId": "43677440-d2d9-437a-ed58-7f2105ff7017",
        "colab": {
          "base_uri": "https://localhost:8080/",
          "height": 178
        }
      },
      "source": [
        "models = ['ExtraTreeClassifier','RandomForestClassifier','GradientBoostingClassifier',\n",
        "          'LogisticsRegression','DecisionTreeClassifier','SVC','KNN']\n",
        "\n",
        "acc_score = [ETF_accuracy,RFC_accuracy,GBC_accuracy,lr_accuracy,DTC_accuracy,SVC_accuracy,KNN_accuracy]\n",
        "pre_score = [ETF_precision,RFC_precision,GBC_precision,lr_precision,DTC_precision,SVC_precision,KNN_precision]\n",
        "rec_score = [ETF_recall,RFC_recall,GBC_recall,lr_recall,DTC_recall,SVC_recall,KNN_recall]\n",
        "\n",
        "data = pd.DataFrame({'models':models,\n",
        "                     'accuracy_score':acc_score,\n",
        "                     'precision_score':pre_score,\n",
        "                     'recall_score':rec_score})\n",
        "data.sort_values(by='accuracy_score',ascending=False).style\\\n",
        "        .background_gradient(cmap='RdPu',subset=['accuracy_score'])\\\n",
        "        .background_gradient(cmap='OrRd',subset='precision_score')\\\n",
        "        .background_gradient(cmap='Greens',subset='recall_score')"
      ],
      "execution_count": 127,
      "outputs": [
        {
          "output_type": "execute_result",
          "data": {
            "text/html": [
              "<style  type=\"text/css\" >\n",
              "#T_ddfb188e_1c58_11eb_beec_0242ac1c0002row0_col1{\n",
              "            background-color:  #49006a;\n",
              "            color:  #f1f1f1;\n",
              "        }#T_ddfb188e_1c58_11eb_beec_0242ac1c0002row0_col2{\n",
              "            background-color:  #a80000;\n",
              "            color:  #f1f1f1;\n",
              "        }#T_ddfb188e_1c58_11eb_beec_0242ac1c0002row0_col3{\n",
              "            background-color:  #005723;\n",
              "            color:  #f1f1f1;\n",
              "        }#T_ddfb188e_1c58_11eb_beec_0242ac1c0002row1_col1{\n",
              "            background-color:  #54006d;\n",
              "            color:  #f1f1f1;\n",
              "        }#T_ddfb188e_1c58_11eb_beec_0242ac1c0002row1_col2{\n",
              "            background-color:  #b00000;\n",
              "            color:  #f1f1f1;\n",
              "        }#T_ddfb188e_1c58_11eb_beec_0242ac1c0002row1_col3{\n",
              "            background-color:  #006328;\n",
              "            color:  #f1f1f1;\n",
              "        }#T_ddfb188e_1c58_11eb_beec_0242ac1c0002row2_col1{\n",
              "            background-color:  #5a006e;\n",
              "            color:  #f1f1f1;\n",
              "        }#T_ddfb188e_1c58_11eb_beec_0242ac1c0002row2_col2{\n",
              "            background-color:  #7f0000;\n",
              "            color:  #f1f1f1;\n",
              "        }#T_ddfb188e_1c58_11eb_beec_0242ac1c0002row2_col3{\n",
              "            background-color:  #2d954d;\n",
              "            color:  #000000;\n",
              "        }#T_ddfb188e_1c58_11eb_beec_0242ac1c0002row3_col1{\n",
              "            background-color:  #c21688;\n",
              "            color:  #f1f1f1;\n",
              "        }#T_ddfb188e_1c58_11eb_beec_0242ac1c0002row3_col2{\n",
              "            background-color:  #e9573d;\n",
              "            color:  #000000;\n",
              "        }#T_ddfb188e_1c58_11eb_beec_0242ac1c0002row3_col3{\n",
              "            background-color:  #43ac5e;\n",
              "            color:  #000000;\n",
              "        }#T_ddfb188e_1c58_11eb_beec_0242ac1c0002row4_col1{\n",
              "            background-color:  #db3196;\n",
              "            color:  #f1f1f1;\n",
              "        }#T_ddfb188e_1c58_11eb_beec_0242ac1c0002row4_col2{\n",
              "            background-color:  #c0110b;\n",
              "            color:  #f1f1f1;\n",
              "        }#T_ddfb188e_1c58_11eb_beec_0242ac1c0002row4_col3{\n",
              "            background-color:  #c6e8bf;\n",
              "            color:  #000000;\n",
              "        }#T_ddfb188e_1c58_11eb_beec_0242ac1c0002row5_col1{\n",
              "            background-color:  #ee559d;\n",
              "            color:  #000000;\n",
              "        }#T_ddfb188e_1c58_11eb_beec_0242ac1c0002row5_col2{\n",
              "            background-color:  #fee4bf;\n",
              "            color:  #000000;\n",
              "        }#T_ddfb188e_1c58_11eb_beec_0242ac1c0002row5_col3{\n",
              "            background-color:  #00441b;\n",
              "            color:  #f1f1f1;\n",
              "        }#T_ddfb188e_1c58_11eb_beec_0242ac1c0002row6_col1{\n",
              "            background-color:  #fff7f3;\n",
              "            color:  #000000;\n",
              "        }#T_ddfb188e_1c58_11eb_beec_0242ac1c0002row6_col2{\n",
              "            background-color:  #fff7ec;\n",
              "            color:  #000000;\n",
              "        }#T_ddfb188e_1c58_11eb_beec_0242ac1c0002row6_col3{\n",
              "            background-color:  #f7fcf5;\n",
              "            color:  #000000;\n",
              "        }</style><table id=\"T_ddfb188e_1c58_11eb_beec_0242ac1c0002\" ><thead>    <tr>        <th class=\"blank level0\" ></th>        <th class=\"col_heading level0 col0\" >models</th>        <th class=\"col_heading level0 col1\" >accuracy_score</th>        <th class=\"col_heading level0 col2\" >precision_score</th>        <th class=\"col_heading level0 col3\" >recall_score</th>    </tr></thead><tbody>\n",
              "                <tr>\n",
              "                        <th id=\"T_ddfb188e_1c58_11eb_beec_0242ac1c0002level0_row0\" class=\"row_heading level0 row0\" >1</th>\n",
              "                        <td id=\"T_ddfb188e_1c58_11eb_beec_0242ac1c0002row0_col0\" class=\"data row0 col0\" >RandomForestClassifier</td>\n",
              "                        <td id=\"T_ddfb188e_1c58_11eb_beec_0242ac1c0002row0_col1\" class=\"data row0 col1\" >0.912593</td>\n",
              "                        <td id=\"T_ddfb188e_1c58_11eb_beec_0242ac1c0002row0_col2\" class=\"data row0 col2\" >0.980571</td>\n",
              "                        <td id=\"T_ddfb188e_1c58_11eb_beec_0242ac1c0002row0_col3\" class=\"data row0 col3\" >0.924086</td>\n",
              "            </tr>\n",
              "            <tr>\n",
              "                        <th id=\"T_ddfb188e_1c58_11eb_beec_0242ac1c0002level0_row1\" class=\"row_heading level0 row1\" >0</th>\n",
              "                        <td id=\"T_ddfb188e_1c58_11eb_beec_0242ac1c0002row1_col0\" class=\"data row1 col0\" >ExtraTreeClassifier</td>\n",
              "                        <td id=\"T_ddfb188e_1c58_11eb_beec_0242ac1c0002row1_col1\" class=\"data row1 col1\" >0.909492</td>\n",
              "                        <td id=\"T_ddfb188e_1c58_11eb_beec_0242ac1c0002row1_col2\" class=\"data row1 col2\" >0.978797</td>\n",
              "                        <td id=\"T_ddfb188e_1c58_11eb_beec_0242ac1c0002row1_col3\" class=\"data row1 col3\" >0.922414</td>\n",
              "            </tr>\n",
              "            <tr>\n",
              "                        <th id=\"T_ddfb188e_1c58_11eb_beec_0242ac1c0002level0_row2\" class=\"row_heading level0 row2\" >2</th>\n",
              "                        <td id=\"T_ddfb188e_1c58_11eb_beec_0242ac1c0002row2_col0\" class=\"data row2 col0\" >GradientBoostingClassifier</td>\n",
              "                        <td id=\"T_ddfb188e_1c58_11eb_beec_0242ac1c0002row2_col1\" class=\"data row2 col1\" >0.908013</td>\n",
              "                        <td id=\"T_ddfb188e_1c58_11eb_beec_0242ac1c0002row2_col2\" class=\"data row2 col2\" >0.988594</td>\n",
              "                        <td id=\"T_ddfb188e_1c58_11eb_beec_0242ac1c0002row2_col3\" class=\"data row2 col3\" >0.913326</td>\n",
              "            </tr>\n",
              "            <tr>\n",
              "                        <th id=\"T_ddfb188e_1c58_11eb_beec_0242ac1c0002level0_row3\" class=\"row_heading level0 row3\" >6</th>\n",
              "                        <td id=\"T_ddfb188e_1c58_11eb_beec_0242ac1c0002row3_col0\" class=\"data row3 col0\" >KNN</td>\n",
              "                        <td id=\"T_ddfb188e_1c58_11eb_beec_0242ac1c0002row3_col1\" class=\"data row3 col1\" >0.881557</td>\n",
              "                        <td id=\"T_ddfb188e_1c58_11eb_beec_0242ac1c0002row3_col2\" class=\"data row3 col2\" >0.960651</td>\n",
              "                        <td id=\"T_ddfb188e_1c58_11eb_beec_0242ac1c0002row3_col3\" class=\"data row3 col3\" >0.909030</td>\n",
              "            </tr>\n",
              "            <tr>\n",
              "                        <th id=\"T_ddfb188e_1c58_11eb_beec_0242ac1c0002level0_row4\" class=\"row_heading level0 row4\" >3</th>\n",
              "                        <td id=\"T_ddfb188e_1c58_11eb_beec_0242ac1c0002row4_col0\" class=\"data row4 col0\" >LogisticsRegression</td>\n",
              "                        <td id=\"T_ddfb188e_1c58_11eb_beec_0242ac1c0002row4_col1\" class=\"data row4 col1\" >0.874663</td>\n",
              "                        <td id=\"T_ddfb188e_1c58_11eb_beec_0242ac1c0002row4_col2\" class=\"data row4 col2\" >0.974759</td>\n",
              "                        <td id=\"T_ddfb188e_1c58_11eb_beec_0242ac1c0002row4_col3\" class=\"data row4 col3\" >0.891910</td>\n",
              "            </tr>\n",
              "            <tr>\n",
              "                        <th id=\"T_ddfb188e_1c58_11eb_beec_0242ac1c0002level0_row5\" class=\"row_heading level0 row5\" >4</th>\n",
              "                        <td id=\"T_ddfb188e_1c58_11eb_beec_0242ac1c0002row5_col0\" class=\"data row5 col0\" >DecisionTreeClassifier</td>\n",
              "                        <td id=\"T_ddfb188e_1c58_11eb_beec_0242ac1c0002row5_col1\" class=\"data row5 col1\" >0.866218</td>\n",
              "                        <td id=\"T_ddfb188e_1c58_11eb_beec_0242ac1c0002row5_col2\" class=\"data row5 col2\" >0.919446</td>\n",
              "                        <td id=\"T_ddfb188e_1c58_11eb_beec_0242ac1c0002row5_col3\" class=\"data row5 col3\" >0.926933</td>\n",
              "            </tr>\n",
              "            <tr>\n",
              "                        <th id=\"T_ddfb188e_1c58_11eb_beec_0242ac1c0002level0_row6\" class=\"row_heading level0 row6\" >5</th>\n",
              "                        <td id=\"T_ddfb188e_1c58_11eb_beec_0242ac1c0002row6_col0\" class=\"data row6 col0\" >SVC</td>\n",
              "                        <td id=\"T_ddfb188e_1c58_11eb_beec_0242ac1c0002row6_col1\" class=\"data row6 col1\" >0.810253</td>\n",
              "                        <td id=\"T_ddfb188e_1c58_11eb_beec_0242ac1c0002row6_col2\" class=\"data row6 col2\" >0.906729</td>\n",
              "                        <td id=\"T_ddfb188e_1c58_11eb_beec_0242ac1c0002row6_col3\" class=\"data row6 col3\" >0.879886</td>\n",
              "            </tr>\n",
              "    </tbody></table>"
            ],
            "text/plain": [
              "<pandas.io.formats.style.Styler at 0x7f5d1fd28d68>"
            ]
          },
          "metadata": {
            "tags": []
          },
          "execution_count": 127
        }
      ]
    }
  ]
}